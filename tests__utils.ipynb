{
 "cells": [
  {
   "cell_type": "code",
   "execution_count": null,
   "metadata": {},
   "outputs": [],
   "source": [
    "from utils import print_color"
   ]
  },
  {
   "cell_type": "code",
   "execution_count": null,
   "metadata": {},
   "outputs": [
    {
     "data": {
      "text/html": [
       "<span style=\"font-size:18px; color:'white'; background-color:rgb(255, 0, 0)\">a</span><span style=\"font-size:18px; color:'white'; background-color:rgb(127, 0, 0)\">b</span><span style=\"font-size:18px; color:'white'; background-color:rgb(85, 0, 0)\">c</span><span style=\"font-size:18px; color:'white'; background-color:rgb(63, 0, 0)\">d</span><span style=\"font-size:18px; color:'white'; background-color:rgb(51, 0, 0)\">e</span><span style=\"font-size:18px; color:'white'; background-color:rgb(42, 0, 0)\">f</span>"
      ],
      "text/plain": [
       "<IPython.core.display.HTML object>"
      ]
     },
     "metadata": {},
     "output_type": "display_data"
    }
   ],
   "source": [
    "text = \"abcdef\"\n",
    "values = [1/x for x in range(1, len(text)+1)]\n",
    "print_color(text, values)"
   ]
  },
  {
   "cell_type": "code",
   "execution_count": null,
   "metadata": {},
   "outputs": [],
   "source": []
  }
 ],
 "metadata": {
  "kernelspec": {
   "display_name": "udacity_cnn_project",
   "language": "python",
   "name": "python3"
  },
  "language_info": {
   "codemirror_mode": {
    "name": "ipython",
    "version": 3
   },
   "file_extension": ".py",
   "mimetype": "text/x-python",
   "name": "python",
   "nbconvert_exporter": "python",
   "pygments_lexer": "ipython3",
   "version": "3.11.8"
  }
 },
 "nbformat": 4,
 "nbformat_minor": 2
}
