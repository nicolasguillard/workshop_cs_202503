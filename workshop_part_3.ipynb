{
 "cells": [
  {
   "cell_type": "markdown",
   "metadata": {},
   "source": [
    "# Workshop CentraleSupélec - CeSIA\n",
    "\n",
    "- Création : 02/2025 par [Nicolas Guillard](mailto:nicolas.guillar@securite-ia.fr) - bénévole au [CeSIA](https://www.securite-ia.fr/).\n",
    "\n",
    "Créer en s'inspirant particulièrement de [Générer des noms de villes et communes françaises](https://github.com/alxndrTL/villes) par [Alexandre TL](https://www.youtube.com/@alexandretl)\n"
   ]
  },
  {
   "cell_type": "markdown",
   "metadata": {},
   "source": [
    "## Présentation du sujet et Plan"
   ]
  },
  {
   "cell_type": "markdown",
   "metadata": {},
   "source": [
    "## Indications de travail"
   ]
  },
  {
   "cell_type": "markdown",
   "metadata": {},
   "source": [
    "Les éléments de ce TP :\n",
    "- le présent carnet\n",
    "- le répertoire `utils` et les fichiers contenus\n",
    "- le fichier de données\n",
    "- le répertoire weights contenant les poids des modèles"
   ]
  },
  {
   "cell_type": "markdown",
   "metadata": {},
   "source": [
    "## Les modules et paramétrages globaux"
   ]
  },
  {
   "cell_type": "markdown",
   "metadata": {},
   "source": [
    "Tous les modules nécessaires sont importés. A moins d'un besoin spécifique, il n'y aura pas besoin de modifier le bloc de code suivant."
   ]
  },
  {
   "cell_type": "code",
   "execution_count": 1,
   "metadata": {},
   "outputs": [],
   "source": [
    "# Modules prédéfinis et tiers\n",
    "import math\n",
    "import datetime\n",
    "from dataclasses import dataclass\n",
    "from collections import Counter\n",
    "from typing import Tuple\n",
    "\n",
    "import numpy as np\n",
    "import seaborn as sns\n",
    "import matplotlib.pyplot as plt\n",
    "import pandas as pd\n",
    "from tqdm.notebook import trange, tqdm\n",
    "import torch\n",
    "import torch.nn as nn\n",
    "import torch.nn.functional as F"
   ]
  },
  {
   "cell_type": "code",
   "execution_count": 40,
   "metadata": {},
   "outputs": [],
   "source": [
    "#Modules créés pour le projet\n",
    "from utils import CityNameDataset, SOS, EOS, PAD\n",
    "from utils import print_colore, load_transformer_model, TransformerConfig, LanguageModel"
   ]
  },
  {
   "cell_type": "markdown",
   "metadata": {},
   "source": [
    "### Device"
   ]
  },
  {
   "cell_type": "markdown",
   "metadata": {},
   "source": [
    "Sélection du GPU selon l'environnement de travail"
   ]
  },
  {
   "cell_type": "code",
   "execution_count": 3,
   "metadata": {},
   "outputs": [
    {
     "name": "stdout",
     "output_type": "stream",
     "text": [
      "Using mps device\n"
     ]
    }
   ],
   "source": [
    "device = (\n",
    "    \"cuda\"\n",
    "    if torch.cuda.is_available()\n",
    "    else \"mps\"\n",
    "    if torch.backends.mps.is_available()\n",
    "    else \"cpu\"\n",
    ")\n",
    "print(f\"Using {device} device\")"
   ]
  },
  {
   "cell_type": "markdown",
   "metadata": {},
   "source": [
    "### Paramétrages"
   ]
  },
  {
   "cell_type": "code",
   "execution_count": 4,
   "metadata": {},
   "outputs": [],
   "source": [
    "# Retirer la limite du nombre maximal de lignes affichées dans un tableau pandas\n",
    "pd.set_option('display.max_rows', None) "
   ]
  },
  {
   "cell_type": "code",
   "execution_count": 5,
   "metadata": {},
   "outputs": [],
   "source": [
    "# Configurer le thème de seaborn\n",
    "sns.set_theme(style=\"whitegrid\")"
   ]
  },
  {
   "cell_type": "code",
   "execution_count": 6,
   "metadata": {},
   "outputs": [],
   "source": [
    "# Paramétrer les graines aléatoires\n",
    "pth_rnd_gen = torch.Generator(device).manual_seed(42)"
   ]
  },
  {
   "cell_type": "markdown",
   "metadata": {},
   "source": [
    "## Interprétabilité"
   ]
  },
  {
   "cell_type": "markdown",
   "metadata": {},
   "source": [
    "### Recherche des concepts avec l'utilisation d'un SAE"
   ]
  },
  {
   "cell_type": "markdown",
   "metadata": {},
   "source": [
    "#### Définition d'un modèle de SAE"
   ]
  },
  {
   "cell_type": "markdown",
   "metadata": {},
   "source": [
    "Présentation des concepts"
   ]
  },
  {
   "cell_type": "markdown",
   "metadata": {},
   "source": [
    "##### EXERCICES"
   ]
  },
  {
   "cell_type": "code",
   "execution_count": 7,
   "metadata": {},
   "outputs": [],
   "source": [
    "class AutoEncoder(nn.Module):\n",
    "    def __init__(self, act_size: int, num_features: int, l1_coeff: float) -> None:\n",
    "        super().__init__()\n",
    "\n",
    "        self.l1_coeff = l1_coeff\n",
    "        self.num_features = num_features\n",
    "\n",
    "        self.W_enc = nn.Parameter(torch.nn.init.kaiming_uniform_(torch.empty(act_size, num_features)))\n",
    "        self.b_enc = nn.Parameter(torch.zeros(num_features))\n",
    "\n",
    "        self.W_dec = nn.Parameter(torch.nn.init.kaiming_uniform_(torch.empty(num_features, act_size)))\n",
    "        self.b_dec = nn.Parameter(torch.zeros(act_size))\n",
    "\n",
    "        self.W_dec.data[:] = self.W_dec / self.W_dec.norm(dim=-1, keepdim=True)\n",
    "    \n",
    "    def encode(self, x: torch.Tensor) -> torch.Tensor:\n",
    "        x_cent = x - self.b_dec\n",
    "        return F.relu(x_cent @ self.W_enc + self.b_enc) # calcul des activations des concepts\n",
    "    \n",
    "    def decode(self, x: torch.Tensor) -> torch.Tensor:\n",
    "        return x @ self.W_dec + self.b_dec # calcul de la reconstruction\n",
    "\n",
    "    def reconstruct_loss(self, x: torch.Tensor, acts: torch.Tensor, x_reconstruct: torch.Tensor) -> Tuple[torch.Tensor, torch.Tensor]:\n",
    "        l2_loss = (x_reconstruct.float() - x.float()).pow(2).sum(-1).mean(0) # loss de reconstruction MSE\n",
    "        l1_loss = self.l1_coeff * (acts.float().abs().sum()) # penalité L1 sur les activations des concepts\n",
    "        return l1_loss, l2_loss\n",
    "    \n",
    "    def forward(self, x: torch.Tensor) -> Tuple[torch.Tensor, torch.Tensor, torch.Tensor, torch.Tensor, torch.Tensor] :\n",
    "        \"\"\"\n",
    "        Args :\n",
    "            x : input (B, S, act_size = d_model) ou (B*S, act_size = d_model)\n",
    "        \"\"\"\n",
    "        hidden_acts = self.encode(x)\n",
    "        x_reconstruct = self.decode(hidden_acts)\n",
    "\n",
    "        l1_loss, l2_loss = self.reconstruct_loss(x, hidden_acts, x_reconstruct)\n",
    "        loss = l2_loss + l1_loss # loss total\n",
    "\n",
    "        return loss, x_reconstruct, hidden_acts, l2_loss, l1_loss\n",
    "    \n",
    "    # permet de stabiliser l'entraînement\n",
    "    @torch.no_grad()\n",
    "    def make_decoder_weights_and_grad_unit_norm(self):\n",
    "        W_dec_normed = self.W_dec / self.W_dec.norm(dim=-1, keepdim=True)\n",
    "        W_dec_grad_proj = (self.W_dec.grad * W_dec_normed).sum(-1, keepdim=True) * W_dec_normed\n",
    "        self.W_dec.grad -= W_dec_grad_proj\n",
    "        # Bugfix(?) for ensuring W_dec retains unit norm, this was not there when I trained my original autoencoders.\n",
    "        self.W_dec.data = W_dec_normed"
   ]
  },
  {
   "cell_type": "markdown",
   "metadata": {},
   "source": [
    "### Modification de la définition du Transformer"
   ]
  },
  {
   "cell_type": "markdown",
   "metadata": {},
   "source": [
    "Il faut modifier la méthode de propagation afin de récupérer les activations de la couche cachée."
   ]
  },
  {
   "cell_type": "code",
   "execution_count": 8,
   "metadata": {},
   "outputs": [],
   "source": [
    "class LanguageModelForSAE(LanguageModel):\n",
    "    def __init__(self, model_config: TransformerConfig) -> None:\n",
    "        super().__init__(model_config)\n",
    "\n",
    "    def forward(self, tokens: torch.Tensor, act: bool = False, stop_at_layer: int = None) -> torch.Tensor:\n",
    "        \"\"\"\n",
    "        Args :\n",
    "            tokens (torch.Tensor) : input shaped (B, s, vocab_size) with s in [1; S]\n",
    "        \"\"\"\n",
    "\n",
    "        act = act or (stop_at_layer != None)\n",
    "\n",
    "        x = self.embedding(tokens)\n",
    "        x = self.core(x, stop_at_layer=stop_at_layer)\n",
    "\n",
    "        if act:\n",
    "            return x #(B, S, d_model)\n",
    "        \n",
    "        logits = self.get_logits_(x)\n",
    "\n",
    "        return logits #(B, S, vocab_size)"
   ]
  },
  {
   "cell_type": "markdown",
   "metadata": {},
   "source": [
    " #### Entrainement d'un SAE"
   ]
  },
  {
   "cell_type": "code",
   "execution_count": 9,
   "metadata": {},
   "outputs": [
    {
     "data": {
      "application/vnd.jupyter.widget-view+json": {
       "model_id": "4aee547d16c04f66a55f8184ffbaabb0",
       "version_major": 2,
       "version_minor": 0
      },
      "text/plain": [
       "creating vocabulary:   0%|          | 0/46 [00:00<?, ?it/s]"
      ]
     },
     "metadata": {},
     "output_type": "display_data"
    },
    {
     "data": {
      "application/vnd.jupyter.widget-view+json": {
       "model_id": "3cb2a1b3bfca49f2909892d5243856b3",
       "version_major": 2,
       "version_minor": 0
      },
      "text/plain": [
       "creatind dataset:   0%|          | 0/36585 [00:00<?, ?it/s]"
      ]
     },
     "metadata": {},
     "output_type": "display_data"
    }
   ],
   "source": [
    "dataset = CityNameDataset(device=device)"
   ]
  },
  {
   "cell_type": "code",
   "execution_count": 10,
   "metadata": {},
   "outputs": [
    {
     "name": "stdout",
     "output_type": "stream",
     "text": [
      "LanguageModelForSAE(\n",
      "  (embedding): Embedding(46, 32, padding_idx=0)\n",
      "  (core): Transformer(\n",
      "    (PE): Embedding(47, 32)\n",
      "    (in_dropout): Dropout(p=0.0, inplace=False)\n",
      "    (layers): ModuleList(\n",
      "      (0): DecoderLayer(\n",
      "        (attention_norm): RMSNorm()\n",
      "        (sa): SelfAttentionMultiHead(\n",
      "          (query_proj): Linear(in_features=32, out_features=32, bias=False)\n",
      "          (key_proj): Linear(in_features=32, out_features=32, bias=False)\n",
      "          (value_proj): Linear(in_features=32, out_features=32, bias=False)\n",
      "          (c_proj): Linear(in_features=32, out_features=32, bias=False)\n",
      "          (attn_drop): Dropout(p=0.0, inplace=False)\n",
      "          (resid_dropout): Dropout(p=0.0, inplace=False)\n",
      "        )\n",
      "        (mlp_norm): RMSNorm()\n",
      "        (mlp): MLP(\n",
      "          (fc_1): Linear(in_features=32, out_features=128, bias=False)\n",
      "          (fc_2): Linear(in_features=128, out_features=32, bias=False)\n",
      "          (fc_3): Linear(in_features=32, out_features=128, bias=False)\n",
      "          (dropout): Dropout(p=0.0, inplace=False)\n",
      "        )\n",
      "      )\n",
      "    )\n",
      "  )\n",
      "  (out_norm): RMSNorm()\n",
      "  (lm_head): Linear(in_features=32, out_features=46, bias=False)\n",
      ")\n"
     ]
    }
   ],
   "source": [
    "d_model = 32 # dimension du modèle\n",
    "n_heads = 4 # nombre de têtes pour l'attention\n",
    "n_layers = 1 # nombre de couches\n",
    "dropout = 0.\n",
    "\n",
    "config = TransformerConfig(vocab_size=len(dataset.vocabulaire), d_model=d_model, n_heads=n_heads, n_layers=n_layers, dropout=dropout, max_len=dataset.max_len)\n",
    "\n",
    "model = load_transformer_model(\n",
    "    \"./weights/model_32__4_heads__1_layers.pth\", class_model=LanguageModelForSAE, config=config, device=device\n",
    "    )"
   ]
  },
  {
   "cell_type": "code",
   "execution_count": 11,
   "metadata": {},
   "outputs": [],
   "source": [
    "act_size = config.d_model\n",
    "num_features = 4 * config.d_model\n",
    "sae = AutoEncoder(act_size=act_size, num_features=num_features, l1_coeff=3e-4)\n",
    "optim = torch.optim.Adam(sae.parameters(), lr=3e-4)"
   ]
  },
  {
   "cell_type": "markdown",
   "metadata": {},
   "source": [
    "##### Exercice(s)"
   ]
  },
  {
   "cell_type": "code",
   "execution_count": 12,
   "metadata": {},
   "outputs": [
    {
     "data": {
      "application/vnd.jupyter.widget-view+json": {
       "model_id": "59a19dc33c3c4bdb887df32cb671a4c2",
       "version_major": 2,
       "version_minor": 0
      },
      "text/plain": [
       "apprentissage:   0%|          | 0/1000 [00:00<?, ?it/s]"
      ]
     },
     "metadata": {},
     "output_type": "display_data"
    },
    {
     "name": "stdout",
     "output_type": "stream",
     "text": [
      "loss : 6.52681827545166\n",
      "loss : 2.305543899536133\n",
      "loss : 1.5284489393234253\n",
      "loss : 1.246800422668457\n",
      "loss : 1.0492295026779175\n",
      "loss : 0.9289937019348145\n",
      "loss : 0.812456488609314\n",
      "loss : 0.7798764705657959\n",
      "loss : 0.7620857954025269\n",
      "loss : 0.703209638595581\n"
     ]
    }
   ],
   "source": [
    "iterations = 1000\n",
    "batch_size = 16\n",
    "print_every = 100\n",
    "\n",
    "sae.to(device)\n",
    "sae.train()\n",
    "for i in trange(iterations, desc=\"apprentissage\"):\n",
    "    # on récupère les données\n",
    "    x, Y = dataset.get_batch(split='train', batch_size=batch_size) # (B, S)\n",
    "\n",
    "    # on les fait passer dans le modèle et on récupère les activations du modèle (avec act=True, on \"sort\" du modèle avant la sortie)  \n",
    "    hidden_acts_transfo = model(x, act=True).view(-1, config.d_model) # (B*S, d_model)\n",
    "\n",
    "    loss, _, _, _, _ = sae(hidden_acts_transfo)\n",
    "    loss.backward()\n",
    "    sae.make_decoder_weights_and_grad_unit_norm()\n",
    "    optim.step()\n",
    "    optim.zero_grad()\n",
    "    \n",
    "    if i % print_every == 0:\n",
    "        print(f\"loss : {loss.item()}\")\n",
    "sae.eval();"
   ]
  },
  {
   "cell_type": "markdown",
   "metadata": {},
   "source": [
    "Explications concernant les fréquences des caractéristiques"
   ]
  },
  {
   "cell_type": "code",
   "execution_count": 13,
   "metadata": {},
   "outputs": [
    {
     "name": "stdout",
     "output_type": "stream",
     "text": [
      "fraction des caractéristiques avec une fréquence d'activation < 1/10 : 64.062%\n",
      "fraction des caractéristiques avec une fréquence d'activation < 1/100 : 3.125%\n",
      "fraction des caractéristiques avec une fréquence d'activation < 1/1.000 : 0.000%\n"
     ]
    }
   ],
   "source": [
    "# frequence d'activations des features sur un lot de données\n",
    "x, Y = dataset.get_batch(split='val', batch_size=2048) # (B, S)\n",
    "hidden_acts_transfo = model(x, act=True).view(-1, config.d_model)\n",
    "_, _, features, _, _ = sae(hidden_acts_transfo) # (B*S, d_model)\n",
    "features = features.to(\"cpu\")\n",
    "\n",
    "# activation : features > 0\n",
    "rate = ((((features > 0).int()).sum(0) / features.shape[0]) < 1e-1).float().mean() * 100.\n",
    "print(f\"fraction des caractéristiques avec une fréquence d'activation < 1/10 : {rate:.3f}%\")\n",
    "\n",
    "rate = ((((features > 0).int()).sum(0) / features.shape[0]) < 1e-2).float().mean() * 100.\n",
    "print(f\"fraction des caractéristiques avec une fréquence d'activation < 1/100 : {rate:.3f}%\")\n",
    "\n",
    "rate = ((((features > 0).int()).sum(0) / features.shape[0]) < 1e-3).float().mean() * 100.\n",
    "print(f\"fraction des caractéristiques avec une fréquence d'activation < 1/1.000 : {rate:.3f}%\")\n",
    "\n",
    "#rate = ((((features > 0).int()).sum(0) / features.shape[0]) < 1e-4).float().mean()\n",
    "#print(f\"fraction des caractéristiques avec une fréquence d'activation < 1/10.000 : {rate:.3f}%\")"
   ]
  },
  {
   "cell_type": "markdown",
   "metadata": {},
   "source": [
    "Sauver les poids du SAE.\n",
    "\n",
    "> Conseil : si vous souhaitez entrainer plusieurs fois le même SAE avec des hyperparamètres différentes, initialiser la variable `timestamp` ci-dessous à `True`. Cela provoquera l'ajout d'un marqueur temporel au format \"YYYYMMDD-HHMMSS\" dans le nom du fichier."
   ]
  },
  {
   "cell_type": "code",
   "execution_count": null,
   "metadata": {},
   "outputs": [],
   "source": [
    "timestamp = False\n",
    "filename = f\"./weights/sae_model_{d_model}__{n_heads}_heads__{n_layers}_layers\"\n",
    "if timestamp:\n",
    "    filename += \"__\" + datetime.datetime.now().strftime(\"%Y%M%d-%I%M%S\")\n",
    "filename += \".pth\"\n",
    "torch.save(model.state_dict(), filename)"
   ]
  },
  {
   "cell_type": "markdown",
   "metadata": {},
   "source": [
    "#### Visualisations"
   ]
  },
  {
   "cell_type": "markdown",
   "metadata": {},
   "source": [
    "Explications"
   ]
  },
  {
   "cell_type": "code",
   "execution_count": 15,
   "metadata": {},
   "outputs": [
    {
     "name": "stdout",
     "output_type": "stream",
     "text": [
      "hidden_acts_transfo : torch.Size([46, 32])\n",
      "features : torch.Size([46, 128])\n",
      "act_recon : torch.Size([46, 32])\n",
      "> nom : louroux-de-bouble\n"
     ]
    }
   ],
   "source": [
    "x, _ = dataset.get_batch(split='train', batch_size=1) # (B, S)\n",
    "hidden_acts_transfo = model(x, act=True).view(-1, config.d_model) # (B*L, d_model)\n",
    "_, act_recon, features, _, _ = sae(hidden_acts_transfo)\n",
    "\n",
    "hidden_acts_transfo = hidden_acts_transfo.to(\"cpu\").detach()\n",
    "features = features.to(\"cpu\").detach()\n",
    "act_recon = act_recon.to(\"cpu\").detach()\n",
    "\n",
    "print(\"hidden_acts_transfo :\", hidden_acts_transfo.size())\n",
    "print(\"features :\", features.size())\n",
    "print(\"act_recon :\", act_recon.size())\n",
    "\n",
    "print(\"> nom :\", dataset.to_string(x.to(\"cpu\")[0].tolist()))"
   ]
  },
  {
   "cell_type": "markdown",
   "metadata": {},
   "source": [
    "##### visualisation des activations cachées dans le Tranformer, pour un élément de séquence donné"
   ]
  },
  {
   "cell_type": "code",
   "execution_count": 16,
   "metadata": {},
   "outputs": [
    {
     "data": {
      "image/png": "[encoded data removed]",
      "text/plain": [
       "<Figure size 640x480 with 1 Axes>"
      ]
     },
     "metadata": {},
     "output_type": "display_data"
    }
   ],
   "source": [
    "idx_elt_seq = 8\n",
    "plt.imshow(hidden_acts_transfo[idx_elt_seq].view(1, -1), cmap=\"coolwarm\")\n",
    "#plt.axis('off')\n",
    "plt.show()"
   ]
  },
  {
   "cell_type": "markdown",
   "metadata": {},
   "source": [
    "##### visualisation des activations des caractéristiques pour toute la séquence"
   ]
  },
  {
   "cell_type": "markdown",
   "metadata": {},
   "source": [
    "**Question :**\n",
    "Sachant que dans l'image ci-dessous les abscisses représentent les indices des caractérisrtiques, et les ordonnées chaque élément de la séquence. Quelle interprétation à cette illustration ?"
   ]
  },
  {
   "cell_type": "code",
   "execution_count": 17,
   "metadata": {},
   "outputs": [
    {
     "data": {
      "image/png": "[encoded data removed]",
      "text/plain": [
       "<Figure size 640x480 with 1 Axes>"
      ]
     },
     "metadata": {},
     "output_type": "display_data"
    }
   ],
   "source": [
    "plt.imshow(features, cmap=\"coolwarm\")\n",
    "#plt.axis('off')\n",
    "plt.show()"
   ]
  },
  {
   "cell_type": "markdown",
   "metadata": {},
   "source": [
    "##### visualisation des activations des caractéristiques pour un élément de séquence donnée"
   ]
  },
  {
   "cell_type": "code",
   "execution_count": 18,
   "metadata": {},
   "outputs": [
    {
     "data": {
      "image/png": "[encoded data removed]",
      "text/plain": [
       "<Figure size 640x480 with 1 Axes>"
      ]
     },
     "metadata": {},
     "output_type": "display_data"
    }
   ],
   "source": [
    "plt.imshow(features[idx_elt_seq].view(4, -1), cmap=\"coolwarm\")\n",
    "#plt.axis('off')\n",
    "plt.show()"
   ]
  },
  {
   "cell_type": "markdown",
   "metadata": {},
   "source": [
    "##### visualisation des activations successives d'une caractéristique dans le SAE"
   ]
  },
  {
   "cell_type": "code",
   "execution_count": 19,
   "metadata": {},
   "outputs": [
    {
     "data": {
      "image/png": "[encoded data removed]",
      "text/plain": [
       "<Figure size 640x480 with 1 Axes>"
      ]
     },
     "metadata": {},
     "output_type": "display_data"
    }
   ],
   "source": [
    "idx_feature = 16\n",
    "plt.imshow(features[:, idx_feature].view(-1, 1), cmap=\"coolwarm\")\n",
    "#plt.axis('off')\n",
    "plt.show()"
   ]
  },
  {
   "cell_type": "markdown",
   "metadata": {},
   "source": [
    "##### visualisation des activations et de leurs reconstructions :"
   ]
  },
  {
   "cell_type": "markdown",
   "metadata": {},
   "source": [
    "Visualisation des activations."
   ]
  },
  {
   "cell_type": "code",
   "execution_count": 20,
   "metadata": {},
   "outputs": [
    {
     "data": {
      "image/png": "[encoded data removed]",
      "text/plain": [
       "<Figure size 1200x600 with 6 Axes>"
      ]
     },
     "metadata": {},
     "output_type": "display_data"
    }
   ],
   "source": [
    "# Exemple de données pour les images\n",
    "image1 = hidden_acts_transfo.numpy()\n",
    "image2 = act_recon.numpy()\n",
    "\n",
    "# Créer une figure avec deux sous-graphiques côte à côte\n",
    "fig, axes = plt.subplots(1, 3, figsize=(12, 6))\n",
    "\n",
    "# Afficher la première image\n",
    "im1 = axes[0].imshow(image1, cmap=\"coolwarm\")\n",
    "axes[0].set_title('Activations cachées')\n",
    "fig.colorbar(im1, ax=axes[0])\n",
    "\n",
    "# Afficher la deuxième image\n",
    "im2 = axes[1].imshow(image2, cmap=\"coolwarm\")\n",
    "axes[1].set_title('Activations reconstruites')\n",
    "fig.colorbar(im2, ax=axes[1])\n",
    "\n",
    "# Afficher la différence\n",
    "diff = np.abs(image2 - image1) / image1\n",
    "im3 = plt.imshow(diff, cmap=\"coolwarm\")\n",
    "axes[2].set_title('Différence (ratio)')\n",
    "fig.colorbar(im3, ax=axes[2])\n",
    "\n",
    "# Afficher la figure\n",
    "plt.show()"
   ]
  },
  {
   "cell_type": "markdown",
   "metadata": {},
   "source": [
    "Calcul de la perte en cas d'utilisation des reconstructions à la place des activations initiales."
   ]
  },
  {
   "cell_type": "code",
   "execution_count": 23,
   "metadata": {},
   "outputs": [
    {
     "name": "stdout",
     "output_type": "stream",
     "text": [
      "reconstruction loss : 2.17\n"
     ]
    }
   ],
   "source": [
    "x, Y = dataset.get_batch(batch_size=64) # (B, S)\n",
    "hidden_acts_transfo = model(x, act=True).view(-1, config.d_model)\n",
    "_, act_recon, features, _, _ = sae(hidden_acts_transfo)\n",
    "\n",
    "logits = model.get_logits_(act_recon)\n",
    "\n",
    "loss = F.cross_entropy(logits.view(-1, logits.size(-1)), Y.view(-1), ignore_index=dataset.char_to_int[PAD])\n",
    "print(f\"reconstruction loss : {loss.item():.2f}\")"
   ]
  },
  {
   "cell_type": "markdown",
   "metadata": {},
   "source": [
    "#### Exploration des neurones et concepts"
   ]
  },
  {
   "cell_type": "code",
   "execution_count": 24,
   "metadata": {},
   "outputs": [],
   "source": [
    "def load_sae(filename: str, act_size: int, num_features: int, device=\"cpu\") -> torch.Tensor:\n",
    "    sae = AutoEncoder(act_size=act_size, num_features=num_features, l1_coeff=3e-4)\n",
    "    sae.load_state_dict(torch.load(filename))\n",
    "    return sae.to(device)"
   ]
  },
  {
   "cell_type": "code",
   "execution_count": 25,
   "metadata": {},
   "outputs": [],
   "source": [
    "do_load_sae = False\n",
    "if do_load_sae:\n",
    "    sea_weights = \"./weights/model_32__4_heads__1_layers.pth\"\n",
    "    act_size = config.d_model\n",
    "    num_features = 4 * config.d_model\n",
    "    sae = load_sae(sea_weights, act_size=act_size, num_features=num_features, device=device)"
   ]
  },
  {
   "cell_type": "markdown",
   "metadata": {},
   "source": [
    "##### neurones interprétables ?"
   ]
  },
  {
   "cell_type": "markdown",
   "metadata": {},
   "source": [
    "On va essayer de découvrir quels caractéristiques ont été apprises par le modèle, en essayant d'interpréter les neurones d'une des (par défaut dans notre cas, de la...) couches cachées das le Transformer.\n",
    "\n",
    "Le principe consiste à préserver les N valeurs d'activation (et les indices de l'entrée alors fournie au modèle) les plus grandes dans des tenseurs nommés `top_values` et `new_values`, grâce à la fonction `update_top_k()`.\n",
    "\n",
    "Les appels successifs de cette fonction vont permettre de déterminer par paquets/batchs les valeurs d'activations (et leur indice) les plus grandes prises par les neurones cachées dans le Tranformer (cf l'utilisation en dessous)."
   ]
  },
  {
   "cell_type": "code",
   "execution_count": 26,
   "metadata": {},
   "outputs": [],
   "source": [
    "def update_top_k(top_values, top_indices, new_values, new_indices, k=20):\n",
    "    combined_values = torch.cat([top_values, new_values])\n",
    "    combined_indices = torch.cat([top_indices, new_indices])\n",
    "    \n",
    "    new_top_values, topk_indices = torch.topk(combined_values, k)\n",
    "    new_top_indices = combined_indices[topk_indices]\n",
    "    \n",
    "    return new_top_values, new_top_indices"
   ]
  },
  {
   "cell_type": "markdown",
   "metadata": {},
   "source": [
    "Exemple d'utilisation de `update_top_k()` :"
   ]
  },
  {
   "cell_type": "code",
   "execution_count": 27,
   "metadata": {},
   "outputs": [],
   "source": [
    "top_k = 20 # on garde les 20 exemples qui font s'activer le plus chaque neurone caché du Transformer\n",
    "batch_size = 64 # on travaille par paquet de 64"
   ]
  },
  {
   "cell_type": "markdown",
   "metadata": {},
   "source": [
    "On commence avec des valeurs minimales (`-inf`) et des indices arbitraires ($-1$).\n",
    "\n",
    "- `top_values`, de taille (nb_neurones_cachés, top_k), répertorie les 20 valeurs d'activations max de chaque neurone,\n",
    "- `top_indices`, de taille (nb_neurones_cachés, top_k), répertorie les indices qui correspondent à ces valeurs (indices=indice dans le dataset=indice d'une commune dans le jeu de données d'entrainement)\n",
    "avec nb_neurones_cachés : nombre de neurones dans la couche du concernée du Trasformer, c'est à dire `d_model`.\n",
    "\n",
    "Pour chaque paquet/batch :<br>\n",
    "   - on fait passer le batch dans le réseau,<br>\n",
    "   - on récupère les activations (B, S, nb_neurones_cachés) = nb_acts activations (une activation par neurone) pour chaque élément de séquence (S) pour chaque élément de batch, c.à.d un nom de commune (B),<br>\n",
    "   - on prend en compte l'activation maximale (selon la position).<br>\n",
    "\n",
    "Pour chaque neurone :<br>\n",
    "   - on utilise la fonction `update_top_k` pour mettre à jour `top_values` et `top_indices`.\n"
   ]
  },
  {
   "cell_type": "code",
   "execution_count": 28,
   "metadata": {},
   "outputs": [
    {
     "data": {
      "application/vnd.jupyter.widget-view+json": {
       "model_id": "baefa3b1cde64caca460ec3bb32a536d",
       "version_major": 2,
       "version_minor": 0
      },
      "text/plain": [
       "  0%|          | 0/515 [00:00<?, ?it/s]"
      ]
     },
     "metadata": {},
     "output_type": "display_data"
    }
   ],
   "source": [
    "# Les plus petites valeurs possibles\n",
    "top_values = torch.full((config.d_model, top_k), -float('inf'))\n",
    "# indices à -1 (le dernier) du fait que les plus petites valeurs seront classées en dernier dans top_vales\n",
    "top_indices = torch.full((config.d_model, top_k), -1, dtype=torch.long)\n",
    "\n",
    "#Pour chaque élément du jeu de données d'entrainement\n",
    "for i in trange(0, dataset.X_train.shape[0], batch_size):\n",
    "    # par lot\n",
    "    x = dataset.X_train[i:i+batch_size]\n",
    "    # récupération des activations cachées du Transformer\n",
    "    hidden_acts_transfo = model(x, act=True) # (B, L, d_model)\n",
    "    # transfert vers le \"cpu\"\n",
    "    hidden_acts_transfo = hidden_acts_transfo.to(\"cpu\")\n",
    "    # récupération la valeur maximale d'activation de chaque neurone cachée dans le Transformer, par batch\n",
    "    max_act = hidden_acts_transfo.max(dim=1).values # (B, d_model)\n",
    "\n",
    "    # pour chaque neurone caché du Transformer\n",
    "    for id_neuron in range(config.d_model):\n",
    "        # récupérer l'ensemble des valeurs d'activation de ce neurone\n",
    "        dim_values = max_act[:, id_neuron]\n",
    "        # calcul des indices pour chaque valeur d'activation (rappel: une par élément de batch)\n",
    "        dim_indices = i + torch.arange(batch_size)\n",
    "\n",
    "        # compilation des valeurs d'activations maximum selon l'indice du nom de commune dans le jeu de données d'entrainement\n",
    "        top_values[id_neuron], top_indices[id_neuron] = update_top_k(top_values[id_neuron], top_indices[id_neuron], dim_values, dim_indices)"
   ]
  },
  {
   "cell_type": "code",
   "execution_count": 29,
   "metadata": {},
   "outputs": [
    {
     "name": "stdout",
     "output_type": "stream",
     "text": [
      "valeurs maximales :  [2.1229517459869385, 2.059461832046509, 1.692455768585205, 1.2143747806549072, 1.1729717254638672, 1.1559169292449951, 1.1125198602676392, 1.0922425985336304, 1.0658186674118042, 1.0178589820861816, 1.0141741037368774, 1.0049256086349487, 0.9398273229598999, 0.9214601516723633, 0.8959159255027771, 0.826645016670227, 0.8129128813743591, 0.8034628629684448, 0.7965403199195862, 0.7884460687637329]\n",
      "indices des neurones correspondants :  [15, 20, 7, 4, 22, 13, 25, 12, 9, 6, 29, 27, 23, 31, 17, 24, 14, 0, 26, 10]\n",
      "indices des noms de communes dans le jeu d'entrainement [22, 62, 61, 60, 59, 58, 57, 56, 55, 54, 53, 52, 51, 50, 49, 48, 47, 46, 45, 44]\n"
     ]
    }
   ],
   "source": [
    "max_activations, indices = top_values[:, 0].topk(k=20)\n",
    "print(\"valeurs maximales : \", max_activations.tolist())\n",
    "print(\"indices des neurones correspondants : \", indices.tolist())\n",
    "max_activations_indices = top_indices[indices][0].tolist()\n",
    "print(\"indices des noms de communes dans le jeu d'entrainement\", max_activations_indices)\n"
   ]
  },
  {
   "cell_type": "markdown",
   "metadata": {},
   "source": [
    "Pour un neurone caché choisi via son indice dans [0; `d_model`], on affiche les `topK` noms de communes liés aux plus grandes valeurs d'activation détectées."
   ]
  },
  {
   "cell_type": "code",
   "execution_count": 30,
   "metadata": {},
   "outputs": [
    {
     "data": {
      "text/html": [
       "<span style=\"font-size:18px; color:'white'; background-color:rgb(239, 0, 0)\">v</span><span style=\"font-size:18px; color:'white'; background-color:rgb(-58, 0, 0)\">e</span><span style=\"font-size:18px; color:'white'; background-color:rgb(39, 0, 0)\">n</span><span style=\"font-size:18px; color:'white'; background-color:rgb(-32, 0, 0)\">d</span><span style=\"font-size:18px; color:'white'; background-color:rgb(1, 0, 0)\">ô</span><span style=\"font-size:18px; color:'white'; background-color:rgb(299, 0, 0)\">m</span><span style=\"font-size:18px; color:'white'; background-color:rgb(-39, 0, 0)\">e</span>"
      ],
      "text/plain": [
       "<IPython.core.display.HTML object>"
      ]
     },
     "metadata": {},
     "output_type": "display_data"
    },
    {
     "data": {
      "text/html": [
       "<span style=\"font-size:18px; color:'white'; background-color:rgb(239, 0, 0)\">c</span><span style=\"font-size:18px; color:'white'; background-color:rgb(-117, 0, 0)\">h</span><span style=\"font-size:18px; color:'white'; background-color:rgb(-19, 0, 0)\">e</span><span style=\"font-size:18px; color:'white'; background-color:rgb(95, 0, 0)\">n</span><span style=\"font-size:18px; color:'white'; background-color:rgb(0, 0, 0)\">ô</span><span style=\"font-size:18px; color:'white'; background-color:rgb(298, 0, 0)\">v</span><span style=\"font-size:18px; color:'white'; background-color:rgb(-13, 0, 0)\">e</span><span style=\"font-size:18px; color:'white'; background-color:rgb(89, 0, 0)\">s</span>"
      ],
      "text/plain": [
       "<IPython.core.display.HTML object>"
      ]
     },
     "metadata": {},
     "output_type": "display_data"
    },
    {
     "data": {
      "text/html": [
       "<span style=\"font-size:18px; color:'white'; background-color:rgb(239, 0, 0)\">c</span><span style=\"font-size:18px; color:'white'; background-color:rgb(-117, 0, 0)\">h</span><span style=\"font-size:18px; color:'white'; background-color:rgb(-19, 0, 0)\">e</span><span style=\"font-size:18px; color:'white'; background-color:rgb(95, 0, 0)\">n</span><span style=\"font-size:18px; color:'white'; background-color:rgb(0, 0, 0)\">ô</span><span style=\"font-size:18px; color:'white'; background-color:rgb(298, 0, 0)\">v</span><span style=\"font-size:18px; color:'white'; background-color:rgb(-13, 0, 0)\">e</span>"
      ],
      "text/plain": [
       "<IPython.core.display.HTML object>"
      ]
     },
     "metadata": {},
     "output_type": "display_data"
    },
    {
     "data": {
      "text/html": [
       "<span style=\"font-size:18px; color:'white'; background-color:rgb(239, 0, 0)\">d</span><span style=\"font-size:18px; color:'white'; background-color:rgb(-70, 0, 0)\">e</span><span style=\"font-size:18px; color:'white'; background-color:rgb(22, 0, 0)\">û</span><span style=\"font-size:18px; color:'white'; background-color:rgb(291, 0, 0)\">l</span><span style=\"font-size:18px; color:'white'; background-color:rgb(-82, 0, 0)\">é</span><span style=\"font-size:18px; color:'white'; background-color:rgb(56, 0, 0)\">m</span><span style=\"font-size:18px; color:'white'; background-color:rgb(-12, 0, 0)\">o</span><span style=\"font-size:18px; color:'white'; background-color:rgb(124, 0, 0)\">n</span><span style=\"font-size:18px; color:'white'; background-color:rgb(19, 0, 0)\">t</span>"
      ],
      "text/plain": [
       "<IPython.core.display.HTML object>"
      ]
     },
     "metadata": {},
     "output_type": "display_data"
    },
    {
     "data": {
      "text/html": [
       "<span style=\"font-size:18px; color:'white'; background-color:rgb(239, 0, 0)\">l</span><span style=\"font-size:18px; color:'white'; background-color:rgb(-137, 0, 0)\">a</span><span style=\"font-size:18px; color:'white'; background-color:rgb(-25, 0, 0)\"> </span><span style=\"font-size:18px; color:'white'; background-color:rgb(114, 0, 0)\">s</span><span style=\"font-size:18px; color:'white'; background-color:rgb(26, 0, 0)\">ô</span><span style=\"font-size:18px; color:'white'; background-color:rgb(289, 0, 0)\">n</span><span style=\"font-size:18px; color:'white'; background-color:rgb(-14, 0, 0)\">e</span>"
      ],
      "text/plain": [
       "<IPython.core.display.HTML object>"
      ]
     },
     "metadata": {},
     "output_type": "display_data"
    },
    {
     "data": {
      "text/html": [
       "<span style=\"font-size:18px; color:'white'; background-color:rgb(239, 0, 0)\">n</span><span style=\"font-size:18px; color:'white'; background-color:rgb(-79, 0, 0)\">e</span><span style=\"font-size:18px; color:'white'; background-color:rgb(68, 0, 0)\">s</span><span style=\"font-size:18px; color:'white'; background-color:rgb(103, 0, 0)\">l</span><span style=\"font-size:18px; color:'white'; background-color:rgb(-59, 0, 0)\">e</span><span style=\"font-size:18px; color:'white'; background-color:rgb(104, 0, 0)\">-</span><span style=\"font-size:18px; color:'white'; background-color:rgb(45, 0, 0)\">l</span><span style=\"font-size:18px; color:'white'; background-color:rgb(-59, 0, 0)\">'</span><span style=\"font-size:18px; color:'white'; background-color:rgb(-126, 0, 0)\">h</span><span style=\"font-size:18px; color:'white'; background-color:rgb(-23, 0, 0)\">ô</span><span style=\"font-size:18px; color:'white'; background-color:rgb(287, 0, 0)\">p</span><span style=\"font-size:18px; color:'white'; background-color:rgb(69, 0, 0)\">i</span><span style=\"font-size:18px; color:'white'; background-color:rgb(-5, 0, 0)\">t</span><span style=\"font-size:18px; color:'white'; background-color:rgb(-29, 0, 0)\">a</span><span style=\"font-size:18px; color:'white'; background-color:rgb(96, 0, 0)\">l</span>"
      ],
      "text/plain": [
       "<IPython.core.display.HTML object>"
      ]
     },
     "metadata": {},
     "output_type": "display_data"
    },
    {
     "data": {
      "text/html": [
       "<span style=\"font-size:18px; color:'white'; background-color:rgb(239, 0, 0)\">l</span><span style=\"font-size:18px; color:'white'; background-color:rgb(-137, 0, 0)\">a</span><span style=\"font-size:18px; color:'white'; background-color:rgb(-25, 0, 0)\"> </span><span style=\"font-size:18px; color:'white'; background-color:rgb(114, 0, 0)\">c</span><span style=\"font-size:18px; color:'white'; background-color:rgb(-121, 0, 0)\">h</span><span style=\"font-size:18px; color:'white'; background-color:rgb(23, 0, 0)\">a</span><span style=\"font-size:18px; color:'white'; background-color:rgb(119, 0, 0)\">p</span><span style=\"font-size:18px; color:'white'; background-color:rgb(63, 0, 0)\">e</span><span style=\"font-size:18px; color:'white'; background-color:rgb(56, 0, 0)\">l</span><span style=\"font-size:18px; color:'white'; background-color:rgb(-8, 0, 0)\">l</span><span style=\"font-size:18px; color:'white'; background-color:rgb(-54, 0, 0)\">e</span><span style=\"font-size:18px; color:'white'; background-color:rgb(65, 0, 0)\">-</span><span style=\"font-size:18px; color:'white'; background-color:rgb(10, 0, 0)\">v</span><span style=\"font-size:18px; color:'white'; background-color:rgb(-52, 0, 0)\">e</span><span style=\"font-size:18px; color:'white'; background-color:rgb(75, 0, 0)\">n</span><span style=\"font-size:18px; color:'white'; background-color:rgb(-29, 0, 0)\">d</span><span style=\"font-size:18px; color:'white'; background-color:rgb(-8, 0, 0)\">ô</span><span style=\"font-size:18px; color:'white'; background-color:rgb(281, 0, 0)\">m</span><span style=\"font-size:18px; color:'white'; background-color:rgb(-30, 0, 0)\">o</span><span style=\"font-size:18px; color:'white'; background-color:rgb(136, 0, 0)\">i</span><span style=\"font-size:18px; color:'white'; background-color:rgb(-8, 0, 0)\">s</span><span style=\"font-size:18px; color:'white'; background-color:rgb(-15, 0, 0)\">e</span>"
      ],
      "text/plain": [
       "<IPython.core.display.HTML object>"
      ]
     },
     "metadata": {},
     "output_type": "display_data"
    },
    {
     "data": {
      "text/html": [
       "<span style=\"font-size:18px; color:'white'; background-color:rgb(239, 0, 0)\">m</span><span style=\"font-size:18px; color:'white'; background-color:rgb(-21, 0, 0)\">a</span><span style=\"font-size:18px; color:'white'; background-color:rgb(36, 0, 0)\">n</span><span style=\"font-size:18px; color:'white'; background-color:rgb(-24, 0, 0)\">s</span><span style=\"font-size:18px; color:'white'; background-color:rgb(-11, 0, 0)\">e</span><span style=\"font-size:18px; color:'white'; background-color:rgb(141, 0, 0)\">n</span><span style=\"font-size:18px; color:'white'; background-color:rgb(-7, 0, 0)\">c</span><span style=\"font-size:18px; color:'white'; background-color:rgb(-53, 0, 0)\">ô</span><span style=\"font-size:18px; color:'white'; background-color:rgb(274, 0, 0)\">m</span><span style=\"font-size:18px; color:'white'; background-color:rgb(13, 0, 0)\">e</span>"
      ],
      "text/plain": [
       "<IPython.core.display.HTML object>"
      ]
     },
     "metadata": {},
     "output_type": "display_data"
    },
    {
     "data": {
      "text/html": [
       "<span style=\"font-size:18px; color:'white'; background-color:rgb(239, 0, 0)\">e</span><span style=\"font-size:18px; color:'white'; background-color:rgb(103, 0, 0)\">s</span><span style=\"font-size:18px; color:'white'; background-color:rgb(149, 0, 0)\">s</span><span style=\"font-size:18px; color:'white'; background-color:rgb(18, 0, 0)\">e</span><span style=\"font-size:18px; color:'white'; background-color:rgb(120, 0, 0)\">y</span><span style=\"font-size:18px; color:'white'; background-color:rgb(63, 0, 0)\">-</span><span style=\"font-size:18px; color:'white'; background-color:rgb(33, 0, 0)\">l</span><span style=\"font-size:18px; color:'white'; background-color:rgb(-58, 0, 0)\">a</span><span style=\"font-size:18px; color:'white'; background-color:rgb(35, 0, 0)\">-</span><span style=\"font-size:18px; color:'white'; background-color:rgb(119, 0, 0)\">c</span><span style=\"font-size:18px; color:'white'; background-color:rgb(-112, 0, 0)\">ô</span><span style=\"font-size:18px; color:'white'; background-color:rgb(273, 0, 0)\">t</span><span style=\"font-size:18px; color:'white'; background-color:rgb(-54, 0, 0)\">e</span>"
      ],
      "text/plain": [
       "<IPython.core.display.HTML object>"
      ]
     },
     "metadata": {},
     "output_type": "display_data"
    },
    {
     "data": {
      "text/html": [
       "<span style=\"font-size:18px; color:'white'; background-color:rgb(239, 0, 0)\">l</span><span style=\"font-size:18px; color:'white'; background-color:rgb(-137, 0, 0)\">a</span><span style=\"font-size:18px; color:'white'; background-color:rgb(-25, 0, 0)\">v</span><span style=\"font-size:18px; color:'white'; background-color:rgb(-53, 0, 0)\">o</span><span style=\"font-size:18px; color:'white'; background-color:rgb(154, 0, 0)\">û</span><span style=\"font-size:18px; color:'white'; background-color:rgb(271, 0, 0)\">t</span><span style=\"font-size:18px; color:'white'; background-color:rgb(-37, 0, 0)\">e</span><span style=\"font-size:18px; color:'white'; background-color:rgb(97, 0, 0)\">-</span><span style=\"font-size:18px; color:'white'; background-color:rgb(0, 0, 0)\">c</span><span style=\"font-size:18px; color:'white'; background-color:rgb(-61, 0, 0)\">h</span><span style=\"font-size:18px; color:'white'; background-color:rgb(9, 0, 0)\">i</span><span style=\"font-size:18px; color:'white'; background-color:rgb(24, 0, 0)\">l</span><span style=\"font-size:18px; color:'white'; background-color:rgb(0, 0, 0)\">h</span><span style=\"font-size:18px; color:'white'; background-color:rgb(0, 0, 0)\">a</span><span style=\"font-size:18px; color:'white'; background-color:rgb(79, 0, 0)\">c</span>"
      ],
      "text/plain": [
       "<IPython.core.display.HTML object>"
      ]
     },
     "metadata": {},
     "output_type": "display_data"
    },
    {
     "data": {
      "text/html": [
       "<span style=\"font-size:18px; color:'white'; background-color:rgb(239, 0, 0)\">l</span><span style=\"font-size:18px; color:'white'; background-color:rgb(-137, 0, 0)\">a</span><span style=\"font-size:18px; color:'white'; background-color:rgb(-25, 0, 0)\">v</span><span style=\"font-size:18px; color:'white'; background-color:rgb(-53, 0, 0)\">o</span><span style=\"font-size:18px; color:'white'; background-color:rgb(154, 0, 0)\">û</span><span style=\"font-size:18px; color:'white'; background-color:rgb(271, 0, 0)\">t</span><span style=\"font-size:18px; color:'white'; background-color:rgb(-37, 0, 0)\">e</span><span style=\"font-size:18px; color:'white'; background-color:rgb(97, 0, 0)\">-</span><span style=\"font-size:18px; color:'white'; background-color:rgb(0, 0, 0)\">s</span><span style=\"font-size:18px; color:'white'; background-color:rgb(3, 0, 0)\">u</span><span style=\"font-size:18px; color:'white'; background-color:rgb(13, 0, 0)\">r</span><span style=\"font-size:18px; color:'white'; background-color:rgb(29, 0, 0)\">-</span><span style=\"font-size:18px; color:'white'; background-color:rgb(51, 0, 0)\">l</span><span style=\"font-size:18px; color:'white'; background-color:rgb(-91, 0, 0)\">o</span><span style=\"font-size:18px; color:'white'; background-color:rgb(66, 0, 0)\">i</span><span style=\"font-size:18px; color:'white'; background-color:rgb(0, 0, 0)\">r</span><span style=\"font-size:18px; color:'white'; background-color:rgb(-49, 0, 0)\">e</span>"
      ],
      "text/plain": [
       "<IPython.core.display.HTML object>"
      ]
     },
     "metadata": {},
     "output_type": "display_data"
    },
    {
     "data": {
      "text/html": [
       "<span style=\"font-size:18px; color:'white'; background-color:rgb(239, 0, 0)\">v</span><span style=\"font-size:18px; color:'white'; background-color:rgb(-58, 0, 0)\">i</span><span style=\"font-size:18px; color:'white'; background-color:rgb(-20, 0, 0)\">l</span><span style=\"font-size:18px; color:'white'; background-color:rgb(-27, 0, 0)\">l</span><span style=\"font-size:18px; color:'white'; background-color:rgb(-33, 0, 0)\">e</span><span style=\"font-size:18px; color:'white'; background-color:rgb(89, 0, 0)\">d</span><span style=\"font-size:18px; color:'white'; background-color:rgb(23, 0, 0)\">ô</span><span style=\"font-size:18px; color:'white'; background-color:rgb(267, 0, 0)\">m</span><span style=\"font-size:18px; color:'white'; background-color:rgb(-67, 0, 0)\">a</span><span style=\"font-size:18px; color:'white'; background-color:rgb(51, 0, 0)\">i</span><span style=\"font-size:18px; color:'white'; background-color:rgb(-23, 0, 0)\">n</span>"
      ],
      "text/plain": [
       "<IPython.core.display.HTML object>"
      ]
     },
     "metadata": {},
     "output_type": "display_data"
    },
    {
     "data": {
      "text/html": [
       "<span style=\"font-size:18px; color:'white'; background-color:rgb(239, 0, 0)\">v</span><span style=\"font-size:18px; color:'white'; background-color:rgb(-58, 0, 0)\">i</span><span style=\"font-size:18px; color:'white'; background-color:rgb(-20, 0, 0)\">l</span><span style=\"font-size:18px; color:'white'; background-color:rgb(-27, 0, 0)\">l</span><span style=\"font-size:18px; color:'white'; background-color:rgb(-33, 0, 0)\">e</span><span style=\"font-size:18px; color:'white'; background-color:rgb(89, 0, 0)\">d</span><span style=\"font-size:18px; color:'white'; background-color:rgb(23, 0, 0)\">ô</span><span style=\"font-size:18px; color:'white'; background-color:rgb(267, 0, 0)\">m</span><span style=\"font-size:18px; color:'white'; background-color:rgb(-67, 0, 0)\">e</span><span style=\"font-size:18px; color:'white'; background-color:rgb(116, 0, 0)\">r</span>"
      ],
      "text/plain": [
       "<IPython.core.display.HTML object>"
      ]
     },
     "metadata": {},
     "output_type": "display_data"
    },
    {
     "data": {
      "text/html": [
       "<span style=\"font-size:18px; color:'white'; background-color:rgb(239, 0, 0)\">a</span><span style=\"font-size:18px; color:'white'; background-color:rgb(129, 0, 0)\">l</span><span style=\"font-size:18px; color:'white'; background-color:rgb(4, 0, 0)\">l</span><span style=\"font-size:18px; color:'white'; background-color:rgb(-56, 0, 0)\">e</span><span style=\"font-size:18px; color:'white'; background-color:rgb(103, 0, 0)\">r</span><span style=\"font-size:18px; color:'white'; background-color:rgb(69, 0, 0)\">e</span><span style=\"font-size:18px; color:'white'; background-color:rgb(104, 0, 0)\">y</span><span style=\"font-size:18px; color:'white'; background-color:rgb(26, 0, 0)\">-</span><span style=\"font-size:18px; color:'white'; background-color:rgb(-12, 0, 0)\">s</span><span style=\"font-size:18px; color:'white'; background-color:rgb(22, 0, 0)\">u</span><span style=\"font-size:18px; color:'white'; background-color:rgb(18, 0, 0)\">r</span><span style=\"font-size:18px; color:'white'; background-color:rgb(32, 0, 0)\">-</span><span style=\"font-size:18px; color:'white'; background-color:rgb(43, 0, 0)\">s</span><span style=\"font-size:18px; color:'white'; background-color:rgb(1, 0, 0)\">a</span><span style=\"font-size:18px; color:'white'; background-color:rgb(133, 0, 0)\">ô</span><span style=\"font-size:18px; color:'white'; background-color:rgb(267, 0, 0)\">n</span><span style=\"font-size:18px; color:'white'; background-color:rgb(2, 0, 0)\">e</span>"
      ],
      "text/plain": [
       "<IPython.core.display.HTML object>"
      ]
     },
     "metadata": {},
     "output_type": "display_data"
    },
    {
     "data": {
      "text/html": [
       "<span style=\"font-size:18px; color:'white'; background-color:rgb(239, 0, 0)\">s</span><span style=\"font-size:18px; color:'white'; background-color:rgb(16, 0, 0)\">a</span><span style=\"font-size:18px; color:'white'; background-color:rgb(19, 0, 0)\">i</span><span style=\"font-size:18px; color:'white'; background-color:rgb(18, 0, 0)\">n</span><span style=\"font-size:18px; color:'white'; background-color:rgb(29, 0, 0)\">t</span><span style=\"font-size:18px; color:'white'; background-color:rgb(-2, 0, 0)\">e</span><span style=\"font-size:18px; color:'white'; background-color:rgb(124, 0, 0)\">-</span><span style=\"font-size:18px; color:'white'; background-color:rgb(29, 0, 0)\">p</span><span style=\"font-size:18px; color:'white'; background-color:rgb(62, 0, 0)\">ô</span><span style=\"font-size:18px; color:'white'; background-color:rgb(263, 0, 0)\">l</span><span style=\"font-size:18px; color:'white'; background-color:rgb(-40, 0, 0)\">e</span>"
      ],
      "text/plain": [
       "<IPython.core.display.HTML object>"
      ]
     },
     "metadata": {},
     "output_type": "display_data"
    },
    {
     "data": {
      "text/html": [
       "<span style=\"font-size:18px; color:'white'; background-color:rgb(239, 0, 0)\">r</span><span style=\"font-size:18px; color:'white'; background-color:rgb(-15, 0, 0)\">e</span><span style=\"font-size:18px; color:'white'; background-color:rgb(57, 0, 0)\">p</span><span style=\"font-size:18px; color:'white'; background-color:rgb(111, 0, 0)\">ô</span><span style=\"font-size:18px; color:'white'; background-color:rgb(261, 0, 0)\">t</span><span style=\"font-size:18px; color:'white'; background-color:rgb(-56, 0, 0)\">s</span>"
      ],
      "text/plain": [
       "<IPython.core.display.HTML object>"
      ]
     },
     "metadata": {},
     "output_type": "display_data"
    },
    {
     "data": {
      "text/html": [
       "<span style=\"font-size:18px; color:'white'; background-color:rgb(239, 0, 0)\">h</span><span style=\"font-size:18px; color:'white'; background-color:rgb(-127, 0, 0)\">a</span><span style=\"font-size:18px; color:'white'; background-color:rgb(52, 0, 0)\">l</span><span style=\"font-size:18px; color:'white'; background-color:rgb(-2, 0, 0)\">l</span><span style=\"font-size:18px; color:'white'; background-color:rgb(-61, 0, 0)\">e</span><span style=\"font-size:18px; color:'white'; background-color:rgb(86, 0, 0)\">s</span><span style=\"font-size:18px; color:'white'; background-color:rgb(80, 0, 0)\">-</span><span style=\"font-size:18px; color:'white'; background-color:rgb(33, 0, 0)\">s</span><span style=\"font-size:18px; color:'white'; background-color:rgb(21, 0, 0)\">o</span><span style=\"font-size:18px; color:'white'; background-color:rgb(111, 0, 0)\">u</span><span style=\"font-size:18px; color:'white'; background-color:rgb(18, 0, 0)\">s</span><span style=\"font-size:18px; color:'white'; background-color:rgb(73, 0, 0)\">-</span><span style=\"font-size:18px; color:'white'; background-color:rgb(74, 0, 0)\">l</span><span style=\"font-size:18px; color:'white'; background-color:rgb(-60, 0, 0)\">e</span><span style=\"font-size:18px; color:'white'; background-color:rgb(66, 0, 0)\">s</span><span style=\"font-size:18px; color:'white'; background-color:rgb(104, 0, 0)\">-</span><span style=\"font-size:18px; color:'white'; background-color:rgb(108, 0, 0)\">c</span><span style=\"font-size:18px; color:'white'; background-color:rgb(-67, 0, 0)\">ô</span><span style=\"font-size:18px; color:'white'; background-color:rgb(258, 0, 0)\">t</span><span style=\"font-size:18px; color:'white'; background-color:rgb(-38, 0, 0)\">e</span><span style=\"font-size:18px; color:'white'; background-color:rgb(93, 0, 0)\">s</span>"
      ],
      "text/plain": [
       "<IPython.core.display.HTML object>"
      ]
     },
     "metadata": {},
     "output_type": "display_data"
    },
    {
     "data": {
      "text/html": [
       "<span style=\"font-size:18px; color:'white'; background-color:rgb(239, 0, 0)\">t</span><span style=\"font-size:18px; color:'white'; background-color:rgb(-80, 0, 0)\">h</span><span style=\"font-size:18px; color:'white'; background-color:rgb(-5, 0, 0)\">o</span><span style=\"font-size:18px; color:'white'; background-color:rgb(137, 0, 0)\">m</span><span style=\"font-size:18px; color:'white'; background-color:rgb(76, 0, 0)\">e</span><span style=\"font-size:18px; color:'white'; background-color:rgb(122, 0, 0)\">r</span><span style=\"font-size:18px; color:'white'; background-color:rgb(73, 0, 0)\">-</span><span style=\"font-size:18px; color:'white'; background-color:rgb(-18, 0, 0)\">l</span><span style=\"font-size:18px; color:'white'; background-color:rgb(-92, 0, 0)\">a</span><span style=\"font-size:18px; color:'white'; background-color:rgb(30, 0, 0)\">-</span><span style=\"font-size:18px; color:'white'; background-color:rgb(76, 0, 0)\">s</span><span style=\"font-size:18px; color:'white'; background-color:rgb(19, 0, 0)\">ô</span><span style=\"font-size:18px; color:'white'; background-color:rgb(258, 0, 0)\">g</span><span style=\"font-size:18px; color:'white'; background-color:rgb(-53, 0, 0)\">n</span><span style=\"font-size:18px; color:'white'; background-color:rgb(-18, 0, 0)\">e</span>"
      ],
      "text/plain": [
       "<IPython.core.display.HTML object>"
      ]
     },
     "metadata": {},
     "output_type": "display_data"
    },
    {
     "data": {
      "text/html": [
       "<span style=\"font-size:18px; color:'white'; background-color:rgb(239, 0, 0)\">h</span><span style=\"font-size:18px; color:'white'; background-color:rgb(-127, 0, 0)\">e</span><span style=\"font-size:18px; color:'white'; background-color:rgb(51, 0, 0)\">u</span><span style=\"font-size:18px; color:'white'; background-color:rgb(70, 0, 0)\">i</span><span style=\"font-size:18px; color:'white'; background-color:rgb(37, 0, 0)\">l</span><span style=\"font-size:18px; color:'white'; background-color:rgb(-18, 0, 0)\">l</span><span style=\"font-size:18px; color:'white'; background-color:rgb(-39, 0, 0)\">e</span><span style=\"font-size:18px; color:'white'; background-color:rgb(56, 0, 0)\">y</span><span style=\"font-size:18px; color:'white'; background-color:rgb(38, 0, 0)\">-</span><span style=\"font-size:18px; color:'white'; background-color:rgb(22, 0, 0)\">s</span><span style=\"font-size:18px; color:'white'; background-color:rgb(-19, 0, 0)\">u</span><span style=\"font-size:18px; color:'white'; background-color:rgb(21, 0, 0)\">r</span><span style=\"font-size:18px; color:'white'; background-color:rgb(42, 0, 0)\">-</span><span style=\"font-size:18px; color:'white'; background-color:rgb(50, 0, 0)\">s</span><span style=\"font-size:18px; color:'white'; background-color:rgb(-5, 0, 0)\">a</span><span style=\"font-size:18px; color:'white'; background-color:rgb(150, 0, 0)\">ô</span><span style=\"font-size:18px; color:'white'; background-color:rgb(257, 0, 0)\">n</span><span style=\"font-size:18px; color:'white'; background-color:rgb(-5, 0, 0)\">e</span>"
      ],
      "text/plain": [
       "<IPython.core.display.HTML object>"
      ]
     },
     "metadata": {},
     "output_type": "display_data"
    },
    {
     "data": {
      "text/html": [
       "<span style=\"font-size:18px; color:'white'; background-color:rgb(239, 0, 0)\">s</span><span style=\"font-size:18px; color:'white'; background-color:rgb(16, 0, 0)\">a</span><span style=\"font-size:18px; color:'white'; background-color:rgb(19, 0, 0)\">i</span><span style=\"font-size:18px; color:'white'; background-color:rgb(18, 0, 0)\">n</span><span style=\"font-size:18px; color:'white'; background-color:rgb(29, 0, 0)\">t</span><span style=\"font-size:18px; color:'white'; background-color:rgb(-2, 0, 0)\">-</span><span style=\"font-size:18px; color:'white'; background-color:rgb(37, 0, 0)\">g</span><span style=\"font-size:18px; color:'white'; background-color:rgb(-65, 0, 0)\">e</span><span style=\"font-size:18px; color:'white'; background-color:rgb(35, 0, 0)\">n</span><span style=\"font-size:18px; color:'white'; background-color:rgb(-13, 0, 0)\">i</span><span style=\"font-size:18px; color:'white'; background-color:rgb(22, 0, 0)\">e</span><span style=\"font-size:18px; color:'white'; background-color:rgb(63, 0, 0)\">z</span><span style=\"font-size:18px; color:'white'; background-color:rgb(37, 0, 0)\">-</span><span style=\"font-size:18px; color:'white'; background-color:rgb(-13, 0, 0)\">ô</span><span style=\"font-size:18px; color:'white'; background-color:rgb(255, 0, 0)\">-</span><span style=\"font-size:18px; color:'white'; background-color:rgb(32, 0, 0)\">m</span><span style=\"font-size:18px; color:'white'; background-color:rgb(-12, 0, 0)\">e</span><span style=\"font-size:18px; color:'white'; background-color:rgb(87, 0, 0)\">r</span><span style=\"font-size:18px; color:'white'; background-color:rgb(101, 0, 0)\">l</span><span style=\"font-size:18px; color:'white'; background-color:rgb(-51, 0, 0)\">e</span>"
      ],
      "text/plain": [
       "<IPython.core.display.HTML object>"
      ]
     },
     "metadata": {},
     "output_type": "display_data"
    }
   ],
   "source": [
    "id_hidden_activation = 22\n",
    "for i in top_indices[id_hidden_activation]:\n",
    "    city_name = dataset.to_string(dataset.X_train[i.item()].tolist())\n",
    "    hidden_acts_transfo = model(dataset.X_train[i.item()].unsqueeze(0), act=True) # (B, L, n_neurones)\n",
    "    print_colore(city_name, hidden_acts_transfo[0, :, id_hidden_activation].tolist()[:len(city_name)])"
   ]
  },
  {
   "cell_type": "markdown",
   "metadata": {},
   "source": [
    "Essayez avec différents neurones, en vous concentrant sur ceux ayant obtenu les plus grandes valeurs d'activation sur l'ensemble des neurones, de trouver des concepts explicites si cela est possible. Si oui, alors vous avez trouvé des neurones \"monosémantique\", sinon, vous constatetez leur caractère \"polysémantique\"."
   ]
  },
  {
   "cell_type": "markdown",
   "metadata": {},
   "source": [
    "##### Concepts interprétables grâce au SAE ?"
   ]
  },
  {
   "cell_type": "markdown",
   "metadata": {},
   "source": [
    "Le principe est exactement le même qu'avec les neurones, mais on regarde dans l'espace des activations du SAE.\n"
   ]
  },
  {
   "cell_type": "code",
   "execution_count": 31,
   "metadata": {},
   "outputs": [],
   "source": [
    "top_k = 20 # on garde les 20 exemples qui font s'activer le plus chaque neurone caché du SAE\n",
    "batch_size = 64 # on travaille par paquet de 64"
   ]
  },
  {
   "cell_type": "code",
   "execution_count": 32,
   "metadata": {},
   "outputs": [
    {
     "data": {
      "application/vnd.jupyter.widget-view+json": {
       "model_id": "b7d68204bb714515840d1e8f99a93624",
       "version_major": 2,
       "version_minor": 0
      },
      "text/plain": [
       "  0%|          | 0/515 [00:00<?, ?it/s]"
      ]
     },
     "metadata": {},
     "output_type": "display_data"
    }
   ],
   "source": [
    "# Les plus petites valeurs possibles\n",
    "top_values_sae = torch.full((sae.num_features, top_k), -float('inf'))\n",
    "# indices à -1 (le dernier) du fait que les plus petites valeurs seront classées en dernier dans top_vales\n",
    "top_indices_sae = torch.full((sae.num_features, top_k), -1, dtype=torch.long)\n",
    "\n",
    "#Pour chaque élément du jeu de données d'entrainement\n",
    "for i in trange(0, dataset.X_train.shape[0], batch_size):\n",
    "    # par lot\n",
    "    x = dataset.X_train[i:i+batch_size]\n",
    "    # récupération des activations cachées du Transformer\n",
    "    hidden_acts_transfo = model(x, act=True) # (B, S, d_model)\n",
    "    # récupération des activations de caractéristiques (features) correspondant\n",
    "    _, _, features, _, _ = sae(hidden_acts_transfo)\n",
    "    # récupération la valeur maximale d'activation de chaque caractéristique dans le SAE, par batch\n",
    "    max_features = features.max(dim=1).values # (B, S, num_features)\n",
    "    # transfert vers le \"cpu\"\n",
    "    max_features = max_features.to(\"cpu\")\n",
    "    \n",
    "     # pour chaque caractéristique gérée par le SAE\n",
    "    for id_feature in range(sae.num_features):\n",
    "        # récupérer l'ensemble des valeurs d'activation de cette caractéristique\n",
    "        dim_values = max_features[:, id_feature]\n",
    "        # calcul des indices pour chaque valeur d'activation (rappel: une par élément de batch)\n",
    "        dim_indices = i + torch.arange(batch_size)\n",
    "\n",
    "        # compilation des valeurs d'activations maximum selon l'indice du nom de commune dans le jeu de données d'entrainement\n",
    "        top_values_sae[id_feature], top_indices_sae[id_feature] = update_top_k(top_values_sae[id_feature], top_indices_sae[id_feature], dim_values, dim_indices)"
   ]
  },
  {
   "cell_type": "code",
   "execution_count": 33,
   "metadata": {},
   "outputs": [
    {
     "name": "stdout",
     "output_type": "stream",
     "text": [
      "valeurs maximales :  [1.2650882005691528, 1.205565333366394, 1.1344462633132935, 1.1164509057998657, 1.105385184288025, 1.0002176761627197, 0.9028912782669067, 0.883921205997467, 0.8686330914497375, 0.8664737939834595, 0.8337341547012329, 0.8039000630378723, 0.7909359335899353, 0.7836132645606995, 0.7676773071289062, 0.7593322992324829, 0.7577836513519287, 0.7214229106903076, 0.6811668872833252, 0.672856330871582]\n",
      "indices des caractéristiques correspondantes :  [122, 97, 28, 125, 80, 118, 9, 62, 106, 59, 29, 30, 10, 26, 66, 49, 14, 98, 114, 48]\n",
      "indices des noms de communes dans le jeu d'entrainement [5197, 28365, 29912, 22187, 22557, 12154, 1919, 31959, 27534, 10742, 13503, 20548, 27605, 17990, 910, 11248, 20322, 22060, 19770, 31167]\n"
     ]
    }
   ],
   "source": [
    "max_activations_sae, indices_sae = top_values_sae[:, 0].topk(k=20)\n",
    "print(\"valeurs maximales : \", max_activations_sae.tolist())\n",
    "print(\"indices des caractéristiques correspondantes : \", indices_sae.tolist())\n",
    "max_activations_indices_sae = top_indices_sae[indices][0].tolist()\n",
    "print(\"indices des noms de communes dans le jeu d'entrainement\", max_activations_indices_sae)"
   ]
  },
  {
   "cell_type": "code",
   "execution_count": 37,
   "metadata": {},
   "outputs": [
    {
     "data": {
      "text/html": [
       "<span style=\"font-size:18px; color:'white'; background-color:rgb(0, 0, 0)\">a</span><span style=\"font-size:18px; color:'white'; background-color:rgb(17, 0, 0)\">r</span><span style=\"font-size:18px; color:'white'; background-color:rgb(0, 0, 0)\">g</span><span style=\"font-size:18px; color:'white'; background-color:rgb(70, 0, 0)\">e</span><span style=\"font-size:18px; color:'white'; background-color:rgb(14, 0, 0)\">l</span><span style=\"font-size:18px; color:'white'; background-color:rgb(95, 0, 0)\">è</span><span style=\"font-size:18px; color:'white'; background-color:rgb(3, 0, 0)\">s</span><span style=\"font-size:18px; color:'white'; background-color:rgb(81, 0, 0)\">-</span><span style=\"font-size:18px; color:'white'; background-color:rgb(0, 0, 0)\">g</span><span style=\"font-size:18px; color:'white'; background-color:rgb(0, 0, 0)\">a</span><span style=\"font-size:18px; color:'white'; background-color:rgb(16, 0, 0)\">z</span><span style=\"font-size:18px; color:'white'; background-color:rgb(212, 0, 0)\">o</span><span style=\"font-size:18px; color:'white'; background-color:rgb(0, 0, 0)\">s</span><span style=\"font-size:18px; color:'white'; background-color:rgb(86, 0, 0)\">t</span>"
      ],
      "text/plain": [
       "<IPython.core.display.HTML object>"
      ]
     },
     "metadata": {},
     "output_type": "display_data"
    },
    {
     "data": {
      "text/html": [
       "<span style=\"font-size:18px; color:'white'; background-color:rgb(0, 0, 0)\">a</span><span style=\"font-size:18px; color:'white'; background-color:rgb(17, 0, 0)\">r</span><span style=\"font-size:18px; color:'white'; background-color:rgb(0, 0, 0)\">t</span><span style=\"font-size:18px; color:'white'; background-color:rgb(55, 0, 0)\">z</span><span style=\"font-size:18px; color:'white'; background-color:rgb(212, 0, 0)\">e</span><span style=\"font-size:18px; color:'white'; background-color:rgb(6, 0, 0)\">n</span><span style=\"font-size:18px; color:'white'; background-color:rgb(33, 0, 0)\">h</span><span style=\"font-size:18px; color:'white'; background-color:rgb(0, 0, 0)\">e</span><span style=\"font-size:18px; color:'white'; background-color:rgb(3, 0, 0)\">i</span><span style=\"font-size:18px; color:'white'; background-color:rgb(22, 0, 0)\">m</span>"
      ],
      "text/plain": [
       "<IPython.core.display.HTML object>"
      ]
     },
     "metadata": {},
     "output_type": "display_data"
    },
    {
     "data": {
      "text/html": [
       "<span style=\"font-size:18px; color:'white'; background-color:rgb(0, 0, 0)\">s</span><span style=\"font-size:18px; color:'white'; background-color:rgb(48, 0, 0)\">a</span><span style=\"font-size:18px; color:'white'; background-color:rgb(5, 0, 0)\">i</span><span style=\"font-size:18px; color:'white'; background-color:rgb(35, 0, 0)\">n</span><span style=\"font-size:18px; color:'white'; background-color:rgb(13, 0, 0)\">t</span><span style=\"font-size:18px; color:'white'; background-color:rgb(88, 0, 0)\">-</span><span style=\"font-size:18px; color:'white'; background-color:rgb(0, 0, 0)\">d</span><span style=\"font-size:18px; color:'white'; background-color:rgb(33, 0, 0)\">r</span><span style=\"font-size:18px; color:'white'; background-color:rgb(126, 0, 0)\">é</span><span style=\"font-size:18px; color:'white'; background-color:rgb(153, 0, 0)\">z</span><span style=\"font-size:18px; color:'white'; background-color:rgb(209, 0, 0)\">é</span><span style=\"font-size:18px; color:'white'; background-color:rgb(121, 0, 0)\">r</span><span style=\"font-size:18px; color:'white'; background-color:rgb(89, 0, 0)\">y</span>"
      ],
      "text/plain": [
       "<IPython.core.display.HTML object>"
      ]
     },
     "metadata": {},
     "output_type": "display_data"
    },
    {
     "data": {
      "text/html": [
       "<span style=\"font-size:18px; color:'white'; background-color:rgb(0, 0, 0)\">a</span><span style=\"font-size:18px; color:'white'; background-color:rgb(17, 0, 0)\">r</span><span style=\"font-size:18px; color:'white'; background-color:rgb(0, 0, 0)\">z</span><span style=\"font-size:18px; color:'white'; background-color:rgb(206, 0, 0)\">o</span><span style=\"font-size:18px; color:'white'; background-color:rgb(19, 0, 0)\">n</span>"
      ],
      "text/plain": [
       "<IPython.core.display.HTML object>"
      ]
     },
     "metadata": {},
     "output_type": "display_data"
    },
    {
     "data": {
      "text/html": [
       "<span style=\"font-size:18px; color:'white'; background-color:rgb(0, 0, 0)\">a</span><span style=\"font-size:18px; color:'white'; background-color:rgb(17, 0, 0)\">r</span><span style=\"font-size:18px; color:'white'; background-color:rgb(0, 0, 0)\">z</span><span style=\"font-size:18px; color:'white'; background-color:rgb(206, 0, 0)\">e</span><span style=\"font-size:18px; color:'white'; background-color:rgb(0, 0, 0)\">n</span><span style=\"font-size:18px; color:'white'; background-color:rgb(40, 0, 0)\">c</span><span style=\"font-size:18px; color:'white'; background-color:rgb(16, 0, 0)\">-</span><span style=\"font-size:18px; color:'white'; background-color:rgb(0, 0, 0)\">d</span><span style=\"font-size:18px; color:'white'; background-color:rgb(22, 0, 0)\">e</span><span style=\"font-size:18px; color:'white'; background-color:rgb(105, 0, 0)\">-</span><span style=\"font-size:18px; color:'white'; background-color:rgb(0, 0, 0)\">r</span><span style=\"font-size:18px; color:'white'; background-color:rgb(43, 0, 0)\">a</span><span style=\"font-size:18px; color:'white'; background-color:rgb(58, 0, 0)\">n</span><span style=\"font-size:18px; color:'white'; background-color:rgb(62, 0, 0)\">d</span><span style=\"font-size:18px; color:'white'; background-color:rgb(40, 0, 0)\">o</span><span style=\"font-size:18px; color:'white'; background-color:rgb(15, 0, 0)\">n</span>"
      ],
      "text/plain": [
       "<IPython.core.display.HTML object>"
      ]
     },
     "metadata": {},
     "output_type": "display_data"
    },
    {
     "data": {
      "text/html": [
       "<span style=\"font-size:18px; color:'white'; background-color:rgb(0, 0, 0)\">a</span><span style=\"font-size:18px; color:'white'; background-color:rgb(17, 0, 0)\">r</span><span style=\"font-size:18px; color:'white'; background-color:rgb(0, 0, 0)\">z</span><span style=\"font-size:18px; color:'white'; background-color:rgb(206, 0, 0)\">e</span><span style=\"font-size:18px; color:'white'; background-color:rgb(0, 0, 0)\">n</span><span style=\"font-size:18px; color:'white'; background-color:rgb(40, 0, 0)\">c</span><span style=\"font-size:18px; color:'white'; background-color:rgb(16, 0, 0)\">-</span><span style=\"font-size:18px; color:'white'; background-color:rgb(0, 0, 0)\">d</span><span style=\"font-size:18px; color:'white'; background-color:rgb(22, 0, 0)\">'</span><span style=\"font-size:18px; color:'white'; background-color:rgb(51, 0, 0)\">a</span><span style=\"font-size:18px; color:'white'; background-color:rgb(0, 0, 0)\">p</span><span style=\"font-size:18px; color:'white'; background-color:rgb(45, 0, 0)\">c</span><span style=\"font-size:18px; color:'white'; background-color:rgb(31, 0, 0)\">h</span><span style=\"font-size:18px; color:'white'; background-color:rgb(35, 0, 0)\">e</span><span style=\"font-size:18px; color:'white'; background-color:rgb(23, 0, 0)\">r</span>"
      ],
      "text/plain": [
       "<IPython.core.display.HTML object>"
      ]
     },
     "metadata": {},
     "output_type": "display_data"
    },
    {
     "data": {
      "text/html": [
       "<span style=\"font-size:18px; color:'white'; background-color:rgb(0, 0, 0)\">a</span><span style=\"font-size:18px; color:'white'; background-color:rgb(17, 0, 0)\">r</span><span style=\"font-size:18px; color:'white'; background-color:rgb(0, 0, 0)\">z</span><span style=\"font-size:18px; color:'white'; background-color:rgb(206, 0, 0)\">a</span><span style=\"font-size:18px; color:'white'; background-color:rgb(11, 0, 0)\">y</span>"
      ],
      "text/plain": [
       "<IPython.core.display.HTML object>"
      ]
     },
     "metadata": {},
     "output_type": "display_data"
    },
    {
     "data": {
      "text/html": [
       "<span style=\"font-size:18px; color:'white'; background-color:rgb(0, 0, 0)\">a</span><span style=\"font-size:18px; color:'white'; background-color:rgb(17, 0, 0)\">r</span><span style=\"font-size:18px; color:'white'; background-color:rgb(0, 0, 0)\">z</span><span style=\"font-size:18px; color:'white'; background-color:rgb(206, 0, 0)\">i</span><span style=\"font-size:18px; color:'white'; background-color:rgb(86, 0, 0)\">l</span><span style=\"font-size:18px; color:'white'; background-color:rgb(66, 0, 0)\">l</span><span style=\"font-size:18px; color:'white'; background-color:rgb(71, 0, 0)\">i</span><span style=\"font-size:18px; color:'white'; background-color:rgb(57, 0, 0)\">è</span><span style=\"font-size:18px; color:'white'; background-color:rgb(0, 0, 0)\">r</span><span style=\"font-size:18px; color:'white'; background-color:rgb(42, 0, 0)\">e</span><span style=\"font-size:18px; color:'white'; background-color:rgb(24, 0, 0)\">s</span><span style=\"font-size:18px; color:'white'; background-color:rgb(103, 0, 0)\">-</span><span style=\"font-size:18px; color:'white'; background-color:rgb(0, 0, 0)\">n</span><span style=\"font-size:18px; color:'white'; background-color:rgb(59, 0, 0)\">e</span><span style=\"font-size:18px; color:'white'; background-color:rgb(0, 0, 0)\">u</span><span style=\"font-size:18px; color:'white'; background-color:rgb(55, 0, 0)\">v</span><span style=\"font-size:18px; color:'white'; background-color:rgb(10, 0, 0)\">i</span><span style=\"font-size:18px; color:'white'; background-color:rgb(26, 0, 0)\">l</span><span style=\"font-size:18px; color:'white'; background-color:rgb(47, 0, 0)\">l</span><span style=\"font-size:18px; color:'white'; background-color:rgb(46, 0, 0)\">e</span>"
      ],
      "text/plain": [
       "<IPython.core.display.HTML object>"
      ]
     },
     "metadata": {},
     "output_type": "display_data"
    },
    {
     "data": {
      "text/html": [
       "<span style=\"font-size:18px; color:'white'; background-color:rgb(0, 0, 0)\">a</span><span style=\"font-size:18px; color:'white'; background-color:rgb(17, 0, 0)\">r</span><span style=\"font-size:18px; color:'white'; background-color:rgb(0, 0, 0)\">z</span><span style=\"font-size:18px; color:'white'; background-color:rgb(206, 0, 0)\">a</span><span style=\"font-size:18px; color:'white'; background-color:rgb(11, 0, 0)\">c</span><span style=\"font-size:18px; color:'white'; background-color:rgb(73, 0, 0)\">q</span><span style=\"font-size:18px; color:'white'; background-color:rgb(0, 0, 0)\">-</span><span style=\"font-size:18px; color:'white'; background-color:rgb(0, 0, 0)\">a</span><span style=\"font-size:18px; color:'white'; background-color:rgb(0, 0, 0)\">r</span><span style=\"font-size:18px; color:'white'; background-color:rgb(0, 0, 0)\">r</span><span style=\"font-size:18px; color:'white'; background-color:rgb(98, 0, 0)\">a</span><span style=\"font-size:18px; color:'white'; background-color:rgb(59, 0, 0)\">z</span><span style=\"font-size:18px; color:'white'; background-color:rgb(180, 0, 0)\">i</span><span style=\"font-size:18px; color:'white'; background-color:rgb(50, 0, 0)\">g</span><span style=\"font-size:18px; color:'white'; background-color:rgb(38, 0, 0)\">u</span><span style=\"font-size:18px; color:'white'; background-color:rgb(39, 0, 0)\">e</span><span style=\"font-size:18px; color:'white'; background-color:rgb(0, 0, 0)\">t</span>"
      ],
      "text/plain": [
       "<IPython.core.display.HTML object>"
      ]
     },
     "metadata": {},
     "output_type": "display_data"
    },
    {
     "data": {
      "text/html": [
       "<span style=\"font-size:18px; color:'white'; background-color:rgb(0, 0, 0)\">a</span><span style=\"font-size:18px; color:'white'; background-color:rgb(17, 0, 0)\">r</span><span style=\"font-size:18px; color:'white'; background-color:rgb(0, 0, 0)\">z</span><span style=\"font-size:18px; color:'white'; background-color:rgb(206, 0, 0)\">a</span><span style=\"font-size:18px; color:'white'; background-color:rgb(11, 0, 0)\">n</span><span style=\"font-size:18px; color:'white'; background-color:rgb(69, 0, 0)\">o</span>"
      ],
      "text/plain": [
       "<IPython.core.display.HTML object>"
      ]
     },
     "metadata": {},
     "output_type": "display_data"
    },
    {
     "data": {
      "text/html": [
       "<span style=\"font-size:18px; color:'white'; background-color:rgb(0, 0, 0)\">a</span><span style=\"font-size:18px; color:'white'; background-color:rgb(17, 0, 0)\">r</span><span style=\"font-size:18px; color:'white'; background-color:rgb(0, 0, 0)\">z</span><span style=\"font-size:18px; color:'white'; background-color:rgb(206, 0, 0)\">e</span><span style=\"font-size:18px; color:'white'; background-color:rgb(0, 0, 0)\">m</span><span style=\"font-size:18px; color:'white'; background-color:rgb(60, 0, 0)\">b</span><span style=\"font-size:18px; color:'white'; background-color:rgb(12, 0, 0)\">o</span><span style=\"font-size:18px; color:'white'; background-color:rgb(1, 0, 0)\">u</span><span style=\"font-size:18px; color:'white'; background-color:rgb(1, 0, 0)\">y</span>"
      ],
      "text/plain": [
       "<IPython.core.display.HTML object>"
      ]
     },
     "metadata": {},
     "output_type": "display_data"
    },
    {
     "data": {
      "text/html": [
       "<span style=\"font-size:18px; color:'white'; background-color:rgb(0, 0, 0)\">m</span><span style=\"font-size:18px; color:'white'; background-color:rgb(98, 0, 0)\">a</span><span style=\"font-size:18px; color:'white'; background-color:rgb(0, 0, 0)\">r</span><span style=\"font-size:18px; color:'white'; background-color:rgb(34, 0, 0)\">a</span><span style=\"font-size:18px; color:'white'; background-color:rgb(20, 0, 0)\">n</span><span style=\"font-size:18px; color:'white'; background-color:rgb(64, 0, 0)\">g</span><span style=\"font-size:18px; color:'white'; background-color:rgb(57, 0, 0)\">e</span><span style=\"font-size:18px; color:'white'; background-color:rgb(3, 0, 0)\">-</span><span style=\"font-size:18px; color:'white'; background-color:rgb(0, 0, 0)\">z</span><span style=\"font-size:18px; color:'white'; background-color:rgb(205, 0, 0)\">o</span><span style=\"font-size:18px; color:'white'; background-color:rgb(0, 0, 0)\">n</span><span style=\"font-size:18px; color:'white'; background-color:rgb(45, 0, 0)\">d</span><span style=\"font-size:18px; color:'white'; background-color:rgb(44, 0, 0)\">r</span><span style=\"font-size:18px; color:'white'; background-color:rgb(85, 0, 0)\">a</span><span style=\"font-size:18px; color:'white'; background-color:rgb(42, 0, 0)\">n</span><span style=\"font-size:18px; color:'white'; background-color:rgb(63, 0, 0)\">g</span><span style=\"font-size:18px; color:'white'; background-color:rgb(51, 0, 0)\">e</span>"
      ],
      "text/plain": [
       "<IPython.core.display.HTML object>"
      ]
     },
     "metadata": {},
     "output_type": "display_data"
    },
    {
     "data": {
      "text/html": [
       "<span style=\"font-size:18px; color:'white'; background-color:rgb(0, 0, 0)\">s</span><span style=\"font-size:18px; color:'white'; background-color:rgb(48, 0, 0)\">a</span><span style=\"font-size:18px; color:'white'; background-color:rgb(5, 0, 0)\">i</span><span style=\"font-size:18px; color:'white'; background-color:rgb(35, 0, 0)\">n</span><span style=\"font-size:18px; color:'white'; background-color:rgb(13, 0, 0)\">t</span><span style=\"font-size:18px; color:'white'; background-color:rgb(88, 0, 0)\">-</span><span style=\"font-size:18px; color:'white'; background-color:rgb(0, 0, 0)\">d</span><span style=\"font-size:18px; color:'white'; background-color:rgb(33, 0, 0)\">é</span><span style=\"font-size:18px; color:'white'; background-color:rgb(91, 0, 0)\">z</span><span style=\"font-size:18px; color:'white'; background-color:rgb(202, 0, 0)\">é</span><span style=\"font-size:18px; color:'white'; background-color:rgb(95, 0, 0)\">r</span><span style=\"font-size:18px; color:'white'; background-color:rgb(107, 0, 0)\">y</span>"
      ],
      "text/plain": [
       "<IPython.core.display.HTML object>"
      ]
     },
     "metadata": {},
     "output_type": "display_data"
    },
    {
     "data": {
      "text/html": [
       "<span style=\"font-size:18px; color:'white'; background-color:rgb(0, 0, 0)\">j</span><span style=\"font-size:18px; color:'white'; background-color:rgb(22, 0, 0)\">u</span><span style=\"font-size:18px; color:'white'; background-color:rgb(63, 0, 0)\">g</span><span style=\"font-size:18px; color:'white'; background-color:rgb(54, 0, 0)\">e</span><span style=\"font-size:18px; color:'white'; background-color:rgb(0, 0, 0)\">a</span><span style=\"font-size:18px; color:'white'; background-color:rgb(3, 0, 0)\">l</span><span style=\"font-size:18px; color:'white'; background-color:rgb(134, 0, 0)\">s</span><span style=\"font-size:18px; color:'white'; background-color:rgb(31, 0, 0)\">-</span><span style=\"font-size:18px; color:'white'; background-color:rgb(0, 0, 0)\">n</span><span style=\"font-size:18px; color:'white'; background-color:rgb(77, 0, 0)\">a</span><span style=\"font-size:18px; color:'white'; background-color:rgb(38, 0, 0)\">z</span><span style=\"font-size:18px; color:'white'; background-color:rgb(201, 0, 0)\">a</span><span style=\"font-size:18px; color:'white'; background-color:rgb(8, 0, 0)\">r</span><span style=\"font-size:18px; color:'white'; background-color:rgb(36, 0, 0)\">e</span><span style=\"font-size:18px; color:'white'; background-color:rgb(15, 0, 0)\">t</span><span style=\"font-size:18px; color:'white'; background-color:rgb(46, 0, 0)\">h</span>"
      ],
      "text/plain": [
       "<IPython.core.display.HTML object>"
      ]
     },
     "metadata": {},
     "output_type": "display_data"
    },
    {
     "data": {
      "text/html": [
       "<span style=\"font-size:18px; color:'white'; background-color:rgb(0, 0, 0)\">s</span><span style=\"font-size:18px; color:'white'; background-color:rgb(48, 0, 0)\">a</span><span style=\"font-size:18px; color:'white'; background-color:rgb(5, 0, 0)\">i</span><span style=\"font-size:18px; color:'white'; background-color:rgb(35, 0, 0)\">n</span><span style=\"font-size:18px; color:'white'; background-color:rgb(13, 0, 0)\">t</span><span style=\"font-size:18px; color:'white'; background-color:rgb(88, 0, 0)\">-</span><span style=\"font-size:18px; color:'white'; background-color:rgb(0, 0, 0)\">l</span><span style=\"font-size:18px; color:'white'; background-color:rgb(64, 0, 0)\">é</span><span style=\"font-size:18px; color:'white'; background-color:rgb(124, 0, 0)\">z</span><span style=\"font-size:18px; color:'white'; background-color:rgb(201, 0, 0)\">i</span><span style=\"font-size:18px; color:'white'; background-color:rgb(59, 0, 0)\">n</span>"
      ],
      "text/plain": [
       "<IPython.core.display.HTML object>"
      ]
     },
     "metadata": {},
     "output_type": "display_data"
    },
    {
     "data": {
      "text/html": [
       "<span style=\"font-size:18px; color:'white'; background-color:rgb(0, 0, 0)\">s</span><span style=\"font-size:18px; color:'white'; background-color:rgb(48, 0, 0)\">a</span><span style=\"font-size:18px; color:'white'; background-color:rgb(5, 0, 0)\">i</span><span style=\"font-size:18px; color:'white'; background-color:rgb(35, 0, 0)\">n</span><span style=\"font-size:18px; color:'white'; background-color:rgb(13, 0, 0)\">t</span><span style=\"font-size:18px; color:'white'; background-color:rgb(88, 0, 0)\">-</span><span style=\"font-size:18px; color:'white'; background-color:rgb(0, 0, 0)\">l</span><span style=\"font-size:18px; color:'white'; background-color:rgb(64, 0, 0)\">é</span><span style=\"font-size:18px; color:'white'; background-color:rgb(124, 0, 0)\">z</span><span style=\"font-size:18px; color:'white'; background-color:rgb(201, 0, 0)\">e</span><span style=\"font-size:18px; color:'white'; background-color:rgb(0, 0, 0)\">r</span>"
      ],
      "text/plain": [
       "<IPython.core.display.HTML object>"
      ]
     },
     "metadata": {},
     "output_type": "display_data"
    },
    {
     "data": {
      "text/html": [
       "<span style=\"font-size:18px; color:'white'; background-color:rgb(0, 0, 0)\">g</span><span style=\"font-size:18px; color:'white'; background-color:rgb(26, 0, 0)\">r</span><span style=\"font-size:18px; color:'white'; background-color:rgb(84, 0, 0)\">a</span><span style=\"font-size:18px; color:'white'; background-color:rgb(41, 0, 0)\">n</span><span style=\"font-size:18px; color:'white'; background-color:rgb(77, 0, 0)\">d</span><span style=\"font-size:18px; color:'white'; background-color:rgb(45, 0, 0)\">-</span><span style=\"font-size:18px; color:'white'; background-color:rgb(0, 0, 0)\">r</span><span style=\"font-size:18px; color:'white'; background-color:rgb(78, 0, 0)\">o</span><span style=\"font-size:18px; color:'white'; background-color:rgb(0, 0, 0)\">z</span><span style=\"font-size:18px; color:'white'; background-color:rgb(198, 0, 0)\">o</span><span style=\"font-size:18px; color:'white'; background-color:rgb(0, 0, 0)\">y</span>"
      ],
      "text/plain": [
       "<IPython.core.display.HTML object>"
      ]
     },
     "metadata": {},
     "output_type": "display_data"
    },
    {
     "data": {
      "text/html": [
       "<span style=\"font-size:18px; color:'white'; background-color:rgb(0, 0, 0)\">s</span><span style=\"font-size:18px; color:'white'; background-color:rgb(48, 0, 0)\">a</span><span style=\"font-size:18px; color:'white'; background-color:rgb(5, 0, 0)\">l</span><span style=\"font-size:18px; color:'white'; background-color:rgb(94, 0, 0)\">t</span><span style=\"font-size:18px; color:'white'; background-color:rgb(84, 0, 0)\">-</span><span style=\"font-size:18px; color:'white'; background-color:rgb(0, 0, 0)\">e</span><span style=\"font-size:18px; color:'white'; background-color:rgb(1, 0, 0)\">n</span><span style=\"font-size:18px; color:'white'; background-color:rgb(79, 0, 0)\">-</span><span style=\"font-size:18px; color:'white'; background-color:rgb(0, 0, 0)\">d</span><span style=\"font-size:18px; color:'white'; background-color:rgb(22, 0, 0)\">o</span><span style=\"font-size:18px; color:'white'; background-color:rgb(0, 0, 0)\">n</span><span style=\"font-size:18px; color:'white'; background-color:rgb(73, 0, 0)\">z</span><span style=\"font-size:18px; color:'white'; background-color:rgb(198, 0, 0)\">y</span>"
      ],
      "text/plain": [
       "<IPython.core.display.HTML object>"
      ]
     },
     "metadata": {},
     "output_type": "display_data"
    },
    {
     "data": {
      "text/html": [
       "<span style=\"font-size:18px; color:'white'; background-color:rgb(0, 0, 0)\">r</span><span style=\"font-size:18px; color:'white'; background-color:rgb(68, 0, 0)\">a</span><span style=\"font-size:18px; color:'white'; background-color:rgb(20, 0, 0)\">n</span><span style=\"font-size:18px; color:'white'; background-color:rgb(64, 0, 0)\">z</span><span style=\"font-size:18px; color:'white'; background-color:rgb(198, 0, 0)\">e</span><span style=\"font-size:18px; color:'white'; background-color:rgb(0, 0, 0)\">v</span><span style=\"font-size:18px; color:'white'; background-color:rgb(27, 0, 0)\">e</span><span style=\"font-size:18px; color:'white'; background-color:rgb(15, 0, 0)\">l</span><span style=\"font-size:18px; color:'white'; background-color:rgb(91, 0, 0)\">l</span><span style=\"font-size:18px; color:'white'; background-color:rgb(88, 0, 0)\">e</span>"
      ],
      "text/plain": [
       "<IPython.core.display.HTML object>"
      ]
     },
     "metadata": {},
     "output_type": "display_data"
    },
    {
     "data": {
      "text/html": [
       "<span style=\"font-size:18px; color:'white'; background-color:rgb(0, 0, 0)\">r</span><span style=\"font-size:18px; color:'white'; background-color:rgb(68, 0, 0)\">a</span><span style=\"font-size:18px; color:'white'; background-color:rgb(20, 0, 0)\">n</span><span style=\"font-size:18px; color:'white'; background-color:rgb(64, 0, 0)\">z</span><span style=\"font-size:18px; color:'white'; background-color:rgb(198, 0, 0)\">i</span><span style=\"font-size:18px; color:'white'; background-color:rgb(65, 0, 0)\">è</span><span style=\"font-size:18px; color:'white'; background-color:rgb(0, 0, 0)\">r</span><span style=\"font-size:18px; color:'white'; background-color:rgb(48, 0, 0)\">e</span><span style=\"font-size:18px; color:'white'; background-color:rgb(36, 0, 0)\">s</span>"
      ],
      "text/plain": [
       "<IPython.core.display.HTML object>"
      ]
     },
     "metadata": {},
     "output_type": "display_data"
    }
   ],
   "source": [
    "idx_feature = 29\n",
    "for i in top_indices_sae[idx_feature]:\n",
    "    data_i = dataset.X_train[i.item()]\n",
    "    city_name = dataset.to_string(data_i.tolist())\n",
    "    ville = \"\".join([dataset.int_to_char[k] for k in [p.item() for p in dataset.X_train[i.item()] if p.item() != 0] if k != 1 and k != 2])\n",
    "    hidden_acts_transfo = model(data_i.unsqueeze(0), act=True) # (B, S, n_features)\n",
    "    _, _, features, _, _ = sae(hidden_acts_transfo)\n",
    "\n",
    "    print_colore(city_name, features[0, :, idx_feature].tolist()[:len(city_name)])"
   ]
  },
  {
   "cell_type": "markdown",
   "metadata": {},
   "source": [
    "### Modifier le comportement en le dirigeant"
   ]
  },
  {
   "cell_type": "markdown",
   "metadata": {},
   "source": [
    "récupération des min et max des activations de chaque caractéristique dans le SAE."
   ]
  },
  {
   "cell_type": "code",
   "execution_count": null,
   "metadata": {},
   "outputs": [],
   "source": [
    "batch_size = 32 # on travaille par paquet de 64\n",
    "\n",
    "model.eval();\n",
    "sae.eval();\n",
    "\n",
    "min_values_sae = torch.full((sae.num_features, 1), +float('inf'))\n",
    "max_values_sae = torch.full((sae.num_features, 1), -float('inf'))\n",
    "\n",
    "#Pour chaque élément du jeu de données d'entrainement\n",
    "for i in trange(0, dataset.X_train.shape[0], batch_size):\n",
    "    # par lot\n",
    "    x = dataset.X_train[i:i+batch_size]\n",
    "    # récupération des activations cachées du Transformer\n",
    "    hidden_acts_transfo = model(x, act=True) # (B, S, d_model)\n",
    "    # récupération des activations de caractéristiques (features) correspondant\n",
    "    _, _, features, _, _ = sae(hidden_acts_transfo) # (B, S, n_features)\n",
    "    \n",
    "    features = features.to(\"cpu\")\n",
    "\n",
    "    min_features, _ = features.min(dim=0)\n",
    "    min_features, _ = min_features.min(dim=0)\n",
    "    min_values_sae = torch.min(min_values_sae, min_features)\n",
    "\n",
    "    max_features, _ = features.max(dim=0)\n",
    "    max_features, _ = max_features.max(dim=0)\n",
    "    max_values_sae = torch.max(max_values_sae, max_features)"
   ]
  },
  {
   "cell_type": "code",
   "execution_count": null,
   "metadata": {},
   "outputs": [],
   "source": [
    "print()"
   ]
  },
  {
   "cell_type": "markdown",
   "metadata": {},
   "source": [
    "explications et descriptions"
   ]
  },
  {
   "cell_type": "code",
   "execution_count": 38,
   "metadata": {},
   "outputs": [],
   "source": [
    "def steered_sample(model, sae, prompt = \"\", g = torch.Generator(), steering_vector=None, device=\"cpu\"):\n",
    "    \"\"\"\n",
    "    \"\"\"\n",
    "    idx = torch.tensor([dataset.char_to_int[c] for c in prompt], dtype=torch.int32, device=device).unsqueeze(0)\n",
    "    idx = torch.cat([torch.tensor(dataset.char_to_int[SOS], device=device).view(1, 1), idx], dim=1)\n",
    "    next_id = -1\n",
    "\n",
    "    while next_id != dataset.char_to_int[EOS]:\n",
    "        act = model(idx, act=True) # (1, l, d_model)\n",
    "\n",
    "        # SAE\n",
    "        features = sae.encode(act) # (1, l, num_features)\n",
    "        act_reconstruct_1 = sae.decode(features) # (1, l, d_model) # reconstruction sans modification\n",
    "\n",
    "        features[:, :, steering_vector[0].long()] = steering_vector[1].float() # forçage des concepts sur toutes les lettres\n",
    "        act_reconstruct_2 = sae.decode(features) # reconstruction avec modification\n",
    "\n",
    "        error = act - act_reconstruct_1\n",
    "        final_act = act_reconstruct_2 + error\n",
    "\n",
    "        x = model.out_norm(final_act)\n",
    "        logits = model.lm_head(x)\n",
    "\n",
    "        probs = F.softmax(logits[:, -1, :], dim=-1)\n",
    "        next_id = torch.multinomial(probs, num_samples=1, generator=g).item()\n",
    "        idx = torch.cat([idx, torch.tensor(next_id, device=device).view(1, 1)], dim=1)\n",
    "\n",
    "        if idx.shape[1] > config.max_len:\n",
    "            break\n",
    "        \n",
    "    return \"\".join([dataset.int_to_char[p.item()] for p in idx[0, 1:-1]])"
   ]
  },
  {
   "cell_type": "code",
   "execution_count": 43,
   "metadata": {},
   "outputs": [
    {
     "name": "stdout",
     "output_type": "stream",
     "text": [
      "sisaiiei-en-vieis\n",
      "roimaiiejacouis\n",
      "noise-saiiir-ege-en-meier\n",
      "sainte-ozaine-eigaisesses-e\n",
      "libiei-en-aigerieu-vaille\n",
      "sèz-en\n",
      "vei-seine-vaiie-baiieis-ieiiieieeiiieiaieiei\n",
      "cous-eineine-viei-iegorie\n",
      "seinsaiiiee\n",
      "saint-ienvie\n",
      "feilie-eneure\n",
      "astiou-des-toigle-amaige\n",
      "sainiee\n",
      "ceaieix-susèemoni\n",
      "seiérey-en-besieis-einier-s-e\n"
     ]
    }
   ],
   "source": [
    "steering_vector = torch.tensor([[29, 1]], dtype=int, device=device)\n",
    "\n",
    "for i in range(15):\n",
    "    print(steered_sample(model, sae, steering_vector=steering_vector.mT, prompt=\"\", device=device, g=pth_rnd_gen))"
   ]
  },
  {
   "cell_type": "code",
   "execution_count": null,
   "metadata": {},
   "outputs": [],
   "source": []
  }
 ],
 "metadata": {
  "kernelspec": {
   "display_name": "Python 3 (ipykernel)",
   "language": "python",
   "name": "python3"
  },
  "language_info": {
   "codemirror_mode": {
    "name": "ipython",
    "version": 3
   },
   "file_extension": ".py",
   "mimetype": "text/x-python",
   "name": "python",
   "nbconvert_exporter": "python",
   "pygments_lexer": "ipython3",
   "version": "3.11.10"
  }
 },
 "nbformat": 4,
 "nbformat_minor": 2
}
