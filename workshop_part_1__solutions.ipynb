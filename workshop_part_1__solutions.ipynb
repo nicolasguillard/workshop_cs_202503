{
 "cells": [
  {
   "cell_type": "markdown",
   "metadata": {},
   "source": [
    "# Workshop Automatants @ CentraleSupélec - CeSIA - Partie 1\n",
    "\n",
    "- Création : 02/2025 par [Nicolas Guillard](mailto:nicolas.guillar@securite-ia.fr) - bénévole au [CeSIA](https://www.securite-ia.fr/).\n",
    "- Dernière mise à jour : 05/03/2025\n",
    "\n",
    "Créé en adaptant et complétant le projet [Générer des noms de villes et communes françaises](https://github.com/alxndrTL/villes) par [Alexandre TL](https://www.youtube.com/@alexandretl)\n"
   ]
  },
  {
   "cell_type": "markdown",
   "metadata": {},
   "source": [
    "## Présentation du sujet et Plan"
   ]
  },
  {
   "cell_type": "markdown",
   "metadata": {},
   "source": [
    "## Indications"
   ]
  },
  {
   "cell_type": "markdown",
   "metadata": {},
   "source": [
    "Les éléments de ce TP :\n",
    "- le présent carnet,\n",
    "  \n",
    "(et ceux qui seront installés grâce au script `Installation de l'environnement de travail`),\n",
    "- le répertoire `./utils` et les fichiers contenus,\n",
    "- le répertoire `./weights` contenant les poids des modèles utiles et ceux produits,\n",
    "- le répertoire `./images` contenant les illustrations des carnets,\n",
    "- le fichier de données `./villes.txt`."
   ]
  },
  {
   "cell_type": "markdown",
   "metadata": {},
   "source": [
    "## Installation de l'environnement de travail"
   ]
  },
  {
   "cell_type": "markdown",
   "metadata": {},
   "source": [
    "Le script ci-dessous est destiné à installer les éléments nécessaires au fonctionnement de ce carnet."
   ]
  },
  {
   "cell_type": "code",
   "execution_count": 1,
   "metadata": {},
   "outputs": [
    {
     "name": "stdout",
     "output_type": "stream",
     "text": [
      "Il semble que des ressources nécessaires pour ce carnet soient déjà installés :\n",
      "\t ./utils présent\n",
      "\t ./weights présent\n",
      "\t ./images présent\n",
      "\t ./villes.txt présent\n",
      "Pour supprimer les ressources automatiquement installées, utilisez la fonction 'remove_resources()' dans un autre bloc de code.\n"
     ]
    }
   ],
   "source": [
    "import sys\n",
    "from pathlib import Path\n",
    "\n",
    "IN_COLAB = \"google.colab\" in sys.modules\n",
    "\n",
    "repo = \"workshop_cs_202503\"\n",
    "branch = \"main\"\n",
    "url_repo = f\"https://github.com/nicolasguillard/{repo}/archive/refs/heads/{branch}.zip\"\n",
    "target_dir = (\n",
    "  \"/content\"\n",
    "  if IN_COLAB\n",
    "  else \".\"\n",
    ")\n",
    "resources = [\"utils\", \"weights\", \"images\", \"villes.txt\"]\n",
    "\n",
    "if not Path(f\"{target_dir}/utils\").exists() :\n",
    "  print(\"=== Installation des ressources utiles à ce carnet ===\")\n",
    "  !wget -P {target_dir} {url_repo}\n",
    "  !unzip {target_dir}/{branch}.zip -d {target_dir}\n",
    "  for resource in resources:\n",
    "    !mv {target_dir}/{repo}-{branch}/{resource} {target_dir}/{resource}\n",
    "  !rm -rf {target_dir}/{repo}-{branch}\n",
    "  !rm -f {target_dir}/{branch}.zip\n",
    "  print(\"=== Terminé ===\")\n",
    "\n",
    "  if IN_COLAB:\n",
    "    print(\"--- Rafraichissez au besoin la liste des fichiers à gauche si nécessaire ---\")\n",
    "else:\n",
    "  print(\"Il semble que des ressources nécessaires pour ce carnet soient déjà installés :\")\n",
    "  for resource in resources:\n",
    "    print(\"\\t\", f\"./{resource}\", \"présent\" if Path(f\"{target_dir}/{resource}\").exists else \"absent\")\n",
    "  print(\"Pour supprimer les ressources automatiquement installées, utilisez la fonction 'remove_resources()' dans un autre bloc de code.\")\n",
    "\n",
    "def remove_resources():\n",
    "  !rm -rf {target_dir}/{repo}-{branch}\n",
    "  for resource in resources:\n",
    "    !rm -rf {target_dir}/{resource}"
   ]
  },
  {
   "cell_type": "markdown",
   "metadata": {},
   "source": [
    "## Les modules et paramétrages globaux"
   ]
  },
  {
   "cell_type": "markdown",
   "metadata": {},
   "source": [
    "Tous les modules nécessaires sont importés. A moins d'un besoin spécifique, il n'y aura pas besoin de modifier le bloc de code suivant."
   ]
  },
  {
   "cell_type": "code",
   "execution_count": 2,
   "metadata": {},
   "outputs": [],
   "source": [
    "# Modules prédéfinis et tiers\n",
    "import random\n",
    "from collections import Counter\n",
    "from typing import Tuple\n",
    "\n",
    "import seaborn as sns\n",
    "import matplotlib.pyplot as plt\n",
    "import pandas as pd\n",
    "from tqdm.notebook import trange, tqdm\n",
    "import torch\n",
    "from torch.utils.data import Dataset\n",
    "from torch.utils.data import DataLoader"
   ]
  },
  {
   "cell_type": "markdown",
   "metadata": {},
   "source": [
    "### Device"
   ]
  },
  {
   "cell_type": "markdown",
   "metadata": {},
   "source": [
    "Sélection du GPU selon l'environnement de travail"
   ]
  },
  {
   "cell_type": "code",
   "execution_count": 3,
   "metadata": {},
   "outputs": [
    {
     "name": "stdout",
     "output_type": "stream",
     "text": [
      "Using mps device\n"
     ]
    }
   ],
   "source": [
    "device = (\n",
    "    \"cuda\"\n",
    "    if torch.cuda.is_available()\n",
    "    else \"mps\"\n",
    "    if torch.backends.mps.is_available()\n",
    "    else \"cpu\"\n",
    ")\n",
    "print(f\"Using {device} device\")"
   ]
  },
  {
   "cell_type": "markdown",
   "metadata": {},
   "source": [
    "### Paramétrages"
   ]
  },
  {
   "cell_type": "code",
   "execution_count": 4,
   "metadata": {},
   "outputs": [],
   "source": [
    "# Retirer la limite du nombre maximal de lignes affichées dans un tableau pandas\n",
    "pd.set_option('display.max_rows', None) "
   ]
  },
  {
   "cell_type": "code",
   "execution_count": 5,
   "metadata": {},
   "outputs": [],
   "source": [
    "# Configurer le thème de seaborn\n",
    "sns.set_theme(style=\"whitegrid\")"
   ]
  },
  {
   "cell_type": "code",
   "execution_count": 6,
   "metadata": {},
   "outputs": [],
   "source": [
    "# Paramétrer les graines aléatoires\n",
    "#pth_rnd_gen_device = torch.Generator(device).manual_seed(42)\n",
    "if device == \"cuda\":\n",
    "    pth_rnd_gen_device = torch.cuda.manual_seed(42)\n",
    "elif device == \"mps\":\n",
    "    pth_rnd_gen_device = torch.mps.manual_seed(42)\n",
    "pth_rnd_gen_cpu = torch.manual_seed(42)\n",
    "pth_rnd_gen = pth_rnd_gen_cpu if device == \"cpu\" else pth_rnd_gen_device"
   ]
  },
  {
   "cell_type": "markdown",
   "metadata": {},
   "source": [
    "## Exploration des données\n",
    "\n",
    "Exécuter les différents blocs de code successivement afin de découvrir le jeu de données et son traitement destiné à produire les séquences pour le modèle de langgue basé sur un Transformer.\n",
    "\n",
    "Certains constats vous permettront d'apprécier les résultats obtenus dans les parties suivantes, en connaissant la référence \"vérité terrain\".\n",
    "\n",
    "Le jeu de données contient 36583 noms de communes françaises."
   ]
  },
  {
   "cell_type": "code",
   "execution_count": 7,
   "metadata": {},
   "outputs": [
    {
     "data": {
      "text/html": [
       "<div>\n",
       "<style scoped>\n",
       "    .dataframe tbody tr th:only-of-type {\n",
       "        vertical-align: middle;\n",
       "    }\n",
       "\n",
       "    .dataframe tbody tr th {\n",
       "        vertical-align: top;\n",
       "    }\n",
       "\n",
       "    .dataframe thead th {\n",
       "        text-align: right;\n",
       "    }\n",
       "</style>\n",
       "<table border=\"1\" class=\"dataframe\">\n",
       "  <thead>\n",
       "    <tr style=\"text-align: right;\">\n",
       "      <th></th>\n",
       "      <th>nom</th>\n",
       "    </tr>\n",
       "  </thead>\n",
       "  <tbody>\n",
       "    <tr>\n",
       "      <th>0</th>\n",
       "      <td>arbignieu</td>\n",
       "    </tr>\n",
       "    <tr>\n",
       "      <th>1</th>\n",
       "      <td>mouilleron</td>\n",
       "    </tr>\n",
       "    <tr>\n",
       "      <th>2</th>\n",
       "      <td>tsingoni</td>\n",
       "    </tr>\n",
       "    <tr>\n",
       "      <th>3</th>\n",
       "      <td>upaix</td>\n",
       "    </tr>\n",
       "    <tr>\n",
       "      <th>4</th>\n",
       "      <td>margès</td>\n",
       "    </tr>\n",
       "    <tr>\n",
       "      <th>5</th>\n",
       "      <td>reutenbourg</td>\n",
       "    </tr>\n",
       "    <tr>\n",
       "      <th>6</th>\n",
       "      <td>prades-salars</td>\n",
       "    </tr>\n",
       "    <tr>\n",
       "      <th>7</th>\n",
       "      <td>rouffignac-de-sigoulès</td>\n",
       "    </tr>\n",
       "    <tr>\n",
       "      <th>8</th>\n",
       "      <td>andelarre</td>\n",
       "    </tr>\n",
       "    <tr>\n",
       "      <th>9</th>\n",
       "      <td>montrouveau</td>\n",
       "    </tr>\n",
       "    <tr>\n",
       "      <th>10</th>\n",
       "      <td>curchy</td>\n",
       "    </tr>\n",
       "    <tr>\n",
       "      <th>11</th>\n",
       "      <td>gréolières</td>\n",
       "    </tr>\n",
       "    <tr>\n",
       "      <th>12</th>\n",
       "      <td>reims</td>\n",
       "    </tr>\n",
       "    <tr>\n",
       "      <th>13</th>\n",
       "      <td>florentia</td>\n",
       "    </tr>\n",
       "    <tr>\n",
       "      <th>14</th>\n",
       "      <td>grandfontaine</td>\n",
       "    </tr>\n",
       "    <tr>\n",
       "      <th>15</th>\n",
       "      <td>esclainvillers</td>\n",
       "    </tr>\n",
       "    <tr>\n",
       "      <th>16</th>\n",
       "      <td>vraux</td>\n",
       "    </tr>\n",
       "    <tr>\n",
       "      <th>17</th>\n",
       "      <td>knutange</td>\n",
       "    </tr>\n",
       "    <tr>\n",
       "      <th>18</th>\n",
       "      <td>allan</td>\n",
       "    </tr>\n",
       "    <tr>\n",
       "      <th>19</th>\n",
       "      <td>oltingue</td>\n",
       "    </tr>\n",
       "  </tbody>\n",
       "</table>\n",
       "</div>"
      ],
      "text/plain": [
       "                       nom\n",
       "0                arbignieu\n",
       "1               mouilleron\n",
       "2                 tsingoni\n",
       "3                    upaix\n",
       "4                   margès\n",
       "5              reutenbourg\n",
       "6            prades-salars\n",
       "7   rouffignac-de-sigoulès\n",
       "8                andelarre\n",
       "9              montrouveau\n",
       "10                  curchy\n",
       "11              gréolières\n",
       "12                   reims\n",
       "13               florentia\n",
       "14           grandfontaine\n",
       "15          esclainvillers\n",
       "16                   vraux\n",
       "17                knutange\n",
       "18                   allan\n",
       "19                oltingue"
      ]
     },
     "metadata": {},
     "output_type": "display_data"
    }
   ],
   "source": [
    "df = pd.read_table(\"./villes.txt\", header=None, names=[\"nom\"])\n",
    "display(df.head(20))"
   ]
  },
  {
   "cell_type": "markdown",
   "metadata": {},
   "source": [
    "Affichons les premières informations structurelles :"
   ]
  },
  {
   "cell_type": "code",
   "execution_count": 8,
   "metadata": {},
   "outputs": [
    {
     "name": "stdout",
     "output_type": "stream",
     "text": [
      "<class 'pandas.core.frame.DataFrame'>\n",
      "RangeIndex: 36583 entries, 0 to 36582\n",
      "Data columns (total 1 columns):\n",
      " #   Column  Non-Null Count  Dtype \n",
      "---  ------  --------------  ----- \n",
      " 0   nom     36583 non-null  object\n",
      "dtypes: object(1)\n",
      "memory usage: 285.9+ KB\n"
     ]
    }
   ],
   "source": [
    "df.info()"
   ]
  },
  {
   "cell_type": "markdown",
   "metadata": {},
   "source": [
    "### Quelques statistiques"
   ]
  },
  {
   "cell_type": "markdown",
   "metadata": {},
   "source": [
    "#### Distribution de la longueur des noms"
   ]
  },
  {
   "cell_type": "code",
   "execution_count": 9,
   "metadata": {},
   "outputs": [
    {
     "data": {
      "image/png": "[encoded data removed]",
      "text/plain": [
       "<Figure size 1200x800 with 1 Axes>"
      ]
     },
     "metadata": {},
     "output_type": "display_data"
    }
   ],
   "source": [
    "# Calculer la longueur des chaînes de caractères dans la colonne \"nom\"\n",
    "df['length'] = df['nom'].apply(len)\n",
    "\n",
    "# Afficher la distribution de la longueur des chaînes de caractères\n",
    "length_distribution = df['length'].value_counts().sort_index()\n",
    "#print(length_distribution)\n",
    "\n",
    "# Afficher la distribution sous forme d'un histogramme\n",
    "plt.figure(figsize=(12, 8))\n",
    "sns.barplot(x=length_distribution.index, y=length_distribution.values, hue=length_distribution.values, palette=\"coolwarm\")\n",
    "plt.xlabel('Longueur des chaînes de caractères')\n",
    "plt.ylabel('Fréquence')\n",
    "plt.title('Distribution de la longueur des chaînes de caractères')\n",
    "plt.show()"
   ]
  },
  {
   "cell_type": "code",
   "execution_count": 10,
   "metadata": {},
   "outputs": [
    {
     "data": {
      "text/plain": [
       "count    36583.00000\n",
       "mean        11.68551\n",
       "std          5.78169\n",
       "min          1.00000\n",
       "25%          7.00000\n",
       "50%         10.00000\n",
       "75%         16.00000\n",
       "max         45.00000\n",
       "Name: length, dtype: float64"
      ]
     },
     "execution_count": 10,
     "metadata": {},
     "output_type": "execute_result"
    }
   ],
   "source": [
    "df['length'].describe()"
   ]
  },
  {
   "cell_type": "markdown",
   "metadata": {},
   "source": [
    "#### Fréquences des caractères dans les noms"
   ]
  },
  {
   "cell_type": "code",
   "execution_count": 11,
   "metadata": {},
   "outputs": [
    {
     "name": "stdout",
     "output_type": "stream",
     "text": [
      "Nombre de caractères distincts : 43\n"
     ]
    },
    {
     "data": {
      "text/html": [
       "<div>\n",
       "<style scoped>\n",
       "    .dataframe tbody tr th:only-of-type {\n",
       "        vertical-align: middle;\n",
       "    }\n",
       "\n",
       "    .dataframe tbody tr th {\n",
       "        vertical-align: top;\n",
       "    }\n",
       "\n",
       "    .dataframe thead th {\n",
       "        text-align: right;\n",
       "    }\n",
       "</style>\n",
       "<table border=\"1\" class=\"dataframe\">\n",
       "  <thead>\n",
       "    <tr style=\"text-align: right;\">\n",
       "      <th></th>\n",
       "      <th>Caractère</th>\n",
       "      <th>Fréquence</th>\n",
       "      <th>Ratio Freq (%)</th>\n",
       "    </tr>\n",
       "  </thead>\n",
       "  <tbody>\n",
       "    <tr>\n",
       "      <th>6</th>\n",
       "      <td>e</td>\n",
       "      <td>46107</td>\n",
       "      <td>10.785490</td>\n",
       "    </tr>\n",
       "    <tr>\n",
       "      <th>0</th>\n",
       "      <td>a</td>\n",
       "      <td>37558</td>\n",
       "      <td>8.785682</td>\n",
       "    </tr>\n",
       "    <tr>\n",
       "      <th>5</th>\n",
       "      <td>n</td>\n",
       "      <td>32035</td>\n",
       "      <td>7.493725</td>\n",
       "    </tr>\n",
       "    <tr>\n",
       "      <th>10</th>\n",
       "      <td>l</td>\n",
       "      <td>30567</td>\n",
       "      <td>7.150326</td>\n",
       "    </tr>\n",
       "    <tr>\n",
       "      <th>12</th>\n",
       "      <td>s</td>\n",
       "      <td>30264</td>\n",
       "      <td>7.079447</td>\n",
       "    </tr>\n",
       "    <tr>\n",
       "      <th>1</th>\n",
       "      <td>r</td>\n",
       "      <td>30034</td>\n",
       "      <td>7.025645</td>\n",
       "    </tr>\n",
       "    <tr>\n",
       "      <th>3</th>\n",
       "      <td>i</td>\n",
       "      <td>28939</td>\n",
       "      <td>6.769499</td>\n",
       "    </tr>\n",
       "    <tr>\n",
       "      <th>17</th>\n",
       "      <td>-</td>\n",
       "      <td>26344</td>\n",
       "      <td>6.162469</td>\n",
       "    </tr>\n",
       "    <tr>\n",
       "      <th>9</th>\n",
       "      <td>o</td>\n",
       "      <td>22464</td>\n",
       "      <td>5.254847</td>\n",
       "    </tr>\n",
       "    <tr>\n",
       "      <th>7</th>\n",
       "      <td>u</td>\n",
       "      <td>21143</td>\n",
       "      <td>4.945835</td>\n",
       "    </tr>\n",
       "    <tr>\n",
       "      <th>11</th>\n",
       "      <td>t</td>\n",
       "      <td>20454</td>\n",
       "      <td>4.784662</td>\n",
       "    </tr>\n",
       "    <tr>\n",
       "      <th>19</th>\n",
       "      <td>c</td>\n",
       "      <td>13979</td>\n",
       "      <td>3.270010</td>\n",
       "    </tr>\n",
       "    <tr>\n",
       "      <th>8</th>\n",
       "      <td>m</td>\n",
       "      <td>11351</td>\n",
       "      <td>2.655261</td>\n",
       "    </tr>\n",
       "    <tr>\n",
       "      <th>4</th>\n",
       "      <td>g</td>\n",
       "      <td>8734</td>\n",
       "      <td>2.043084</td>\n",
       "    </tr>\n",
       "    <tr>\n",
       "      <th>20</th>\n",
       "      <td>v</td>\n",
       "      <td>8578</td>\n",
       "      <td>2.006592</td>\n",
       "    </tr>\n",
       "    <tr>\n",
       "      <th>2</th>\n",
       "      <td>b</td>\n",
       "      <td>8285</td>\n",
       "      <td>1.938052</td>\n",
       "    </tr>\n",
       "    <tr>\n",
       "      <th>16</th>\n",
       "      <td>d</td>\n",
       "      <td>7756</td>\n",
       "      <td>1.814307</td>\n",
       "    </tr>\n",
       "    <tr>\n",
       "      <th>21</th>\n",
       "      <td>h</td>\n",
       "      <td>7522</td>\n",
       "      <td>1.759569</td>\n",
       "    </tr>\n",
       "    <tr>\n",
       "      <th>22</th>\n",
       "      <td>y</td>\n",
       "      <td>6856</td>\n",
       "      <td>1.603776</td>\n",
       "    </tr>\n",
       "    <tr>\n",
       "      <th>13</th>\n",
       "      <td>p</td>\n",
       "      <td>5959</td>\n",
       "      <td>1.393947</td>\n",
       "    </tr>\n",
       "    <tr>\n",
       "      <th>23</th>\n",
       "      <td>é</td>\n",
       "      <td>5086</td>\n",
       "      <td>1.189733</td>\n",
       "    </tr>\n",
       "    <tr>\n",
       "      <th>18</th>\n",
       "      <td>f</td>\n",
       "      <td>3405</td>\n",
       "      <td>0.796508</td>\n",
       "    </tr>\n",
       "    <tr>\n",
       "      <th>26</th>\n",
       "      <td>z</td>\n",
       "      <td>2555</td>\n",
       "      <td>0.597673</td>\n",
       "    </tr>\n",
       "    <tr>\n",
       "      <th>15</th>\n",
       "      <td>è</td>\n",
       "      <td>2405</td>\n",
       "      <td>0.562585</td>\n",
       "    </tr>\n",
       "    <tr>\n",
       "      <th>14</th>\n",
       "      <td>x</td>\n",
       "      <td>2242</td>\n",
       "      <td>0.524455</td>\n",
       "    </tr>\n",
       "    <tr>\n",
       "      <th>25</th>\n",
       "      <td></td>\n",
       "      <td>1979</td>\n",
       "      <td>0.462934</td>\n",
       "    </tr>\n",
       "    <tr>\n",
       "      <th>35</th>\n",
       "      <td>j</td>\n",
       "      <td>1178</td>\n",
       "      <td>0.275561</td>\n",
       "    </tr>\n",
       "    <tr>\n",
       "      <th>29</th>\n",
       "      <td>q</td>\n",
       "      <td>1098</td>\n",
       "      <td>0.256848</td>\n",
       "    </tr>\n",
       "    <tr>\n",
       "      <th>28</th>\n",
       "      <td>'</td>\n",
       "      <td>844</td>\n",
       "      <td>0.197431</td>\n",
       "    </tr>\n",
       "    <tr>\n",
       "      <th>30</th>\n",
       "      <td>â</td>\n",
       "      <td>465</td>\n",
       "      <td>0.108774</td>\n",
       "    </tr>\n",
       "    <tr>\n",
       "      <th>36</th>\n",
       "      <td>w</td>\n",
       "      <td>396</td>\n",
       "      <td>0.092634</td>\n",
       "    </tr>\n",
       "    <tr>\n",
       "      <th>32</th>\n",
       "      <td>ô</td>\n",
       "      <td>187</td>\n",
       "      <td>0.043744</td>\n",
       "    </tr>\n",
       "    <tr>\n",
       "      <th>24</th>\n",
       "      <td>k</td>\n",
       "      <td>169</td>\n",
       "      <td>0.039533</td>\n",
       "    </tr>\n",
       "    <tr>\n",
       "      <th>27</th>\n",
       "      <td>ê</td>\n",
       "      <td>168</td>\n",
       "      <td>0.039299</td>\n",
       "    </tr>\n",
       "    <tr>\n",
       "      <th>31</th>\n",
       "      <td>ë</td>\n",
       "      <td>127</td>\n",
       "      <td>0.029708</td>\n",
       "    </tr>\n",
       "    <tr>\n",
       "      <th>38</th>\n",
       "      <td>ç</td>\n",
       "      <td>114</td>\n",
       "      <td>0.026667</td>\n",
       "    </tr>\n",
       "    <tr>\n",
       "      <th>33</th>\n",
       "      <td>î</td>\n",
       "      <td>59</td>\n",
       "      <td>0.013801</td>\n",
       "    </tr>\n",
       "    <tr>\n",
       "      <th>34</th>\n",
       "      <td>û</td>\n",
       "      <td>34</td>\n",
       "      <td>0.007953</td>\n",
       "    </tr>\n",
       "    <tr>\n",
       "      <th>39</th>\n",
       "      <td>à</td>\n",
       "      <td>27</td>\n",
       "      <td>0.006316</td>\n",
       "    </tr>\n",
       "    <tr>\n",
       "      <th>37</th>\n",
       "      <td>ï</td>\n",
       "      <td>16</td>\n",
       "      <td>0.003743</td>\n",
       "    </tr>\n",
       "    <tr>\n",
       "      <th>40</th>\n",
       "      <td>ü</td>\n",
       "      <td>4</td>\n",
       "      <td>0.000936</td>\n",
       "    </tr>\n",
       "    <tr>\n",
       "      <th>41</th>\n",
       "      <td>ÿ</td>\n",
       "      <td>3</td>\n",
       "      <td>0.000702</td>\n",
       "    </tr>\n",
       "    <tr>\n",
       "      <th>42</th>\n",
       "      <td>œ</td>\n",
       "      <td>1</td>\n",
       "      <td>0.000234</td>\n",
       "    </tr>\n",
       "  </tbody>\n",
       "</table>\n",
       "</div>"
      ],
      "text/plain": [
       "   Caractère  Fréquence  Ratio Freq (%)\n",
       "6          e      46107       10.785490\n",
       "0          a      37558        8.785682\n",
       "5          n      32035        7.493725\n",
       "10         l      30567        7.150326\n",
       "12         s      30264        7.079447\n",
       "1          r      30034        7.025645\n",
       "3          i      28939        6.769499\n",
       "17         -      26344        6.162469\n",
       "9          o      22464        5.254847\n",
       "7          u      21143        4.945835\n",
       "11         t      20454        4.784662\n",
       "19         c      13979        3.270010\n",
       "8          m      11351        2.655261\n",
       "4          g       8734        2.043084\n",
       "20         v       8578        2.006592\n",
       "2          b       8285        1.938052\n",
       "16         d       7756        1.814307\n",
       "21         h       7522        1.759569\n",
       "22         y       6856        1.603776\n",
       "13         p       5959        1.393947\n",
       "23         é       5086        1.189733\n",
       "18         f       3405        0.796508\n",
       "26         z       2555        0.597673\n",
       "15         è       2405        0.562585\n",
       "14         x       2242        0.524455\n",
       "25                 1979        0.462934\n",
       "35         j       1178        0.275561\n",
       "29         q       1098        0.256848\n",
       "28         '        844        0.197431\n",
       "30         â        465        0.108774\n",
       "36         w        396        0.092634\n",
       "32         ô        187        0.043744\n",
       "24         k        169        0.039533\n",
       "27         ê        168        0.039299\n",
       "31         ë        127        0.029708\n",
       "38         ç        114        0.026667\n",
       "33         î         59        0.013801\n",
       "34         û         34        0.007953\n",
       "39         à         27        0.006316\n",
       "37         ï         16        0.003743\n",
       "40         ü          4        0.000936\n",
       "41         ÿ          3        0.000702\n",
       "42         œ          1        0.000234"
      ]
     },
     "metadata": {},
     "output_type": "display_data"
    }
   ],
   "source": [
    "# Concaténer toutes les chaînes de caractères de la colonne \"nom\"\n",
    "all_chars = ''.join(df['nom'])\n",
    "\n",
    "# Compter les occurrences de chaque caractère\n",
    "char_counts = Counter(all_chars)\n",
    "\n",
    "# Convertir le résultat en dataframe pour une meilleure lisibilité\n",
    "char_freq_df = pd.DataFrame(\n",
    "    char_counts.items(), columns=['Caractère', 'Fréquence']\n",
    "    ).sort_values(by='Fréquence', ascending=False)\n",
    "char_freq_df[\"Ratio Freq (%)\"] = char_freq_df[\"Fréquence\"] / char_freq_df[\"Fréquence\"].sum() * 100\n",
    "\n",
    "print(\"Nombre de caractères distincts :\", len(char_freq_df))\n",
    "display(char_freq_df)"
   ]
  },
  {
   "cell_type": "markdown",
   "metadata": {},
   "source": [
    "#### Taux de fréquence par rapport aux (dix premières) positions dans la chaîne de caractères"
   ]
  },
  {
   "cell_type": "code",
   "execution_count": 12,
   "metadata": {},
   "outputs": [
    {
     "data": {
      "image/png": "[encoded data removed]",
      "text/plain": [
       "<Figure size 1200x800 with 2 Axes>"
      ]
     },
     "metadata": {},
     "output_type": "display_data"
    }
   ],
   "source": [
    "# Limiter la longueur des noms à 10 caractères\n",
    "df['nom_limited'] = df['nom'].str[:10]\n",
    "\n",
    "# Initialiser un dictionnaire pour stocker les fréquences des caractères par position\n",
    "position_char_freq = {i: Counter() for i in range(10)}\n",
    "\n",
    "# Remplir le dictionnaire avec les fréquences des caractères par position\n",
    "for name in df['nom_limited']:\n",
    "    for i, char in enumerate(name):\n",
    "        position_char_freq[i][char] += 1\n",
    "\n",
    "# Convertir le dictionnaire en dataframe pour une meilleure lisibilité\n",
    "position_char_freq_df = pd.DataFrame(position_char_freq).fillna(0).astype(int)\n",
    "\n",
    "# Limiter aux 15 premiers caractères les plus fréquents\n",
    "top_chars = position_char_freq_df.sum(axis=1).sort_values(ascending=False).head(15).index\n",
    "position_char_freq_df = position_char_freq_df.loc[top_chars]\n",
    "\n",
    "# Calculer le taux de présence par position\n",
    "position_char_rate_df = position_char_freq_df.div(position_char_freq_df.sum(axis=0), axis=1) * 100\n",
    "\n",
    "# Visualiser les taux de présence avec une carte de chaleur\n",
    "plt.figure(figsize=(12, 8))\n",
    "sns.heatmap(position_char_rate_df, annot=True, fmt=\".2f\", cmap=\"coolwarm\", cbar=True)\n",
    "plt.xlabel('Position')\n",
    "plt.ylabel('Caractère')\n",
    "plt.title('Taux de présence des caractères par position (limité aux 10 premières positions)')\n",
    "plt.yticks(rotation=0)\n",
    "plt.show()"
   ]
  },
  {
   "cell_type": "markdown",
   "metadata": {},
   "source": [
    "#### Fréquence des composants de nom"
   ]
  },
  {
   "cell_type": "code",
   "execution_count": 13,
   "metadata": {},
   "outputs": [
    {
     "name": "stdout",
     "output_type": "stream",
     "text": [
      "Nombre total de composants distincts : 28449\n",
      "dont 15 exemples :\n"
     ]
    },
    {
     "data": {
      "text/html": [
       "<div>\n",
       "<style scoped>\n",
       "    .dataframe tbody tr th:only-of-type {\n",
       "        vertical-align: middle;\n",
       "    }\n",
       "\n",
       "    .dataframe tbody tr th {\n",
       "        vertical-align: top;\n",
       "    }\n",
       "\n",
       "    .dataframe thead th {\n",
       "        text-align: right;\n",
       "    }\n",
       "</style>\n",
       "<table border=\"1\" class=\"dataframe\">\n",
       "  <thead>\n",
       "    <tr style=\"text-align: right;\">\n",
       "      <th></th>\n",
       "      <th>Élément</th>\n",
       "      <th>Fréquence</th>\n",
       "    </tr>\n",
       "  </thead>\n",
       "  <tbody>\n",
       "    <tr>\n",
       "      <th>11424</th>\n",
       "      <td>escoubès</td>\n",
       "      <td>2</td>\n",
       "    </tr>\n",
       "    <tr>\n",
       "      <th>23632</th>\n",
       "      <td>dambelin</td>\n",
       "      <td>2</td>\n",
       "    </tr>\n",
       "    <tr>\n",
       "      <th>4734</th>\n",
       "      <td>courlon</td>\n",
       "      <td>2</td>\n",
       "    </tr>\n",
       "    <tr>\n",
       "      <th>5220</th>\n",
       "      <td>courchamps</td>\n",
       "      <td>2</td>\n",
       "    </tr>\n",
       "    <tr>\n",
       "      <th>24103</th>\n",
       "      <td>cel</td>\n",
       "      <td>1</td>\n",
       "    </tr>\n",
       "    <tr>\n",
       "      <th>12080</th>\n",
       "      <td>cléguer</td>\n",
       "      <td>1</td>\n",
       "    </tr>\n",
       "    <tr>\n",
       "      <th>19340</th>\n",
       "      <td>brosville</td>\n",
       "      <td>1</td>\n",
       "    </tr>\n",
       "    <tr>\n",
       "      <th>17358</th>\n",
       "      <td>sauvagney</td>\n",
       "      <td>1</td>\n",
       "    </tr>\n",
       "    <tr>\n",
       "      <th>25279</th>\n",
       "      <td>montgeroult</td>\n",
       "      <td>1</td>\n",
       "    </tr>\n",
       "    <tr>\n",
       "      <th>16163</th>\n",
       "      <td>vassimont</td>\n",
       "      <td>1</td>\n",
       "    </tr>\n",
       "    <tr>\n",
       "      <th>4231</th>\n",
       "      <td>maresché</td>\n",
       "      <td>1</td>\n",
       "    </tr>\n",
       "    <tr>\n",
       "      <th>24608</th>\n",
       "      <td>coulaures</td>\n",
       "      <td>1</td>\n",
       "    </tr>\n",
       "    <tr>\n",
       "      <th>15427</th>\n",
       "      <td>varensal</td>\n",
       "      <td>1</td>\n",
       "    </tr>\n",
       "    <tr>\n",
       "      <th>24925</th>\n",
       "      <td>gaud</td>\n",
       "      <td>1</td>\n",
       "    </tr>\n",
       "    <tr>\n",
       "      <th>25727</th>\n",
       "      <td>wormhout</td>\n",
       "      <td>1</td>\n",
       "    </tr>\n",
       "  </tbody>\n",
       "</table>\n",
       "</div>"
      ],
      "text/plain": [
       "           Élément  Fréquence\n",
       "11424     escoubès          2\n",
       "23632     dambelin          2\n",
       "4734       courlon          2\n",
       "5220    courchamps          2\n",
       "24103          cel          1\n",
       "12080      cléguer          1\n",
       "19340    brosville          1\n",
       "17358    sauvagney          1\n",
       "25279  montgeroult          1\n",
       "16163    vassimont          1\n",
       "4231      maresché          1\n",
       "24608    coulaures          1\n",
       "15427     varensal          1\n",
       "24925         gaud          1\n",
       "25727     wormhout          1"
      ]
     },
     "metadata": {},
     "output_type": "display_data"
    },
    {
     "name": "stdout",
     "output_type": "stream",
     "text": [
      "Nombre total de composants présents plus d'une fois : 5807\n",
      "dont les 15 premiers :\n"
     ]
    },
    {
     "data": {
      "text/html": [
       "<div>\n",
       "<style scoped>\n",
       "    .dataframe tbody tr th:only-of-type {\n",
       "        vertical-align: middle;\n",
       "    }\n",
       "\n",
       "    .dataframe tbody tr th {\n",
       "        vertical-align: top;\n",
       "    }\n",
       "\n",
       "    .dataframe thead th {\n",
       "        text-align: right;\n",
       "    }\n",
       "</style>\n",
       "<table border=\"1\" class=\"dataframe\">\n",
       "  <thead>\n",
       "    <tr style=\"text-align: right;\">\n",
       "      <th></th>\n",
       "      <th>Élément</th>\n",
       "      <th>Fréquence</th>\n",
       "    </tr>\n",
       "  </thead>\n",
       "  <tbody>\n",
       "    <tr>\n",
       "      <th>37</th>\n",
       "      <td>saint</td>\n",
       "      <td>4409</td>\n",
       "    </tr>\n",
       "    <tr>\n",
       "      <th>50</th>\n",
       "      <td>sur</td>\n",
       "      <td>2080</td>\n",
       "    </tr>\n",
       "    <tr>\n",
       "      <th>23</th>\n",
       "      <td>la</td>\n",
       "      <td>1868</td>\n",
       "    </tr>\n",
       "    <tr>\n",
       "      <th>30</th>\n",
       "      <td>le</td>\n",
       "      <td>1698</td>\n",
       "    </tr>\n",
       "    <tr>\n",
       "      <th>9</th>\n",
       "      <td>de</td>\n",
       "      <td>1229</td>\n",
       "    </tr>\n",
       "    <tr>\n",
       "      <th>101</th>\n",
       "      <td>en</td>\n",
       "      <td>971</td>\n",
       "    </tr>\n",
       "    <tr>\n",
       "      <th>96</th>\n",
       "      <td>lès</td>\n",
       "      <td>553</td>\n",
       "    </tr>\n",
       "    <tr>\n",
       "      <th>54</th>\n",
       "      <td>d</td>\n",
       "      <td>484</td>\n",
       "    </tr>\n",
       "    <tr>\n",
       "      <th>116</th>\n",
       "      <td>les</td>\n",
       "      <td>475</td>\n",
       "    </tr>\n",
       "    <tr>\n",
       "      <th>33</th>\n",
       "      <td>sainte</td>\n",
       "      <td>397</td>\n",
       "    </tr>\n",
       "    <tr>\n",
       "      <th>232</th>\n",
       "      <td>du</td>\n",
       "      <td>370</td>\n",
       "    </tr>\n",
       "    <tr>\n",
       "      <th>765</th>\n",
       "      <td>et</td>\n",
       "      <td>351</td>\n",
       "    </tr>\n",
       "    <tr>\n",
       "      <th>170</th>\n",
       "      <td>l</td>\n",
       "      <td>341</td>\n",
       "    </tr>\n",
       "    <tr>\n",
       "      <th>229</th>\n",
       "      <td>sous</td>\n",
       "      <td>278</td>\n",
       "    </tr>\n",
       "    <tr>\n",
       "      <th>46</th>\n",
       "      <td>martin</td>\n",
       "      <td>273</td>\n",
       "    </tr>\n",
       "  </tbody>\n",
       "</table>\n",
       "</div>"
      ],
      "text/plain": [
       "    Élément  Fréquence\n",
       "37    saint       4409\n",
       "50      sur       2080\n",
       "23       la       1868\n",
       "30       le       1698\n",
       "9        de       1229\n",
       "101      en        971\n",
       "96      lès        553\n",
       "54        d        484\n",
       "116     les        475\n",
       "33   sainte        397\n",
       "232      du        370\n",
       "765      et        351\n",
       "170       l        341\n",
       "229    sous        278\n",
       "46   martin        273"
      ]
     },
     "metadata": {},
     "output_type": "display_data"
    }
   ],
   "source": [
    "# Séparer les chaînes de caractères par \"-\" ou \" \" et les concaténer\n",
    "element_separator = \"-' \"\n",
    "all_elements = ' '.join(df['nom'].str.replace(f\"[{element_separator}]\", \" \", regex=True).values).split()\n",
    "\n",
    "# Compter les occurrences de chaque élément\n",
    "element_counts = Counter(all_elements)\n",
    "\n",
    "# Convertir le résultat en dataframe pour une meilleure lisibilité\n",
    "element_freq_df = pd.DataFrame(element_counts.items(), columns=['Élément', 'Fréquence']).sort_values(by='Fréquence', ascending=False)\n",
    "\n",
    "print(f\"Nombre total de composants distincts : {len(element_freq_df)}\")\n",
    "n = 15\n",
    "print(f\"dont {n} exemples :\")\n",
    "display(element_freq_df.sample(n).sort_values(by='Fréquence', ascending=False))\n",
    "\n",
    "# Filtrer les éléments dont la fréquence est strictement supérieure à 1\n",
    "element_freq_sup_1_df = element_freq_df[element_freq_df['Fréquence'] > 1]\n",
    "\n",
    "# Afficher le nombre total d'éléments associés\n",
    "print(f\"Nombre total de composants présents plus d'une fois : {len(element_freq_sup_1_df)}\")\n",
    "n = 15\n",
    "print(f\"dont les {n} premiers :\")\n",
    "display(element_freq_sup_1_df.head(n))\n"
   ]
  },
  {
   "cell_type": "markdown",
   "metadata": {},
   "source": [
    "#### Combien de noms de communes sont composées ?\n",
    "Quelle est la distribution du nombre de composants ?"
   ]
  },
  {
   "cell_type": "code",
   "execution_count": 14,
   "metadata": {},
   "outputs": [
    {
     "name": "stdout",
     "output_type": "stream",
     "text": [
      "Distribution de la fréquence du nombre de composants (en valeur) :\n"
     ]
    },
    {
     "data": {
      "text/html": [
       "<div>\n",
       "<style scoped>\n",
       "    .dataframe tbody tr th:only-of-type {\n",
       "        vertical-align: middle;\n",
       "    }\n",
       "\n",
       "    .dataframe tbody tr th {\n",
       "        vertical-align: top;\n",
       "    }\n",
       "\n",
       "    .dataframe thead th {\n",
       "        text-align: right;\n",
       "    }\n",
       "</style>\n",
       "<table border=\"1\" class=\"dataframe\">\n",
       "  <thead>\n",
       "    <tr style=\"text-align: right;\">\n",
       "      <th></th>\n",
       "      <th>count</th>\n",
       "    </tr>\n",
       "    <tr>\n",
       "      <th>num_components</th>\n",
       "      <th></th>\n",
       "    </tr>\n",
       "  </thead>\n",
       "  <tbody>\n",
       "    <tr>\n",
       "      <th>1</th>\n",
       "      <td>21505</td>\n",
       "    </tr>\n",
       "    <tr>\n",
       "      <th>2</th>\n",
       "      <td>4776</td>\n",
       "    </tr>\n",
       "    <tr>\n",
       "      <th>3</th>\n",
       "      <td>6810</td>\n",
       "    </tr>\n",
       "    <tr>\n",
       "      <th>4</th>\n",
       "      <td>3243</td>\n",
       "    </tr>\n",
       "    <tr>\n",
       "      <th>5</th>\n",
       "      <td>210</td>\n",
       "    </tr>\n",
       "    <tr>\n",
       "      <th>6</th>\n",
       "      <td>33</td>\n",
       "    </tr>\n",
       "    <tr>\n",
       "      <th>7</th>\n",
       "      <td>5</td>\n",
       "    </tr>\n",
       "    <tr>\n",
       "      <th>8</th>\n",
       "      <td>1</td>\n",
       "    </tr>\n",
       "  </tbody>\n",
       "</table>\n",
       "</div>"
      ],
      "text/plain": [
       "                count\n",
       "num_components       \n",
       "1               21505\n",
       "2                4776\n",
       "3                6810\n",
       "4                3243\n",
       "5                 210\n",
       "6                  33\n",
       "7                   5\n",
       "8                   1"
      ]
     },
     "metadata": {},
     "output_type": "display_data"
    },
    {
     "data": {
      "image/png": "[encoded data removed]",
      "text/plain": [
       "<Figure size 1200x800 with 1 Axes>"
      ]
     },
     "metadata": {},
     "output_type": "display_data"
    }
   ],
   "source": [
    "# Calculer le nombre de composants pour chaque nom\n",
    "df['num_components'] = df['nom'].apply(lambda x: len([comp for comp in x if comp in element_separator]) + 1)\n",
    "\n",
    "# Afficher la distribution du taux de fréquence du nombre de composants\n",
    "component_distribution = df['num_components'].value_counts().sort_index()\n",
    "component_distribution_rate = component_distribution / len(df) * 100\n",
    "print(\"Distribution de la fréquence du nombre de composants (en valeur) :\")\n",
    "display(component_distribution.to_frame())\n",
    "\n",
    "# Afficher la distribution sous forme d'un histogramme\n",
    "plt.figure(figsize=(12, 8))\n",
    "sns.barplot(x=component_distribution_rate.index, y=component_distribution_rate.values, hue=component_distribution_rate.values, palette=\"coolwarm\")\n",
    "for i in range(len(component_distribution_rate)):\n",
    "    plt.text(i, component_distribution_rate.values[i] + 0.5, f'{component_distribution_rate.values[i]:.3f}%', ha='center')\n",
    "plt.xlabel('Nombre de composants')\n",
    "plt.ylabel('Fréquence')\n",
    "plt.title('Distribution de la fréquence du nombre de composants (en %)')\n",
    "plt.xticks(rotation=90)\n",
    "plt.show()"
   ]
  },
  {
   "cell_type": "markdown",
   "metadata": {},
   "source": [
    "## Définition de la classe dérivée Dataset et des utilitaires associés"
   ]
  },
  {
   "cell_type": "markdown",
   "metadata": {},
   "source": [
    "Définition de la classe `CityNameDataset` fournissant les données pour les phases d'entrainement notamment, en créant une sous-classe dérivée de `torch.utils.data.Dataset`. Egalement création de la classe `CharTokenizer`.\n",
    "\n",
    "> NdA : code fourni à titre informatif."
   ]
  },
  {
   "cell_type": "markdown",
   "metadata": {},
   "source": [
    "Au préalable, définition de jetons de contrôle de séquence."
   ]
  },
  {
   "cell_type": "code",
   "execution_count": 15,
   "metadata": {},
   "outputs": [],
   "source": [
    "SOS = \"<SOS>\" # Start Of Sequence\n",
    "EOS = \"<EOS>\" # End Of Sequence\n",
    "PAD = \"<PAD>\" # Padding"
   ]
  },
  {
   "cell_type": "code",
   "execution_count": 16,
   "metadata": {},
   "outputs": [],
   "source": [
    "class CharTokenizer():\n",
    "    def __init__(self, corpus: list[str]) -> None:\n",
    "        self.special_tokens =  [PAD, SOS, EOS] # PAD en premier pour indice 0\n",
    "\n",
    "         # liste des différents caractères distincts\n",
    "        chars = sorted(list(set(''.join(corpus))))\n",
    "        # ajout des trois jetons de contrôle\n",
    "        chars = self.special_tokens + chars\n",
    "        # tables de correspondances\n",
    "        self.char_to_int = {}\n",
    "        self.int_to_char = {}\n",
    "\n",
    "        # indexation des tables de correspondances\n",
    "        for (c, i) in tqdm(\n",
    "            zip(chars, range(len(chars))),\n",
    "            desc=\"creating vocabulary\",\n",
    "            total=len(chars)\n",
    "            ):\n",
    "            self.char_to_int[c] = i\n",
    "            self.int_to_char[i] = c\n",
    "\n",
    "    def __call__(self, string: str) -> list[int]:\n",
    "        return self.to_idx(string)\n",
    "            \n",
    "    def vocabulary_size(self) -> int:\n",
    "        return len(self.char_to_int)\n",
    "    \n",
    "    def to_idx(self, sequence: str) -> list[int]:\n",
    "        \"\"\"\n",
    "        Translate a sequence of chars to its conterparts of indexes in the vocabulary\n",
    "        \"\"\"\n",
    "        return [self.char_to_int[c] for c in sequence]\n",
    "    \n",
    "    def to_tokens(self, sequence: list[int]) -> list[str]:\n",
    "        \"\"\"\n",
    "        Translate a sequence of indexes to its conterparts of chars in the vocabulary\n",
    "        \"\"\"\n",
    "        return [self.int_to_char[i] for i in sequence]\n",
    "    \n",
    "    def to_string(self, sequence: list[int]) -> str:\n",
    "        \"\"\"\n",
    "        Return the string corresponding to the sequence of indexes in the vocabulary\n",
    "        \"\"\"\n",
    "        return \"\".join([self.int_to_char[i] for i in sequence if i > 2])\n",
    "    \n",
    "\n",
    "\n",
    "class CityNameDataset(Dataset):\n",
    "    def __init__(self, names: list[str], tokenizer: CharTokenizer) -> None:\n",
    "        \"\"\"\n",
    "        Args:\n",
    "            - names : collection of string\n",
    "            - vocabulary : maps of \"char to index\" and \"index to char\" based on names\n",
    "        \"\"\"\n",
    "        super().__init__()\n",
    "\n",
    "        self.tokenizer = tokenizer\n",
    "        \n",
    "        # création des séquences encodées\n",
    "        num_sequences = len(names)\n",
    "        self.max_len = max([len(name) for name in names]) + 2 # <SOS> et <EOS>\n",
    "        self.X = torch.zeros((num_sequences, self.max_len), dtype=torch.int32)\n",
    "        for i, name in tqdm(enumerate(names), total=num_sequences, desc=\"creatind dataset\"):\n",
    "            # encodage de la séquence : \"SOS s e q u e n c e EPS PAD PAD ... PAD\"\n",
    "            self.X[i] = torch.tensor(\n",
    "                self.tokenizer([SOS]) +\n",
    "                self.tokenizer(name) +\n",
    "                self.tokenizer([EOS]) +\n",
    "                self.tokenizer([PAD] * (self.max_len - len(name) - 2))\n",
    "            )\n",
    "            \n",
    "    def __len__(self):\n",
    "        \"\"\"\n",
    "        \"\"\"\n",
    "        return self.X.size(0)\n",
    "\n",
    "    def __getitem__(self, idx: int):\n",
    "        \"\"\"\n",
    "        \"\"\"\n",
    "        return self.X[idx, :-1], self.X[idx, 1:]\n",
    "\n",
    "\n",
    "def get_datasets(\n",
    "        filename: str,\n",
    "        split_rate: float = 0.9\n",
    "        ) -> Tuple[CityNameDataset, CityNameDataset, CharTokenizer, int]:\n",
    "    \"\"\"\n",
    "    Return train and test datasets, and the max length in the processed string collection\n",
    "\n",
    "    Args:\n",
    "        - filename (str) : path and file name of string data\n",
    "        - split_rate (float) : rate of the split of the train data, in [0.; 1.]\n",
    "    \n",
    "    Returns:\n",
    "        - train_dataset, test_dataset, max_len (Tuple[CityNameDataset, CityNameDataset, int]) : \n",
    "            dataset for train, dataset for test, max length in the processed string collection\n",
    "    \"\"\"\n",
    "    # chargement des données\n",
    "    file = open(filename)\n",
    "    raws = file.read()\n",
    "    names = raws.replace('\\n', ',').split(',')\n",
    "    # mise à l'écart des villes avec un nom de longueur inférieure à 3\n",
    "    # et détermination de la plus grande longueur\n",
    "    names_ = []\n",
    "    max_len = 0\n",
    "    for n in names:\n",
    "        if len(names) > 2:\n",
    "            names_.append(n)\n",
    "            max_len = max(max_len, len(n))\n",
    "\n",
    "    # création du tokenizer\n",
    "    tokenizer = CharTokenizer(names_)\n",
    "\n",
    "    # mélange de l'ensemble des noms\n",
    "    names_ = random.sample(names_, len(names_))\n",
    "    # index de séparation train/val\n",
    "    n_split = int(split_rate * len(names_))\n",
    "    \n",
    "    train_dataset = CityNameDataset(names_[:n_split], tokenizer)\n",
    "    test_dataset = CityNameDataset(names_[n_split:], tokenizer)\n",
    "\n",
    "    return train_dataset, test_dataset, tokenizer, max_len"
   ]
  },
  {
   "cell_type": "markdown",
   "metadata": {},
   "source": [
    "Tests de la classe et des utilisataires."
   ]
  },
  {
   "cell_type": "code",
   "execution_count": 17,
   "metadata": {},
   "outputs": [
    {
     "data": {
      "application/vnd.jupyter.widget-view+json": {
       "model_id": "d42b733b52c140d7b6fc7f85f9e9d772",
       "version_major": 2,
       "version_minor": 0
      },
      "text/plain": [
       "creating vocabulary:   0%|          | 0/46 [00:00<?, ?it/s]"
      ]
     },
     "metadata": {},
     "output_type": "display_data"
    },
    {
     "data": {
      "application/vnd.jupyter.widget-view+json": {
       "model_id": "d835352e6e0c4c918c087c5afa6aff73",
       "version_major": 2,
       "version_minor": 0
      },
      "text/plain": [
       "creatind dataset:   0%|          | 0/32926 [00:00<?, ?it/s]"
      ]
     },
     "metadata": {},
     "output_type": "display_data"
    },
    {
     "data": {
      "application/vnd.jupyter.widget-view+json": {
       "model_id": "e0981294e02e4d1384c40d40a303cd8e",
       "version_major": 2,
       "version_minor": 0
      },
      "text/plain": [
       "creatind dataset:   0%|          | 0/3659 [00:00<?, ?it/s]"
      ]
     },
     "metadata": {},
     "output_type": "display_data"
    }
   ],
   "source": [
    "train_dataset, test_dataset, tokenizer, max_len = get_datasets(\"./villes.txt\")"
   ]
  },
  {
   "cell_type": "code",
   "execution_count": 18,
   "metadata": {},
   "outputs": [
    {
     "name": "stdout",
     "output_type": "stream",
     "text": [
      "Longueur de la plus longue séquence d'un nom de commune 45\n"
     ]
    }
   ],
   "source": [
    "print(\"Longueur de la plus longue séquence d'un nom de commune\", max_len)"
   ]
  },
  {
   "cell_type": "code",
   "execution_count": 19,
   "metadata": {},
   "outputs": [
    {
     "data": {
      "text/plain": [
       "[25, 10, 24, 25]"
      ]
     },
     "execution_count": 19,
     "metadata": {},
     "output_type": "execute_result"
    }
   ],
   "source": [
    "tokenizer(\"test\")"
   ]
  },
  {
   "cell_type": "markdown",
   "metadata": {},
   "source": [
    "Différents affichages de séquence"
   ]
  },
  {
   "cell_type": "code",
   "execution_count": 20,
   "metadata": {},
   "outputs": [
    {
     "name": "stdout",
     "output_type": "stream",
     "text": [
      "X (indexes): tensor([ 1, 27, 14, 19, 10, 26, 14, 17,  5, 24,  6, 14, 19, 25,  5, 11, 14, 23,\n",
      "        18, 14, 19,  2,  0,  0,  0,  0,  0,  0,  0,  0,  0,  0,  0,  0,  0,  0,\n",
      "         0,  0,  0,  0,  0,  0,  0,  0,  0,  0], dtype=torch.int32)\n",
      "y (indexes) : tensor([27, 14, 19, 10, 26, 14, 17,  5, 24,  6, 14, 19, 25,  5, 11, 14, 23, 18,\n",
      "        14, 19,  2,  0,  0,  0,  0,  0,  0,  0,  0,  0,  0,  0,  0,  0,  0,  0,\n",
      "         0,  0,  0,  0,  0,  0,  0,  0,  0,  0], dtype=torch.int32)\n",
      "\n",
      "X (chars): ['<SOS>', 'v', 'i', 'n', 'e', 'u', 'i', 'l', '-', 's', 'a', 'i', 'n', 't', '-', 'f', 'i', 'r', 'm', 'i', 'n', '<EOS>', '<PAD>', '<PAD>', '<PAD>', '<PAD>', '<PAD>', '<PAD>', '<PAD>', '<PAD>', '<PAD>', '<PAD>', '<PAD>', '<PAD>', '<PAD>', '<PAD>', '<PAD>', '<PAD>', '<PAD>', '<PAD>', '<PAD>', '<PAD>', '<PAD>', '<PAD>', '<PAD>', '<PAD>']\n",
      "y (chars): ['v', 'i', 'n', 'e', 'u', 'i', 'l', '-', 's', 'a', 'i', 'n', 't', '-', 'f', 'i', 'r', 'm', 'i', 'n', '<EOS>', '<PAD>', '<PAD>', '<PAD>', '<PAD>', '<PAD>', '<PAD>', '<PAD>', '<PAD>', '<PAD>', '<PAD>', '<PAD>', '<PAD>', '<PAD>', '<PAD>', '<PAD>', '<PAD>', '<PAD>', '<PAD>', '<PAD>', '<PAD>', '<PAD>', '<PAD>', '<PAD>', '<PAD>', '<PAD>']\n",
      "\n",
      "X (string): vineuil-saint-firmin\n",
      "y (string): vineuil-saint-firmin\n",
      "\n"
     ]
    }
   ],
   "source": [
    "X, y = train_dataset[1] # Get a dataset item (index = 1), the tuple X, y\n",
    "print(\"X (indexes):\", X)\n",
    "print(\"y (indexes) :\", y, end=\"\\n\\n\")\n",
    "\n",
    "print(\"X (chars):\", tokenizer.to_tokens(X.tolist()))\n",
    "print(\"y (chars):\", tokenizer.to_tokens(y.tolist()), end=\"\\n\\n\")\n",
    "\n",
    "print(\"X (string):\", tokenizer.to_string(X.tolist()))\n",
    "print(\"y (string):\", tokenizer.to_string(y.tolist()), end=\"\\n\\n\")"
   ]
  },
  {
   "cell_type": "markdown",
   "metadata": {},
   "source": [
    "Utilisation de la classe `torch.utils.data.DataLoader` se basant sur un dataset de classe `CityNameDataset`."
   ]
  },
  {
   "cell_type": "code",
   "execution_count": 21,
   "metadata": {},
   "outputs": [],
   "source": [
    "train_dataloader = DataLoader(train_dataset, batch_size=64, shuffle=True)\n",
    "test_dataloader = DataLoader(test_dataset, batch_size=64, shuffle=True)"
   ]
  },
  {
   "cell_type": "code",
   "execution_count": 22,
   "metadata": {},
   "outputs": [
    {
     "name": "stdout",
     "output_type": "stream",
     "text": [
      "Dimensions du batch torch.Size([64, 46])\n",
      "\n",
      "X (indexes): tensor([ 1, 21, 20, 26, 30,  9, 23,  6, 12, 26, 14, 19,  2,  0,  0,  0,  0,  0,\n",
      "         0,  0,  0,  0,  0,  0,  0,  0,  0,  0,  0,  0,  0,  0,  0,  0,  0,  0,\n",
      "         0,  0,  0,  0,  0,  0,  0,  0,  0,  0], dtype=torch.int32)\n",
      "y (indexes) : tensor([21, 20, 26, 30,  9, 23,  6, 12, 26, 14, 19,  2,  0,  0,  0,  0,  0,  0,\n",
      "         0,  0,  0,  0,  0,  0,  0,  0,  0,  0,  0,  0,  0,  0,  0,  0,  0,  0,\n",
      "         0,  0,  0,  0,  0,  0,  0,  0,  0,  0], dtype=torch.int32)\n",
      "\n",
      "X (chars): ['<SOS>', 'p', 'o', 'u', 'y', 'd', 'r', 'a', 'g', 'u', 'i', 'n', '<EOS>', '<PAD>', '<PAD>', '<PAD>', '<PAD>', '<PAD>', '<PAD>', '<PAD>', '<PAD>', '<PAD>', '<PAD>', '<PAD>', '<PAD>', '<PAD>', '<PAD>', '<PAD>', '<PAD>', '<PAD>', '<PAD>', '<PAD>', '<PAD>', '<PAD>', '<PAD>', '<PAD>', '<PAD>', '<PAD>', '<PAD>', '<PAD>', '<PAD>', '<PAD>', '<PAD>', '<PAD>', '<PAD>', '<PAD>']\n",
      "y (chars): ['p', 'o', 'u', 'y', 'd', 'r', 'a', 'g', 'u', 'i', 'n', '<EOS>', '<PAD>', '<PAD>', '<PAD>', '<PAD>', '<PAD>', '<PAD>', '<PAD>', '<PAD>', '<PAD>', '<PAD>', '<PAD>', '<PAD>', '<PAD>', '<PAD>', '<PAD>', '<PAD>', '<PAD>', '<PAD>', '<PAD>', '<PAD>', '<PAD>', '<PAD>', '<PAD>', '<PAD>', '<PAD>', '<PAD>', '<PAD>', '<PAD>', '<PAD>', '<PAD>', '<PAD>', '<PAD>', '<PAD>', '<PAD>']\n",
      "\n",
      "X (string): pouydraguin\n",
      "y (string): pouydraguin\n",
      "\n"
     ]
    }
   ],
   "source": [
    "batch_X, batch_y = next(iter(train_dataloader))\n",
    "print(\"Dimensions du batch\", batch_X.size(), end=\"\\n\\n\")\n",
    "\n",
    "X = batch_X[14]\n",
    "y = batch_y[14]\n",
    "\n",
    "print(\"X (indexes):\", X)\n",
    "print(\"y (indexes) :\", y, end=\"\\n\\n\")\n",
    "\n",
    "print(\"X (chars):\", tokenizer.to_tokens(X.tolist()))\n",
    "print(\"y (chars):\", tokenizer.to_tokens(y.tolist()), end=\"\\n\\n\")\n",
    "\n",
    "print(\"X (string):\", tokenizer.to_string(X.tolist()))\n",
    "print(\"y (string):\", tokenizer.to_string(y.tolist()), end=\"\\n\\n\")"
   ]
  }
 ],
 "metadata": {
  "kernelspec": {
   "display_name": "udacity_cnn_project",
   "language": "python",
   "name": "python3"
  },
  "language_info": {
   "codemirror_mode": {
    "name": "ipython",
    "version": 3
   },
   "file_extension": ".py",
   "mimetype": "text/x-python",
   "name": "python",
   "nbconvert_exporter": "python",
   "pygments_lexer": "ipython3",
   "version": "3.11.8"
  }
 },
 "nbformat": 4,
 "nbformat_minor": 2
}
