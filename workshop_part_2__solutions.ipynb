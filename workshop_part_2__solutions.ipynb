{
 "cells": [
  {
   "cell_type": "markdown",
   "metadata": {},
   "source": [
    "# Workshop Automatants @ CentraleSupélec - CeSIA - Partie 2\n",
    "\n",
    "- Création : 02/2025 par [Nicolas Guillard](mailto:nicolas.guillar@securite-ia.fr) - bénévole au [CeSIA](https://www.securite-ia.fr/).\n",
    "- Dernière mise à jour : 05/03/2025\n",
    "\n",
    "Créer en adaptant et complétant le projet [Générer des noms de villes et communes françaises](https://github.com/alxndrTL/villes) par [Alexandre TL](https://www.youtube.com/@alexandretl)"
   ]
  },
  {
   "cell_type": "markdown",
   "metadata": {},
   "source": [
    "## Présentation du sujet et Plan"
   ]
  },
  {
   "cell_type": "markdown",
   "metadata": {},
   "source": [
    "## Indications"
   ]
  },
  {
   "cell_type": "markdown",
   "metadata": {},
   "source": [
    "Les éléments de ce TP :\n",
    "- le présent carnet,\n",
    "  \n",
    "(et ceux qui seront installés grâce au script `Installation de l'environnement de travail`),\n",
    "- le répertoire `./utils` et les fichiers contenus,\n",
    "- le répertoire `./weights` contenant les poids des modèles utiles et ceux produits,\n",
    "- le répertoire `./images` contenant les illustrations des carnets,\n",
    "- le fichier de données `./villes.txt`."
   ]
  },
  {
   "cell_type": "markdown",
   "metadata": {},
   "source": [
    "## Installation de l'environnement de travail"
   ]
  },
  {
   "cell_type": "markdown",
   "metadata": {},
   "source": [
    "Le script ci-dessous est destiné à installer les éléments nécessaires au fonctionnement de ce carnet."
   ]
  },
  {
   "cell_type": "code",
   "execution_count": 1,
   "metadata": {},
   "outputs": [
    {
     "name": "stdout",
     "output_type": "stream",
     "text": [
      "Il semble que des ressources nécessaires pour ce carnet soient déjà installés :\n",
      "\t ./utils présent\n",
      "\t ./weights présent\n",
      "\t ./images présent\n",
      "\t ./villes.txt présent\n",
      "Pour supprimer les ressources automatiquement installées, utilisez la fonction 'remove_resources()' dans un autre bloc de code.\n"
     ]
    }
   ],
   "source": [
    "import sys\n",
    "from pathlib import Path\n",
    "\n",
    "IN_COLAB = \"google.colab\" in sys.modules\n",
    "\n",
    "repo = \"workshop_cs_202503\"\n",
    "branch = \"main\"\n",
    "url_repo = f\"https://github.com/nicolasguillard/{repo}/archive/refs/heads/{branch}.zip\"\n",
    "target_dir = (\n",
    "  \"/content\"\n",
    "  if IN_COLAB\n",
    "  else \".\"\n",
    ")\n",
    "resources = [\"utils\", \"weights\", \"images\", \"villes.txt\"]\n",
    "\n",
    "if not Path(f\"{target_dir}/utils\").exists() :\n",
    "  print(\"=== Installation des ressources utiles à ce carnet ===\")\n",
    "  !wget -P {target_dir} {url_repo}\n",
    "  !unzip {target_dir}/{branch}.zip -d {target_dir}\n",
    "  for resource in resources:\n",
    "    !mv {target_dir}/{repo}-{branch}/{resource} {target_dir}/{resource}\n",
    "  !rm -rf {target_dir}/{repo}-{branch}\n",
    "  !rm -f {target_dir}/{branch}.zip\n",
    "  print(\"=== Terminé ===\")\n",
    "\n",
    "  if IN_COLAB:\n",
    "    print(\"--- Rafraichissez au besoin la liste des fichiers à gauche si nécessaire ---\")\n",
    "else:\n",
    "  print(\"Il semble que des ressources nécessaires pour ce carnet soient déjà installés :\")\n",
    "  for resource in resources:\n",
    "    print(\"\\t\", f\"./{resource}\", \"présent\" if Path(f\"{target_dir}/{resource}\").exists else \"absent\")\n",
    "  print(\"Pour supprimer les ressources automatiquement installées, utilisez la fonction 'remove_resources()' dans un autre bloc de code.\")\n",
    "\n",
    "def remove_resources():\n",
    "  !rm -rf {target_dir}/{repo}-{branch}\n",
    "  for resource in resources:\n",
    "    !rm -rf {target_dir}/{resource}"
   ]
  },
  {
   "cell_type": "markdown",
   "metadata": {},
   "source": [
    "## Les modules et paramétrages globaux"
   ]
  },
  {
   "cell_type": "markdown",
   "metadata": {},
   "source": [
    "Tous les modules nécessaires sont importés. A moins d'un besoin spécifique, il n'y aura pas besoin de modifier le bloc de code suivant."
   ]
  },
  {
   "cell_type": "code",
   "execution_count": 2,
   "metadata": {},
   "outputs": [],
   "source": [
    "# Modules prédéfinis et tiers\n",
    "import math\n",
    "import datetime\n",
    "from dataclasses import dataclass\n",
    "\n",
    "import seaborn as sns\n",
    "import pandas as pd\n",
    "from tqdm.notebook import trange, tqdm\n",
    "import torch\n",
    "import torch.nn as nn\n",
    "import torch.nn.functional as F\n",
    "from torch.utils.data import DataLoader"
   ]
  },
  {
   "cell_type": "code",
   "execution_count": 3,
   "metadata": {},
   "outputs": [],
   "source": [
    "#Modules créés pour le projet\n",
    "from utils import get_datasets, SOS, EOS, PAD\n",
    "from utils import LanguageModel, CharTokenizer"
   ]
  },
  {
   "cell_type": "markdown",
   "metadata": {},
   "source": [
    "### Device"
   ]
  },
  {
   "cell_type": "markdown",
   "metadata": {},
   "source": [
    "Sélection du GPU selon l'environnement de travail"
   ]
  },
  {
   "cell_type": "code",
   "execution_count": 4,
   "metadata": {},
   "outputs": [
    {
     "name": "stdout",
     "output_type": "stream",
     "text": [
      "Using mps device\n"
     ]
    }
   ],
   "source": [
    "device = (\n",
    "    \"cuda\"\n",
    "    if torch.cuda.is_available()\n",
    "    else \"mps\"\n",
    "    if torch.backends.mps.is_available()\n",
    "    else \"cpu\"\n",
    ")\n",
    "print(f\"Using {device} device\")"
   ]
  },
  {
   "cell_type": "markdown",
   "metadata": {},
   "source": [
    "### Paramétrages"
   ]
  },
  {
   "cell_type": "code",
   "execution_count": 5,
   "metadata": {},
   "outputs": [],
   "source": [
    "# Retirer la limite du nombre maximal de lignes affichées dans un tableau pandas\n",
    "pd.set_option('display.max_rows', None) "
   ]
  },
  {
   "cell_type": "code",
   "execution_count": 6,
   "metadata": {},
   "outputs": [],
   "source": [
    "# Configurer le thème de seaborn\n",
    "sns.set_theme(style=\"whitegrid\")"
   ]
  },
  {
   "cell_type": "code",
   "execution_count": 7,
   "metadata": {},
   "outputs": [],
   "source": [
    "# Paramétrer les graines aléatoires\n",
    "#pth_rnd_gen_device = torch.Generator(device).manual_seed(42)\n",
    "if device == \"cuda\":\n",
    "    pth_rnd_gen_device = torch.cuda.manual_seed(42)\n",
    "elif device == \"mps\":\n",
    "    pth_rnd_gen_device = torch.mps.manual_seed(42)\n",
    "pth_rnd_gen_cpu = torch.manual_seed(42)\n",
    "pth_rnd_gen = pth_rnd_gen_cpu if device == \"cpu\" else pth_rnd_gen_device"
   ]
  },
  {
   "cell_type": "markdown",
   "metadata": {},
   "source": [
    "## Le modèle de langue"
   ]
  },
  {
   "cell_type": "markdown",
   "metadata": {},
   "source": [
    "Le modèle est un Transformer inspiré de LLAMA 2. Il est composé d'un ensemble de modules dont le code des classes est fourni ci-dessous.\n",
    "\n",
    "![](https://drive.google.com/uc?id=1Kag6BuRKdInm7TYHl0qIZiSmnKHz3mKS)\n",
    "\n",
    "![Modèle de langue](./images/language_model_details.png)"
   ]
  },
  {
   "cell_type": "markdown",
   "metadata": {},
   "source": [
    "### Modules prédéfinis"
   ]
  },
  {
   "cell_type": "code",
   "execution_count": 8,
   "metadata": {},
   "outputs": [],
   "source": [
    "@dataclass\n",
    "class TransformerConfig:\n",
    "    \"\"\"\n",
    "    \"\"\"\n",
    "    vocab_size: int\n",
    "    d_model: int # D or d_model in comments\n",
    "    n_layers: int\n",
    "    n_heads: int\n",
    "    max_len: int # maximum sequence length (for positional embedding)\n",
    "    dropout: float = 0.1\n",
    "    bias: bool = False\n",
    "    norm_eps: float = 1e-5\n",
    "    super_attn: bool = False # overwrites flash to False\n",
    "    flash: bool = True\n",
    "\n",
    "    def __post_init__(self):\n",
    "        assert self.d_model % self.n_heads == 0, \"d_model must be a multiple of n_heads\"\n",
    "\n",
    "        self.d_head = self.d_model // self.n_heads"
   ]
  },
  {
   "cell_type": "code",
   "execution_count": 9,
   "metadata": {},
   "outputs": [],
   "source": [
    "class RMSNorm(torch.nn.Module):\n",
    "    \"\"\"\n",
    "    Root Mean Square Layer Normalization\n",
    "    \"\"\"\n",
    "    def __init__(self, dim: int, eps: float) -> None:\n",
    "        \"\"\"\n",
    "        Args :\n",
    "            dim (int) : \n",
    "            eps (float) :\n",
    "        \"\"\"\n",
    "        super().__init__()\n",
    "        self.eps = eps\n",
    "        self.weight = nn.Parameter(torch.ones(dim))\n",
    "\n",
    "    def _norm(self, x: torch.Tensor) -> torch.Tensor:\n",
    "        return x * torch.rsqrt(x.pow(2).mean(-1, keepdim=True) + self.eps)\n",
    "        \n",
    "    def forward(self, x: torch.Tensor) -> torch.Tensor:\n",
    "        output = self._norm(x.float()).type_as(x)\n",
    "        return output * self.weight"
   ]
  },
  {
   "cell_type": "code",
   "execution_count": 10,
   "metadata": {},
   "outputs": [],
   "source": [
    "class SelfAttentionMultiHead(nn.Module):\n",
    "    def __init__(self, config: TransformerConfig) -> None:\n",
    "        \"\"\"\n",
    "        Args :\n",
    "            config (TransformerConfig) :\n",
    "        \"\"\"\n",
    "        super().__init__()\n",
    "\n",
    "        self.config = config\n",
    "\n",
    "        # key, query, value projections for all heads\n",
    "        self.query_proj = nn.Linear(config.d_model, config.d_model, bias=False) # d_query = n_heads*d_head as in the Transformer paper\n",
    "        self.key_proj = nn.Linear(config.d_model, config.d_model, bias=False)\n",
    "        self.value_proj = nn.Linear(config.d_model, config.d_model, bias=False)\n",
    "\n",
    "        if not config.flash:\n",
    "            # compute the mask once and for all here \n",
    "            # registrer treats it like a parameter (device, state_dict...) without training\n",
    "            mask = torch.full((1, 1, config.max_len, config.max_len), float('-inf'))\n",
    "            mask = torch.triu(mask, diagonal=1)\n",
    "            self.register_buffer('mask', mask)\n",
    "\n",
    "        # LxL super attention params\n",
    "        if config.super_attn:\n",
    "            self.k_in_v_proj = nn.Linear(in_features=config.max_len, out_features=config.max_len, bias=False)\n",
    "\n",
    "        # output projection\n",
    "        self.c_proj = nn.Linear(config.d_model, config.d_model, bias=config.bias)\n",
    "\n",
    "        # regularization\n",
    "        self.attn_dropout = nn.Dropout(config.dropout)\n",
    "        self.resid_dropout = nn.Dropout(config.dropout)\n",
    "\n",
    "    def forward(self, x: torch.Tensor) -> torch.Tensor:\n",
    "        \"\"\"\n",
    "        Args :\n",
    "            x (torch.Tensor) : input shaped (B, S, d_model)\n",
    "        \"\"\"\n",
    "        B, S, _ = x.size()\n",
    "\n",
    "        Q = self.query_proj(x).view(B, S, self.config.n_heads, self.config.d_head).transpose(1, 2) # (B, n_heads, S, d_query)\n",
    "        K = self.key_proj(x).view(B, S, self.config.n_heads, self.config.d_head).transpose(1, 2) # (B, n_heads, S, d_key)\n",
    "        V = self.value_proj(x).view(B, S, self.config.n_heads, self.config.d_head).transpose(1, 2) # (B, n_heads, S, d_head=d_value)\n",
    "\n",
    "        if self.config.flash and not self.config.super_attn:\n",
    "            attention = F.scaled_dot_product_attention(\n",
    "                Q, K, V, attn_mask=None, dropout_p=self.config.dropout if self.training else 0, is_causal=True\n",
    "                )\n",
    "        else:\n",
    "            QK_T = Q @ torch.transpose(K, 2, 3) # (B, n_heads, S, S)\n",
    "            QK_T = QK_T + self.mask[:, :, :S, :S]\n",
    "\n",
    "            attention_scores = torch.softmax(QK_T / math.sqrt(self.config.d_head), dim=3) # (B, n_heads, S, S)\n",
    "\n",
    "            if self.config.super_attn:\n",
    "                attention = self.attn_dropout(attention_scores) @ self.k_in_v_proj.weight @ V # (B, n_h, L, d_value=d_head)\n",
    "            else:\n",
    "                attention = self.attn_dropout(attention_scores) @ V # (B, n_h, S, d_value=d_head)\n",
    "\n",
    "        attention = attention.transpose(1, 2) # (B, S, n_heafs, d_head)\n",
    "        y = attention.contiguous().view(B, S, self.config.d_model) # n_heads * d_head = d_model\n",
    "\n",
    "        y = self.resid_dropout(self.c_proj(y))\n",
    "\n",
    "        return y # (B, S, d_model)"
   ]
  },
  {
   "cell_type": "code",
   "execution_count": 11,
   "metadata": {},
   "outputs": [],
   "source": [
    "class MLP(nn.Module):\n",
    "    def __init__(self, config: TransformerConfig) -> None:\n",
    "        \"\"\"\n",
    "        Args :\n",
    "            config (TransformerConfig) : configuration settings\n",
    "        \"\"\"\n",
    "        super().__init__()\n",
    "\n",
    "        self.fc_1 = nn.Linear(config.d_model, 4 * config.d_model, bias=config.bias)\n",
    "        self.fc_2 = nn.Linear(4 * config.d_model, config.d_model, bias=config.bias)\n",
    "        self.fc_3 = nn.Linear(config.d_model, 4 * config.d_model, bias=config.bias)\n",
    "        self.dropout = nn.Dropout(config.dropout)\n",
    "\n",
    "    def forward(self, x: torch.Tensor) -> torch.Tensor:\n",
    "        \"\"\"\n",
    "        Args :\n",
    "            x (torch.Tensor) : input data  shaped (B, S, d_model)\n",
    "        \"\"\"\n",
    "        x = self.dropout(self.fc_2(F.silu(self.fc_1(x)) * self.fc_3(x)))\n",
    "        return x # (B, S, d_model)"
   ]
  },
  {
   "cell_type": "code",
   "execution_count": 12,
   "metadata": {},
   "outputs": [],
   "source": [
    "class DecoderLayer(nn.Module):\n",
    "    def __init__(self, config: TransformerConfig) -> None:\n",
    "        \"\"\"\n",
    "        Args :\n",
    "            config (TransformerConfig) :\n",
    "        \"\"\"\n",
    "        super().__init__()\n",
    "\n",
    "        self.config = config\n",
    "\n",
    "        self.attention_norm = RMSNorm(config.d_model, config.norm_eps)\n",
    "        self.sa = SelfAttentionMultiHead(config)\n",
    "        self.mlp_norm = RMSNorm(config.d_model, config.norm_eps)\n",
    "        self.mlp = MLP(config)\n",
    "\n",
    "    def forward(self, x: torch.Tensor) -> torch.Tensor:\n",
    "        \"\"\"\n",
    "         Args :\n",
    "            x (torch.Tensor) : input data shaped (B, S, d_model)\n",
    "        \"\"\"\n",
    "        x = x + self.sa(self.attention_norm(x))\n",
    "        x = x + self.mlp(self.mlp_norm(x))\n",
    "\n",
    "        return x # (B, S, d_model)"
   ]
  },
  {
   "cell_type": "code",
   "execution_count": 13,
   "metadata": {},
   "outputs": [],
   "source": [
    "class Transformer(nn.Module):\n",
    "    def __init__(self, config: TransformerConfig) -> None:\n",
    "        \"\"\"\n",
    "        \"\"\"\n",
    "        super().__init__()\n",
    "\n",
    "        self.config = config\n",
    "\n",
    "        # Positional Embedding\n",
    "        self.PE = nn.Embedding(config.max_len, config.d_model)\n",
    "        self.in_dropout = nn.Dropout(config.dropout)\n",
    "        self.layers = nn.ModuleList([DecoderLayer(config) for _ in range(config.n_layers)])\n",
    "\n",
    "    def forward(self, x: torch.Tensor, stop_at_layer: int = -1) -> torch.Tensor:\n",
    "        \"\"\"\n",
    "        Args :\n",
    "            x (torch.Tensor) : input data shaped (B, S, d_model)\n",
    "            stop_at_layer (int) : return the ouput (activations) after the specified {layer}-th layer (1 -> n_layers)\n",
    "        \"\"\"\n",
    "        if stop_at_layer < 0:\n",
    "            stop_at_layer += len(self.layers) + 1\n",
    "        elif stop_at_layer == 0:\n",
    "            stop_at_layer = 1\n",
    "        assert stop_at_layer <= len(self.layers), \\\n",
    "            f\"stop_at_layer ({stop_at_layer}) should be in [{-len(self.layers)}, {len(self.layers)}]\"\n",
    "        _, S, _ = x.size()\n",
    "\n",
    "        # Add positional embedding\n",
    "        pos_emb = self.PE(torch.arange(0, S, dtype=torch.long, device=x.device))\n",
    "        x = self.in_dropout(x + pos_emb)\n",
    "\n",
    "        for i, layer in enumerate(self.layers):\n",
    "            x = layer(x) # (B, S, d_model)\n",
    "\n",
    "            if stop_at_layer == i+1:\n",
    "                return x\n",
    "        \n",
    "        return x # (B, S, d_model)"
   ]
  },
  {
   "cell_type": "markdown",
   "metadata": {},
   "source": [
    "### EXERCICE(S) : Définition de la classe du modèle de langue"
   ]
  },
  {
   "cell_type": "markdown",
   "metadata": {},
   "source": [
    "Il s'agit de compléter le code de la classe du modèle `LanguageModel` ci-dessous, c'est-à-dire les méthodes `__init__()` et `forward()` en interprétant le schéma du modèle de langue fourni plus haut.\n",
    "\n",
    "> Conseil(s) :\n",
    "> - utilisation de la méthode `get_logits_()` dans `forward()`.\n",
    "> - `self.core` fait référence à la partie \"Transformer\" du modèle.\n",
    "> - `self.lm_head` correspond à \"Unembedding\"."
   ]
  },
  {
   "cell_type": "markdown",
   "metadata": {},
   "source": [
    "<details> \n",
    "<summary>Eléments d'énoncé</summary>\n",
    "\n",
    "```python\n",
    "class LanguageModel(nn.Module):\n",
    "    def __init__(self, model_config: TransformerConfig) -> None:\n",
    "        super().__init__()\n",
    "\n",
    "        self.config = model_config\n",
    "        self.embedding = None ### EXERCICE : remplacer None par les bonnes instructions \n",
    "        \n",
    "        self.core = None ### EXERCICE : remplacer None par les bonnes instructions \n",
    "        self.out_norm = None ### EXERCICE : remplacer None par les bonnes instructions\n",
    "        self.lm_head = None ### EXERCICE : remplacer None par les bonnes instructions\n",
    "        self.lm_head.weight = self.embedding.weight\n",
    "\n",
    "        self.apply(self._init_weights)\n",
    "        self._init_normal()\n",
    "\n",
    "    def _init_weights(self, module):\n",
    "        if isinstance(module, nn.Linear):\n",
    "            torch.nn.init.normal_(module.weight, mean=0.0, std=0.02)\n",
    "            if module.bias is not None:\n",
    "                torch.nn.init.zeros_(module.bias)\n",
    "        elif isinstance(module, nn.Embedding):\n",
    "            torch.nn.init.normal_(module.weight, mean=0.0, std=0.02)\n",
    "\n",
    "    def _init_normal(self, module):\n",
    "        for pn, p in self.named_parameters():\n",
    "            if pn.endswith('fc_3.weight') or pn.endswith('c_proj.weight'):\n",
    "                torch.nn.init.normal_(p, mean=0.0, std=0.02/math.sqrt(2 * self.config.n_layers))\n",
    "    \n",
    "    def get_logits_(self, x: torch.Tensor) -> torch.Tensor:\n",
    "        x = self.out_norm(x)\n",
    "        return self.lm_head(x)\n",
    "\n",
    "    def forward(self, tokens: torch.Tensor) -> torch.Tensor:\n",
    "        \"\"\"\n",
    "        Args :\n",
    "            tokens (torch.Tensor) : input shaped (B, s, vocab_size) with s in [1; S]\n",
    "        \"\"\"\n",
    "\n",
    "        ### EXERCICE : compléter ce bloc avec les bonnes instructions \n",
    "        # DEBUT DE BLOC\n",
    "\n",
    "        ### EXERCICE : à compléter\n",
    "\n",
    "        logits = None ### EXERCICE : remplacer None par les bonnes instructions \n",
    "        # FIN DE BLOC\n",
    "        return logits #(B, S, vocab_size)  \n",
    "```\n",
    "</details>"
   ]
  },
  {
   "cell_type": "markdown",
   "metadata": {},
   "source": [
    "> Solution(s) :"
   ]
  },
  {
   "cell_type": "code",
   "execution_count": 14,
   "metadata": {},
   "outputs": [],
   "source": [
    "class LanguageModel(nn.Module):\n",
    "    def __init__(self, model_config: TransformerConfig) -> None:\n",
    "        super().__init__()\n",
    "\n",
    "        self.config = model_config\n",
    "        self.embedding = nn.Embedding(self.config.vocab_size, self.config.d_model, padding_idx=0) ### EXERCICE : remplacer None par les bonnes instructions\n",
    "        \n",
    "        self.core = Transformer(self.config) ### EXERCICE : remplacer None par les bonnes instructions\n",
    "        self.out_norm = RMSNorm(self.config.d_model, self.config.norm_eps) ### EXERCICE : remplacer None par les bonnes instructions\n",
    "        self.lm_head = nn.Linear(self.config.d_model, self.config.vocab_size, bias=False) ### EXERCICE : remplacer None par les bonnes instructions\n",
    "        self.lm_head.weight = self.embedding.weight\n",
    "\n",
    "        self.apply(self._init_weights)\n",
    "        self._init_normal()\n",
    "\n",
    "    def _init_weights(self, module):\n",
    "        if isinstance(module, nn.Linear):\n",
    "            torch.nn.init.normal_(module.weight, mean=0.0, std=0.02)\n",
    "            if module.bias is not None:\n",
    "                torch.nn.init.zeros_(module.bias)\n",
    "        elif isinstance(module, nn.Embedding):\n",
    "            torch.nn.init.normal_(module.weight, mean=0.0, std=0.02)\n",
    "\n",
    "    def _init_normal(self):\n",
    "        for pn, p in self.named_parameters():\n",
    "            if pn.endswith('fc_3.weight') or pn.endswith('c_proj.weight'):\n",
    "                torch.nn.init.normal_(p, mean=0.0, std=0.02/math.sqrt(2 * self.config.n_layers))\n",
    "    \n",
    "    def get_logits_(self, x: torch.Tensor) -> torch.Tensor:\n",
    "        x = self.out_norm(x)\n",
    "        return self.lm_head(x)\n",
    "\n",
    "    def forward(self, tokens: torch.Tensor) -> torch.Tensor:\n",
    "        \"\"\"\n",
    "        Args :\n",
    "            tokens (torch.Tensor) : input shaped (B, s, vocab_size) with s in [1; S]\n",
    "        \"\"\"\n",
    "\n",
    "        ### EXERCICE : compléter ce bloc avec les bonnes instructions \n",
    "        # DEBUT DE BLOC\n",
    "\n",
    "        ### EXERCICE : à compléter\n",
    "        x = self.embedding(tokens)\n",
    "        x = self.core(x)\n",
    "\n",
    "        logits = self.get_logits_(x) ### EXERCICE : remplacer None par les bonnes instructions \n",
    "        # FIN DE BLOC\n",
    "        return logits #(B, S, vocab_size)    "
   ]
  },
  {
   "cell_type": "markdown",
   "metadata": {},
   "source": [
    "## L'entrainement"
   ]
  },
  {
   "cell_type": "markdown",
   "metadata": {},
   "source": [
    "### Les hyperparamètres"
   ]
  },
  {
   "cell_type": "markdown",
   "metadata": {},
   "source": [
    "Les hyperparamètres fournis pour la création du modèle et l'entrainement :"
   ]
  },
  {
   "cell_type": "code",
   "execution_count": 15,
   "metadata": {},
   "outputs": [],
   "source": [
    "d_model = 32 # dimension du modèle\n",
    "n_heads = 4 # nombre de têtes pour l'attention\n",
    "n_layers = 1 # nombre de couches\n",
    "dropout = 0.\n",
    "\n",
    "lr = 3e-4 # leraning rate\n",
    "batch_size = 64\n",
    "\n",
    "epochs = 20\n",
    "print_each = 1000"
   ]
  },
  {
   "cell_type": "markdown",
   "metadata": {},
   "source": [
    "### Les jeux de données"
   ]
  },
  {
   "cell_type": "markdown",
   "metadata": {},
   "source": [
    "Invocation des jeux de données pour l'entrainement et le test :"
   ]
  },
  {
   "cell_type": "code",
   "execution_count": 16,
   "metadata": {},
   "outputs": [
    {
     "data": {
      "application/vnd.jupyter.widget-view+json": {
       "model_id": "2cfc86899f8a4b8bbfbe65e36872b2fe",
       "version_major": 2,
       "version_minor": 0
      },
      "text/plain": [
       "creating vocabulary:   0%|          | 0/46 [00:00<?, ?it/s]"
      ]
     },
     "metadata": {},
     "output_type": "display_data"
    },
    {
     "data": {
      "application/vnd.jupyter.widget-view+json": {
       "model_id": "c3db96eb32ca4ec5b37068c00e9513ee",
       "version_major": 2,
       "version_minor": 0
      },
      "text/plain": [
       "creatind dataset:   0%|          | 0/32926 [00:00<?, ?it/s]"
      ]
     },
     "metadata": {},
     "output_type": "display_data"
    },
    {
     "data": {
      "application/vnd.jupyter.widget-view+json": {
       "model_id": "17fe94fc9c6d460d9826b81991023eb4",
       "version_major": 2,
       "version_minor": 0
      },
      "text/plain": [
       "creatind dataset:   0%|          | 0/3659 [00:00<?, ?it/s]"
      ]
     },
     "metadata": {},
     "output_type": "display_data"
    }
   ],
   "source": [
    "train_dataset, test_dataset, tokenizer, _ = get_datasets(\"./villes.txt\")"
   ]
  },
  {
   "cell_type": "markdown",
   "metadata": {},
   "source": [
    "### Le modèle de langue"
   ]
  },
  {
   "cell_type": "markdown",
   "metadata": {},
   "source": [
    "Initialisation des paramètres et instantiation du modèle et de l'optimisateur.\n",
    "\n",
    "> NdA : à remarquer la valeur fournie au paramètre `max_len` pour l'instance de `TransformerConfig`."
   ]
  },
  {
   "cell_type": "code",
   "execution_count": 17,
   "metadata": {},
   "outputs": [
    {
     "name": "stdout",
     "output_type": "stream",
     "text": [
      "> Le modèle Transformer : \n",
      "LanguageModel(\n",
      "  (embedding): Embedding(46, 32, padding_idx=0)\n",
      "  (core): Transformer(\n",
      "    (PE): Embedding(46, 32)\n",
      "    (in_dropout): Dropout(p=0.0, inplace=False)\n",
      "    (layers): ModuleList(\n",
      "      (0): DecoderLayer(\n",
      "        (attention_norm): RMSNorm()\n",
      "        (sa): SelfAttentionMultiHead(\n",
      "          (query_proj): Linear(in_features=32, out_features=32, bias=False)\n",
      "          (key_proj): Linear(in_features=32, out_features=32, bias=False)\n",
      "          (value_proj): Linear(in_features=32, out_features=32, bias=False)\n",
      "          (c_proj): Linear(in_features=32, out_features=32, bias=False)\n",
      "          (attn_dropout): Dropout(p=0.0, inplace=False)\n",
      "          (resid_dropout): Dropout(p=0.0, inplace=False)\n",
      "        )\n",
      "        (mlp_norm): RMSNorm()\n",
      "        (mlp): MLP(\n",
      "          (fc_1): Linear(in_features=32, out_features=128, bias=False)\n",
      "          (fc_2): Linear(in_features=128, out_features=32, bias=False)\n",
      "          (fc_3): Linear(in_features=32, out_features=128, bias=False)\n",
      "          (dropout): Dropout(p=0.0, inplace=False)\n",
      "        )\n",
      "      )\n",
      "    )\n",
      "  )\n",
      "  (out_norm): RMSNorm()\n",
      "  (lm_head): Linear(in_features=32, out_features=46, bias=False)\n",
      ")\n",
      "> Nombre de paramètres appris : 19424\n"
     ]
    }
   ],
   "source": [
    "config = TransformerConfig(\n",
    "    vocab_size=tokenizer.vocabulary_size(),\n",
    "    d_model=d_model,\n",
    "    n_heads=n_heads,\n",
    "    n_layers=n_layers,\n",
    "    dropout=dropout,\n",
    "    max_len=max(train_dataset.max_len, test_dataset.max_len) - 1  # Car X et y : sequence[:-1] et sequence[1:] retourné par les \"dataset“\n",
    "    )\n",
    "model = LanguageModel(config).to(device)\n",
    "optim = torch.optim.AdamW(model.parameters(), lr=lr)\n",
    "\n",
    "print(\"> Le modèle Transformer : \", model, sep=\"\\n\")\n",
    "print(f\"> Nombre de paramètres appris : {sum(p.numel() for p in model.parameters())}\")"
   ]
  },
  {
   "cell_type": "markdown",
   "metadata": {},
   "source": [
    "Boucle d'entrainement du modèle (cette phase prend moins de 2 minutes sur Colab avec un T4):"
   ]
  },
  {
   "cell_type": "code",
   "execution_count": 18,
   "metadata": {},
   "outputs": [
    {
     "data": {
      "application/vnd.jupyter.widget-view+json": {
       "model_id": "81ab1d169f1f438aba66697fc2dfc5a5",
       "version_major": 2,
       "version_minor": 0
      },
      "text/plain": [
       "Entrainement:   0%|          | 0/20 [00:00<?, ?it/s]"
      ]
     },
     "metadata": {},
     "output_type": "display_data"
    },
    {
     "data": {
      "application/vnd.jupyter.widget-view+json": {
       "model_id": "fade21f9e2164f2ead0e115208e2bca3",
       "version_major": 2,
       "version_minor": 0
      },
      "text/plain": [
       "epoch # 1 / 20:   0%|          | 0/515 [00:00<?, ?it/s]"
      ]
     },
     "metadata": {},
     "output_type": "display_data"
    },
    {
     "name": "stdout",
     "output_type": "stream",
     "text": [
      "\tperte entrainement: 2.36 | perte de validation : 2.42\n"
     ]
    },
    {
     "data": {
      "application/vnd.jupyter.widget-view+json": {
       "model_id": "5de91862b6a04443b1fefdb676bb6d90",
       "version_major": 2,
       "version_minor": 0
      },
      "text/plain": [
       "epoch # 2 / 20:   0%|          | 0/515 [00:00<?, ?it/s]"
      ]
     },
     "metadata": {},
     "output_type": "display_data"
    },
    {
     "name": "stdout",
     "output_type": "stream",
     "text": [
      "\tperte entrainement: 2.28 | perte de validation : 2.22\n"
     ]
    },
    {
     "data": {
      "application/vnd.jupyter.widget-view+json": {
       "model_id": "3233bb3b53f84338a8d8c49446e09a31",
       "version_major": 2,
       "version_minor": 0
      },
      "text/plain": [
       "epoch # 3 / 20:   0%|          | 0/515 [00:00<?, ?it/s]"
      ]
     },
     "metadata": {},
     "output_type": "display_data"
    },
    {
     "name": "stdout",
     "output_type": "stream",
     "text": [
      "\tperte entrainement: 2.19 | perte de validation : 2.14\n"
     ]
    },
    {
     "data": {
      "application/vnd.jupyter.widget-view+json": {
       "model_id": "a103492924b04d729fb8ed08554944ab",
       "version_major": 2,
       "version_minor": 0
      },
      "text/plain": [
       "epoch # 4 / 20:   0%|          | 0/515 [00:00<?, ?it/s]"
      ]
     },
     "metadata": {},
     "output_type": "display_data"
    },
    {
     "name": "stdout",
     "output_type": "stream",
     "text": [
      "\tperte entrainement: 2.29 | perte de validation : 2.07\n"
     ]
    },
    {
     "data": {
      "application/vnd.jupyter.widget-view+json": {
       "model_id": "d4e272b9274b482aae32d86b060daebc",
       "version_major": 2,
       "version_minor": 0
      },
      "text/plain": [
       "epoch # 5 / 20:   0%|          | 0/515 [00:00<?, ?it/s]"
      ]
     },
     "metadata": {},
     "output_type": "display_data"
    },
    {
     "name": "stdout",
     "output_type": "stream",
     "text": [
      "\tperte entrainement: 1.90 | perte de validation : 2.02\n"
     ]
    },
    {
     "data": {
      "application/vnd.jupyter.widget-view+json": {
       "model_id": "b7375baafd8641a29cd34c3f1f824a37",
       "version_major": 2,
       "version_minor": 0
      },
      "text/plain": [
       "epoch # 6 / 20:   0%|          | 0/515 [00:00<?, ?it/s]"
      ]
     },
     "metadata": {},
     "output_type": "display_data"
    },
    {
     "name": "stdout",
     "output_type": "stream",
     "text": [
      "\tperte entrainement: 2.01 | perte de validation : 1.99\n"
     ]
    },
    {
     "data": {
      "application/vnd.jupyter.widget-view+json": {
       "model_id": "276af08bd70344dca45c265466ce0114",
       "version_major": 2,
       "version_minor": 0
      },
      "text/plain": [
       "epoch # 7 / 20:   0%|          | 0/515 [00:00<?, ?it/s]"
      ]
     },
     "metadata": {},
     "output_type": "display_data"
    },
    {
     "name": "stdout",
     "output_type": "stream",
     "text": [
      "\tperte entrainement: 1.95 | perte de validation : 1.96\n"
     ]
    },
    {
     "data": {
      "application/vnd.jupyter.widget-view+json": {
       "model_id": "28ff2f93ed394d4fb548cd0fabb9bcfc",
       "version_major": 2,
       "version_minor": 0
      },
      "text/plain": [
       "epoch # 8 / 20:   0%|          | 0/515 [00:00<?, ?it/s]"
      ]
     },
     "metadata": {},
     "output_type": "display_data"
    },
    {
     "name": "stdout",
     "output_type": "stream",
     "text": [
      "\tperte entrainement: 1.91 | perte de validation : 1.94\n"
     ]
    },
    {
     "data": {
      "application/vnd.jupyter.widget-view+json": {
       "model_id": "71c64ef6db4e4fedaa2b9e165b632f3f",
       "version_major": 2,
       "version_minor": 0
      },
      "text/plain": [
       "epoch # 9 / 20:   0%|          | 0/515 [00:00<?, ?it/s]"
      ]
     },
     "metadata": {},
     "output_type": "display_data"
    },
    {
     "name": "stdout",
     "output_type": "stream",
     "text": [
      "\tperte entrainement: 1.92 | perte de validation : 1.91\n"
     ]
    },
    {
     "data": {
      "application/vnd.jupyter.widget-view+json": {
       "model_id": "7bdc752ec0024ac0abfa977c3f3f6a5a",
       "version_major": 2,
       "version_minor": 0
      },
      "text/plain": [
       "epoch #10 / 20:   0%|          | 0/515 [00:00<?, ?it/s]"
      ]
     },
     "metadata": {},
     "output_type": "display_data"
    },
    {
     "name": "stdout",
     "output_type": "stream",
     "text": [
      "\tperte entrainement: 1.78 | perte de validation : 1.90\n"
     ]
    },
    {
     "data": {
      "application/vnd.jupyter.widget-view+json": {
       "model_id": "8c2434ad4e214b07991e772de2fefa74",
       "version_major": 2,
       "version_minor": 0
      },
      "text/plain": [
       "epoch #11 / 20:   0%|          | 0/515 [00:00<?, ?it/s]"
      ]
     },
     "metadata": {},
     "output_type": "display_data"
    },
    {
     "name": "stdout",
     "output_type": "stream",
     "text": [
      "\tperte entrainement: 1.86 | perte de validation : 1.89\n"
     ]
    },
    {
     "data": {
      "application/vnd.jupyter.widget-view+json": {
       "model_id": "6ded37db5187469d8cf8cabbeee45eb7",
       "version_major": 2,
       "version_minor": 0
      },
      "text/plain": [
       "epoch #12 / 20:   0%|          | 0/515 [00:00<?, ?it/s]"
      ]
     },
     "metadata": {},
     "output_type": "display_data"
    },
    {
     "name": "stdout",
     "output_type": "stream",
     "text": [
      "\tperte entrainement: 1.87 | perte de validation : 1.88\n"
     ]
    },
    {
     "data": {
      "application/vnd.jupyter.widget-view+json": {
       "model_id": "9b968452e862406dba4c8906f3db380a",
       "version_major": 2,
       "version_minor": 0
      },
      "text/plain": [
       "epoch #13 / 20:   0%|          | 0/515 [00:00<?, ?it/s]"
      ]
     },
     "metadata": {},
     "output_type": "display_data"
    },
    {
     "name": "stdout",
     "output_type": "stream",
     "text": [
      "\tperte entrainement: 2.02 | perte de validation : 1.86\n"
     ]
    },
    {
     "data": {
      "application/vnd.jupyter.widget-view+json": {
       "model_id": "fcbb6db66554416681bd2e8c17956754",
       "version_major": 2,
       "version_minor": 0
      },
      "text/plain": [
       "epoch #14 / 20:   0%|          | 0/515 [00:00<?, ?it/s]"
      ]
     },
     "metadata": {},
     "output_type": "display_data"
    },
    {
     "name": "stdout",
     "output_type": "stream",
     "text": [
      "\tperte entrainement: 1.81 | perte de validation : 1.85\n"
     ]
    },
    {
     "data": {
      "application/vnd.jupyter.widget-view+json": {
       "model_id": "11783983f76c42648a62056a2743c73c",
       "version_major": 2,
       "version_minor": 0
      },
      "text/plain": [
       "epoch #15 / 20:   0%|          | 0/515 [00:00<?, ?it/s]"
      ]
     },
     "metadata": {},
     "output_type": "display_data"
    },
    {
     "name": "stdout",
     "output_type": "stream",
     "text": [
      "\tperte entrainement: 1.80 | perte de validation : 1.84\n"
     ]
    },
    {
     "data": {
      "application/vnd.jupyter.widget-view+json": {
       "model_id": "21db5ef0ee5c4d2daa3077a031e7359b",
       "version_major": 2,
       "version_minor": 0
      },
      "text/plain": [
       "epoch #16 / 20:   0%|          | 0/515 [00:00<?, ?it/s]"
      ]
     },
     "metadata": {},
     "output_type": "display_data"
    },
    {
     "name": "stdout",
     "output_type": "stream",
     "text": [
      "\tperte entrainement: 1.77 | perte de validation : 1.83\n"
     ]
    },
    {
     "data": {
      "application/vnd.jupyter.widget-view+json": {
       "model_id": "a97677d07edb4f6a895a2c5ce68b1b64",
       "version_major": 2,
       "version_minor": 0
      },
      "text/plain": [
       "epoch #17 / 20:   0%|          | 0/515 [00:00<?, ?it/s]"
      ]
     },
     "metadata": {},
     "output_type": "display_data"
    },
    {
     "name": "stdout",
     "output_type": "stream",
     "text": [
      "\tperte entrainement: 1.78 | perte de validation : 1.83\n"
     ]
    },
    {
     "data": {
      "application/vnd.jupyter.widget-view+json": {
       "model_id": "0933124df7ed489994109d8a9d97bf6e",
       "version_major": 2,
       "version_minor": 0
      },
      "text/plain": [
       "epoch #18 / 20:   0%|          | 0/515 [00:00<?, ?it/s]"
      ]
     },
     "metadata": {},
     "output_type": "display_data"
    },
    {
     "name": "stdout",
     "output_type": "stream",
     "text": [
      "\tperte entrainement: 1.73 | perte de validation : 1.82\n"
     ]
    },
    {
     "data": {
      "application/vnd.jupyter.widget-view+json": {
       "model_id": "f3600864099d47b48977e929e015eb61",
       "version_major": 2,
       "version_minor": 0
      },
      "text/plain": [
       "epoch #19 / 20:   0%|          | 0/515 [00:00<?, ?it/s]"
      ]
     },
     "metadata": {},
     "output_type": "display_data"
    },
    {
     "name": "stdout",
     "output_type": "stream",
     "text": [
      "\tperte entrainement: 1.70 | perte de validation : 1.81\n"
     ]
    },
    {
     "data": {
      "application/vnd.jupyter.widget-view+json": {
       "model_id": "502206ae1de84c4984a761ec645bf39d",
       "version_major": 2,
       "version_minor": 0
      },
      "text/plain": [
       "epoch #20 / 20:   0%|          | 0/515 [00:00<?, ?it/s]"
      ]
     },
     "metadata": {},
     "output_type": "display_data"
    },
    {
     "name": "stdout",
     "output_type": "stream",
     "text": [
      "\tperte entrainement: 1.88 | perte de validation : 1.81\n"
     ]
    }
   ],
   "source": [
    "model.train()\n",
    "train_dataloader = DataLoader(train_dataset, batch_size=batch_size, shuffle=True)\n",
    "test_dataloader = DataLoader(test_dataset, batch_size=batch_size, shuffle=True)\n",
    "\n",
    "for epoch in trange(epochs, desc=\"Entrainement\"):\n",
    "    train_loss = 0\n",
    "    for X, y in tqdm(train_dataloader, total=len(train_dataloader), desc=f\"epoch #{epoch+1:2d} / {epochs}\"):\n",
    "        X = X.to(device) # (B, S)\n",
    "        y = y.to(device) # (B, S)\n",
    "\n",
    "        logits = model(X) # (B, S, vocab_size)\n",
    "\n",
    "        loss = F.cross_entropy(\n",
    "            logits.view(-1, logits.size(-1)),\n",
    "            y.view(-1).long(),\n",
    "            ignore_index=tokenizer.char_to_int[PAD]\n",
    "            )\n",
    "        train_loss += loss\n",
    "        optim.zero_grad()\n",
    "        loss.backward()\n",
    "        optim.step()\n",
    "\n",
    "    train_loss /= len(train_dataloader)\n",
    "\n",
    "    model.eval()\n",
    "    with torch.no_grad():\n",
    "        val_loss = 0\n",
    "        for j, (X, y) in enumerate(test_dataloader):\n",
    "            X = X.to(device) # (B, S)\n",
    "            y = y.to(device) # (B, S)\n",
    "            logits = model(X) # (B, S, vocab_size)\n",
    "            val_loss += F.cross_entropy(\n",
    "                logits.view(-1, logits.size(-1)),\n",
    "                y.view(-1).long(),\n",
    "                ignore_index=tokenizer.char_to_int[PAD]\n",
    "                ).item()\n",
    "        val_loss /= len(test_dataloader)\n",
    "        \n",
    "    print(f\"\\tperte entrainement: {loss.item():.2f} | perte de validation : {val_loss:.2f}\")\n",
    "    model.train()\n",
    "\n",
    "model.eval();"
   ]
  },
  {
   "cell_type": "markdown",
   "metadata": {},
   "source": [
    "### Sauvegarde des poids du modèle\n",
    "\n",
    "> Conseil(s) : si vous souhaitez entrainer plusieurs fois le même modèle avec des hyperparamètres différentes, initialiser la variable `timestamp` ci-dessous à `True`. Cela provoquera l'ajout d'un marqueur temporel au format \"`YYYYMMDD-HHMMSS`\" dans le nom du fichier."
   ]
  },
  {
   "cell_type": "code",
   "execution_count": 19,
   "metadata": {},
   "outputs": [],
   "source": [
    "timestamp = False\n",
    "filename = f\"./weights/model_{d_model}__{n_heads}_heads__{n_layers}_layers\"\n",
    "if timestamp:\n",
    "    filename += \"__\" + datetime.datetime.now().strftime(\"%Y%M%d-%I%M%S\")\n",
    "filename += \".pth\"\n",
    "torch.save(model.state_dict(), filename)"
   ]
  },
  {
   "cell_type": "markdown",
   "metadata": {},
   "source": [
    "Si dans l'environnement Colab, sauvegarde dans Google Drive pour utiliser le fichier sauvé dans un autre carnet."
   ]
  },
  {
   "cell_type": "code",
   "execution_count": 20,
   "metadata": {},
   "outputs": [],
   "source": [
    "if IN_COLAB:\n",
    "  from google.colab import drive\n",
    "  if not Path('/content/drive').exists():\n",
    "    drive.mount('/content/drive')\n",
    "  target_dir_drive = '/content/drive/MyDrive'\n",
    "  if not Path(f\"{target_dir_drive}/{repo}\").exists() :\n",
    "    !mkdir {target_dir_drive}/{repo}\n",
    "  filename_drive = filename.replace(\"/weights/\", f\"/{repo}/\")\n",
    "  !cp {target_dir}/{filename} {target_dir_drive}/{filename_drive}"
   ]
  },
  {
   "cell_type": "markdown",
   "metadata": {},
   "source": [
    "Chargement des poids du modèle appris si nécassaires, pour éviter la phase d'apprentissage, et s'ils ont déjà été sauvés. Autrement, possibilité d'utiliser le fichier `./weights/solutions/model_32__4_heads__1_layers.pth` en remplacement si besoin."
   ]
  },
  {
   "cell_type": "code",
   "execution_count": 21,
   "metadata": {},
   "outputs": [],
   "source": [
    "do_load_model = False # mettre à True four forcer le chargement"
   ]
  },
  {
   "cell_type": "code",
   "execution_count": 22,
   "metadata": {},
   "outputs": [],
   "source": [
    "def load_transformer_model(filename: str, config: TransformerConfig, device=\"cpu\", verbose: bool = True, class_model=LanguageModel):\n",
    "    model = class_model(config)\n",
    "    model.load_state_dict(\n",
    "        torch.load(filename, map_location=torch.device('cpu'), weights_only=True)\n",
    "        )\n",
    "    if verbose:\n",
    "        print(model)\n",
    "    return model.to(device)"
   ]
  },
  {
   "cell_type": "code",
   "execution_count": 23,
   "metadata": {},
   "outputs": [],
   "source": [
    "if do_load_model:\n",
    "    filename = \"./weights/model_32__4_heads__1_layers.pth\" # A modifier selon le contexte\n",
    "    model = load_transformer_model(filename, config=config, device=device)"
   ]
  },
  {
   "cell_type": "markdown",
   "metadata": {},
   "source": [
    "Calcul de la perte sur l'ensemble (et non par batch) de chaque jeux de données à la fin de l'entrainement :"
   ]
  },
  {
   "cell_type": "code",
   "execution_count": 24,
   "metadata": {},
   "outputs": [
    {
     "name": "stdout",
     "output_type": "stream",
     "text": [
      "total train loss : 1.79\n",
      "total val loss   : 1.81\n"
     ]
    }
   ],
   "source": [
    "X = train_dataset.X[:, :-1].to(device) # (B, S)\n",
    "y = train_dataset.X[:, 1:].long().to(device) # (B, S)\n",
    "logits = model(X) # (B, S, vocab_size)\n",
    "loss = F.cross_entropy(logits.view(-1, logits.size(-1)), y.view(-1), ignore_index=tokenizer.char_to_int[PAD])\n",
    "print(f\"total train loss : {loss.item():.2f}\")\n",
    "\n",
    "X = test_dataset.X[:, :-1].to(device) # (B, S)\n",
    "y = test_dataset.X[:, 1:].long().to(device) # (B, S)\n",
    "logits = model(X) # (B, S, vocab_size)\n",
    "loss = F.cross_entropy(logits.view(-1, logits.size(-1)), y.view(-1), ignore_index=tokenizer.char_to_int[PAD])\n",
    "print(f\"total val loss   : {loss.item():.2f}\")"
   ]
  },
  {
   "cell_type": "markdown",
   "metadata": {},
   "source": [
    "Vous devriez des valeurs inférieures ou autour de $1,80$."
   ]
  },
  {
   "cell_type": "markdown",
   "metadata": {},
   "source": [
    "## Génération de noms de commune"
   ]
  },
  {
   "cell_type": "markdown",
   "metadata": {},
   "source": [
    "Définition de la fonction de génération des noms de communes, basée sur une méthode de probabilité (et non \"greedy\", ou \"beam\")."
   ]
  },
  {
   "cell_type": "code",
   "execution_count": 25,
   "metadata": {},
   "outputs": [],
   "source": [
    "def sample(model: LanguageModel, tokenizer: CharTokenizer, prompt: str = \"\", device=\"cpu\", g = None) -> str:\n",
    "    idx = torch.tensor(\n",
    "        [tokenizer.char_to_int[SOS]] + tokenizer(prompt),\n",
    "        dtype=torch.int32,\n",
    "        device=device\n",
    "        ).unsqueeze(0)\n",
    "    \n",
    "    next_id = -1\n",
    "\n",
    "    while next_id != tokenizer.char_to_int[EOS]:\n",
    "        logits = model(idx) # (1, len_s, d_model)\n",
    "\n",
    "        # calcul des probas pour chaque élément du vocabulaire\n",
    "        probs = F.softmax(logits[:, -1, :], dim=-1)\n",
    "        # tirage au sort en prenant en compte ces probas\n",
    "        next_id = torch.multinomial(probs, num_samples=1, generator=g).item()\n",
    "        # concaténation\n",
    "        idx = torch.cat([idx, torch.tensor(next_id, device=device).view(1, 1)], dim=1)\n",
    "\n",
    "        if idx.shape[1] > model.config.max_len:\n",
    "            break\n",
    "    \n",
    "    return tokenizer.to_string(idx[0].tolist())"
   ]
  },
  {
   "cell_type": "markdown",
   "metadata": {},
   "source": [
    "### EXERCICE(S) : Génération de noms de commune\n",
    "\n",
    "Utiliser plusieurs fois la fonction `sample()` pour générer une vingtaine de noms de communes, en indiquant différentes valeurs (dont `\"\"`) de `prompt`."
   ]
  },
  {
   "cell_type": "markdown",
   "metadata": {},
   "source": [
    "<details> \n",
    "<summary>Elements d'énoncé</summary>\n",
    "\n",
    "```python\n",
    "### EXERCICE : compléter ce bloc avec les bonnes instructions \n",
    "# DEBUT DE BLOC\n",
    "### EXERCICE : à compléter\n",
    "# FIN DE BLOC\n",
    "\n",
    "### EXERCICE : compléter ce bloc avec les bonnes instructions \n",
    "# DEBUT DE BLOC\n",
    "### EXERCICE : à compléter\n",
    "# FIN DE BLOC\n",
    "````\n",
    "\n",
    "</details>"
   ]
  },
  {
   "cell_type": "markdown",
   "metadata": {},
   "source": [
    "> Solution(s) :"
   ]
  },
  {
   "cell_type": "code",
   "execution_count": null,
   "metadata": {},
   "outputs": [
    {
     "name": "stdout",
     "output_type": "stream",
     "text": [
      "barsach\n",
      "baliel-saint-cauras\n",
      "lojon\n",
      "peivre\n",
      "boisseaz\n",
      "plotre-eimon\n",
      "saint-seufort\n",
      "sjoules-saint-anme-boiron\n",
      "mayragne\n",
      "tieux\n",
      "nauffotterri\n",
      "vaulzielle\n",
      "saint-crot-soyan\n",
      "baudet\n",
      "lauveres\n",
      "saint-poutuloff\n",
      "draialle\n",
      "la rour\n",
      "joulines\n",
      "fasache\n",
      "saint-pay\n",
      "fuilcourtix\n",
      "châtellabre-vergolas\n",
      "bresqueville-le-bagnerant\n",
      "freuret\n"
     ]
    }
   ],
   "source": [
    "### EXERCICE : compléter ce bloc avec les bonnes instructions \n",
    "# DEBUT DE BLOC\n",
    "### EXERCICE : à compléter\n",
    "for _ in range(25):\n",
    "    print(sample(model, tokenizer, prompt=\"\", device=device, g=pth_rnd_gen))\n",
    "# FIN DE BLOC"
   ]
  },
  {
   "cell_type": "code",
   "execution_count": null,
   "metadata": {},
   "outputs": [
    {
     "name": "stdout",
     "output_type": "stream",
     "text": [
      "la vauloux-thuselle\n",
      "lans-ethiden\n",
      "la musac\n",
      "lave-canville\n",
      "larot\n",
      "la pigjac\n",
      "lafougne\n",
      "la foussin\n",
      "lairouvesq\n",
      "lagax\n",
      "lac-sartières-neneil\n",
      "laaistey\n",
      "la hapcap-de-aiterreud-calares\n",
      "la ven\n",
      "laye\n",
      "la fousset\n",
      "la perne-de-corguis\n",
      "lantert\n",
      "lanvainphe\n",
      "lacous-sur-anon\n",
      "laudou-sapert\n",
      "larennes\n",
      "la pottelle\n",
      "la fauville-saintellers\n",
      "la celle-des-toudliès\n"
     ]
    }
   ],
   "source": [
    "### EXERCICE : compléter ce bloc avec les bonnes instructions \n",
    "# DEBUT DE BLOC\n",
    "### EXERCICE : à compléter\n",
    "for _ in range(25):\n",
    "    print(sample(model, tokenizer, prompt=\"la\", device=device, g=pth_rnd_gen))\n",
    "# FIN DE BLOC"
   ]
  },
  {
   "cell_type": "markdown",
   "metadata": {},
   "source": [
    "### EXERCICE(S) : Etudes statistiques sur un jeu de donneés générées\n",
    "\n",
    "Retrouve-t-on les distributions constatées en explorant les données ? Générez une certain nombre de noms de communes et comparez.\n",
    "\n",
    "Les méthodes de calcul présentes dans le carnet de la première partie ont été factorisées sous forme de fonctions dans la librairie `utils` (plus exactement dans le fichier `./utils/data_explo.py`), et sont importées dans ce carnet par le code ci-dessous :"
   ]
  },
  {
   "cell_type": "code",
   "execution_count": 28,
   "metadata": {},
   "outputs": [],
   "source": [
    "from utils import freq_distribution, freq_char, rate_freq_by_position, freq_composition_element, composition_distribution"
   ]
  },
  {
   "cell_type": "markdown",
   "metadata": {},
   "source": [
    "Avec :\n",
    "- `freq_distribution()` retourne la distribution de la longueur des noms et retourne les valeurs;\n",
    "- `freq_char()` affiche le tableau des fréquences des caractères dans les noms;\n",
    "- `rate_freq_by_position()` affiche le graphique des taux de fréquence par rapport aux positions dans la chaîne de caractères;\n",
    "- `freq_composition_element()` affiche les tableaux de fréquences des composants de nom;\n",
    "- `composition_distribution()` affiche le tableau et le graphique de la distribution du nombre de composants de noms de communes et leur distribution.\n",
    "\n",
    "Parcourez le fichier `utils/data_explo.py` pour comprendre leur utilisation (c'est assez facile)."
   ]
  },
  {
   "cell_type": "markdown",
   "metadata": {},
   "source": [
    "Générez 1000 noms de communes et constatez les différents résultats statistiques obtenus avec les mêmes méthodes que dans la partie 1.\n",
    "\n",
    "> *Conseils : manipulation d'un Dataframe Pandas qui contiendra les noms de communes générés et initialement stoqués dans une liste simple (Temps de génération sur Colab avec un T4 : autour de 2 minutes)."
   ]
  },
  {
   "cell_type": "markdown",
   "metadata": {},
   "source": [
    "<details> \n",
    "<summary>Eléments d'énoncé</summary>\n",
    "\n",
    "```python\n",
    "# Génération d'une liste de noms de commune\n",
    "### EXERCICE : compléter ce bloc avec les bonnes instructions\n",
    "# DEBUT DE BLOC\n",
    "communes = []\n",
    "N = 1000\n",
    "\n",
    "### EXERCICE : à compléter\n",
    "\n",
    "df = pd.DataFrame(communes, columns=[\"nom\"])\n",
    "df[\"nom\"].describe()\n",
    "display(df[\"nom\"].sample(20))\n",
    "# FIN DE BLOC\n",
    "\n",
    "# Avec `freq_distribution()` : la distribution de la longueur des noms;\n",
    "### EXERCICE : compléter ce bloc avec les bonnes instructions\n",
    "# DEBUT DE BLOC\n",
    "# FIN DE BLOC\n",
    "\n",
    "# Avec `freq_char()` : la fréquences des caractères dans les noms;\n",
    "### EXERCICE : compléter ce bloc avec les bonnes instructions\n",
    "# DEBUT DE BLOC\n",
    "# FIN DE BLOC\n",
    "\n",
    "# Avec `rate_freq_by_position()` le taux de fréquence par rapport aux positions dans la chaîne de caractères;\n",
    "### EXERCICE : compléter ce bloc avec les bonnes instructions\n",
    "# DEBUT DE BLOC\n",
    "# FIN DE BLOC\n",
    "\n",
    "# Avec `freq_composition_element()` la fréquence des composants de nom;\n",
    "### EXERCICE : compléter ce bloc avec les bonnes instructions\n",
    "# DEBUT DE BLOC\n",
    "# FIN DE BLOC\n",
    "\n",
    "# Avec `composition_distribution()` le nombre de composant de noms de communes et leur distribution.\n",
    "### EXERCICE : compléter ce bloc avec les bonnes instructions\n",
    "# DEBUT DE BLOC\n",
    "# FIN DE BLOC\n",
    "```\n",
    "</details>"
   ]
  },
  {
   "cell_type": "markdown",
   "metadata": {},
   "source": [
    "> Solution(s) :"
   ]
  },
  {
   "cell_type": "code",
   "execution_count": 29,
   "metadata": {},
   "outputs": [
    {
     "data": {
      "application/vnd.jupyter.widget-view+json": {
       "model_id": "4dbc925a129a44f98595a6c75c1d1ee3",
       "version_major": 2,
       "version_minor": 0
      },
      "text/plain": [
       "  0%|          | 0/1000 [00:00<?, ?it/s]"
      ]
     },
     "metadata": {},
     "output_type": "display_data"
    },
    {
     "data": {
      "text/plain": [
       "544                         croyé\n",
       "612         la harvière-de-bardon\n",
       "632                      bayblion\n",
       "337                       prigray\n",
       "480                          pouc\n",
       "653            saint-julieux-vine\n",
       "104    grac-loutte-en-du-bargante\n",
       "291                       garmers\n",
       "812          puillers-villac-haux\n",
       "634                       saussay\n",
       "239                       charnay\n",
       "406                     la champs\n",
       "147        le rochelle-la-berthad\n",
       "870                        ieuroé\n",
       "821                     vioromast\n",
       "372                 landouil-soze\n",
       "849                         serna\n",
       "743                    siermecoûr\n",
       "9                          ilouel\n",
       "131            ville-le-fousserse\n",
       "Name: nom, dtype: object"
      ]
     },
     "metadata": {},
     "output_type": "display_data"
    }
   ],
   "source": [
    "# Génération d'une liste de noms de commune\n",
    "### EXERCICE : compléter ce bloc avec les bonnes instructions\n",
    "# DEBUT DE BLOC\n",
    "communes = []\n",
    "N = 1000\n",
    "\n",
    "### EXERCICE : à compléter\n",
    "for _ in trange(N):\n",
    "    communes.append(sample(model, tokenizer, prompt=\"\", device=device, g=pth_rnd_gen))\n",
    "    \n",
    "df = pd.DataFrame(communes, columns=[\"nom\"])\n",
    "df[\"nom\"].describe()\n",
    "display(df[\"nom\"].sample(20))\n",
    "# FIN DE BLOC"
   ]
  },
  {
   "cell_type": "code",
   "execution_count": 30,
   "metadata": {},
   "outputs": [
    {
     "data": {
      "image/png": "[encoded data removed]",
      "text/plain": [
       "<Figure size 1200x800 with 1 Axes>"
      ]
     },
     "metadata": {},
     "output_type": "display_data"
    },
    {
     "data": {
      "text/plain": [
       "count    1000.000000\n",
       "mean       11.779000\n",
       "std         5.949921\n",
       "min         1.000000\n",
       "25%         7.000000\n",
       "50%        10.000000\n",
       "75%        16.000000\n",
       "max        31.000000\n",
       "Name: nom, dtype: float64"
      ]
     },
     "execution_count": 30,
     "metadata": {},
     "output_type": "execute_result"
    }
   ],
   "source": [
    "# Avec `freq_distribution()` : la distribution de la longueur des noms;\n",
    "### EXERCICE : compléter ce bloc avec les bonnes instructions\n",
    "# DEBUT DE BLOC\n",
    "lengths = freq_distribution(df['nom'])\n",
    "lengths.describe()\n",
    "# FIN DE BLOC"
   ]
  },
  {
   "cell_type": "code",
   "execution_count": 31,
   "metadata": {},
   "outputs": [
    {
     "name": "stdout",
     "output_type": "stream",
     "text": [
      "Nombre de caractères distincts : 38\n"
     ]
    },
    {
     "data": {
      "text/html": [
       "<div>\n",
       "<style scoped>\n",
       "    .dataframe tbody tr th:only-of-type {\n",
       "        vertical-align: middle;\n",
       "    }\n",
       "\n",
       "    .dataframe tbody tr th {\n",
       "        vertical-align: top;\n",
       "    }\n",
       "\n",
       "    .dataframe thead th {\n",
       "        text-align: right;\n",
       "    }\n",
       "</style>\n",
       "<table border=\"1\" class=\"dataframe\">\n",
       "  <thead>\n",
       "    <tr style=\"text-align: right;\">\n",
       "      <th></th>\n",
       "      <th>Caractère</th>\n",
       "      <th>Fréquence</th>\n",
       "      <th>Ratio Freq (%)</th>\n",
       "    </tr>\n",
       "  </thead>\n",
       "  <tbody>\n",
       "    <tr>\n",
       "      <th>3</th>\n",
       "      <td>e</td>\n",
       "      <td>1226</td>\n",
       "      <td>10.408354</td>\n",
       "    </tr>\n",
       "    <tr>\n",
       "      <th>0</th>\n",
       "      <td>a</td>\n",
       "      <td>1094</td>\n",
       "      <td>9.287715</td>\n",
       "    </tr>\n",
       "    <tr>\n",
       "      <th>4</th>\n",
       "      <td>s</td>\n",
       "      <td>935</td>\n",
       "      <td>7.937856</td>\n",
       "    </tr>\n",
       "    <tr>\n",
       "      <th>6</th>\n",
       "      <td>n</td>\n",
       "      <td>830</td>\n",
       "      <td>7.046439</td>\n",
       "    </tr>\n",
       "    <tr>\n",
       "      <th>14</th>\n",
       "      <td>l</td>\n",
       "      <td>825</td>\n",
       "      <td>7.003990</td>\n",
       "    </tr>\n",
       "    <tr>\n",
       "      <th>1</th>\n",
       "      <td>r</td>\n",
       "      <td>818</td>\n",
       "      <td>6.944562</td>\n",
       "    </tr>\n",
       "    <tr>\n",
       "      <th>5</th>\n",
       "      <td>i</td>\n",
       "      <td>795</td>\n",
       "      <td>6.749300</td>\n",
       "    </tr>\n",
       "    <tr>\n",
       "      <th>8</th>\n",
       "      <td>-</td>\n",
       "      <td>743</td>\n",
       "      <td>6.307836</td>\n",
       "    </tr>\n",
       "    <tr>\n",
       "      <th>13</th>\n",
       "      <td>o</td>\n",
       "      <td>631</td>\n",
       "      <td>5.356991</td>\n",
       "    </tr>\n",
       "    <tr>\n",
       "      <th>7</th>\n",
       "      <td>t</td>\n",
       "      <td>559</td>\n",
       "      <td>4.745734</td>\n",
       "    </tr>\n",
       "    <tr>\n",
       "      <th>19</th>\n",
       "      <td>u</td>\n",
       "      <td>556</td>\n",
       "      <td>4.720265</td>\n",
       "    </tr>\n",
       "    <tr>\n",
       "      <th>18</th>\n",
       "      <td>c</td>\n",
       "      <td>371</td>\n",
       "      <td>3.149673</td>\n",
       "    </tr>\n",
       "    <tr>\n",
       "      <th>9</th>\n",
       "      <td>m</td>\n",
       "      <td>305</td>\n",
       "      <td>2.589354</td>\n",
       "    </tr>\n",
       "    <tr>\n",
       "      <th>2</th>\n",
       "      <td>g</td>\n",
       "      <td>255</td>\n",
       "      <td>2.164870</td>\n",
       "    </tr>\n",
       "    <tr>\n",
       "      <th>24</th>\n",
       "      <td>v</td>\n",
       "      <td>247</td>\n",
       "      <td>2.096952</td>\n",
       "    </tr>\n",
       "    <tr>\n",
       "      <th>10</th>\n",
       "      <td>d</td>\n",
       "      <td>223</td>\n",
       "      <td>1.893200</td>\n",
       "    </tr>\n",
       "    <tr>\n",
       "      <th>16</th>\n",
       "      <td>b</td>\n",
       "      <td>211</td>\n",
       "      <td>1.791324</td>\n",
       "    </tr>\n",
       "    <tr>\n",
       "      <th>20</th>\n",
       "      <td>h</td>\n",
       "      <td>197</td>\n",
       "      <td>1.672468</td>\n",
       "    </tr>\n",
       "    <tr>\n",
       "      <th>23</th>\n",
       "      <td>p</td>\n",
       "      <td>190</td>\n",
       "      <td>1.613040</td>\n",
       "    </tr>\n",
       "    <tr>\n",
       "      <th>15</th>\n",
       "      <td>y</td>\n",
       "      <td>162</td>\n",
       "      <td>1.375329</td>\n",
       "    </tr>\n",
       "    <tr>\n",
       "      <th>17</th>\n",
       "      <td>é</td>\n",
       "      <td>135</td>\n",
       "      <td>1.146107</td>\n",
       "    </tr>\n",
       "    <tr>\n",
       "      <th>21</th>\n",
       "      <td>f</td>\n",
       "      <td>89</td>\n",
       "      <td>0.755582</td>\n",
       "    </tr>\n",
       "    <tr>\n",
       "      <th>12</th>\n",
       "      <td>z</td>\n",
       "      <td>76</td>\n",
       "      <td>0.645216</td>\n",
       "    </tr>\n",
       "    <tr>\n",
       "      <th>11</th>\n",
       "      <td>è</td>\n",
       "      <td>67</td>\n",
       "      <td>0.568809</td>\n",
       "    </tr>\n",
       "    <tr>\n",
       "      <th>29</th>\n",
       "      <td>x</td>\n",
       "      <td>65</td>\n",
       "      <td>0.551830</td>\n",
       "    </tr>\n",
       "    <tr>\n",
       "      <th>22</th>\n",
       "      <td></td>\n",
       "      <td>57</td>\n",
       "      <td>0.483912</td>\n",
       "    </tr>\n",
       "    <tr>\n",
       "      <th>26</th>\n",
       "      <td>q</td>\n",
       "      <td>33</td>\n",
       "      <td>0.280160</td>\n",
       "    </tr>\n",
       "    <tr>\n",
       "      <th>25</th>\n",
       "      <td>j</td>\n",
       "      <td>30</td>\n",
       "      <td>0.254691</td>\n",
       "    </tr>\n",
       "    <tr>\n",
       "      <th>27</th>\n",
       "      <td>â</td>\n",
       "      <td>12</td>\n",
       "      <td>0.101876</td>\n",
       "    </tr>\n",
       "    <tr>\n",
       "      <th>28</th>\n",
       "      <td>'</td>\n",
       "      <td>11</td>\n",
       "      <td>0.093387</td>\n",
       "    </tr>\n",
       "    <tr>\n",
       "      <th>31</th>\n",
       "      <td>w</td>\n",
       "      <td>10</td>\n",
       "      <td>0.084897</td>\n",
       "    </tr>\n",
       "    <tr>\n",
       "      <th>30</th>\n",
       "      <td>ô</td>\n",
       "      <td>6</td>\n",
       "      <td>0.050938</td>\n",
       "    </tr>\n",
       "    <tr>\n",
       "      <th>36</th>\n",
       "      <td>ç</td>\n",
       "      <td>4</td>\n",
       "      <td>0.033959</td>\n",
       "    </tr>\n",
       "    <tr>\n",
       "      <th>33</th>\n",
       "      <td>à</td>\n",
       "      <td>3</td>\n",
       "      <td>0.025469</td>\n",
       "    </tr>\n",
       "    <tr>\n",
       "      <th>34</th>\n",
       "      <td>ê</td>\n",
       "      <td>3</td>\n",
       "      <td>0.025469</td>\n",
       "    </tr>\n",
       "    <tr>\n",
       "      <th>32</th>\n",
       "      <td>k</td>\n",
       "      <td>2</td>\n",
       "      <td>0.016979</td>\n",
       "    </tr>\n",
       "    <tr>\n",
       "      <th>35</th>\n",
       "      <td>ë</td>\n",
       "      <td>2</td>\n",
       "      <td>0.016979</td>\n",
       "    </tr>\n",
       "    <tr>\n",
       "      <th>37</th>\n",
       "      <td>û</td>\n",
       "      <td>1</td>\n",
       "      <td>0.008490</td>\n",
       "    </tr>\n",
       "  </tbody>\n",
       "</table>\n",
       "</div>"
      ],
      "text/plain": [
       "   Caractère  Fréquence  Ratio Freq (%)\n",
       "3          e       1226       10.408354\n",
       "0          a       1094        9.287715\n",
       "4          s        935        7.937856\n",
       "6          n        830        7.046439\n",
       "14         l        825        7.003990\n",
       "1          r        818        6.944562\n",
       "5          i        795        6.749300\n",
       "8          -        743        6.307836\n",
       "13         o        631        5.356991\n",
       "7          t        559        4.745734\n",
       "19         u        556        4.720265\n",
       "18         c        371        3.149673\n",
       "9          m        305        2.589354\n",
       "2          g        255        2.164870\n",
       "24         v        247        2.096952\n",
       "10         d        223        1.893200\n",
       "16         b        211        1.791324\n",
       "20         h        197        1.672468\n",
       "23         p        190        1.613040\n",
       "15         y        162        1.375329\n",
       "17         é        135        1.146107\n",
       "21         f         89        0.755582\n",
       "12         z         76        0.645216\n",
       "11         è         67        0.568809\n",
       "29         x         65        0.551830\n",
       "22                   57        0.483912\n",
       "26         q         33        0.280160\n",
       "25         j         30        0.254691\n",
       "27         â         12        0.101876\n",
       "28         '         11        0.093387\n",
       "31         w         10        0.084897\n",
       "30         ô          6        0.050938\n",
       "36         ç          4        0.033959\n",
       "33         à          3        0.025469\n",
       "34         ê          3        0.025469\n",
       "32         k          2        0.016979\n",
       "35         ë          2        0.016979\n",
       "37         û          1        0.008490"
      ]
     },
     "metadata": {},
     "output_type": "display_data"
    }
   ],
   "source": [
    "# Avec `freq_char()` : la fréquences des caractères dans les noms;\n",
    "### EXERCICE : compléter ce bloc avec les bonnes instructions\n",
    "# DEBUT DE BLOC\n",
    "freq_char(df['nom'])\n",
    "# FIN DE BLOC"
   ]
  },
  {
   "cell_type": "code",
   "execution_count": 32,
   "metadata": {},
   "outputs": [
    {
     "data": {
      "image/png": "[encoded data removed]",
      "text/plain": [
       "<Figure size 1200x800 with 2 Axes>"
      ]
     },
     "metadata": {},
     "output_type": "display_data"
    }
   ],
   "source": [
    "# Avec `rate_freq_by_position()` le taux de fréquence par rapport aux positions dans la chaîne de caractères;\n",
    "### EXERCICE : compléter ce bloc avec les bonnes instructions\n",
    "# DEBUT DE BLOC\n",
    "rate_freq_by_position(df['nom'])\n",
    "# FIN DE BLOC"
   ]
  },
  {
   "cell_type": "code",
   "execution_count": 33,
   "metadata": {},
   "outputs": [
    {
     "name": "stdout",
     "output_type": "stream",
     "text": [
      "Nombre total de composants distincts : 1401\n",
      "dont 15 exemples :\n"
     ]
    },
    {
     "data": {
      "text/html": [
       "<div>\n",
       "<style scoped>\n",
       "    .dataframe tbody tr th:only-of-type {\n",
       "        vertical-align: middle;\n",
       "    }\n",
       "\n",
       "    .dataframe tbody tr th {\n",
       "        vertical-align: top;\n",
       "    }\n",
       "\n",
       "    .dataframe thead th {\n",
       "        text-align: right;\n",
       "    }\n",
       "</style>\n",
       "<table border=\"1\" class=\"dataframe\">\n",
       "  <thead>\n",
       "    <tr style=\"text-align: right;\">\n",
       "      <th></th>\n",
       "      <th>Élément</th>\n",
       "      <th>Fréquence</th>\n",
       "    </tr>\n",
       "  </thead>\n",
       "  <tbody>\n",
       "    <tr>\n",
       "      <th>669</th>\n",
       "      <td>main</td>\n",
       "      <td>2</td>\n",
       "    </tr>\n",
       "    <tr>\n",
       "      <th>1237</th>\n",
       "      <td>colroques</td>\n",
       "      <td>1</td>\n",
       "    </tr>\n",
       "    <tr>\n",
       "      <th>31</th>\n",
       "      <td>jarviès</td>\n",
       "      <td>1</td>\n",
       "    </tr>\n",
       "    <tr>\n",
       "      <th>73</th>\n",
       "      <td>vierroir</td>\n",
       "      <td>1</td>\n",
       "    </tr>\n",
       "    <tr>\n",
       "      <th>246</th>\n",
       "      <td>racy</td>\n",
       "      <td>1</td>\n",
       "    </tr>\n",
       "    <tr>\n",
       "      <th>1291</th>\n",
       "      <td>laffant</td>\n",
       "      <td>1</td>\n",
       "    </tr>\n",
       "    <tr>\n",
       "      <th>665</th>\n",
       "      <td>cyeux</td>\n",
       "      <td>1</td>\n",
       "    </tr>\n",
       "    <tr>\n",
       "      <th>722</th>\n",
       "      <td>arentor</td>\n",
       "      <td>1</td>\n",
       "    </tr>\n",
       "    <tr>\n",
       "      <th>1221</th>\n",
       "      <td>lantey</td>\n",
       "      <td>1</td>\n",
       "    </tr>\n",
       "    <tr>\n",
       "      <th>981</th>\n",
       "      <td>basmain</td>\n",
       "      <td>1</td>\n",
       "    </tr>\n",
       "    <tr>\n",
       "      <th>1229</th>\n",
       "      <td>ottellonce</td>\n",
       "      <td>1</td>\n",
       "    </tr>\n",
       "    <tr>\n",
       "      <th>937</th>\n",
       "      <td>i</td>\n",
       "      <td>1</td>\n",
       "    </tr>\n",
       "    <tr>\n",
       "      <th>428</th>\n",
       "      <td>domax</td>\n",
       "      <td>1</td>\n",
       "    </tr>\n",
       "    <tr>\n",
       "      <th>687</th>\n",
       "      <td>pouc</td>\n",
       "      <td>1</td>\n",
       "    </tr>\n",
       "    <tr>\n",
       "      <th>1130</th>\n",
       "      <td>astenos</td>\n",
       "      <td>1</td>\n",
       "    </tr>\n",
       "  </tbody>\n",
       "</table>\n",
       "</div>"
      ],
      "text/plain": [
       "         Élément  Fréquence\n",
       "669         main          2\n",
       "1237   colroques          1\n",
       "31       jarviès          1\n",
       "73      vierroir          1\n",
       "246         racy          1\n",
       "1291     laffant          1\n",
       "665        cyeux          1\n",
       "722      arentor          1\n",
       "1221      lantey          1\n",
       "981      basmain          1\n",
       "1229  ottellonce          1\n",
       "937            i          1\n",
       "428        domax          1\n",
       "687         pouc          1\n",
       "1130     astenos          1"
      ]
     },
     "metadata": {},
     "output_type": "display_data"
    },
    {
     "name": "stdout",
     "output_type": "stream",
     "text": [
      "Nombre total de composants présents plus d'une fois : 33\n",
      "dont les 15 premiers :\n"
     ]
    },
    {
     "data": {
      "text/html": [
       "<div>\n",
       "<style scoped>\n",
       "    .dataframe tbody tr th:only-of-type {\n",
       "        vertical-align: middle;\n",
       "    }\n",
       "\n",
       "    .dataframe tbody tr th {\n",
       "        vertical-align: top;\n",
       "    }\n",
       "\n",
       "    .dataframe thead th {\n",
       "        text-align: right;\n",
       "    }\n",
       "</style>\n",
       "<table border=\"1\" class=\"dataframe\">\n",
       "  <thead>\n",
       "    <tr style=\"text-align: right;\">\n",
       "      <th></th>\n",
       "      <th>Élément</th>\n",
       "      <th>Fréquence</th>\n",
       "    </tr>\n",
       "  </thead>\n",
       "  <tbody>\n",
       "    <tr>\n",
       "      <th>1</th>\n",
       "      <td>saint</td>\n",
       "      <td>125</td>\n",
       "    </tr>\n",
       "    <tr>\n",
       "      <th>13</th>\n",
       "      <td>la</td>\n",
       "      <td>61</td>\n",
       "    </tr>\n",
       "    <tr>\n",
       "      <th>34</th>\n",
       "      <td>sur</td>\n",
       "      <td>53</td>\n",
       "    </tr>\n",
       "    <tr>\n",
       "      <th>83</th>\n",
       "      <td>le</td>\n",
       "      <td>42</td>\n",
       "    </tr>\n",
       "    <tr>\n",
       "      <th>9</th>\n",
       "      <td>de</td>\n",
       "      <td>33</td>\n",
       "    </tr>\n",
       "    <tr>\n",
       "      <th>6</th>\n",
       "      <td>en</td>\n",
       "      <td>27</td>\n",
       "    </tr>\n",
       "    <tr>\n",
       "      <th>87</th>\n",
       "      <td>les</td>\n",
       "      <td>13</td>\n",
       "    </tr>\n",
       "    <tr>\n",
       "      <th>136</th>\n",
       "      <td>du</td>\n",
       "      <td>10</td>\n",
       "    </tr>\n",
       "    <tr>\n",
       "      <th>272</th>\n",
       "      <td>lès</td>\n",
       "      <td>7</td>\n",
       "    </tr>\n",
       "    <tr>\n",
       "      <th>3</th>\n",
       "      <td>des</td>\n",
       "      <td>7</td>\n",
       "    </tr>\n",
       "    <tr>\n",
       "      <th>86</th>\n",
       "      <td>ville</td>\n",
       "      <td>7</td>\n",
       "    </tr>\n",
       "    <tr>\n",
       "      <th>266</th>\n",
       "      <td>d</td>\n",
       "      <td>7</td>\n",
       "    </tr>\n",
       "    <tr>\n",
       "      <th>59</th>\n",
       "      <td>mont</td>\n",
       "      <td>5</td>\n",
       "    </tr>\n",
       "    <tr>\n",
       "      <th>617</th>\n",
       "      <td>et</td>\n",
       "      <td>4</td>\n",
       "    </tr>\n",
       "    <tr>\n",
       "      <th>200</th>\n",
       "      <td>sous</td>\n",
       "      <td>3</td>\n",
       "    </tr>\n",
       "  </tbody>\n",
       "</table>\n",
       "</div>"
      ],
      "text/plain": [
       "    Élément  Fréquence\n",
       "1     saint        125\n",
       "13       la         61\n",
       "34      sur         53\n",
       "83       le         42\n",
       "9        de         33\n",
       "6        en         27\n",
       "87      les         13\n",
       "136      du         10\n",
       "272     lès          7\n",
       "3       des          7\n",
       "86    ville          7\n",
       "266       d          7\n",
       "59     mont          5\n",
       "617      et          4\n",
       "200    sous          3"
      ]
     },
     "metadata": {},
     "output_type": "display_data"
    }
   ],
   "source": [
    "# Avec `freq_composition_element()` la fréquence des composants de nom;\n",
    "### EXERCICE : compléter ce bloc avec les bonnes instructions\n",
    "# DEBUT DE BLOC\n",
    "freq_composition_element(df['nom'])\n",
    "# FIN DE BLOC"
   ]
  },
  {
   "cell_type": "code",
   "execution_count": 34,
   "metadata": {},
   "outputs": [
    {
     "name": "stdout",
     "output_type": "stream",
     "text": [
      "Distribution de la fréquence du nombre de composants (en valeur) :\n"
     ]
    },
    {
     "data": {
      "text/html": [
       "<div>\n",
       "<style scoped>\n",
       "    .dataframe tbody tr th:only-of-type {\n",
       "        vertical-align: middle;\n",
       "    }\n",
       "\n",
       "    .dataframe tbody tr th {\n",
       "        vertical-align: top;\n",
       "    }\n",
       "\n",
       "    .dataframe thead th {\n",
       "        text-align: right;\n",
       "    }\n",
       "</style>\n",
       "<table border=\"1\" class=\"dataframe\">\n",
       "  <thead>\n",
       "    <tr style=\"text-align: right;\">\n",
       "      <th></th>\n",
       "      <th>count</th>\n",
       "    </tr>\n",
       "    <tr>\n",
       "      <th>nom</th>\n",
       "      <th></th>\n",
       "    </tr>\n",
       "  </thead>\n",
       "  <tbody>\n",
       "    <tr>\n",
       "      <th>1</th>\n",
       "      <td>560</td>\n",
       "    </tr>\n",
       "    <tr>\n",
       "      <th>2</th>\n",
       "      <td>172</td>\n",
       "    </tr>\n",
       "    <tr>\n",
       "      <th>3</th>\n",
       "      <td>180</td>\n",
       "    </tr>\n",
       "    <tr>\n",
       "      <th>4</th>\n",
       "      <td>75</td>\n",
       "    </tr>\n",
       "    <tr>\n",
       "      <th>5</th>\n",
       "      <td>11</td>\n",
       "    </tr>\n",
       "    <tr>\n",
       "      <th>6</th>\n",
       "      <td>2</td>\n",
       "    </tr>\n",
       "  </tbody>\n",
       "</table>\n",
       "</div>"
      ],
      "text/plain": [
       "     count\n",
       "nom       \n",
       "1      560\n",
       "2      172\n",
       "3      180\n",
       "4       75\n",
       "5       11\n",
       "6        2"
      ]
     },
     "metadata": {},
     "output_type": "display_data"
    },
    {
     "data": {
      "image/png": "[encoded data removed]",
      "text/plain": [
       "<Figure size 1200x800 with 1 Axes>"
      ]
     },
     "metadata": {},
     "output_type": "display_data"
    }
   ],
   "source": [
    "# Avec `composition_distribution()` le nombre de composant de noms de communes et leur distribution.\n",
    "### EXERCICE : compléter ce bloc avec les bonnes instructions\n",
    "# DEBUT DE BLOC\n",
    "composition_distribution(df['nom'])\n",
    "# FIN DE BLOC"
   ]
  },
  {
   "cell_type": "markdown",
   "metadata": {},
   "source": [
    "Quelles réflexions peut-on avoir au sujet de ce qu'a appris, ou n'a pas appris, le modèle ?"
   ]
  }
 ],
 "metadata": {
  "kernelspec": {
   "display_name": "udacity_cnn_project",
   "language": "python",
   "name": "python3"
  },
  "language_info": {
   "codemirror_mode": {
    "name": "ipython",
    "version": 3
   },
   "file_extension": ".py",
   "mimetype": "text/x-python",
   "name": "python",
   "nbconvert_exporter": "python",
   "pygments_lexer": "ipython3",
   "version": "3.11.8"
  }
 },
 "nbformat": 4,
 "nbformat_minor": 2
}
