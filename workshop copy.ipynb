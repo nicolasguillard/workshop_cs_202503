{
 "cells": [
  {
   "cell_type": "markdown",
   "metadata": {},
   "source": [
    "# Workshop CentraleSupélec - CeSIA\n",
    "\n",
    "- Création : 02/2025 par [Nicolas Guillard](mailto:nicolas.guillar@securite-ia.fr) - bénévole au [CeSIA](https://www.securite-ia.fr/).\n",
    "\n",
    "Créer en s'inspirant particulièrement de [Générer des noms de villes et communes françaises](https://github.com/alxndrTL/villes) par [Alexandre TL](https://www.youtube.com/@alexandretl)\n"
   ]
  },
  {
   "cell_type": "markdown",
   "metadata": {},
   "source": [
    "## Présentation du sujet et Plan"
   ]
  },
  {
   "cell_type": "markdown",
   "metadata": {},
   "source": [
    "## Indications de travail"
   ]
  },
  {
   "cell_type": "markdown",
   "metadata": {},
   "source": [
    "## Les modules et paramétrages globaux"
   ]
  },
  {
   "cell_type": "markdown",
   "metadata": {},
   "source": [
    "Tous les modules nécessaires sont importés. A moins d'un besoin spécifique, il n'y aura pas besoin de modifier le bloc de code suivant."
   ]
  },
  {
   "cell_type": "code",
   "execution_count": null,
   "metadata": {},
   "outputs": [],
   "source": [
    "import pandas as pd\n",
    "\n",
    "import math\n",
    "from dataclasses import dataclass\n",
    "\n",
    "import torch\n",
    "import torch.nn as nn\n",
    "import torch.nn.functional as F\n",
    "\n",
    "from tqdm.notebook import trange, tqdm\n",
    "\n",
    "import datetime\n",
    "\n",
    "from utils import print_colore\n",
    "import numpy as np\n",
    "import random"
   ]
  },
  {
   "cell_type": "markdown",
   "metadata": {},
   "source": [
    "### Device"
   ]
  },
  {
   "cell_type": "code",
   "execution_count": 2,
   "metadata": {},
   "outputs": [
    {
     "name": "stdout",
     "output_type": "stream",
     "text": [
      "Using mps device\n"
     ]
    }
   ],
   "source": [
    "device = (\n",
    "    \"cuda\"\n",
    "    if torch.cuda.is_available()\n",
    "    else \"mps\"\n",
    "    if torch.backends.mps.is_available()\n",
    "    else \"cpu\"\n",
    ")\n",
    "print(f\"Using {device} device\")"
   ]
  },
  {
   "cell_type": "markdown",
   "metadata": {},
   "source": [
    "### Paramétrages"
   ]
  },
  {
   "cell_type": "code",
   "execution_count": 3,
   "metadata": {},
   "outputs": [],
   "source": [
    "# Retirer la limite du nombre maximal de lignes affichées dans un tableau pandas\n",
    "pd.set_option('display.max_rows', None) "
   ]
  },
  {
   "cell_type": "code",
   "execution_count": null,
   "metadata": {},
   "outputs": [],
   "source": [
    "# Paramétrer les graines aléatoires\n",
    "random.seed(42)\n",
    "np.random.seed(0)\n",
    "torch.manual_seed(24)\n",
    "pth_rnd_gen = torch.Generator(device).manual_seed(42)"
   ]
  },
  {
   "cell_type": "markdown",
   "metadata": {},
   "source": [
    "## Les données"
   ]
  },
  {
   "cell_type": "code",
   "execution_count": 5,
   "metadata": {},
   "outputs": [
    {
     "data": {
      "text/html": [
       "<div>\n",
       "<style scoped>\n",
       "    .dataframe tbody tr th:only-of-type {\n",
       "        vertical-align: middle;\n",
       "    }\n",
       "\n",
       "    .dataframe tbody tr th {\n",
       "        vertical-align: top;\n",
       "    }\n",
       "\n",
       "    .dataframe thead th {\n",
       "        text-align: right;\n",
       "    }\n",
       "</style>\n",
       "<table border=\"1\" class=\"dataframe\">\n",
       "  <thead>\n",
       "    <tr style=\"text-align: right;\">\n",
       "      <th></th>\n",
       "      <th>nom</th>\n",
       "    </tr>\n",
       "  </thead>\n",
       "  <tbody>\n",
       "    <tr>\n",
       "      <th>0</th>\n",
       "      <td>arbignieu</td>\n",
       "    </tr>\n",
       "    <tr>\n",
       "      <th>1</th>\n",
       "      <td>mouilleron</td>\n",
       "    </tr>\n",
       "    <tr>\n",
       "      <th>2</th>\n",
       "      <td>tsingoni</td>\n",
       "    </tr>\n",
       "    <tr>\n",
       "      <th>3</th>\n",
       "      <td>upaix</td>\n",
       "    </tr>\n",
       "    <tr>\n",
       "      <th>4</th>\n",
       "      <td>margès</td>\n",
       "    </tr>\n",
       "    <tr>\n",
       "      <th>5</th>\n",
       "      <td>reutenbourg</td>\n",
       "    </tr>\n",
       "    <tr>\n",
       "      <th>6</th>\n",
       "      <td>prades-salars</td>\n",
       "    </tr>\n",
       "    <tr>\n",
       "      <th>7</th>\n",
       "      <td>rouffignac-de-sigoulès</td>\n",
       "    </tr>\n",
       "    <tr>\n",
       "      <th>8</th>\n",
       "      <td>andelarre</td>\n",
       "    </tr>\n",
       "    <tr>\n",
       "      <th>9</th>\n",
       "      <td>montrouveau</td>\n",
       "    </tr>\n",
       "    <tr>\n",
       "      <th>10</th>\n",
       "      <td>curchy</td>\n",
       "    </tr>\n",
       "    <tr>\n",
       "      <th>11</th>\n",
       "      <td>gréolières</td>\n",
       "    </tr>\n",
       "    <tr>\n",
       "      <th>12</th>\n",
       "      <td>reims</td>\n",
       "    </tr>\n",
       "    <tr>\n",
       "      <th>13</th>\n",
       "      <td>florentia</td>\n",
       "    </tr>\n",
       "    <tr>\n",
       "      <th>14</th>\n",
       "      <td>grandfontaine</td>\n",
       "    </tr>\n",
       "    <tr>\n",
       "      <th>15</th>\n",
       "      <td>esclainvillers</td>\n",
       "    </tr>\n",
       "    <tr>\n",
       "      <th>16</th>\n",
       "      <td>vraux</td>\n",
       "    </tr>\n",
       "    <tr>\n",
       "      <th>17</th>\n",
       "      <td>knutange</td>\n",
       "    </tr>\n",
       "    <tr>\n",
       "      <th>18</th>\n",
       "      <td>allan</td>\n",
       "    </tr>\n",
       "    <tr>\n",
       "      <th>19</th>\n",
       "      <td>oltingue</td>\n",
       "    </tr>\n",
       "  </tbody>\n",
       "</table>\n",
       "</div>"
      ],
      "text/plain": [
       "                       nom\n",
       "0                arbignieu\n",
       "1               mouilleron\n",
       "2                 tsingoni\n",
       "3                    upaix\n",
       "4                   margès\n",
       "5              reutenbourg\n",
       "6            prades-salars\n",
       "7   rouffignac-de-sigoulès\n",
       "8                andelarre\n",
       "9              montrouveau\n",
       "10                  curchy\n",
       "11              gréolières\n",
       "12                   reims\n",
       "13               florentia\n",
       "14           grandfontaine\n",
       "15          esclainvillers\n",
       "16                   vraux\n",
       "17                knutange\n",
       "18                   allan\n",
       "19                oltingue"
      ]
     },
     "metadata": {},
     "output_type": "display_data"
    }
   ],
   "source": [
    "df = pd.read_table(\"./villes.txt\", header=None, names=[\"nom\"])\n",
    "display(df.head(20))"
   ]
  },
  {
   "cell_type": "code",
   "execution_count": 6,
   "metadata": {},
   "outputs": [
    {
     "name": "stdout",
     "output_type": "stream",
     "text": [
      "<class 'pandas.core.frame.DataFrame'>\n",
      "RangeIndex: 36583 entries, 0 to 36582\n",
      "Data columns (total 1 columns):\n",
      " #   Column  Non-Null Count  Dtype \n",
      "---  ------  --------------  ----- \n",
      " 0   nom     36583 non-null  object\n",
      "dtypes: object(1)\n",
      "memory usage: 285.9+ KB\n"
     ]
    }
   ],
   "source": [
    "df.info()"
   ]
  },
  {
   "cell_type": "markdown",
   "metadata": {},
   "source": [
    "### Quelques statistiques"
   ]
  },
  {
   "cell_type": "markdown",
   "metadata": {},
   "source": [
    "#### Distribution de la longueur des noms"
   ]
  },
  {
   "cell_type": "code",
   "execution_count": 7,
   "metadata": {},
   "outputs": [
    {
     "data": {
      "image/png": "[encoded data removed]",
      "text/plain": [
       "<Figure size 1200x800 with 1 Axes>"
      ]
     },
     "metadata": {},
     "output_type": "display_data"
    }
   ],
   "source": [
    "import seaborn as sns\n",
    "# Configurer le thème de seaborn\n",
    "sns.set_theme(style=\"whitegrid\")\n",
    "\n",
    "import matplotlib.pyplot as plt\n",
    "\n",
    "# Calculer la longueur des chaînes de caractères dans la colonne \"nom\"\n",
    "df['length'] = df['nom'].apply(len)\n",
    "\n",
    "# Afficher la distribution de la longueur des chaînes de caractères\n",
    "length_distribution = df['length'].value_counts().sort_index()\n",
    "#print(length_distribution)\n",
    "\n",
    "# Afficher la distribution sous forme d'un histogramme\n",
    "plt.figure(figsize=(12, 8))\n",
    "sns.barplot(x=length_distribution.index, y=length_distribution.values, hue=length_distribution.values, palette=\"coolwarm\")\n",
    "plt.xlabel('Longueur des chaînes de caractères')\n",
    "plt.ylabel('Fréquence')\n",
    "plt.title('Distribution de la longueur des chaînes de caractères')\n",
    "plt.xticks(rotation=90)\n",
    "plt.show()"
   ]
  },
  {
   "cell_type": "markdown",
   "metadata": {},
   "source": [
    "#### Fréquences des caractères"
   ]
  },
  {
   "cell_type": "code",
   "execution_count": 8,
   "metadata": {},
   "outputs": [
    {
     "name": "stdout",
     "output_type": "stream",
     "text": [
      "Nombre de caractères distincts : 43\n"
     ]
    },
    {
     "data": {
      "text/html": [
       "<div>\n",
       "<style scoped>\n",
       "    .dataframe tbody tr th:only-of-type {\n",
       "        vertical-align: middle;\n",
       "    }\n",
       "\n",
       "    .dataframe tbody tr th {\n",
       "        vertical-align: top;\n",
       "    }\n",
       "\n",
       "    .dataframe thead th {\n",
       "        text-align: right;\n",
       "    }\n",
       "</style>\n",
       "<table border=\"1\" class=\"dataframe\">\n",
       "  <thead>\n",
       "    <tr style=\"text-align: right;\">\n",
       "      <th></th>\n",
       "      <th>Caractère</th>\n",
       "      <th>Fréquence</th>\n",
       "    </tr>\n",
       "  </thead>\n",
       "  <tbody>\n",
       "    <tr>\n",
       "      <th>6</th>\n",
       "      <td>e</td>\n",
       "      <td>46107</td>\n",
       "    </tr>\n",
       "    <tr>\n",
       "      <th>0</th>\n",
       "      <td>a</td>\n",
       "      <td>37558</td>\n",
       "    </tr>\n",
       "    <tr>\n",
       "      <th>5</th>\n",
       "      <td>n</td>\n",
       "      <td>32035</td>\n",
       "    </tr>\n",
       "    <tr>\n",
       "      <th>10</th>\n",
       "      <td>l</td>\n",
       "      <td>30567</td>\n",
       "    </tr>\n",
       "    <tr>\n",
       "      <th>12</th>\n",
       "      <td>s</td>\n",
       "      <td>30264</td>\n",
       "    </tr>\n",
       "    <tr>\n",
       "      <th>1</th>\n",
       "      <td>r</td>\n",
       "      <td>30034</td>\n",
       "    </tr>\n",
       "    <tr>\n",
       "      <th>3</th>\n",
       "      <td>i</td>\n",
       "      <td>28939</td>\n",
       "    </tr>\n",
       "    <tr>\n",
       "      <th>17</th>\n",
       "      <td>-</td>\n",
       "      <td>26344</td>\n",
       "    </tr>\n",
       "    <tr>\n",
       "      <th>9</th>\n",
       "      <td>o</td>\n",
       "      <td>22464</td>\n",
       "    </tr>\n",
       "    <tr>\n",
       "      <th>7</th>\n",
       "      <td>u</td>\n",
       "      <td>21143</td>\n",
       "    </tr>\n",
       "    <tr>\n",
       "      <th>11</th>\n",
       "      <td>t</td>\n",
       "      <td>20454</td>\n",
       "    </tr>\n",
       "    <tr>\n",
       "      <th>19</th>\n",
       "      <td>c</td>\n",
       "      <td>13979</td>\n",
       "    </tr>\n",
       "    <tr>\n",
       "      <th>8</th>\n",
       "      <td>m</td>\n",
       "      <td>11351</td>\n",
       "    </tr>\n",
       "    <tr>\n",
       "      <th>4</th>\n",
       "      <td>g</td>\n",
       "      <td>8734</td>\n",
       "    </tr>\n",
       "    <tr>\n",
       "      <th>20</th>\n",
       "      <td>v</td>\n",
       "      <td>8578</td>\n",
       "    </tr>\n",
       "    <tr>\n",
       "      <th>2</th>\n",
       "      <td>b</td>\n",
       "      <td>8285</td>\n",
       "    </tr>\n",
       "    <tr>\n",
       "      <th>16</th>\n",
       "      <td>d</td>\n",
       "      <td>7756</td>\n",
       "    </tr>\n",
       "    <tr>\n",
       "      <th>21</th>\n",
       "      <td>h</td>\n",
       "      <td>7522</td>\n",
       "    </tr>\n",
       "    <tr>\n",
       "      <th>22</th>\n",
       "      <td>y</td>\n",
       "      <td>6856</td>\n",
       "    </tr>\n",
       "    <tr>\n",
       "      <th>13</th>\n",
       "      <td>p</td>\n",
       "      <td>5959</td>\n",
       "    </tr>\n",
       "    <tr>\n",
       "      <th>23</th>\n",
       "      <td>é</td>\n",
       "      <td>5086</td>\n",
       "    </tr>\n",
       "    <tr>\n",
       "      <th>18</th>\n",
       "      <td>f</td>\n",
       "      <td>3405</td>\n",
       "    </tr>\n",
       "    <tr>\n",
       "      <th>26</th>\n",
       "      <td>z</td>\n",
       "      <td>2555</td>\n",
       "    </tr>\n",
       "    <tr>\n",
       "      <th>15</th>\n",
       "      <td>è</td>\n",
       "      <td>2405</td>\n",
       "    </tr>\n",
       "    <tr>\n",
       "      <th>14</th>\n",
       "      <td>x</td>\n",
       "      <td>2242</td>\n",
       "    </tr>\n",
       "    <tr>\n",
       "      <th>25</th>\n",
       "      <td></td>\n",
       "      <td>1979</td>\n",
       "    </tr>\n",
       "    <tr>\n",
       "      <th>35</th>\n",
       "      <td>j</td>\n",
       "      <td>1178</td>\n",
       "    </tr>\n",
       "    <tr>\n",
       "      <th>29</th>\n",
       "      <td>q</td>\n",
       "      <td>1098</td>\n",
       "    </tr>\n",
       "    <tr>\n",
       "      <th>28</th>\n",
       "      <td>'</td>\n",
       "      <td>844</td>\n",
       "    </tr>\n",
       "    <tr>\n",
       "      <th>30</th>\n",
       "      <td>â</td>\n",
       "      <td>465</td>\n",
       "    </tr>\n",
       "    <tr>\n",
       "      <th>36</th>\n",
       "      <td>w</td>\n",
       "      <td>396</td>\n",
       "    </tr>\n",
       "    <tr>\n",
       "      <th>32</th>\n",
       "      <td>ô</td>\n",
       "      <td>187</td>\n",
       "    </tr>\n",
       "    <tr>\n",
       "      <th>24</th>\n",
       "      <td>k</td>\n",
       "      <td>169</td>\n",
       "    </tr>\n",
       "    <tr>\n",
       "      <th>27</th>\n",
       "      <td>ê</td>\n",
       "      <td>168</td>\n",
       "    </tr>\n",
       "    <tr>\n",
       "      <th>31</th>\n",
       "      <td>ë</td>\n",
       "      <td>127</td>\n",
       "    </tr>\n",
       "    <tr>\n",
       "      <th>38</th>\n",
       "      <td>ç</td>\n",
       "      <td>114</td>\n",
       "    </tr>\n",
       "    <tr>\n",
       "      <th>33</th>\n",
       "      <td>î</td>\n",
       "      <td>59</td>\n",
       "    </tr>\n",
       "    <tr>\n",
       "      <th>34</th>\n",
       "      <td>û</td>\n",
       "      <td>34</td>\n",
       "    </tr>\n",
       "    <tr>\n",
       "      <th>39</th>\n",
       "      <td>à</td>\n",
       "      <td>27</td>\n",
       "    </tr>\n",
       "    <tr>\n",
       "      <th>37</th>\n",
       "      <td>ï</td>\n",
       "      <td>16</td>\n",
       "    </tr>\n",
       "    <tr>\n",
       "      <th>40</th>\n",
       "      <td>ü</td>\n",
       "      <td>4</td>\n",
       "    </tr>\n",
       "    <tr>\n",
       "      <th>41</th>\n",
       "      <td>ÿ</td>\n",
       "      <td>3</td>\n",
       "    </tr>\n",
       "    <tr>\n",
       "      <th>42</th>\n",
       "      <td>œ</td>\n",
       "      <td>1</td>\n",
       "    </tr>\n",
       "  </tbody>\n",
       "</table>\n",
       "</div>"
      ],
      "text/plain": [
       "   Caractère  Fréquence\n",
       "6          e      46107\n",
       "0          a      37558\n",
       "5          n      32035\n",
       "10         l      30567\n",
       "12         s      30264\n",
       "1          r      30034\n",
       "3          i      28939\n",
       "17         -      26344\n",
       "9          o      22464\n",
       "7          u      21143\n",
       "11         t      20454\n",
       "19         c      13979\n",
       "8          m      11351\n",
       "4          g       8734\n",
       "20         v       8578\n",
       "2          b       8285\n",
       "16         d       7756\n",
       "21         h       7522\n",
       "22         y       6856\n",
       "13         p       5959\n",
       "23         é       5086\n",
       "18         f       3405\n",
       "26         z       2555\n",
       "15         è       2405\n",
       "14         x       2242\n",
       "25                 1979\n",
       "35         j       1178\n",
       "29         q       1098\n",
       "28         '        844\n",
       "30         â        465\n",
       "36         w        396\n",
       "32         ô        187\n",
       "24         k        169\n",
       "27         ê        168\n",
       "31         ë        127\n",
       "38         ç        114\n",
       "33         î         59\n",
       "34         û         34\n",
       "39         à         27\n",
       "37         ï         16\n",
       "40         ü          4\n",
       "41         ÿ          3\n",
       "42         œ          1"
      ]
     },
     "metadata": {},
     "output_type": "display_data"
    }
   ],
   "source": [
    "from collections import Counter\n",
    "\n",
    "# Concaténer toutes les chaînes de caractères de la colonne \"nom\"\n",
    "all_chars = ''.join(df['nom'])\n",
    "\n",
    "# Compter les occurrences de chaque caractère\n",
    "char_counts = Counter(all_chars)\n",
    "\n",
    "# Convertir le résultat en dataframe pour une meilleure lisibilité\n",
    "char_freq_df = pd.DataFrame(char_counts.items(), columns=['Caractère', 'Fréquence']).sort_values(by='Fréquence', ascending=False)\n",
    "\n",
    "print(\"Nombre de caractères distincts :\", len(char_freq_df))\n",
    "display(char_freq_df)"
   ]
  },
  {
   "cell_type": "code",
   "execution_count": 9,
   "metadata": {},
   "outputs": [
    {
     "data": {
      "image/png": "[encoded data removed]",
      "text/plain": [
       "<Figure size 1200x800 with 2 Axes>"
      ]
     },
     "metadata": {},
     "output_type": "display_data"
    }
   ],
   "source": [
    "import numpy as np\n",
    "\n",
    "# Limiter la longueur des noms à 10 caractères\n",
    "df['nom_limited'] = df['nom'].str[:10]\n",
    "\n",
    "# Initialiser un dictionnaire pour stocker les fréquences des caractères par position\n",
    "position_char_freq = {i: Counter() for i in range(10)}\n",
    "\n",
    "# Remplir le dictionnaire avec les fréquences des caractères par position\n",
    "for name in df['nom_limited']:\n",
    "    for i, char in enumerate(name):\n",
    "        position_char_freq[i][char] += 1\n",
    "\n",
    "# Convertir le dictionnaire en dataframe pour une meilleure lisibilité\n",
    "position_char_freq_df = pd.DataFrame(position_char_freq).fillna(0).astype(int)\n",
    "\n",
    "# Limiter aux 15 premiers caractères les plus fréquents\n",
    "top_chars = position_char_freq_df.sum(axis=1).sort_values(ascending=False).head(15).index\n",
    "position_char_freq_df = position_char_freq_df.loc[top_chars]\n",
    "\n",
    "# Calculer le taux de présence par position\n",
    "position_char_rate_df = position_char_freq_df.div(position_char_freq_df.sum(axis=0), axis=1) * 100\n",
    "\n",
    "# Visualiser les taux de présence avec une carte de chaleur\n",
    "plt.figure(figsize=(12, 8))\n",
    "sns.heatmap(position_char_rate_df, annot=True, fmt=\".2f\", cmap=\"coolwarm\", cbar=True)\n",
    "plt.xlabel('Position')\n",
    "plt.ylabel('Caractère')\n",
    "plt.title('Taux de présence des caractères par position (limité aux 10 premières positions)')\n",
    "plt.show()"
   ]
  },
  {
   "cell_type": "markdown",
   "metadata": {},
   "source": [
    "#### Fréquence des composants de nom"
   ]
  },
  {
   "cell_type": "code",
   "execution_count": 10,
   "metadata": {},
   "outputs": [
    {
     "name": "stdout",
     "output_type": "stream",
     "text": [
      "Nombre total de composants distincts : 28449\n"
     ]
    },
    {
     "data": {
      "text/html": [
       "<div>\n",
       "<style scoped>\n",
       "    .dataframe tbody tr th:only-of-type {\n",
       "        vertical-align: middle;\n",
       "    }\n",
       "\n",
       "    .dataframe tbody tr th {\n",
       "        vertical-align: top;\n",
       "    }\n",
       "\n",
       "    .dataframe thead th {\n",
       "        text-align: right;\n",
       "    }\n",
       "</style>\n",
       "<table border=\"1\" class=\"dataframe\">\n",
       "  <thead>\n",
       "    <tr style=\"text-align: right;\">\n",
       "      <th></th>\n",
       "      <th>Élément</th>\n",
       "      <th>Fréquence</th>\n",
       "    </tr>\n",
       "  </thead>\n",
       "  <tbody>\n",
       "    <tr>\n",
       "      <th>7805</th>\n",
       "      <td>lametz</td>\n",
       "      <td>1</td>\n",
       "    </tr>\n",
       "    <tr>\n",
       "      <th>8134</th>\n",
       "      <td>herré</td>\n",
       "      <td>1</td>\n",
       "    </tr>\n",
       "    <tr>\n",
       "      <th>24524</th>\n",
       "      <td>véel</td>\n",
       "      <td>1</td>\n",
       "    </tr>\n",
       "    <tr>\n",
       "      <th>24581</th>\n",
       "      <td>caillère</td>\n",
       "      <td>1</td>\n",
       "    </tr>\n",
       "    <tr>\n",
       "      <th>2294</th>\n",
       "      <td>azif</td>\n",
       "      <td>1</td>\n",
       "    </tr>\n",
       "    <tr>\n",
       "      <th>21303</th>\n",
       "      <td>brimeux</td>\n",
       "      <td>1</td>\n",
       "    </tr>\n",
       "    <tr>\n",
       "      <th>14337</th>\n",
       "      <td>fervaches</td>\n",
       "      <td>1</td>\n",
       "    </tr>\n",
       "    <tr>\n",
       "      <th>11041</th>\n",
       "      <td>bachas</td>\n",
       "      <td>1</td>\n",
       "    </tr>\n",
       "    <tr>\n",
       "      <th>9969</th>\n",
       "      <td>jure</td>\n",
       "      <td>1</td>\n",
       "    </tr>\n",
       "    <tr>\n",
       "      <th>9301</th>\n",
       "      <td>dornas</td>\n",
       "      <td>1</td>\n",
       "    </tr>\n",
       "    <tr>\n",
       "      <th>21230</th>\n",
       "      <td>lescheraines</td>\n",
       "      <td>1</td>\n",
       "    </tr>\n",
       "    <tr>\n",
       "      <th>6945</th>\n",
       "      <td>autils</td>\n",
       "      <td>1</td>\n",
       "    </tr>\n",
       "    <tr>\n",
       "      <th>12164</th>\n",
       "      <td>germont</td>\n",
       "      <td>1</td>\n",
       "    </tr>\n",
       "    <tr>\n",
       "      <th>4033</th>\n",
       "      <td>oyen</td>\n",
       "      <td>1</td>\n",
       "    </tr>\n",
       "    <tr>\n",
       "      <th>6190</th>\n",
       "      <td>larrazet</td>\n",
       "      <td>1</td>\n",
       "    </tr>\n",
       "  </tbody>\n",
       "</table>\n",
       "</div>"
      ],
      "text/plain": [
       "            Élément  Fréquence\n",
       "7805         lametz          1\n",
       "8134          herré          1\n",
       "24524          véel          1\n",
       "24581      caillère          1\n",
       "2294           azif          1\n",
       "21303       brimeux          1\n",
       "14337     fervaches          1\n",
       "11041        bachas          1\n",
       "9969           jure          1\n",
       "9301         dornas          1\n",
       "21230  lescheraines          1\n",
       "6945         autils          1\n",
       "12164       germont          1\n",
       "4033           oyen          1\n",
       "6190       larrazet          1"
      ]
     },
     "metadata": {},
     "output_type": "display_data"
    },
    {
     "name": "stdout",
     "output_type": "stream",
     "text": [
      "Nombre total de composants présents plus d'une fois : 5807\n"
     ]
    },
    {
     "data": {
      "text/html": [
       "<div>\n",
       "<style scoped>\n",
       "    .dataframe tbody tr th:only-of-type {\n",
       "        vertical-align: middle;\n",
       "    }\n",
       "\n",
       "    .dataframe tbody tr th {\n",
       "        vertical-align: top;\n",
       "    }\n",
       "\n",
       "    .dataframe thead th {\n",
       "        text-align: right;\n",
       "    }\n",
       "</style>\n",
       "<table border=\"1\" class=\"dataframe\">\n",
       "  <thead>\n",
       "    <tr style=\"text-align: right;\">\n",
       "      <th></th>\n",
       "      <th>Élément</th>\n",
       "      <th>Fréquence</th>\n",
       "    </tr>\n",
       "  </thead>\n",
       "  <tbody>\n",
       "    <tr>\n",
       "      <th>37</th>\n",
       "      <td>saint</td>\n",
       "      <td>4409</td>\n",
       "    </tr>\n",
       "    <tr>\n",
       "      <th>50</th>\n",
       "      <td>sur</td>\n",
       "      <td>2080</td>\n",
       "    </tr>\n",
       "    <tr>\n",
       "      <th>23</th>\n",
       "      <td>la</td>\n",
       "      <td>1868</td>\n",
       "    </tr>\n",
       "    <tr>\n",
       "      <th>30</th>\n",
       "      <td>le</td>\n",
       "      <td>1698</td>\n",
       "    </tr>\n",
       "    <tr>\n",
       "      <th>9</th>\n",
       "      <td>de</td>\n",
       "      <td>1229</td>\n",
       "    </tr>\n",
       "    <tr>\n",
       "      <th>101</th>\n",
       "      <td>en</td>\n",
       "      <td>971</td>\n",
       "    </tr>\n",
       "    <tr>\n",
       "      <th>96</th>\n",
       "      <td>lès</td>\n",
       "      <td>553</td>\n",
       "    </tr>\n",
       "    <tr>\n",
       "      <th>54</th>\n",
       "      <td>d</td>\n",
       "      <td>484</td>\n",
       "    </tr>\n",
       "    <tr>\n",
       "      <th>116</th>\n",
       "      <td>les</td>\n",
       "      <td>475</td>\n",
       "    </tr>\n",
       "    <tr>\n",
       "      <th>33</th>\n",
       "      <td>sainte</td>\n",
       "      <td>397</td>\n",
       "    </tr>\n",
       "    <tr>\n",
       "      <th>232</th>\n",
       "      <td>du</td>\n",
       "      <td>370</td>\n",
       "    </tr>\n",
       "    <tr>\n",
       "      <th>765</th>\n",
       "      <td>et</td>\n",
       "      <td>351</td>\n",
       "    </tr>\n",
       "    <tr>\n",
       "      <th>170</th>\n",
       "      <td>l</td>\n",
       "      <td>341</td>\n",
       "    </tr>\n",
       "    <tr>\n",
       "      <th>229</th>\n",
       "      <td>sous</td>\n",
       "      <td>278</td>\n",
       "    </tr>\n",
       "    <tr>\n",
       "      <th>46</th>\n",
       "      <td>martin</td>\n",
       "      <td>273</td>\n",
       "    </tr>\n",
       "  </tbody>\n",
       "</table>\n",
       "</div>"
      ],
      "text/plain": [
       "    Élément  Fréquence\n",
       "37    saint       4409\n",
       "50      sur       2080\n",
       "23       la       1868\n",
       "30       le       1698\n",
       "9        de       1229\n",
       "101      en        971\n",
       "96      lès        553\n",
       "54        d        484\n",
       "116     les        475\n",
       "33   sainte        397\n",
       "232      du        370\n",
       "765      et        351\n",
       "170       l        341\n",
       "229    sous        278\n",
       "46   martin        273"
      ]
     },
     "metadata": {},
     "output_type": "display_data"
    }
   ],
   "source": [
    "# Séparer les chaînes de caractères par \"-\" ou \" \" et les concaténer\n",
    "element_separator = \"-' \"\n",
    "all_elements = ' '.join(df['nom'].str.replace(f\"[{element_separator}]\", \" \", regex=True).values).split()\n",
    "\n",
    "# Compter les occurrences de chaque élément\n",
    "element_counts = Counter(all_elements)\n",
    "\n",
    "# Convertir le résultat en dataframe pour une meilleure lisibilité\n",
    "element_freq_df = pd.DataFrame(element_counts.items(), columns=['Élément', 'Fréquence']).sort_values(by='Fréquence', ascending=False)\n",
    "\n",
    "print(f\"Nombre total de composants distincts : {len(element_freq_df)}\")\n",
    "display(element_freq_df.sample(15).sort_values(by='Fréquence', ascending=False))\n",
    "\n",
    "# Filtrer les éléments dont la fréquence est supérieure à 1\n",
    "element_freq_sup_1_df = element_freq_df[element_freq_df['Fréquence'] > 1]\n",
    "\n",
    "# Afficher le nombre total d'éléments associés\n",
    "print(f\"Nombre total de composants présents plus d'une fois : {len(element_freq_sup_1_df)}\")\n",
    "display(element_freq_sup_1_df.head(15))\n"
   ]
  },
  {
   "cell_type": "markdown",
   "metadata": {},
   "source": [
    "Combien de noms de communes sont composées ?\n",
    "Quelle est la distribution du nombre de composants ?"
   ]
  },
  {
   "cell_type": "code",
   "execution_count": 11,
   "metadata": {},
   "outputs": [
    {
     "data": {
      "text/html": [
       "<div>\n",
       "<style scoped>\n",
       "    .dataframe tbody tr th:only-of-type {\n",
       "        vertical-align: middle;\n",
       "    }\n",
       "\n",
       "    .dataframe tbody tr th {\n",
       "        vertical-align: top;\n",
       "    }\n",
       "\n",
       "    .dataframe thead th {\n",
       "        text-align: right;\n",
       "    }\n",
       "</style>\n",
       "<table border=\"1\" class=\"dataframe\">\n",
       "  <thead>\n",
       "    <tr style=\"text-align: right;\">\n",
       "      <th></th>\n",
       "      <th>count</th>\n",
       "    </tr>\n",
       "    <tr>\n",
       "      <th>num_components</th>\n",
       "      <th></th>\n",
       "    </tr>\n",
       "  </thead>\n",
       "  <tbody>\n",
       "    <tr>\n",
       "      <th>1</th>\n",
       "      <td>21505</td>\n",
       "    </tr>\n",
       "    <tr>\n",
       "      <th>2</th>\n",
       "      <td>4776</td>\n",
       "    </tr>\n",
       "    <tr>\n",
       "      <th>3</th>\n",
       "      <td>6810</td>\n",
       "    </tr>\n",
       "    <tr>\n",
       "      <th>4</th>\n",
       "      <td>3243</td>\n",
       "    </tr>\n",
       "    <tr>\n",
       "      <th>5</th>\n",
       "      <td>210</td>\n",
       "    </tr>\n",
       "    <tr>\n",
       "      <th>6</th>\n",
       "      <td>33</td>\n",
       "    </tr>\n",
       "    <tr>\n",
       "      <th>7</th>\n",
       "      <td>5</td>\n",
       "    </tr>\n",
       "    <tr>\n",
       "      <th>8</th>\n",
       "      <td>1</td>\n",
       "    </tr>\n",
       "  </tbody>\n",
       "</table>\n",
       "</div>"
      ],
      "text/plain": [
       "                count\n",
       "num_components       \n",
       "1               21505\n",
       "2                4776\n",
       "3                6810\n",
       "4                3243\n",
       "5                 210\n",
       "6                  33\n",
       "7                   5\n",
       "8                   1"
      ]
     },
     "metadata": {},
     "output_type": "display_data"
    },
    {
     "data": {
      "image/png": "[encoded data removed]",
      "text/plain": [
       "<Figure size 1200x800 with 1 Axes>"
      ]
     },
     "metadata": {},
     "output_type": "display_data"
    }
   ],
   "source": [
    "# Calculer le nombre de composants pour chaque nom\n",
    "df['num_components'] = df['nom'].apply(lambda x: len([comp for comp in x if comp in element_separator]) + 1)\n",
    "\n",
    "# Afficher la distribution du taux de fréquence du nombre de composants\n",
    "component_distribution = df['num_components'].value_counts().sort_index()\n",
    "component_distribution_rate = component_distribution / len(df) * 100\n",
    "display(component_distribution.to_frame())\n",
    "\n",
    "# Afficher la distribution sous forme d'un histogramme\n",
    "plt.figure(figsize=(12, 8))\n",
    "sns.barplot(x=component_distribution_rate.index, y=component_distribution_rate.values, hue=component_distribution_rate.values, palette=\"coolwarm\")\n",
    "for i in range(len(component_distribution_rate)):\n",
    "    plt.text(i, component_distribution_rate.values[i] + 0.5, f'{component_distribution_rate.values[i]:.3f}%', ha='center')\n",
    "plt.xlabel('Nombre de composants')\n",
    "plt.ylabel('Fréquence')\n",
    "plt.title('Distribution de la fréquence du nombre de composants')\n",
    "plt.xticks(rotation=90)\n",
    "plt.show()"
   ]
  },
  {
   "cell_type": "markdown",
   "metadata": {},
   "source": [
    "## Le modèle"
   ]
  },
  {
   "cell_type": "markdown",
   "metadata": {},
   "source": [
    "Explications et schémas"
   ]
  },
  {
   "cell_type": "code",
   "execution_count": 12,
   "metadata": {},
   "outputs": [],
   "source": [
    "@dataclass\n",
    "class TransformerConfig:\n",
    "    d_model: int # D or d_model in comments\n",
    "    n_layers: int\n",
    "    n_heads: int\n",
    "    max_len: int # maximum sequence length (for positional embedding)\n",
    "    dropout: float = 0.1\n",
    "    bias: bool = False\n",
    "    norm_eps: float = 1e-5\n",
    "    super_attn: bool = False # overwrites flash to False\n",
    "    flash: bool = True\n",
    "\n",
    "    def __post_init__(self):\n",
    "        assert self.d_model % self.n_heads == 0, \"d_model must be a multiple of n_heads\"\n",
    "\n",
    "        self.d_head = self.d_model // self.n_heads"
   ]
  },
  {
   "cell_type": "code",
   "execution_count": 13,
   "metadata": {},
   "outputs": [],
   "source": [
    "class RMSNorm(torch.nn.Module):\n",
    "    def __init__(self, dim: int, eps: float):\n",
    "        \"\"\"\n",
    "        Args :\n",
    "            dim (int) : \n",
    "            eps (float) :\n",
    "        \"\"\"\n",
    "        super().__init__()\n",
    "        self.eps = eps\n",
    "        self.weight = nn.Parameter(torch.ones(dim))\n",
    "\n",
    "    def _norm(self, x):\n",
    "        return x * torch.rsqrt(x.pow(2).mean(-1, keepdim=True) + self.eps)\n",
    "        \n",
    "    def forward(self, x):\n",
    "        output = self._norm(x.float()).type_as(x)\n",
    "        return output * self.weight"
   ]
  },
  {
   "cell_type": "code",
   "execution_count": 14,
   "metadata": {},
   "outputs": [],
   "source": [
    "class SelfAttentionMultiHead(nn.Module):\n",
    "    def __init__(self, config: TransformerConfig):\n",
    "        \"\"\"\n",
    "        Args :\n",
    "            config (TransformerConfig) :\n",
    "        \"\"\"\n",
    "\n",
    "        super().__init__()\n",
    "\n",
    "        self.config = config\n",
    "\n",
    "        # key, query, value projections for all heads\n",
    "        self.query_proj = nn.Linear(config.d_model, config.d_model, bias=False) # d_query = n_heads*d_head as in the Transformer paper\n",
    "        self.key_proj = nn.Linear(config.d_model, config.d_model, bias=False)\n",
    "        self.value_proj = nn.Linear(config.d_model, config.d_model, bias=False)\n",
    "\n",
    "        if not config.flash:\n",
    "            # compute the mask once and for all here \n",
    "            # registrer treats it like a parameter (device, state_dict...) without training\n",
    "            mask = torch.full((1, 1, config.max_len, config.max_len), float('-inf'))\n",
    "            mask = torch.triu(mask, diagonal=1)\n",
    "            self.register_buffer('mask', mask)\n",
    "\n",
    "        # LxL super attention params\n",
    "        if config.super_attn:\n",
    "            self.k_in_v_proj = nn.Linear(in_features=config.max_len, out_features=config.max_len, bias=False)\n",
    "\n",
    "        # output projection\n",
    "        self.c_proj = nn.Linear(config.d_model, config.d_model, bias=config.bias)\n",
    "\n",
    "        # regularization\n",
    "        self.attn_drop = nn.Dropout(config.dropout)\n",
    "        self.resid_dropout = nn.Dropout(config.dropout)\n",
    "\n",
    "    def forward(self, X):\n",
    "        # X : (B, T, d_model)\n",
    "\n",
    "        B, L, _ = X.size()\n",
    "\n",
    "        Q = self.query_proj(X).view(B, L, self.config.n_heads, self.config.d_head).transpose(1, 2) # (B, n_heads, L, d_query)\n",
    "        K = self.key_proj(X).view(B, L, self.config.n_heads, self.config.d_head).transpose(1, 2) # (B, n_heads, L, d_key)\n",
    "        V = self.value_proj(X).view(B, L, self.config.n_heads, self.config.d_head).transpose(1, 2) # (B, n_heads, L, d_head=d_value)\n",
    "\n",
    "        if self.config.flash and not self.config.super_attn:\n",
    "            attention = F.scaled_dot_product_attention(Q, K, V, attn_mask=None, dropout_p=self.config.dropout if self.training else 0, is_causal=True)\n",
    "        else:\n",
    "            QK_T = Q @ torch.transpose(K, 2, 3) # (B, n_heads, L, L)\n",
    "            QK_T = QK_T + self.mask[:, :, :L, :L]\n",
    "\n",
    "            attention_scores = torch.softmax(QK_T / math.sqrt(self.config.d_head), dim=3) # (B, n_heads, L, L)\n",
    "\n",
    "            if self.config.super_attn:\n",
    "                attention = self.attn_drop(attention_scores) @ self.k_in_v_proj.weight @ V # (B, n_h, L, d_value=d_head)\n",
    "            else:\n",
    "                attention = self.attn_drop(attention_scores) @ V # (B, n_h, L, d_value=d_head)\n",
    "\n",
    "        attention = attention.transpose(1, 2) # (B, L, n_heafs, d_head)\n",
    "        y = attention.contiguous().view(B, L, self.config.d_model) # n_heads * d_head = d_model\n",
    "\n",
    "        y = self.resid_dropout(self.c_proj(y))\n",
    "\n",
    "        return y"
   ]
  },
  {
   "cell_type": "code",
   "execution_count": 15,
   "metadata": {},
   "outputs": [],
   "source": [
    "class MLP(nn.Module):\n",
    "    def __init__(self, config: TransformerConfig):\n",
    "        \"\"\"\n",
    "        Args :\n",
    "            config (TransformerConfig) :\n",
    "        \"\"\"\n",
    "        super().__init__()\n",
    "\n",
    "        self.fc_1 = nn.Linear(config.d_model, 4 * config.d_model, bias=config.bias)\n",
    "        self.fc_2 = nn.Linear(4 * config.d_model, config.d_model, bias=config.bias)\n",
    "        self.fc_3 = nn.Linear(config.d_model, 4 * config.d_model, bias=config.bias)\n",
    "        self.dropout = nn.Dropout(config.dropout)\n",
    "\n",
    "    def forward(self, x):\n",
    "        \"\"\"\n",
    "        \"\"\"\n",
    "        return self.dropout(self.fc_2(F.silu(self.fc_1(x)) * self.fc_3(x)))"
   ]
  },
  {
   "cell_type": "code",
   "execution_count": 16,
   "metadata": {},
   "outputs": [],
   "source": [
    "class DecoderLayer(nn.Module):\n",
    "    def __init__(self, config: TransformerConfig):\n",
    "        \"\"\"\n",
    "        Args :\n",
    "            config (TransformerConfig) :\n",
    "        \"\"\"\n",
    "        super().__init__()\n",
    "\n",
    "        self.config = config\n",
    "\n",
    "        self.attention_norm = RMSNorm(config.d_model, config.norm_eps)\n",
    "        self.sa = SelfAttentionMultiHead(config)\n",
    "        self.mlp_norm = RMSNorm(config.d_model, config.norm_eps)\n",
    "        self.mlp = MLP(config)\n",
    "\n",
    "    def forward(self, X):\n",
    "        \"\"\"\n",
    "        \"\"\"\n",
    "        # X : (B, L, D)\n",
    "\n",
    "        # Y : (B, L, D)\n",
    "\n",
    "        X = X + self.sa(self.attention_norm(X))\n",
    "        X = X + self.mlp(self.mlp_norm(X))\n",
    "\n",
    "        return X"
   ]
  },
  {
   "cell_type": "code",
   "execution_count": 17,
   "metadata": {},
   "outputs": [],
   "source": [
    "class Transformer(nn.Module):\n",
    "    def __init__(self, config: TransformerConfig):\n",
    "        super().__init__()\n",
    "\n",
    "        self.config = config\n",
    "\n",
    "        self.PE = nn.Embedding(config.max_len, config.d_model)\n",
    "        self.in_dropout = nn.Dropout(config.dropout)\n",
    "        self.layers = nn.ModuleList([DecoderLayer(config) for _ in range(config.n_layers)])\n",
    "\n",
    "    def forward(self, X, stop_at_layer: int = None):\n",
    "        \"\"\"\n",
    "        \"\"\"\n",
    "        # X : (B, L, D)\n",
    "        # stop_at_layer (1 -> n_layers) : if set, will return the activations after the {layer}-th layer\n",
    "        # Y : (B, L, D)\n",
    "\n",
    "        _, T, _ = X.size()\n",
    "\n",
    "        pos_emb = self.PE(torch.arange(0, T, dtype=torch.long, device=X.device))\n",
    "        X = self.in_dropout(X + pos_emb)\n",
    "\n",
    "        for i, layer in enumerate(self.layers):\n",
    "            X = layer(X) # (B, L, d_model)\n",
    "\n",
    "            if stop_at_layer == i+1:\n",
    "                return X\n",
    "        \n",
    "        return X"
   ]
  },
  {
   "cell_type": "code",
   "execution_count": null,
   "metadata": {},
   "outputs": [],
   "source": [
    "class LanguageModel(nn.Module):\n",
    "    def __init__(self, model_config: TransformerConfig, vocab_size: int):\n",
    "        super().__init__()\n",
    "\n",
    "        self.config = model_config\n",
    "        self.embedding = nn.Embedding(vocab_size, self.config.d_model, padding_idx=0)\n",
    "        \n",
    "        self.core = Transformer(self.config)\n",
    "        self.out_norm = RMSNorm(self.config.d_model, self.config.norm_eps)\n",
    "        self.lm_head = nn.Linear(self.config.d_model, vocab_size, bias=False)\n",
    "        self.lm_head.weight = self.embedding.weight\n",
    "\n",
    "        self.apply(self._init_weights)\n",
    "        for pn, p in self.named_parameters():\n",
    "            if pn.endswith('fc_3.weight') or  pn.endswith('c_proj.weight'):\n",
    "                torch.nn.init.normal_(p, mean=0.0, std=0.02/math.sqrt(2 * self.config.n_layers))\n",
    "    \n",
    "    def forward(self, tokens, act = False):\n",
    "        # tokens : (B, L)\n",
    "\n",
    "        # logits : (B, L, vocab_size)\n",
    "\n",
    "        x = self.embedding(tokens)\n",
    "        x = self.core(x)\n",
    "\n",
    "        if act:\n",
    "            return x\n",
    "        \n",
    "        x = self.out_norm(x)\n",
    "        logits = self.lm_head(x)\n",
    "\n",
    "        return logits\n",
    "\n",
    "    def generate(self, prompt, num_tokens, sample):\n",
    "        # prompt : (1, len)\n",
    "\n",
    "        self.eval()\n",
    "\n",
    "        generated = prompt.clone()\n",
    "\n",
    "        with torch.no_grad():\n",
    "            for _ in range(num_tokens):\n",
    "                logits = self.forward(generated) # (B, L, vocab_size)\n",
    "                next_token_logits = logits[:, -1]\n",
    "\n",
    "                if sample:\n",
    "                    probs = F.softmax(next_token_logits, dim=-1)\n",
    "                    next_token = torch.multinomial(probs, num_samples=1)\n",
    "                else:\n",
    "                    next_token = next_token_logits.argmax(dim=-1, keepdim=True)\n",
    "                generated = torch.cat([generated, next_token], dim=1)\n",
    "        \n",
    "        return generated\n",
    "    \n",
    "    def forward_up_to(self, tokens, layer):\n",
    "        # tokens : (B, L)\n",
    "        # layer (1->n_layers): will stop the forward pass just after this layer\n",
    "\n",
    "        # x : (B, L, D) activations after {layer}\n",
    "\n",
    "        x = self.embedding(tokens)\n",
    "        x = self.core(x, stop_at_layer=layer)\n",
    "\n",
    "        return x\n",
    "    \n",
    "    # taken from llama2.c\n",
    "    def _init_weights(self, module):\n",
    "        if isinstance(module, nn.Linear):\n",
    "            torch.nn.init.normal_(module.weight, mean=0.0, std=0.02)\n",
    "            if module.bias is not None:\n",
    "                torch.nn.init.zeros_(module.bias)\n",
    "        elif isinstance(module, nn.Embedding):\n",
    "            torch.nn.init.normal_(module.weight, mean=0.0, std=0.02)\n",
    "    "
   ]
  },
  {
   "cell_type": "markdown",
   "metadata": {},
   "source": [
    "## Dataset et Dataloader"
   ]
  },
  {
   "cell_type": "code",
   "execution_count": 19,
   "metadata": {},
   "outputs": [],
   "source": [
    "PAD = \"<pad>\" # Padding\n",
    "SOS = \"<SOS>\" # Start Of Sequence\n",
    "EOS = \"<EOS>\" # End Of Sequence\n",
    "\n",
    "class Dataset():\n",
    "    def __init__(self, file_name: str = \"villes.txt\", device=\"cpu\"):\n",
    "\n",
    "        # chargement des données\n",
    "        fichier = open(file_name)\n",
    "        donnees = fichier.read()\n",
    "        villes = donnees.replace('\\n', ',').split(',')\n",
    "        # mise à l'écart des villes avec un nom de longueur inférieure à 3\n",
    "        self.villes = [ville for ville in villes if len(ville) > 2]\n",
    "\n",
    "        # création du vocabulaire\n",
    "        self.vocabulaire = sorted(list(set(''.join(villes))))\n",
    "        self.vocabulaire = [PAD, SOS, EOS] + self.vocabulaire\n",
    "        # <SOS> et <EOS> sont ajoutés respectivement au début et à la fin de chaque séquence\n",
    "        # <pad> est utilisé pour faire en sorte que toutes les séquences aient la même longueur\n",
    "\n",
    "        # pour convertir char <-> int\n",
    "        self.char_to_int = {}\n",
    "        self.int_to_char = {}\n",
    "\n",
    "        for (c, i) in tqdm(zip(self.vocabulaire, range(len(self.vocabulaire))), desc=\"creating vocabulary\", total=len(self.vocabulaire)):\n",
    "            self.char_to_int[c] = i\n",
    "            self.int_to_char[i] = c\n",
    "\n",
    "        num_sequences = len(villes)\n",
    "        self.max_len = max([len(ville) for ville in villes]) + 2 # <SOS> et <EOS>\n",
    "\n",
    "        X = torch.zeros((num_sequences, self.max_len), dtype=torch.int32, device=device)\n",
    "\n",
    "        for i in trange(num_sequences, desc=\"creatind dataset\"):\n",
    "            X[i] = torch.tensor([self.char_to_int[SOS]] +\n",
    "                                [self.char_to_int[c] for c in villes[i]] +\n",
    "                                [self.char_to_int[EOS]] +\n",
    "                                [self.char_to_int[PAD]] * (self.max_len - len(villes[i]) - 2))\n",
    "\n",
    "        n_split = int(0.9 * X.shape[0])\n",
    "\n",
    "        idx_permut = torch.randperm(X.shape[0])\n",
    "        idx_train, _ = torch.sort(idx_permut[:n_split])\n",
    "        idx_val, _ = torch.sort(idx_permut[n_split:])\n",
    "\n",
    "        self.X_train = X[idx_train]\n",
    "        self.X_val = X[idx_val]\n",
    "\n",
    "    def get_batch(self, batch_size: int, split : str=\"val\", device=None) -> torch.Tensor:\n",
    "        assert split in [\"train\", \"val\"], f\"split ({split}) should be 'train' or 'val'.\" \n",
    "\n",
    "        data = self.X_train if split == 'train' else self.X_val\n",
    "\n",
    "        idx = torch.randint(low=int(batch_size/2), high=int(data.shape[0]-batch_size/2), size=(1,), dtype=torch.int32).item()\n",
    "\n",
    "        batch = data[int(idx-batch_size/2):int(idx+batch_size/2)]\n",
    "        X = batch[:, :-1] # (B, L=max_len-1=46)\n",
    "        Y = batch[:, 1:] # (B, L)\n",
    "        if device:\n",
    "            X = X.to(device)\n",
    "            Y = Y.to(device)\n",
    "        return X, Y.long()\n",
    "    \n",
    "    def cast_char_to_int(self, sequence: list[str]) -> list[int]:\n",
    "        return [self.char_to_int[c] for c in sequence]\n",
    "    \n",
    "    def cast_int_to_char(self, sequence: list[int]) -> list[str]:\n",
    "        return [self.int_to_char[i] for i in sequence]"
   ]
  },
  {
   "cell_type": "code",
   "execution_count": 20,
   "metadata": {},
   "outputs": [
    {
     "data": {
      "application/vnd.jupyter.widget-view+json": {
       "model_id": "b7e03377088747d39c39a0f6078055d1",
       "version_major": 2,
       "version_minor": 0
      },
      "text/plain": [
       "creating vocabulary:   0%|          | 0/46 [00:00<?, ?it/s]"
      ]
     },
     "metadata": {},
     "output_type": "display_data"
    },
    {
     "data": {
      "application/vnd.jupyter.widget-view+json": {
       "model_id": "3cb716c839374db59282bf0ce30e5746",
       "version_major": 2,
       "version_minor": 0
      },
      "text/plain": [
       "creatind dataset:   0%|          | 0/36585 [00:00<?, ?it/s]"
      ]
     },
     "metadata": {},
     "output_type": "display_data"
    }
   ],
   "source": [
    "dataset = Dataset(device=device) # toute la partie données de 2_mlp.py a été encapsulée dans l'objet Dataset"
   ]
  },
  {
   "cell_type": "markdown",
   "metadata": {},
   "source": [
    "Test du dataset"
   ]
  },
  {
   "cell_type": "code",
   "execution_count": 21,
   "metadata": {},
   "outputs": [
    {
     "name": "stdout",
     "output_type": "stream",
     "text": [
      "> X (ids):\n",
      "tensor([[ 1, 11, 23,  6, 19,  8,  6, 31,  6, 17,  2,  0,  0,  0,  0,  0,  0,  0,\n",
      "          0,  0,  0,  0,  0,  0,  0,  0,  0,  0,  0,  0,  0,  0,  0,  0,  0,  0,\n",
      "          0,  0,  0,  0,  0,  0,  0,  0,  0,  0],\n",
      "        [ 1, 24,  6, 14, 19, 25,  5, 18,  6, 18, 10, 25,  5, 17,  6,  5, 24,  6,\n",
      "         17, 27, 10, 25,  6, 25,  2,  0,  0,  0,  0,  0,  0,  0,  0,  0,  0,  0,\n",
      "          0,  0,  0,  0,  0,  0,  0,  0,  0,  0]], dtype=torch.int32)\n",
      "> caractères correspondants pour la première séquence :\n",
      "['<SOS>', 'f', 'r', 'a', 'n', 'c', 'a', 'z', 'a', 'l', '<EOS>', '<pad>', '<pad>', '<pad>', '<pad>', '<pad>', '<pad>', '<pad>', '<pad>', '<pad>', '<pad>', '<pad>', '<pad>', '<pad>', '<pad>', '<pad>', '<pad>', '<pad>', '<pad>', '<pad>', '<pad>', '<pad>', '<pad>', '<pad>', '<pad>', '<pad>', '<pad>', '<pad>', '<pad>', '<pad>', '<pad>', '<pad>', '<pad>', '<pad>', '<pad>', '<pad>']\n"
     ]
    }
   ],
   "source": [
    "X, Y = batch = dataset.get_batch(batch_size=2)\n",
    "print(\"> X (ids):\", X.to(\"cpu\"), sep=\"\\n\")\n",
    "print(\"> caractères correspondants pour la première séquence :\", dataset.cast_int_to_char(X[0].to(\"cpu\").tolist()), sep=\"\\n\")"
   ]
  },
  {
   "cell_type": "markdown",
   "metadata": {},
   "source": [
    "## Entrainement"
   ]
  },
  {
   "cell_type": "code",
   "execution_count": 22,
   "metadata": {},
   "outputs": [],
   "source": [
    "d_model = 32 # dimension du modèle\n",
    "n_heads = 4 # nombre de têtes pour l'attention\n",
    "n_layers = 1 # nombre de couches\n",
    "dropout = 0.\n",
    "\n",
    "lr = 3e-4\n",
    "batch_size = 64\n",
    "\n",
    "iterations = 10000\n",
    "print_each = 1000"
   ]
  },
  {
   "cell_type": "code",
   "execution_count": 23,
   "metadata": {},
   "outputs": [
    {
     "name": "stdout",
     "output_type": "stream",
     "text": [
      "LanguageModel(\n",
      "  (embedding): Embedding(46, 32, padding_idx=0)\n",
      "  (core): Transformer(\n",
      "    (PE): Embedding(47, 32)\n",
      "    (in_dropout): Dropout(p=0.0, inplace=False)\n",
      "    (layers): ModuleList(\n",
      "      (0): DecoderLayer(\n",
      "        (attention_norm): RMSNorm()\n",
      "        (sa): SelfAttentionMultiHead(\n",
      "          (query_proj): Linear(in_features=32, out_features=32, bias=False)\n",
      "          (key_proj): Linear(in_features=32, out_features=32, bias=False)\n",
      "          (value_proj): Linear(in_features=32, out_features=32, bias=False)\n",
      "          (c_proj): Linear(in_features=32, out_features=32, bias=False)\n",
      "          (attn_drop): Dropout(p=0.0, inplace=False)\n",
      "          (resid_dropout): Dropout(p=0.0, inplace=False)\n",
      "        )\n",
      "        (mlp_norm): RMSNorm()\n",
      "        (mlp): MLP(\n",
      "          (fc_1): Linear(in_features=32, out_features=128, bias=False)\n",
      "          (fc_2): Linear(in_features=128, out_features=32, bias=False)\n",
      "          (fc_3): Linear(in_features=32, out_features=128, bias=False)\n",
      "          (dropout): Dropout(p=0.0, inplace=False)\n",
      "        )\n",
      "      )\n",
      "    )\n",
      "  )\n",
      "  (out_norm): RMSNorm()\n",
      "  (lm_head): Linear(in_features=32, out_features=46, bias=False)\n",
      ")\n",
      "Nombre de paramètres : 19456\n"
     ]
    }
   ],
   "source": [
    "config = TransformerConfig(d_model=d_model, n_heads=n_heads, n_layers=n_layers, dropout=dropout, max_len=dataset.max_len)\n",
    "model = LanguageModel(config, vocab_size=len(dataset.vocabulaire)).to(device)\n",
    "optim = torch.optim.AdamW(model.parameters(), lr=lr)\n",
    "\n",
    "print(model)\n",
    "print(f\"Nombre de paramètres : {sum(p.numel() for p in model.parameters())}\")"
   ]
  },
  {
   "cell_type": "code",
   "execution_count": 24,
   "metadata": {},
   "outputs": [
    {
     "data": {
      "application/vnd.jupyter.widget-view+json": {
       "model_id": "466b3734c5994ce2a42a1ace10ab02c2",
       "version_major": 2,
       "version_minor": 0
      },
      "text/plain": [
       "  0%|          | 0/10000 [00:00<?, ?it/s]"
      ]
     },
     "metadata": {},
     "output_type": "display_data"
    },
    {
     "name": "stdout",
     "output_type": "stream",
     "text": [
      "\tperte entrainement (itération #    0): 3.85 | perte de validation : 3.83\n",
      "\tperte entrainement (itération # 1000): 2.26 | perte de validation : 2.17\n",
      "\tperte entrainement (itération # 2000): 2.08 | perte de validation : 2.18\n",
      "\tperte entrainement (itération # 3000): 1.97 | perte de validation : 1.97\n",
      "\tperte entrainement (itération # 4000): 1.97 | perte de validation : 1.97\n",
      "\tperte entrainement (itération # 5000): 2.04 | perte de validation : 1.90\n",
      "\tperte entrainement (itération # 6000): 1.87 | perte de validation : 1.83\n",
      "\tperte entrainement (itération # 7000): 1.82 | perte de validation : 1.86\n",
      "\tperte entrainement (itération # 8000): 1.77 | perte de validation : 1.86\n",
      "\tperte entrainement (itération # 9000): 1.83 | perte de validation : 1.92\n"
     ]
    }
   ],
   "source": [
    "model.train()\n",
    "for i in trange(iterations):\n",
    "    X, Y = dataset.get_batch(split='train', batch_size=batch_size) # (B, L)\n",
    "    logits = model(X) # (B, L, vocab_size)\n",
    "\n",
    "    loss = F.cross_entropy(logits.view(-1, logits.size(-1)), Y.view(-1), ignore_index=dataset.char_to_int[PAD])\n",
    "    optim.zero_grad()\n",
    "    loss.backward()\n",
    "    optim.step()\n",
    "    \n",
    "    if i%print_each==0:\n",
    "        model.eval()\n",
    "        X, Y = dataset.get_batch(batch_size=batch_size) # (B, L)\n",
    "        logits = model(X) # (B, L, vocab_size)\n",
    "        val_loss = F.cross_entropy(logits.view(-1, logits.size(-1)), Y.view(-1), ignore_index=dataset.char_to_int[PAD]).item()\n",
    "\n",
    "        print(f\"\\tperte entrainement (itération #{i:5d}): {loss.item():.2f} | perte de validation : {val_loss:.2f}\")\n",
    "        model.train()\n",
    "\n",
    "model.eval();"
   ]
  },
  {
   "cell_type": "code",
   "execution_count": 25,
   "metadata": {},
   "outputs": [
    {
     "name": "stdout",
     "output_type": "stream",
     "text": [
      "total train loss : 1.80\n",
      "total val loss   : 1.82\n"
     ]
    }
   ],
   "source": [
    "X = dataset.X_train[:, :-1].to(device) # (B, L=max_len-1=46)\n",
    "Y = dataset.X_train[:, 1:].long().to(device) # (B, L)\n",
    "\n",
    "logits = model(X) # (B, L, vocab_size)\n",
    "loss = F.cross_entropy(logits.view(-1, logits.size(-1)), Y.view(-1), ignore_index=dataset.char_to_int['<pad>'])\n",
    "print(f\"total train loss : {loss.item():.2f}\")\n",
    "\n",
    "X = dataset.X_val[:, :-1].to(device) # (B, L=max_len-1=46)\n",
    "Y = dataset.X_val[:, 1:].long().to(device) # (B, L)\n",
    "\n",
    "logits = model(X) # (B, L, vocab_size)\n",
    "loss = F.cross_entropy(logits.view(-1, logits.size(-1)), Y.view(-1), ignore_index=dataset.char_to_int['<pad>'])\n",
    "print(f\"total val loss   : {loss.item():.2f}\")"
   ]
  },
  {
   "cell_type": "code",
   "execution_count": 26,
   "metadata": {},
   "outputs": [],
   "source": [
    "timestamp = datetime.datetime.now().strftime(\"%Y%M%d-%I%M%S\")\n",
    "torch.save(model.state_dict(), f\"model_{d_model}__{n_heads}_heads__{n_layers}_layers__{timestamp}.pth\")"
   ]
  },
  {
   "cell_type": "markdown",
   "metadata": {},
   "source": [
    "## Génération de noms de commune"
   ]
  },
  {
   "cell_type": "code",
   "execution_count": 27,
   "metadata": {},
   "outputs": [],
   "source": [
    "def sample(model, prompt = \"\", device=\"cpu\", g = torch.Generator(device)):\n",
    "    idx = torch.tensor([dataset.char_to_int[c] for c in prompt], dtype=torch.int32, device=device).unsqueeze(0)\n",
    "    idx = torch.cat([torch.tensor(dataset.char_to_int[SOS], device=device).view(1, 1), idx], dim=1)\n",
    "    next_id = -1\n",
    "\n",
    "    while next_id != dataset.char_to_int[EOS]:\n",
    "        logits = model(idx) # (1, l, d_model)\n",
    "\n",
    "        probs = F.softmax(logits[:, -1, :], dim=-1)\n",
    "        next_id = torch.multinomial(probs, num_samples=1, generator=g).item()\n",
    "        idx = torch.cat([idx, torch.tensor(next_id, device=device).view(1, 1)], dim=1)\n",
    "\n",
    "        if idx.shape[1] > config.max_len:\n",
    "            break\n",
    "        \n",
    "    return \"\".join([dataset.int_to_char[p.item()] for p in idx[0, 1:-1]])"
   ]
  },
  {
   "cell_type": "code",
   "execution_count": 28,
   "metadata": {},
   "outputs": [
    {
     "name": "stdout",
     "output_type": "stream",
     "text": [
      "labachac\n",
      "langlais\n",
      "larcy\n",
      "la mix-de-sur-jeaux\n",
      "la vauxieis\n",
      "la czaps\n",
      "laxelles\n",
      "la cheau-de-sur-etonjon\n",
      "la chépellontme-boir\n",
      "la chapat\n",
      "labre\n",
      "la bagnige\n",
      "la sainte-c\n",
      "la cheuvière\n",
      "la côre-ez\n"
     ]
    }
   ],
   "source": [
    "for _ in range(15):\n",
    "    print(sample(model, prompt=\"la\", device=device, g=pth_rnd_gen))"
   ]
  },
  {
   "cell_type": "markdown",
   "metadata": {},
   "source": [
    "## Interprétabilité"
   ]
  },
  {
   "cell_type": "markdown",
   "metadata": {},
   "source": [
    "### Visualisation des matrice d'attention"
   ]
  },
  {
   "cell_type": "markdown",
   "metadata": {},
   "source": [
    "### Recherche des concepts avec l'utilisation d'un SAE"
   ]
  },
  {
   "cell_type": "markdown",
   "metadata": {},
   "source": [
    "#### Création et entrainement d'un SAE"
   ]
  },
  {
   "cell_type": "markdown",
   "metadata": {},
   "source": [
    "Présentation des concepts"
   ]
  },
  {
   "cell_type": "code",
   "execution_count": 29,
   "metadata": {},
   "outputs": [],
   "source": [
    "class AutoEncoder(nn.Module):\n",
    "    def __init__(self, act_size, num_features, l1_coeff):\n",
    "        super().__init__()\n",
    "\n",
    "        self.l1_coeff = l1_coeff\n",
    "        self.num_features = num_features\n",
    "\n",
    "        self.W_enc = nn.Parameter(torch.nn.init.kaiming_uniform_(torch.empty(act_size, num_features)))\n",
    "        self.b_enc = nn.Parameter(torch.zeros(num_features))\n",
    "\n",
    "        self.W_dec = nn.Parameter(torch.nn.init.kaiming_uniform_(torch.empty(num_features, act_size)))\n",
    "        self.b_dec = nn.Parameter(torch.zeros(act_size))\n",
    "\n",
    "        self.W_dec.data[:] = self.W_dec / self.W_dec.norm(dim=-1, keepdim=True)\n",
    "    \n",
    "    def encode(self, x):\n",
    "        x_cent = x - self.b_dec\n",
    "        return F.relu(x_cent @ self.W_enc + self.b_enc) # calcul des activations des concepts\n",
    "    \n",
    "    def decode(self, x):\n",
    "        return x @ self.W_dec + self.b_dec # calcul de la reconstruction\n",
    "\n",
    "    def reconstruct_loss(self, x, acts, x_reconstruct):\n",
    "        l2_loss = (x_reconstruct.float() - x.float()).pow(2).sum(-1).mean(0) # loss de reconstruction\n",
    "        l1_loss = self.l1_coeff * (acts.float().abs().sum()) # penalité L1 sur les activations des concepts\n",
    "        return l1_loss, l2_loss\n",
    "    \n",
    "    def forward(self, x):\n",
    "        x_cent = x - self.b_dec\n",
    "        acts = self.encode(x)\n",
    "        x_reconstruct = self.decode(acts)\n",
    "\n",
    "        l1_loss, l2_loss = self.reconstruct_loss(x, acts, x_reconstruct)\n",
    "        loss = l2_loss + l1_loss # loss total\n",
    "\n",
    "        return loss, x_reconstruct, acts, l2_loss, l1_loss\n",
    "    \n",
    "    # permet de stabiliser l'entraînement\n",
    "    @torch.no_grad()\n",
    "    def make_decoder_weights_and_grad_unit_norm(self):\n",
    "        W_dec_normed = self.W_dec / self.W_dec.norm(dim=-1, keepdim=True)\n",
    "        W_dec_grad_proj = (self.W_dec.grad * W_dec_normed).sum(-1, keepdim=True) * W_dec_normed\n",
    "        self.W_dec.grad -= W_dec_grad_proj\n",
    "        # Bugfix(?) for ensuring W_dec retains unit norm, this was not there when I trained my original autoencoders.\n",
    "        self.W_dec.data = W_dec_normed"
   ]
  },
  {
   "cell_type": "markdown",
   "metadata": {},
   "source": [
    "chargement du modèle si besoin, sans passer par la phase d'apprentissage du modèle"
   ]
  },
  {
   "cell_type": "code",
   "execution_count": 30,
   "metadata": {},
   "outputs": [],
   "source": [
    "def load_model(filename: str, device=\"cpu\", verbose: bool =True):\n",
    "    model = LanguageModel(config, vocab_size=len(dataset.vocabulaire))\n",
    "    model.load_state_dict(torch.load(filename, map_location=torch.device('cpu')))\n",
    "    if verbose:\n",
    "        print(model)\n",
    "    return model.to(device)"
   ]
  },
  {
   "cell_type": "code",
   "execution_count": 31,
   "metadata": {},
   "outputs": [],
   "source": [
    "do_load_model = False\n",
    "if do_load_model:\n",
    "    model_weights = \"model32_n_heads4_n_layers1_20250025-030058.pth\"\n",
    "    model = load_model(model_weights, device=device)\n",
    "model.eval();"
   ]
  },
  {
   "cell_type": "code",
   "execution_count": 32,
   "metadata": {},
   "outputs": [],
   "source": [
    "act_size = config.d_model\n",
    "num_features = 4 * config.d_model\n",
    "sae = AutoEncoder(act_size=act_size, num_features=num_features, l1_coeff=3e-4)\n",
    "optim = torch.optim.Adam(sae.parameters(), lr=3e-4)"
   ]
  },
  {
   "cell_type": "code",
   "execution_count": 33,
   "metadata": {},
   "outputs": [
    {
     "data": {
      "application/vnd.jupyter.widget-view+json": {
       "model_id": "8fae329820b841b885cae3bb0178e5ef",
       "version_major": 2,
       "version_minor": 0
      },
      "text/plain": [
       "apprentissage:   0%|          | 0/1000 [00:00<?, ?it/s]"
      ]
     },
     "metadata": {},
     "output_type": "display_data"
    },
    {
     "name": "stdout",
     "output_type": "stream",
     "text": [
      "loss : 5.893471717834473\n",
      "loss : 1.9906123876571655\n",
      "loss : 1.3026940822601318\n",
      "loss : 1.0804719924926758\n",
      "loss : 0.9066196084022522\n",
      "loss : 0.7246869802474976\n",
      "loss : 0.7728164196014404\n",
      "loss : 0.6795124411582947\n",
      "loss : 0.6427016258239746\n",
      "loss : 0.6344951391220093\n"
     ]
    }
   ],
   "source": [
    "iterations = 1000\n",
    "batch_size = 16\n",
    "print_every = 100\n",
    "\n",
    "sae.to(device)\n",
    "sae.train()\n",
    "for i in trange(iterations, desc=\"apprentissage\"):\n",
    "    # on récupère les données\n",
    "    X, Y = dataset.get_batch(split='train', batch_size=batch_size) # (B, L)\n",
    "\n",
    "    # on les fait passer dans le modèle et on récupère les activations du modèle (avec act=True, on \"sort\" du modèle avant la sortie)\n",
    "    act = model(X, act=True).view(-1, config.d_model) # (B*L, 128)\n",
    "\n",
    "    loss, x_reconstruct, features, l2_loss, l1_loss = sae(act)\n",
    "    loss.backward()\n",
    "    sae.make_decoder_weights_and_grad_unit_norm()\n",
    "    optim.step()\n",
    "    optim.zero_grad()\n",
    "    \n",
    "    if i % print_every == 0:\n",
    "        print(f\"loss : {loss.item()}\")"
   ]
  },
  {
   "cell_type": "markdown",
   "metadata": {},
   "source": [
    "Explications concernant les fréquences des caractéristiques"
   ]
  },
  {
   "cell_type": "code",
   "execution_count": 34,
   "metadata": {},
   "outputs": [
    {
     "name": "stdout",
     "output_type": "stream",
     "text": [
      "fraction des caractéristiques avec une fréquence < 1/10 : 0.6484375\n",
      "fraction des caractéristiques avec une fréquence < 1/100 : 0.046875\n",
      "fraction des caractéristiques avec une fréquence < 1/1.000 : 0.0\n",
      "fraction des caractéristiques avec une fréquence < 1/10.000 : 0.0\n"
     ]
    }
   ],
   "source": [
    "# frequence des features\n",
    "X, Y = dataset.get_batch(split='val', batch_size=512) # (B, L)\n",
    "act = model(X, act=True).view(-1, config.d_model)\n",
    "_, _, features, _, _ = sae(act)\n",
    "\n",
    "rate = ((((features > 0).int()).sum(0) / features.shape[0]) < 1e-1).float().mean()\n",
    "print(f\"fraction des caractéristiques avec une fréquence < 1/10 : {rate}\")\n",
    "\n",
    "rate = ((((features > 0).int()).sum(0) / features.shape[0]) < 1e-2).float().mean()\n",
    "print(f\"fraction des caractéristiques avec une fréquence < 1/100 : {rate}\")\n",
    "\n",
    "rate = ((((features > 0).int()).sum(0) / features.shape[0]) < 1e-3).float().mean()\n",
    "print(f\"fraction des caractéristiques avec une fréquence < 1/1.000 : {rate}\")\n",
    "\n",
    "rate = ((((features > 0).int()).sum(0) / features.shape[0]) < 1e-4).float().mean()\n",
    "print(f\"fraction des caractéristiques avec une fréquence < 1/10.000 : {rate}\")"
   ]
  },
  {
   "cell_type": "code",
   "execution_count": 35,
   "metadata": {},
   "outputs": [],
   "source": [
    "torch.save(sae.state_dict(), f\"sae_model_{d_model}__{n_heads}_heads__{n_layers}_layers__{timestamp}.pth\")"
   ]
  },
  {
   "cell_type": "markdown",
   "metadata": {},
   "source": [
    "#### Visualisations"
   ]
  },
  {
   "cell_type": "code",
   "execution_count": 36,
   "metadata": {},
   "outputs": [],
   "source": [
    "X, Y = dataset.get_batch(split='train', batch_size=1) # (B, L)\n",
    "act = model(X, act=True).view(-1, config.d_model) # (B, L, d_model)\n",
    "_, act_recon, features, _, _ = sae(act)"
   ]
  },
  {
   "cell_type": "markdown",
   "metadata": {},
   "source": [
    "##### visualisation des activations des features"
   ]
  },
  {
   "cell_type": "code",
   "execution_count": 37,
   "metadata": {},
   "outputs": [
    {
     "data": {
      "image/png": "[encoded data removed]",
      "text/plain": [
       "<Figure size 640x480 with 1 Axes>"
      ]
     },
     "metadata": {},
     "output_type": "display_data"
    }
   ],
   "source": [
    "plt.imshow(features.to(\"cpu\").detach())\n",
    "plt.show()"
   ]
  },
  {
   "cell_type": "markdown",
   "metadata": {},
   "source": [
    "##### visualisation des activations"
   ]
  },
  {
   "cell_type": "code",
   "execution_count": 38,
   "metadata": {},
   "outputs": [
    {
     "data": {
      "image/png": "[encoded data removed]",
      "text/plain": [
       "<Figure size 640x480 with 1 Axes>"
      ]
     },
     "metadata": {},
     "output_type": "display_data"
    }
   ],
   "source": [
    "plt.imshow(act[40].view(4, 8).to(\"cpu\").detach())\n",
    "plt.show()\n",
    "#plt.savefig('act_40', dpi=200)"
   ]
  },
  {
   "cell_type": "markdown",
   "metadata": {},
   "source": [
    "##### visualisation des activations des features"
   ]
  },
  {
   "cell_type": "code",
   "execution_count": 39,
   "metadata": {},
   "outputs": [
    {
     "data": {
      "image/png": "[encoded data removed]",
      "text/plain": [
       "<Figure size 640x480 with 1 Axes>"
      ]
     },
     "metadata": {},
     "output_type": "display_data"
    }
   ],
   "source": [
    "plt.imshow(features[40].view(8, 16).to(\"cpu\").detach())\n",
    "plt.show()\n",
    "#plt.savefig('features_40', dpi=600)"
   ]
  },
  {
   "cell_type": "markdown",
   "metadata": {},
   "source": [
    "##### visualisation des activations et de leurs reconstructions :"
   ]
  },
  {
   "cell_type": "markdown",
   "metadata": {},
   "source": [
    "Visualisation des activations."
   ]
  },
  {
   "cell_type": "code",
   "execution_count": 40,
   "metadata": {},
   "outputs": [
    {
     "data": {
      "image/png": "[encoded data removed]",
      "text/plain": [
       "<Figure size 640x480 with 1 Axes>"
      ]
     },
     "metadata": {},
     "output_type": "display_data"
    }
   ],
   "source": [
    "plt.imshow(act.to(\"cpu\").detach())\n",
    "plt.show()"
   ]
  },
  {
   "cell_type": "markdown",
   "metadata": {},
   "source": [
    "Visualisation de leur reconstruction."
   ]
  },
  {
   "cell_type": "code",
   "execution_count": 41,
   "metadata": {},
   "outputs": [
    {
     "data": {
      "image/png": "[encoded data removed]",
      "text/plain": [
       "<Figure size 640x480 with 1 Axes>"
      ]
     },
     "metadata": {},
     "output_type": "display_data"
    }
   ],
   "source": [
    "plt.imshow(act_recon.to(\"cpu\").detach())\n",
    "plt.show()"
   ]
  },
  {
   "cell_type": "markdown",
   "metadata": {},
   "source": [
    "Calcul de la perte en cas d'utilisation des reconstructions à la place des activations initiales."
   ]
  },
  {
   "cell_type": "code",
   "execution_count": 42,
   "metadata": {},
   "outputs": [
    {
     "name": "stdout",
     "output_type": "stream",
     "text": [
      "reconstruction loss : 2.10\n"
     ]
    }
   ],
   "source": [
    "X, Y = dataset.get_batch(split=\"val\", batch_size=64) # (B, L)\n",
    "act = model(X, act=True).view(-1, config.d_model)\n",
    "_, act_recon, features, _, _ = sae(act)\n",
    "\n",
    "x = model.out_norm(act_recon)\n",
    "logits = model.lm_head(x)\n",
    "\n",
    "loss = F.cross_entropy(logits.view(-1, logits.size(-1)), Y.view(-1), ignore_index=dataset.char_to_int[PAD])\n",
    "print(f\"reconstruction loss : {loss.item():.2f}\")"
   ]
  },
  {
   "cell_type": "markdown",
   "metadata": {},
   "source": [
    "#### Exploration des neurones et concepts"
   ]
  },
  {
   "cell_type": "code",
   "execution_count": 43,
   "metadata": {},
   "outputs": [],
   "source": [
    "def do_load_sae(filename: str, act_size: int, num_features: int, device=\"cpu\") -> torch.Tensor:\n",
    "    sae = AutoEncoder(act_size=act_size, num_features=num_features, l1_coeff=3e-4)\n",
    "    sae.load_state_dict(torch.load(filename))\n",
    "    return sae.to(device)"
   ]
  },
  {
   "cell_type": "code",
   "execution_count": 44,
   "metadata": {},
   "outputs": [],
   "source": [
    "do_load_model = False\n",
    "if do_load_model:\n",
    "    model_weights = \"model32_n_heads4_n_layers1_20250025-030058.pth\"\n",
    "    model = load_model(model_weights, device=device)\n",
    "model.eval();"
   ]
  },
  {
   "cell_type": "code",
   "execution_count": 45,
   "metadata": {},
   "outputs": [],
   "source": [
    "load_sae = False\n",
    "if load_sae:\n",
    "    act_size = config.d_model\n",
    "    num_features = 4 * config.d_model\n",
    "    sae = do_load_sae(\"sae_model_32__4_heads__1_layers__20252925-032910.pth\", \n",
    "                      act_size=act_size, num_features=num_features, device=device)"
   ]
  },
  {
   "cell_type": "markdown",
   "metadata": {},
   "source": [
    "##### neurones interprétables ?"
   ]
  },
  {
   "cell_type": "markdown",
   "metadata": {},
   "source": [
    "Garde les 20 valeurs (et leur indice) les plus grandes parmi top_values et new_values.\n",
    "\n",
    "les appels successifs de cette fonction vont permettre de déterminer par paquets/batchs les valeurs (et leur indice) les plus grandes parmi une liste de valeurs (cf l'utilisation en dessous)."
   ]
  },
  {
   "cell_type": "code",
   "execution_count": 46,
   "metadata": {},
   "outputs": [],
   "source": [
    "def update_top_k(top_values, top_indices, new_values, new_indices, k=20):\n",
    "    combined_values = torch.cat([top_values, new_values])\n",
    "    combined_indices = torch.cat([top_indices, new_indices])\n",
    "    \n",
    "    new_top_values, topk_indices = torch.topk(combined_values, k)\n",
    "    new_top_indices = combined_indices[topk_indices]\n",
    "    \n",
    "    return new_top_values, new_top_indices"
   ]
  },
  {
   "cell_type": "code",
   "execution_count": 47,
   "metadata": {},
   "outputs": [],
   "source": [
    "top_k = 20 # on garde les 20 exemples qui font s'activer chaque neurone le plus\n",
    "batch_size = 64 # on travaille par paquets de 64"
   ]
  },
  {
   "cell_type": "markdown",
   "metadata": {},
   "source": [
    "On commence avec des valeurs minimales (-inf) et des indices arbitraires (-1).\n",
    "\n",
    "- `top_values`, de taille (n_neurones, top_k), répertorie les 20 valeurs d'activations max de chaque neurone\n",
    "- `top_indices`, de taille (n_neurones, top_k), répertorie les indices qui correspondent à ces valeurs (indices=indice dans le dataset=indice d'une commune)\n",
    "\n",
    "pour chaque paquet/batch :<br>\n",
    "   - on fait passer le batch dans le réseau<br>\n",
    "   - on récupère les activations (B, L, n_neurones) = n_neurones activations (1 par neurone) pour chaque lettre (L) pour chaque commune (B)<br>\n",
    "   - on prend en compte l'activation maximale (selon la position)<br>\n",
    "\n",
    "pour chaque neurone :<br>\n",
    "   - on utilise la fonction update_top_k pour mettre à jour top_values et top_indices\n"
   ]
  },
  {
   "cell_type": "code",
   "execution_count": 48,
   "metadata": {},
   "outputs": [
    {
     "data": {
      "application/vnd.jupyter.widget-view+json": {
       "model_id": "41634f3e868542ef92a1744933c95937",
       "version_major": 2,
       "version_minor": 0
      },
      "text/plain": [
       "  0%|          | 0/515 [00:00<?, ?it/s]"
      ]
     },
     "metadata": {},
     "output_type": "display_data"
    }
   ],
   "source": [
    "top_values = torch.full((config.d_model, top_k), -float('inf'))\n",
    "top_indices = torch.full((config.d_model, top_k), -1, dtype=torch.long)\n",
    "\n",
    "for i in trange(0, dataset.X_train.shape[0], batch_size):\n",
    "    X = dataset.X_train[i:i+batch_size]\n",
    "    act = model(X, act=True) # (B, L, n_neurones)\n",
    "    act = act.to(\"cpu\")\n",
    "    max_act = act.max(dim=1).values # (B, n_neurones)\n",
    "\n",
    "    for dim in range(config.d_model):\n",
    "        dim_values = max_act[:, dim]\n",
    "        dim_indices = i + torch.arange(batch_size)\n",
    "\n",
    "        top_values[dim], top_indices[dim] = update_top_k(top_values[dim], top_indices[dim], dim_values, dim_indices)"
   ]
  },
  {
   "cell_type": "code",
   "execution_count": 49,
   "metadata": {},
   "outputs": [
    {
     "data": {
      "text/html": [
       "<span style=\"font-size:18px; color:'white'; background-color:rgb(139, 0, 0)\">b</span><span style=\"font-size:18px; color:'white'; background-color:rgb(-232, 0, 0)\">e</span><span style=\"font-size:18px; color:'white'; background-color:rgb(-16, 0, 0)\">a</span><span style=\"font-size:18px; color:'white'; background-color:rgb(-10, 0, 0)\">u</span><span style=\"font-size:18px; color:'white'; background-color:rgb(48, 0, 0)\">j</span><span style=\"font-size:18px; color:'white'; background-color:rgb(-209, 0, 0)\">e</span><span style=\"font-size:18px; color:'white'; background-color:rgb(-3, 0, 0)\">u</span><span style=\"font-size:18px; color:'white'; background-color:rgb(59, 0, 0)\">-</span><span style=\"font-size:18px; color:'white'; background-color:rgb(99, 0, 0)\">s</span><span style=\"font-size:18px; color:'white'; background-color:rgb(-75, 0, 0)\">a</span><span style=\"font-size:18px; color:'white'; background-color:rgb(-40, 0, 0)\">i</span><span style=\"font-size:18px; color:'white'; background-color:rgb(63, 0, 0)\">n</span><span style=\"font-size:18px; color:'white'; background-color:rgb(-19, 0, 0)\">t</span><span style=\"font-size:18px; color:'white'; background-color:rgb(-45, 0, 0)\">-</span><span style=\"font-size:18px; color:'white'; background-color:rgb(69, 0, 0)\">v</span><span style=\"font-size:18px; color:'white'; background-color:rgb(-227, 0, 0)\">a</span><span style=\"font-size:18px; color:'white'; background-color:rgb(-24, 0, 0)\">l</span><span style=\"font-size:18px; color:'white'; background-color:rgb(-31, 0, 0)\">l</span><span style=\"font-size:18px; color:'white'; background-color:rgb(-71, 0, 0)\">i</span><span style=\"font-size:18px; color:'white'; background-color:rgb(43, 0, 0)\">e</span><span style=\"font-size:18px; color:'white'; background-color:rgb(3, 0, 0)\">r</span><span style=\"font-size:18px; color:'white'; background-color:rgb(31, 0, 0)\">-</span><span style=\"font-size:18px; color:'white'; background-color:rgb(105, 0, 0)\">p</span><span style=\"font-size:18px; color:'white'; background-color:rgb(-70, 0, 0)\">i</span><span style=\"font-size:18px; color:'white'; background-color:rgb(11, 0, 0)\">e</span><span style=\"font-size:18px; color:'white'; background-color:rgb(20, 0, 0)\">r</span><span style=\"font-size:18px; color:'white'; background-color:rgb(17, 0, 0)\">r</span><span style=\"font-size:18px; color:'white'; background-color:rgb(24, 0, 0)\">e</span><span style=\"font-size:18px; color:'white'; background-color:rgb(69, 0, 0)\">j</span><span style=\"font-size:18px; color:'white'; background-color:rgb(-80, 0, 0)\">u</span><span style=\"font-size:18px; color:'white'; background-color:rgb(79, 0, 0)\">x</span><span style=\"font-size:18px; color:'white'; background-color:rgb(-109, 0, 0)\">-</span><span style=\"font-size:18px; color:'white'; background-color:rgb(196, 0, 0)\">e</span><span style=\"font-size:18px; color:'white'; background-color:rgb(118, 0, 0)\">t</span><span style=\"font-size:18px; color:'white'; background-color:rgb(46, 0, 0)\">-</span><span style=\"font-size:18px; color:'white'; background-color:rgb(165, 0, 0)\">q</span><span style=\"font-size:18px; color:'white'; background-color:rgb(-99, 0, 0)\">u</span><span style=\"font-size:18px; color:'white'; background-color:rgb(94, 0, 0)\">i</span><span style=\"font-size:18px; color:'white'; background-color:rgb(39, 0, 0)\">t</span><span style=\"font-size:18px; color:'white'; background-color:rgb(61, 0, 0)\">t</span><span style=\"font-size:18px; color:'white'; background-color:rgb(6, 0, 0)\">e</span><span style=\"font-size:18px; color:'white'; background-color:rgb(78, 0, 0)\">u</span><span style=\"font-size:18px; color:'white'; background-color:rgb(91, 0, 0)\">r</span>"
      ],
      "text/plain": [
       "<IPython.core.display.HTML object>"
      ]
     },
     "metadata": {},
     "output_type": "display_data"
    },
    {
     "data": {
      "text/html": [
       "<span style=\"font-size:18px; color:'white'; background-color:rgb(139, 0, 0)\">r</span><span style=\"font-size:18px; color:'white'; background-color:rgb(-84, 0, 0)\">o</span><span style=\"font-size:18px; color:'white'; background-color:rgb(54, 0, 0)\">c</span><span style=\"font-size:18px; color:'white'; background-color:rgb(-19, 0, 0)\">h</span><span style=\"font-size:18px; color:'white'; background-color:rgb(-51, 0, 0)\">e</span><span style=\"font-size:18px; color:'white'; background-color:rgb(-5, 0, 0)\">-</span><span style=\"font-size:18px; color:'white'; background-color:rgb(114, 0, 0)\">s</span><span style=\"font-size:18px; color:'white'; background-color:rgb(-49, 0, 0)\">u</span><span style=\"font-size:18px; color:'white'; background-color:rgb(-39, 0, 0)\">r</span><span style=\"font-size:18px; color:'white'; background-color:rgb(34, 0, 0)\">-</span><span style=\"font-size:18px; color:'white'; background-color:rgb(59, 0, 0)\">l</span><span style=\"font-size:18px; color:'white'; background-color:rgb(-78, 0, 0)\">i</span><span style=\"font-size:18px; color:'white'; background-color:rgb(-5, 0, 0)\">n</span><span style=\"font-size:18px; color:'white'; background-color:rgb(8, 0, 0)\">o</span><span style=\"font-size:18px; color:'white'; background-color:rgb(17, 0, 0)\">t</span><span style=\"font-size:18px; color:'white'; background-color:rgb(-14, 0, 0)\">t</span><span style=\"font-size:18px; color:'white'; background-color:rgb(-56, 0, 0)\">e</span><span style=\"font-size:18px; color:'white'; background-color:rgb(-29, 0, 0)\">-</span><span style=\"font-size:18px; color:'white'; background-color:rgb(73, 0, 0)\">e</span><span style=\"font-size:18px; color:'white'; background-color:rgb(13, 0, 0)\">t</span><span style=\"font-size:18px; color:'white'; background-color:rgb(-57, 0, 0)\">-</span><span style=\"font-size:18px; color:'white'; background-color:rgb(30, 0, 0)\">s</span><span style=\"font-size:18px; color:'white'; background-color:rgb(-32, 0, 0)\">o</span><span style=\"font-size:18px; color:'white'; background-color:rgb(18, 0, 0)\">r</span><span style=\"font-size:18px; color:'white'; background-color:rgb(-7, 0, 0)\">a</span><span style=\"font-size:18px; color:'white'; background-color:rgb(64, 0, 0)\">n</span><span style=\"font-size:18px; color:'white'; background-color:rgb(43, 0, 0)\">s</span><span style=\"font-size:18px; color:'white'; background-color:rgb(31, 0, 0)\">-</span><span style=\"font-size:18px; color:'white'; background-color:rgb(169, 0, 0)\">l</span><span style=\"font-size:18px; color:'white'; background-color:rgb(-2, 0, 0)\">e</span><span style=\"font-size:18px; color:'white'; background-color:rgb(46, 0, 0)\">s</span><span style=\"font-size:18px; color:'white'; background-color:rgb(17, 0, 0)\">-</span><span style=\"font-size:18px; color:'white'; background-color:rgb(192, 0, 0)\">c</span><span style=\"font-size:18px; color:'white'; background-color:rgb(-53, 0, 0)\">o</span><span style=\"font-size:18px; color:'white'; background-color:rgb(40, 0, 0)\">r</span><span style=\"font-size:18px; color:'white'; background-color:rgb(12, 0, 0)\">d</span><span style=\"font-size:18px; color:'white'; background-color:rgb(-4, 0, 0)\">i</span><span style=\"font-size:18px; color:'white'; background-color:rgb(78, 0, 0)\">e</span><span style=\"font-size:18px; color:'white'; background-color:rgb(52, 0, 0)\">r</span><span style=\"font-size:18px; color:'white'; background-color:rgb(1, 0, 0)\">s</span>"
      ],
      "text/plain": [
       "<IPython.core.display.HTML object>"
      ]
     },
     "metadata": {},
     "output_type": "display_data"
    },
    {
     "data": {
      "text/html": [
       "<span style=\"font-size:18px; color:'white'; background-color:rgb(139, 0, 0)\">s</span><span style=\"font-size:18px; color:'white'; background-color:rgb(22, 0, 0)\">a</span><span style=\"font-size:18px; color:'white'; background-color:rgb(-26, 0, 0)\">i</span><span style=\"font-size:18px; color:'white'; background-color:rgb(41, 0, 0)\">n</span><span style=\"font-size:18px; color:'white'; background-color:rgb(-3, 0, 0)\">t</span><span style=\"font-size:18px; color:'white'; background-color:rgb(-23, 0, 0)\">-</span><span style=\"font-size:18px; color:'white'; background-color:rgb(88, 0, 0)\">q</span><span style=\"font-size:18px; color:'white'; background-color:rgb(-74, 0, 0)\">u</span><span style=\"font-size:18px; color:'white'; background-color:rgb(-32, 0, 0)\">e</span><span style=\"font-size:18px; color:'white'; background-color:rgb(29, 0, 0)\">n</span><span style=\"font-size:18px; color:'white'; background-color:rgb(-17, 0, 0)\">t</span><span style=\"font-size:18px; color:'white'; background-color:rgb(-15, 0, 0)\">i</span><span style=\"font-size:18px; color:'white'; background-color:rgb(-22, 0, 0)\">n</span><span style=\"font-size:18px; color:'white'; background-color:rgb(-33, 0, 0)\">-</span><span style=\"font-size:18px; color:'white'; background-color:rgb(84, 0, 0)\">l</span><span style=\"font-size:18px; color:'white'; background-color:rgb(-105, 0, 0)\">a</span><span style=\"font-size:18px; color:'white'; background-color:rgb(-19, 0, 0)\">-</span><span style=\"font-size:18px; color:'white'; background-color:rgb(10, 0, 0)\">m</span><span style=\"font-size:18px; color:'white'; background-color:rgb(-78, 0, 0)\">o</span><span style=\"font-size:18px; color:'white'; background-color:rgb(71, 0, 0)\">t</span><span style=\"font-size:18px; color:'white'; background-color:rgb(46, 0, 0)\">t</span><span style=\"font-size:18px; color:'white'; background-color:rgb(1, 0, 0)\">e</span><span style=\"font-size:18px; color:'white'; background-color:rgb(6, 0, 0)\">-</span><span style=\"font-size:18px; color:'white'; background-color:rgb(56, 0, 0)\">c</span><span style=\"font-size:18px; color:'white'; background-color:rgb(-104, 0, 0)\">r</span><span style=\"font-size:18px; color:'white'; background-color:rgb(-43, 0, 0)\">o</span><span style=\"font-size:18px; color:'white'; background-color:rgb(61, 0, 0)\">i</span><span style=\"font-size:18px; color:'white'; background-color:rgb(55, 0, 0)\">x</span><span style=\"font-size:18px; color:'white'; background-color:rgb(-4, 0, 0)\">-</span><span style=\"font-size:18px; color:'white'; background-color:rgb(189, 0, 0)\">a</span><span style=\"font-size:18px; color:'white'; background-color:rgb(-9, 0, 0)\">u</span><span style=\"font-size:18px; color:'white'; background-color:rgb(15, 0, 0)\">-</span><span style=\"font-size:18px; color:'white'; background-color:rgb(181, 0, 0)\">b</span><span style=\"font-size:18px; color:'white'; background-color:rgb(-113, 0, 0)\">a</span><span style=\"font-size:18px; color:'white'; background-color:rgb(92, 0, 0)\">i</span><span style=\"font-size:18px; color:'white'; background-color:rgb(54, 0, 0)\">l</span><span style=\"font-size:18px; color:'white'; background-color:rgb(-30, 0, 0)\">l</span><span style=\"font-size:18px; color:'white'; background-color:rgb(10, 0, 0)\">y</span>"
      ],
      "text/plain": [
       "<IPython.core.display.HTML object>"
      ]
     },
     "metadata": {},
     "output_type": "display_data"
    },
    {
     "data": {
      "text/html": [
       "<span style=\"font-size:18px; color:'white'; background-color:rgb(139, 0, 0)\">s</span><span style=\"font-size:18px; color:'white'; background-color:rgb(22, 0, 0)\">a</span><span style=\"font-size:18px; color:'white'; background-color:rgb(-26, 0, 0)\">i</span><span style=\"font-size:18px; color:'white'; background-color:rgb(41, 0, 0)\">n</span><span style=\"font-size:18px; color:'white'; background-color:rgb(-3, 0, 0)\">t</span><span style=\"font-size:18px; color:'white'; background-color:rgb(-23, 0, 0)\">-</span><span style=\"font-size:18px; color:'white'; background-color:rgb(88, 0, 0)\">r</span><span style=\"font-size:18px; color:'white'; background-color:rgb(-82, 0, 0)\">e</span><span style=\"font-size:18px; color:'white'; background-color:rgb(30, 0, 0)\">m</span><span style=\"font-size:18px; color:'white'; background-color:rgb(14, 0, 0)\">y</span><span style=\"font-size:18px; color:'white'; background-color:rgb(-91, 0, 0)\">-</span><span style=\"font-size:18px; color:'white'; background-color:rgb(63, 0, 0)\">e</span><span style=\"font-size:18px; color:'white'; background-color:rgb(22, 0, 0)\">n</span><span style=\"font-size:18px; color:'white'; background-color:rgb(13, 0, 0)\">-</span><span style=\"font-size:18px; color:'white'; background-color:rgb(28, 0, 0)\">b</span><span style=\"font-size:18px; color:'white'; background-color:rgb(-235, 0, 0)\">o</span><span style=\"font-size:18px; color:'white'; background-color:rgb(36, 0, 0)\">u</span><span style=\"font-size:18px; color:'white'; background-color:rgb(32, 0, 0)\">z</span><span style=\"font-size:18px; color:'white'; background-color:rgb(-37, 0, 0)\">e</span><span style=\"font-size:18px; color:'white'; background-color:rgb(19, 0, 0)\">m</span><span style=\"font-size:18px; color:'white'; background-color:rgb(20, 0, 0)\">o</span><span style=\"font-size:18px; color:'white'; background-color:rgb(53, 0, 0)\">n</span><span style=\"font-size:18px; color:'white'; background-color:rgb(58, 0, 0)\">t</span><span style=\"font-size:18px; color:'white'; background-color:rgb(19, 0, 0)\">-</span><span style=\"font-size:18px; color:'white'; background-color:rgb(98, 0, 0)\">s</span><span style=\"font-size:18px; color:'white'; background-color:rgb(-35, 0, 0)\">a</span><span style=\"font-size:18px; color:'white'; background-color:rgb(14, 0, 0)\">i</span><span style=\"font-size:18px; color:'white'; background-color:rgb(74, 0, 0)\">n</span><span style=\"font-size:18px; color:'white'; background-color:rgb(25, 0, 0)\">t</span><span style=\"font-size:18px; color:'white'; background-color:rgb(9, 0, 0)\">-</span><span style=\"font-size:18px; color:'white'; background-color:rgb(141, 0, 0)\">g</span><span style=\"font-size:18px; color:'white'; background-color:rgb(-8, 0, 0)\">e</span><span style=\"font-size:18px; color:'white'; background-color:rgb(22, 0, 0)\">n</span><span style=\"font-size:18px; color:'white'; background-color:rgb(13, 0, 0)\">e</span><span style=\"font-size:18px; color:'white'; background-color:rgb(72, 0, 0)\">s</span><span style=\"font-size:18px; color:'white'; background-color:rgb(31, 0, 0)\">t</span><span style=\"font-size:18px; color:'white'; background-color:rgb(11, 0, 0)\">-</span><span style=\"font-size:18px; color:'white'; background-color:rgb(185, 0, 0)\">e</span><span style=\"font-size:18px; color:'white'; background-color:rgb(22, 0, 0)\">t</span><span style=\"font-size:18px; color:'white'; background-color:rgb(1, 0, 0)\">-</span><span style=\"font-size:18px; color:'white'; background-color:rgb(126, 0, 0)\">i</span><span style=\"font-size:18px; color:'white'; background-color:rgb(84, 0, 0)\">s</span><span style=\"font-size:18px; color:'white'; background-color:rgb(93, 0, 0)\">s</span><span style=\"font-size:18px; color:'white'; background-color:rgb(41, 0, 0)\">o</span><span style=\"font-size:18px; color:'white'; background-color:rgb(40, 0, 0)\">n</span>"
      ],
      "text/plain": [
       "<IPython.core.display.HTML object>"
      ]
     },
     "metadata": {},
     "output_type": "display_data"
    },
    {
     "data": {
      "text/html": [
       "<span style=\"font-size:18px; color:'white'; background-color:rgb(139, 0, 0)\">l</span><span style=\"font-size:18px; color:'white'; background-color:rgb(-83, 0, 0)\">a</span><span style=\"font-size:18px; color:'white'; background-color:rgb(20, 0, 0)\"> </span><span style=\"font-size:18px; color:'white'; background-color:rgb(34, 0, 0)\">v</span><span style=\"font-size:18px; color:'white'; background-color:rgb(-253, 0, 0)\">a</span><span style=\"font-size:18px; color:'white'; background-color:rgb(23, 0, 0)\">c</span><span style=\"font-size:18px; color:'white'; background-color:rgb(-19, 0, 0)\">q</span><span style=\"font-size:18px; color:'white'; background-color:rgb(-77, 0, 0)\">u</span><span style=\"font-size:18px; color:'white'; background-color:rgb(-28, 0, 0)\">e</span><span style=\"font-size:18px; color:'white'; background-color:rgb(-41, 0, 0)\">r</span><span style=\"font-size:18px; color:'white'; background-color:rgb(-7, 0, 0)\">i</span><span style=\"font-size:18px; color:'white'; background-color:rgb(52, 0, 0)\">e</span><span style=\"font-size:18px; color:'white'; background-color:rgb(28, 0, 0)\">-</span><span style=\"font-size:18px; color:'white'; background-color:rgb(98, 0, 0)\">e</span><span style=\"font-size:18px; color:'white'; background-color:rgb(18, 0, 0)\">t</span><span style=\"font-size:18px; color:'white'; background-color:rgb(-47, 0, 0)\">-</span><span style=\"font-size:18px; color:'white'; background-color:rgb(37, 0, 0)\">s</span><span style=\"font-size:18px; color:'white'; background-color:rgb(-52, 0, 0)\">a</span><span style=\"font-size:18px; color:'white'; background-color:rgb(-37, 0, 0)\">i</span><span style=\"font-size:18px; color:'white'; background-color:rgb(59, 0, 0)\">n</span><span style=\"font-size:18px; color:'white'; background-color:rgb(1, 0, 0)\">t</span><span style=\"font-size:18px; color:'white'; background-color:rgb(-22, 0, 0)\">-</span><span style=\"font-size:18px; color:'white'; background-color:rgb(62, 0, 0)\">m</span><span style=\"font-size:18px; color:'white'; background-color:rgb(-87, 0, 0)\">a</span><span style=\"font-size:18px; color:'white'; background-color:rgb(-6, 0, 0)\">r</span><span style=\"font-size:18px; color:'white'; background-color:rgb(29, 0, 0)\">t</span><span style=\"font-size:18px; color:'white'; background-color:rgb(5, 0, 0)\">i</span><span style=\"font-size:18px; color:'white'; background-color:rgb(41, 0, 0)\">n</span><span style=\"font-size:18px; color:'white'; background-color:rgb(-3, 0, 0)\">-</span><span style=\"font-size:18px; color:'white'; background-color:rgb(177, 0, 0)\">d</span><span style=\"font-size:18px; color:'white'; background-color:rgb(-26, 0, 0)\">e</span><span style=\"font-size:18px; color:'white'; background-color:rgb(-9, 0, 0)\">-</span><span style=\"font-size:18px; color:'white'; background-color:rgb(183, 0, 0)\">c</span><span style=\"font-size:18px; color:'white'; background-color:rgb(-11, 0, 0)\">a</span><span style=\"font-size:18px; color:'white'; background-color:rgb(98, 0, 0)\">s</span><span style=\"font-size:18px; color:'white'; background-color:rgb(0, 0, 0)\">t</span><span style=\"font-size:18px; color:'white'; background-color:rgb(6, 0, 0)\">r</span><span style=\"font-size:18px; color:'white'; background-color:rgb(-1, 0, 0)\">i</span><span style=\"font-size:18px; color:'white'; background-color:rgb(19, 0, 0)\">e</span><span style=\"font-size:18px; color:'white'; background-color:rgb(31, 0, 0)\">s</span>"
      ],
      "text/plain": [
       "<IPython.core.display.HTML object>"
      ]
     },
     "metadata": {},
     "output_type": "display_data"
    },
    {
     "data": {
      "text/html": [
       "<span style=\"font-size:18px; color:'white'; background-color:rgb(139, 0, 0)\">s</span><span style=\"font-size:18px; color:'white'; background-color:rgb(22, 0, 0)\">a</span><span style=\"font-size:18px; color:'white'; background-color:rgb(-26, 0, 0)\">i</span><span style=\"font-size:18px; color:'white'; background-color:rgb(41, 0, 0)\">n</span><span style=\"font-size:18px; color:'white'; background-color:rgb(-3, 0, 0)\">t</span><span style=\"font-size:18px; color:'white'; background-color:rgb(-23, 0, 0)\">-</span><span style=\"font-size:18px; color:'white'; background-color:rgb(88, 0, 0)\">g</span><span style=\"font-size:18px; color:'white'; background-color:rgb(-115, 0, 0)\">e</span><span style=\"font-size:18px; color:'white'; background-color:rgb(-84, 0, 0)\">r</span><span style=\"font-size:18px; color:'white'; background-color:rgb(0, 0, 0)\">m</span><span style=\"font-size:18px; color:'white'; background-color:rgb(-53, 0, 0)\">a</span><span style=\"font-size:18px; color:'white'; background-color:rgb(24, 0, 0)\">i</span><span style=\"font-size:18px; color:'white'; background-color:rgb(64, 0, 0)\">n</span><span style=\"font-size:18px; color:'white'; background-color:rgb(-19, 0, 0)\">-</span><span style=\"font-size:18px; color:'white'; background-color:rgb(91, 0, 0)\">d</span><span style=\"font-size:18px; color:'white'; background-color:rgb(-123, 0, 0)\">e</span><span style=\"font-size:18px; color:'white'; background-color:rgb(31, 0, 0)\">-</span><span style=\"font-size:18px; color:'white'; background-color:rgb(37, 0, 0)\">t</span><span style=\"font-size:18px; color:'white'; background-color:rgb(-128, 0, 0)\">a</span><span style=\"font-size:18px; color:'white'; background-color:rgb(-39, 0, 0)\">l</span><span style=\"font-size:18px; color:'white'; background-color:rgb(-40, 0, 0)\">l</span><span style=\"font-size:18px; color:'white'; background-color:rgb(-67, 0, 0)\">e</span><span style=\"font-size:18px; color:'white'; background-color:rgb(34, 0, 0)\">v</span><span style=\"font-size:18px; color:'white'; background-color:rgb(-86, 0, 0)\">e</span><span style=\"font-size:18px; color:'white'; background-color:rgb(21, 0, 0)\">n</span><span style=\"font-size:18px; color:'white'; background-color:rgb(31, 0, 0)\">d</span><span style=\"font-size:18px; color:'white'; background-color:rgb(-64, 0, 0)\">e</span><span style=\"font-size:18px; color:'white'; background-color:rgb(10, 0, 0)\">-</span><span style=\"font-size:18px; color:'white'; background-color:rgb(182, 0, 0)\">l</span><span style=\"font-size:18px; color:'white'; background-color:rgb(3, 0, 0)\">a</span><span style=\"font-size:18px; color:'white'; background-color:rgb(7, 0, 0)\">-</span><span style=\"font-size:18px; color:'white'; background-color:rgb(126, 0, 0)\">l</span><span style=\"font-size:18px; color:'white'; background-color:rgb(-28, 0, 0)\">a</span><span style=\"font-size:18px; color:'white'; background-color:rgb(92, 0, 0)\">n</span><span style=\"font-size:18px; color:'white'; background-color:rgb(33, 0, 0)\">d</span><span style=\"font-size:18px; color:'white'; background-color:rgb(-60, 0, 0)\">e</span><span style=\"font-size:18px; color:'white'; background-color:rgb(9, 0, 0)\">-</span><span style=\"font-size:18px; color:'white'; background-color:rgb(177, 0, 0)\">v</span><span style=\"font-size:18px; color:'white'; background-color:rgb(-103, 0, 0)\">a</span><span style=\"font-size:18px; color:'white'; background-color:rgb(54, 0, 0)\">u</span><span style=\"font-size:18px; color:'white'; background-color:rgb(39, 0, 0)\">m</span><span style=\"font-size:18px; color:'white'; background-color:rgb(-30, 0, 0)\">o</span><span style=\"font-size:18px; color:'white'; background-color:rgb(41, 0, 0)\">n</span><span style=\"font-size:18px; color:'white'; background-color:rgb(18, 0, 0)\">t</span>"
      ],
      "text/plain": [
       "<IPython.core.display.HTML object>"
      ]
     },
     "metadata": {},
     "output_type": "display_data"
    },
    {
     "data": {
      "text/html": [
       "<span style=\"font-size:18px; color:'white'; background-color:rgb(139, 0, 0)\">e</span><span style=\"font-size:18px; color:'white'; background-color:rgb(46, 0, 0)\">s</span><span style=\"font-size:18px; color:'white'; background-color:rgb(146, 0, 0)\">c</span><span style=\"font-size:18px; color:'white'; background-color:rgb(-70, 0, 0)\">u</span><span style=\"font-size:18px; color:'white'; background-color:rgb(54, 0, 0)\">e</span><span style=\"font-size:18px; color:'white'; background-color:rgb(9, 0, 0)\">i</span><span style=\"font-size:18px; color:'white'; background-color:rgb(82, 0, 0)\">l</span><span style=\"font-size:18px; color:'white'; background-color:rgb(-8, 0, 0)\">l</span><span style=\"font-size:18px; color:'white'; background-color:rgb(-13, 0, 0)\">e</span><span style=\"font-size:18px; color:'white'; background-color:rgb(19, 0, 0)\">n</span><span style=\"font-size:18px; color:'white'; background-color:rgb(9, 0, 0)\">s</span><span style=\"font-size:18px; color:'white'; background-color:rgb(-20, 0, 0)\">-</span><span style=\"font-size:18px; color:'white'; background-color:rgb(93, 0, 0)\">e</span><span style=\"font-size:18px; color:'white'; background-color:rgb(-19, 0, 0)\">t</span><span style=\"font-size:18px; color:'white'; background-color:rgb(-75, 0, 0)\">-</span><span style=\"font-size:18px; color:'white'; background-color:rgb(33, 0, 0)\">s</span><span style=\"font-size:18px; color:'white'; background-color:rgb(-57, 0, 0)\">a</span><span style=\"font-size:18px; color:'white'; background-color:rgb(-35, 0, 0)\">i</span><span style=\"font-size:18px; color:'white'; background-color:rgb(64, 0, 0)\">n</span><span style=\"font-size:18px; color:'white'; background-color:rgb(-7, 0, 0)\">t</span><span style=\"font-size:18px; color:'white'; background-color:rgb(-23, 0, 0)\">-</span><span style=\"font-size:18px; color:'white'; background-color:rgb(51, 0, 0)\">j</span><span style=\"font-size:18px; color:'white'; background-color:rgb(-15, 0, 0)\">u</span><span style=\"font-size:18px; color:'white'; background-color:rgb(57, 0, 0)\">s</span><span style=\"font-size:18px; color:'white'; background-color:rgb(45, 0, 0)\">t</span><span style=\"font-size:18px; color:'white'; background-color:rgb(-23, 0, 0)\">-</span><span style=\"font-size:18px; color:'white'; background-color:rgb(89, 0, 0)\">d</span><span style=\"font-size:18px; color:'white'; background-color:rgb(-45, 0, 0)\">e</span><span style=\"font-size:18px; color:'white'; background-color:rgb(-52, 0, 0)\">-</span><span style=\"font-size:18px; color:'white'; background-color:rgb(180, 0, 0)\">b</span><span style=\"font-size:18px; color:'white'; background-color:rgb(-144, 0, 0)\">é</span><span style=\"font-size:18px; color:'white'; background-color:rgb(-50, 0, 0)\">l</span><span style=\"font-size:18px; color:'white'; background-color:rgb(-37, 0, 0)\">e</span><span style=\"font-size:18px; color:'white'; background-color:rgb(24, 0, 0)\">n</span><span style=\"font-size:18px; color:'white'; background-color:rgb(50, 0, 0)\">g</span><span style=\"font-size:18px; color:'white'; background-color:rgb(-97, 0, 0)\">a</span><span style=\"font-size:18px; color:'white'; background-color:rgb(-19, 0, 0)\">r</span><span style=\"font-size:18px; color:'white'; background-color:rgb(21, 0, 0)\">d</span>"
      ],
      "text/plain": [
       "<IPython.core.display.HTML object>"
      ]
     },
     "metadata": {},
     "output_type": "display_data"
    },
    {
     "data": {
      "text/html": [
       "<span style=\"font-size:18px; color:'white'; background-color:rgb(139, 0, 0)\">s</span><span style=\"font-size:18px; color:'white'; background-color:rgb(22, 0, 0)\">a</span><span style=\"font-size:18px; color:'white'; background-color:rgb(-26, 0, 0)\">i</span><span style=\"font-size:18px; color:'white'; background-color:rgb(41, 0, 0)\">n</span><span style=\"font-size:18px; color:'white'; background-color:rgb(-3, 0, 0)\">t</span><span style=\"font-size:18px; color:'white'; background-color:rgb(-23, 0, 0)\">-</span><span style=\"font-size:18px; color:'white'; background-color:rgb(88, 0, 0)\">j</span><span style=\"font-size:18px; color:'white'; background-color:rgb(-98, 0, 0)\">e</span><span style=\"font-size:18px; color:'white'; background-color:rgb(-27, 0, 0)\">a</span><span style=\"font-size:18px; color:'white'; background-color:rgb(-9, 0, 0)\">n</span><span style=\"font-size:18px; color:'white'; background-color:rgb(28, 0, 0)\">-</span><span style=\"font-size:18px; color:'white'; background-color:rgb(60, 0, 0)\">s</span><span style=\"font-size:18px; color:'white'; background-color:rgb(-73, 0, 0)\">a</span><span style=\"font-size:18px; color:'white'; background-color:rgb(-43, 0, 0)\">i</span><span style=\"font-size:18px; color:'white'; background-color:rgb(65, 0, 0)\">n</span><span style=\"font-size:18px; color:'white'; background-color:rgb(-4, 0, 0)\">t</span><span style=\"font-size:18px; color:'white'; background-color:rgb(-45, 0, 0)\">-</span><span style=\"font-size:18px; color:'white'; background-color:rgb(43, 0, 0)\">m</span><span style=\"font-size:18px; color:'white'; background-color:rgb(-130, 0, 0)\">a</span><span style=\"font-size:18px; color:'white'; background-color:rgb(-27, 0, 0)\">u</span><span style=\"font-size:18px; color:'white'; background-color:rgb(58, 0, 0)\">r</span><span style=\"font-size:18px; color:'white'; background-color:rgb(13, 0, 0)\">i</span><span style=\"font-size:18px; color:'white'; background-color:rgb(58, 0, 0)\">c</span><span style=\"font-size:18px; color:'white'; background-color:rgb(-70, 0, 0)\">e</span><span style=\"font-size:18px; color:'white'; background-color:rgb(-10, 0, 0)\">-</span><span style=\"font-size:18px; color:'white'; background-color:rgb(95, 0, 0)\">s</span><span style=\"font-size:18px; color:'white'; background-color:rgb(0, 0, 0)\">u</span><span style=\"font-size:18px; color:'white'; background-color:rgb(15, 0, 0)\">r</span><span style=\"font-size:18px; color:'white'; background-color:rgb(3, 0, 0)\">-</span><span style=\"font-size:18px; color:'white'; background-color:rgb(178, 0, 0)\">l</span><span style=\"font-size:18px; color:'white'; background-color:rgb(-14, 0, 0)\">o</span><span style=\"font-size:18px; color:'white'; background-color:rgb(-27, 0, 0)\">i</span><span style=\"font-size:18px; color:'white'; background-color:rgb(44, 0, 0)\">r</span><span style=\"font-size:18px; color:'white'; background-color:rgb(-1, 0, 0)\">e</span>"
      ],
      "text/plain": [
       "<IPython.core.display.HTML object>"
      ]
     },
     "metadata": {},
     "output_type": "display_data"
    },
    {
     "data": {
      "text/html": [
       "<span style=\"font-size:18px; color:'white'; background-color:rgb(139, 0, 0)\">s</span><span style=\"font-size:18px; color:'white'; background-color:rgb(22, 0, 0)\">a</span><span style=\"font-size:18px; color:'white'; background-color:rgb(-26, 0, 0)\">i</span><span style=\"font-size:18px; color:'white'; background-color:rgb(41, 0, 0)\">n</span><span style=\"font-size:18px; color:'white'; background-color:rgb(-3, 0, 0)\">t</span><span style=\"font-size:18px; color:'white'; background-color:rgb(-23, 0, 0)\">-</span><span style=\"font-size:18px; color:'white'; background-color:rgb(88, 0, 0)\">m</span><span style=\"font-size:18px; color:'white'; background-color:rgb(-101, 0, 0)\">a</span><span style=\"font-size:18px; color:'white'; background-color:rgb(-45, 0, 0)\">r</span><span style=\"font-size:18px; color:'white'; background-color:rgb(33, 0, 0)\">t</span><span style=\"font-size:18px; color:'white'; background-color:rgb(-1, 0, 0)\">i</span><span style=\"font-size:18px; color:'white'; background-color:rgb(-5, 0, 0)\">n</span><span style=\"font-size:18px; color:'white'; background-color:rgb(-28, 0, 0)\">-</span><span style=\"font-size:18px; color:'white'; background-color:rgb(67, 0, 0)\">d</span><span style=\"font-size:18px; color:'white'; background-color:rgb(-124, 0, 0)\">e</span><span style=\"font-size:18px; color:'white'; background-color:rgb(25, 0, 0)\">-</span><span style=\"font-size:18px; color:'white'; background-color:rgb(40, 0, 0)\">b</span><span style=\"font-size:18px; color:'white'; background-color:rgb(-195, 0, 0)\">i</span><span style=\"font-size:18px; color:'white'; background-color:rgb(23, 0, 0)\">e</span><span style=\"font-size:18px; color:'white'; background-color:rgb(14, 0, 0)\">n</span><span style=\"font-size:18px; color:'white'; background-color:rgb(7, 0, 0)\">f</span><span style=\"font-size:18px; color:'white'; background-color:rgb(-74, 0, 0)\">a</span><span style=\"font-size:18px; color:'white'; background-color:rgb(22, 0, 0)\">i</span><span style=\"font-size:18px; color:'white'; background-color:rgb(49, 0, 0)\">t</span><span style=\"font-size:18px; color:'white'; background-color:rgb(-21, 0, 0)\">e</span><span style=\"font-size:18px; color:'white'; background-color:rgb(-9, 0, 0)\">-</span><span style=\"font-size:18px; color:'white'; background-color:rgb(101, 0, 0)\">l</span><span style=\"font-size:18px; color:'white'; background-color:rgb(-5, 0, 0)\">a</span><span style=\"font-size:18px; color:'white'; background-color:rgb(-5, 0, 0)\">-</span><span style=\"font-size:18px; color:'white'; background-color:rgb(177, 0, 0)\">c</span><span style=\"font-size:18px; color:'white'; background-color:rgb(-168, 0, 0)\">r</span><span style=\"font-size:18px; color:'white'; background-color:rgb(-12, 0, 0)\">e</span><span style=\"font-size:18px; color:'white'; background-color:rgb(-15, 0, 0)\">s</span><span style=\"font-size:18px; color:'white'; background-color:rgb(58, 0, 0)\">s</span><span style=\"font-size:18px; color:'white'; background-color:rgb(42, 0, 0)\">o</span><span style=\"font-size:18px; color:'white'; background-color:rgb(-27, 0, 0)\">n</span><span style=\"font-size:18px; color:'white'; background-color:rgb(7, 0, 0)\">n</span><span style=\"font-size:18px; color:'white'; background-color:rgb(16, 0, 0)\">i</span><span style=\"font-size:18px; color:'white'; background-color:rgb(13, 0, 0)\">è</span><span style=\"font-size:18px; color:'white'; background-color:rgb(34, 0, 0)\">r</span><span style=\"font-size:18px; color:'white'; background-color:rgb(19, 0, 0)\">e</span>"
      ],
      "text/plain": [
       "<IPython.core.display.HTML object>"
      ]
     },
     "metadata": {},
     "output_type": "display_data"
    },
    {
     "data": {
      "text/html": [
       "<span style=\"font-size:18px; color:'white'; background-color:rgb(139, 0, 0)\">s</span><span style=\"font-size:18px; color:'white'; background-color:rgb(22, 0, 0)\">a</span><span style=\"font-size:18px; color:'white'; background-color:rgb(-26, 0, 0)\">u</span><span style=\"font-size:18px; color:'white'; background-color:rgb(15, 0, 0)\">d</span><span style=\"font-size:18px; color:'white'; background-color:rgb(-69, 0, 0)\">r</span><span style=\"font-size:18px; color:'white'; background-color:rgb(-53, 0, 0)\">u</span><span style=\"font-size:18px; color:'white'; background-color:rgb(176, 0, 0)\">p</span><span style=\"font-size:18px; color:'white'; background-color:rgb(11, 0, 0)\">t</span>"
      ],
      "text/plain": [
       "<IPython.core.display.HTML object>"
      ]
     },
     "metadata": {},
     "output_type": "display_data"
    },
    {
     "data": {
      "text/html": [
       "<span style=\"font-size:18px; color:'white'; background-color:rgb(139, 0, 0)\">p</span><span style=\"font-size:18px; color:'white'; background-color:rgb(-101, 0, 0)\">a</span><span style=\"font-size:18px; color:'white'; background-color:rgb(5, 0, 0)\">i</span><span style=\"font-size:18px; color:'white'; background-color:rgb(44, 0, 0)\">r</span><span style=\"font-size:18px; color:'white'; background-color:rgb(-44, 0, 0)\">-</span><span style=\"font-size:18px; color:'white'; background-color:rgb(112, 0, 0)\">e</span><span style=\"font-size:18px; color:'white'; background-color:rgb(38, 0, 0)\">t</span><span style=\"font-size:18px; color:'white'; background-color:rgb(-74, 0, 0)\">-</span><span style=\"font-size:18px; color:'white'; background-color:rgb(54, 0, 0)\">g</span><span style=\"font-size:18px; color:'white'; background-color:rgb(-119, 0, 0)\">r</span><span style=\"font-size:18px; color:'white'; background-color:rgb(-129, 0, 0)\">a</span><span style=\"font-size:18px; color:'white'; background-color:rgb(41, 0, 0)\">n</span><span style=\"font-size:18px; color:'white'; background-color:rgb(46, 0, 0)\">d</span><span style=\"font-size:18px; color:'white'; background-color:rgb(-92, 0, 0)\">r</span><span style=\"font-size:18px; color:'white'; background-color:rgb(-35, 0, 0)\">u</span><span style=\"font-size:18px; color:'white'; background-color:rgb(175, 0, 0)\">p</span><span style=\"font-size:18px; color:'white'; background-color:rgb(-14, 0, 0)\">t</span>"
      ],
      "text/plain": [
       "<IPython.core.display.HTML object>"
      ]
     },
     "metadata": {},
     "output_type": "display_data"
    },
    {
     "data": {
      "text/html": [
       "<span style=\"font-size:18px; color:'white'; background-color:rgb(139, 0, 0)\">p</span><span style=\"font-size:18px; color:'white'; background-color:rgb(-101, 0, 0)\">o</span><span style=\"font-size:18px; color:'white'; background-color:rgb(27, 0, 0)\">n</span><span style=\"font-size:18px; color:'white'; background-color:rgb(33, 0, 0)\">t</span><span style=\"font-size:18px; color:'white'; background-color:rgb(-12, 0, 0)\">-</span><span style=\"font-size:18px; color:'white'; background-color:rgb(107, 0, 0)\">d</span><span style=\"font-size:18px; color:'white'; background-color:rgb(-97, 0, 0)\">e</span><span style=\"font-size:18px; color:'white'; background-color:rgb(29, 0, 0)\">-</span><span style=\"font-size:18px; color:'white'; background-color:rgb(68, 0, 0)\">c</span><span style=\"font-size:18px; color:'white'; background-color:rgb(-153, 0, 0)\">h</span><span style=\"font-size:18px; color:'white'; background-color:rgb(-90, 0, 0)\">é</span><span style=\"font-size:18px; color:'white'; background-color:rgb(11, 0, 0)\">r</span><span style=\"font-size:18px; color:'white'; background-color:rgb(-70, 0, 0)\">u</span><span style=\"font-size:18px; color:'white'; background-color:rgb(175, 0, 0)\">y</span>"
      ],
      "text/plain": [
       "<IPython.core.display.HTML object>"
      ]
     },
     "metadata": {},
     "output_type": "display_data"
    },
    {
     "data": {
      "text/html": [
       "<span style=\"font-size:18px; color:'white'; background-color:rgb(139, 0, 0)\">p</span><span style=\"font-size:18px; color:'white'; background-color:rgb(-101, 0, 0)\">a</span><span style=\"font-size:18px; color:'white'; background-color:rgb(5, 0, 0)\">r</span><span style=\"font-size:18px; color:'white'; background-color:rgb(-3, 0, 0)\">f</span><span style=\"font-size:18px; color:'white'; background-color:rgb(-87, 0, 0)\">o</span><span style=\"font-size:18px; color:'white'; background-color:rgb(40, 0, 0)\">n</span><span style=\"font-size:18px; color:'white'; background-color:rgb(10, 0, 0)\">d</span><span style=\"font-size:18px; color:'white'; background-color:rgb(-91, 0, 0)\">r</span><span style=\"font-size:18px; color:'white'; background-color:rgb(-37, 0, 0)\">u</span>"
      ],
      "text/plain": [
       "<IPython.core.display.HTML object>"
      ]
     },
     "metadata": {},
     "output_type": "display_data"
    },
    {
     "data": {
      "text/html": [
       "<span style=\"font-size:18px; color:'white'; background-color:rgb(139, 0, 0)\">p</span><span style=\"font-size:18px; color:'white'; background-color:rgb(-101, 0, 0)\">a</span><span style=\"font-size:18px; color:'white'; background-color:rgb(5, 0, 0)\">r</span><span style=\"font-size:18px; color:'white'; background-color:rgb(-3, 0, 0)\">f</span><span style=\"font-size:18px; color:'white'; background-color:rgb(-87, 0, 0)\">o</span><span style=\"font-size:18px; color:'white'; background-color:rgb(40, 0, 0)\">n</span><span style=\"font-size:18px; color:'white'; background-color:rgb(10, 0, 0)\">d</span><span style=\"font-size:18px; color:'white'; background-color:rgb(-91, 0, 0)\">r</span><span style=\"font-size:18px; color:'white'; background-color:rgb(-37, 0, 0)\">u</span><span style=\"font-size:18px; color:'white'; background-color:rgb(175, 0, 0)\">p</span><span style=\"font-size:18px; color:'white'; background-color:rgb(4, 0, 0)\">t</span>"
      ],
      "text/plain": [
       "<IPython.core.display.HTML object>"
      ]
     },
     "metadata": {},
     "output_type": "display_data"
    },
    {
     "data": {
      "text/html": [
       "<span style=\"font-size:18px; color:'white'; background-color:rgb(139, 0, 0)\">a</span><span style=\"font-size:18px; color:'white'; background-color:rgb(-19, 0, 0)\">u</span><span style=\"font-size:18px; color:'white'; background-color:rgb(35, 0, 0)\">s</span><span style=\"font-size:18px; color:'white'; background-color:rgb(31, 0, 0)\">s</span><span style=\"font-size:18px; color:'white'; background-color:rgb(6, 0, 0)\">u</span><span style=\"font-size:18px; color:'white'; background-color:rgb(118, 0, 0)\">r</span><span style=\"font-size:18px; color:'white'; background-color:rgb(11, 0, 0)\">u</span><span style=\"font-size:18px; color:'white'; background-color:rgb(174, 0, 0)\">c</span><span style=\"font-size:18px; color:'white'; background-color:rgb(-98, 0, 0)\">q</span>"
      ],
      "text/plain": [
       "<IPython.core.display.HTML object>"
      ]
     },
     "metadata": {},
     "output_type": "display_data"
    },
    {
     "data": {
      "text/html": [
       "<span style=\"font-size:18px; color:'white'; background-color:rgb(139, 0, 0)\">f</span><span style=\"font-size:18px; color:'white'; background-color:rgb(-216, 0, 0)\">e</span><span style=\"font-size:18px; color:'white'; background-color:rgb(7, 0, 0)\">r</span><span style=\"font-size:18px; color:'white'; background-color:rgb(-14, 0, 0)\">d</span><span style=\"font-size:18px; color:'white'; background-color:rgb(-98, 0, 0)\">r</span><span style=\"font-size:18px; color:'white'; background-color:rgb(-77, 0, 0)\">u</span><span style=\"font-size:18px; color:'white'; background-color:rgb(174, 0, 0)\">p</span><span style=\"font-size:18px; color:'white'; background-color:rgb(1, 0, 0)\">t</span>"
      ],
      "text/plain": [
       "<IPython.core.display.HTML object>"
      ]
     },
     "metadata": {},
     "output_type": "display_data"
    },
    {
     "data": {
      "text/html": [
       "<span style=\"font-size:18px; color:'white'; background-color:rgb(139, 0, 0)\">g</span><span style=\"font-size:18px; color:'white'; background-color:rgb(-161, 0, 0)\">u</span><span style=\"font-size:18px; color:'white'; background-color:rgb(46, 0, 0)\">r</span><span style=\"font-size:18px; color:'white'; background-color:rgb(29, 0, 0)\">u</span><span style=\"font-size:18px; color:'white'; background-color:rgb(173, 0, 0)\">n</span><span style=\"font-size:18px; color:'white'; background-color:rgb(21, 0, 0)\">h</span><span style=\"font-size:18px; color:'white'; background-color:rgb(-29, 0, 0)\">u</span><span style=\"font-size:18px; color:'white'; background-color:rgb(103, 0, 0)\">e</span><span style=\"font-size:18px; color:'white'; background-color:rgb(26, 0, 0)\">l</span>"
      ],
      "text/plain": [
       "<IPython.core.display.HTML object>"
      ]
     },
     "metadata": {},
     "output_type": "display_data"
    },
    {
     "data": {
      "text/html": [
       "<span style=\"font-size:18px; color:'white'; background-color:rgb(139, 0, 0)\">c</span><span style=\"font-size:18px; color:'white'; background-color:rgb(-131, 0, 0)\">h</span><span style=\"font-size:18px; color:'white'; background-color:rgb(-79, 0, 0)\">e</span><span style=\"font-size:18px; color:'white'; background-color:rgb(-10, 0, 0)\">r</span><span style=\"font-size:18px; color:'white'; background-color:rgb(-14, 0, 0)\">r</span><span style=\"font-size:18px; color:'white'; background-color:rgb(-56, 0, 0)\">u</span><span style=\"font-size:18px; color:'white'; background-color:rgb(170, 0, 0)\">e</span><span style=\"font-size:18px; color:'white'; background-color:rgb(53, 0, 0)\">i</span><span style=\"font-size:18px; color:'white'; background-color:rgb(89, 0, 0)\">x</span>"
      ],
      "text/plain": [
       "<IPython.core.display.HTML object>"
      ]
     },
     "metadata": {},
     "output_type": "display_data"
    },
    {
     "data": {
      "text/html": [
       "<span style=\"font-size:18px; color:'white'; background-color:rgb(139, 0, 0)\">g</span><span style=\"font-size:18px; color:'white'; background-color:rgb(-161, 0, 0)\">r</span><span style=\"font-size:18px; color:'white'; background-color:rgb(-90, 0, 0)\">a</span><span style=\"font-size:18px; color:'white'; background-color:rgb(90, 0, 0)\">n</span><span style=\"font-size:18px; color:'white'; background-color:rgb(51, 0, 0)\">d</span><span style=\"font-size:18px; color:'white'; background-color:rgb(-87, 0, 0)\">r</span><span style=\"font-size:18px; color:'white'; background-color:rgb(-59, 0, 0)\">u</span><span style=\"font-size:18px; color:'white'; background-color:rgb(169, 0, 0)\">p</span><span style=\"font-size:18px; color:'white'; background-color:rgb(13, 0, 0)\">t</span>"
      ],
      "text/plain": [
       "<IPython.core.display.HTML object>"
      ]
     },
     "metadata": {},
     "output_type": "display_data"
    },
    {
     "data": {
      "text/html": [
       "<span style=\"font-size:18px; color:'white'; background-color:rgb(139, 0, 0)\">l</span><span style=\"font-size:18px; color:'white'; background-color:rgb(-83, 0, 0)\">a</span><span style=\"font-size:18px; color:'white'; background-color:rgb(20, 0, 0)\"> </span><span style=\"font-size:18px; color:'white'; background-color:rgb(34, 0, 0)\">t</span><span style=\"font-size:18px; color:'white'; background-color:rgb(-90, 0, 0)\">r</span><span style=\"font-size:18px; color:'white'; background-color:rgb(-163, 0, 0)\">i</span><span style=\"font-size:18px; color:'white'; background-color:rgb(41, 0, 0)\">n</span><span style=\"font-size:18px; color:'white'; background-color:rgb(0, 0, 0)\">i</span><span style=\"font-size:18px; color:'white'; background-color:rgb(10, 0, 0)\">t</span><span style=\"font-size:18px; color:'white'; background-color:rgb(-54, 0, 0)\">é</span><span style=\"font-size:18px; color:'white'; background-color:rgb(-92, 0, 0)\">-</span><span style=\"font-size:18px; color:'white'; background-color:rgb(65, 0, 0)\">s</span><span style=\"font-size:18px; color:'white'; background-color:rgb(-72, 0, 0)\">u</span><span style=\"font-size:18px; color:'white'; background-color:rgb(-59, 0, 0)\">r</span><span style=\"font-size:18px; color:'white'; background-color:rgb(0, 0, 0)\">z</span><span style=\"font-size:18px; color:'white'; background-color:rgb(-65, 0, 0)\">u</span><span style=\"font-size:18px; color:'white'; background-color:rgb(168, 0, 0)\">r</span>"
      ],
      "text/plain": [
       "<IPython.core.display.HTML object>"
      ]
     },
     "metadata": {},
     "output_type": "display_data"
    }
   ],
   "source": [
    "idx_neurone = 5\n",
    "for i in top_indices[idx_neurone]:\n",
    "    ville = \"\".join([dataset.int_to_char[k] for k in [p.item() for p in dataset.X_train[i.item()] if p.item() != 0] if k != 1 and k != 2])\n",
    "    act = model(dataset.X_train[i.item()].unsqueeze(0), act=True) # (B, L, n_neurones)\n",
    "\n",
    "    print_colore(ville, act[0, :, idx_neurone].tolist()[:len(ville)])"
   ]
  },
  {
   "cell_type": "markdown",
   "metadata": {},
   "source": [
    "##### caractéristiques interprétables ?"
   ]
  },
  {
   "cell_type": "markdown",
   "metadata": {},
   "source": [
    "Le principe est exactement le même qu'avec les neurones, mais on regarde les features/concepts\n"
   ]
  },
  {
   "cell_type": "code",
   "execution_count": 50,
   "metadata": {},
   "outputs": [],
   "source": [
    "top_k = 20\n",
    "batch_size = 64"
   ]
  },
  {
   "cell_type": "code",
   "execution_count": 51,
   "metadata": {},
   "outputs": [
    {
     "data": {
      "application/vnd.jupyter.widget-view+json": {
       "model_id": "e127c461492842c5977ef53e69896247",
       "version_major": 2,
       "version_minor": 0
      },
      "text/plain": [
       "  0%|          | 0/515 [00:00<?, ?it/s]"
      ]
     },
     "metadata": {},
     "output_type": "display_data"
    }
   ],
   "source": [
    "top_values = torch.full((sae.num_features, top_k), -float('inf'))\n",
    "top_indices = torch.full((sae.num_features, top_k), -1, dtype=torch.long)\n",
    "\n",
    "for i in trange(0, dataset.X_train.shape[0], batch_size):\n",
    "    X = dataset.X_train[i:i+batch_size]\n",
    "    act = model(X, act=True) # (B, L, 128)\n",
    "    _, _, features, _, _ = sae(act)\n",
    "    max_features = features.max(dim=1).values # (B, 128)\n",
    "    max_features = max_features.to(\"cpu\")\n",
    "    \n",
    "    for dim in range(sae.num_features):\n",
    "        dim_values = max_features[:, dim]\n",
    "        dim_indices = i + torch.arange(batch_size)\n",
    "\n",
    "        top_values[dim], top_indices[dim] = update_top_k(top_values[dim], top_indices[dim], dim_values, dim_indices)"
   ]
  },
  {
   "cell_type": "code",
   "execution_count": 52,
   "metadata": {},
   "outputs": [
    {
     "data": {
      "text/html": [
       "<span style=\"font-size:18px; color:'white'; background-color:rgb(0, 0, 0)\">s</span><span style=\"font-size:18px; color:'white'; background-color:rgb(0, 0, 0)\">a</span><span style=\"font-size:18px; color:'white'; background-color:rgb(0, 0, 0)\">n</span><span style=\"font-size:18px; color:'white'; background-color:rgb(0, 0, 0)\">x</span><span style=\"font-size:18px; color:'white'; background-color:rgb(93, 0, 0)\">a</span><span style=\"font-size:18px; color:'white'; background-color:rgb(0, 0, 0)\">y</span>"
      ],
      "text/plain": [
       "<IPython.core.display.HTML object>"
      ]
     },
     "metadata": {},
     "output_type": "display_data"
    },
    {
     "data": {
      "text/html": [
       "<span style=\"font-size:18px; color:'white'; background-color:rgb(0, 0, 0)\">f</span><span style=\"font-size:18px; color:'white'; background-color:rgb(0, 0, 0)\">l</span><span style=\"font-size:18px; color:'white'; background-color:rgb(0, 0, 0)\">a</span><span style=\"font-size:18px; color:'white'; background-color:rgb(0, 0, 0)\">x</span><span style=\"font-size:18px; color:'white'; background-color:rgb(89, 0, 0)\">l</span><span style=\"font-size:18px; color:'white'; background-color:rgb(3, 0, 0)\">a</span><span style=\"font-size:18px; color:'white'; background-color:rgb(0, 0, 0)\">n</span><span style=\"font-size:18px; color:'white'; background-color:rgb(0, 0, 0)\">d</span><span style=\"font-size:18px; color:'white'; background-color:rgb(0, 0, 0)\">e</span><span style=\"font-size:18px; color:'white'; background-color:rgb(0, 0, 0)\">n</span>"
      ],
      "text/plain": [
       "<IPython.core.display.HTML object>"
      ]
     },
     "metadata": {},
     "output_type": "display_data"
    },
    {
     "data": {
      "text/html": [
       "<span style=\"font-size:18px; color:'white'; background-color:rgb(0, 0, 0)\">f</span><span style=\"font-size:18px; color:'white'; background-color:rgb(0, 0, 0)\">l</span><span style=\"font-size:18px; color:'white'; background-color:rgb(0, 0, 0)\">a</span><span style=\"font-size:18px; color:'white'; background-color:rgb(0, 0, 0)\">x</span><span style=\"font-size:18px; color:'white'; background-color:rgb(89, 0, 0)\">i</span><span style=\"font-size:18px; color:'white'; background-color:rgb(0, 0, 0)\">e</span><span style=\"font-size:18px; color:'white'; background-color:rgb(0, 0, 0)\">u</span>"
      ],
      "text/plain": [
       "<IPython.core.display.HTML object>"
      ]
     },
     "metadata": {},
     "output_type": "display_data"
    },
    {
     "data": {
      "text/html": [
       "<span style=\"font-size:18px; color:'white'; background-color:rgb(0, 0, 0)\">s</span><span style=\"font-size:18px; color:'white'; background-color:rgb(0, 0, 0)\">e</span><span style=\"font-size:18px; color:'white'; background-color:rgb(0, 0, 0)\">p</span><span style=\"font-size:18px; color:'white'; background-color:rgb(0, 0, 0)\">x</span>"
      ],
      "text/plain": [
       "<IPython.core.display.HTML object>"
      ]
     },
     "metadata": {},
     "output_type": "display_data"
    },
    {
     "data": {
      "text/html": [
       "<span style=\"font-size:18px; color:'white'; background-color:rgb(0, 0, 0)\">f</span><span style=\"font-size:18px; color:'white'; background-color:rgb(0, 0, 0)\">l</span><span style=\"font-size:18px; color:'white'; background-color:rgb(0, 0, 0)\">e</span><span style=\"font-size:18px; color:'white'; background-color:rgb(0, 0, 0)\">x</span><span style=\"font-size:18px; color:'white'; background-color:rgb(85, 0, 0)\">a</span><span style=\"font-size:18px; color:'white'; background-color:rgb(0, 0, 0)\">n</span><span style=\"font-size:18px; color:'white'; background-color:rgb(0, 0, 0)\">v</span><span style=\"font-size:18px; color:'white'; background-color:rgb(0, 0, 0)\">i</span><span style=\"font-size:18px; color:'white'; background-color:rgb(0, 0, 0)\">l</span><span style=\"font-size:18px; color:'white'; background-color:rgb(0, 0, 0)\">l</span><span style=\"font-size:18px; color:'white'; background-color:rgb(0, 0, 0)\">e</span>"
      ],
      "text/plain": [
       "<IPython.core.display.HTML object>"
      ]
     },
     "metadata": {},
     "output_type": "display_data"
    },
    {
     "data": {
      "text/html": [
       "<span style=\"font-size:18px; color:'white'; background-color:rgb(0, 0, 0)\">f</span><span style=\"font-size:18px; color:'white'; background-color:rgb(0, 0, 0)\">l</span><span style=\"font-size:18px; color:'white'; background-color:rgb(0, 0, 0)\">e</span><span style=\"font-size:18px; color:'white'; background-color:rgb(0, 0, 0)\">x</span><span style=\"font-size:18px; color:'white'; background-color:rgb(85, 0, 0)\">b</span><span style=\"font-size:18px; color:'white'; background-color:rgb(0, 0, 0)\">o</span><span style=\"font-size:18px; color:'white'; background-color:rgb(0, 0, 0)\">u</span><span style=\"font-size:18px; color:'white'; background-color:rgb(0, 0, 0)\">r</span><span style=\"font-size:18px; color:'white'; background-color:rgb(0, 0, 0)\">g</span>"
      ],
      "text/plain": [
       "<IPython.core.display.HTML object>"
      ]
     },
     "metadata": {},
     "output_type": "display_data"
    },
    {
     "data": {
      "text/html": [
       "<span style=\"font-size:18px; color:'white'; background-color:rgb(0, 0, 0)\">m</span><span style=\"font-size:18px; color:'white'; background-color:rgb(0, 0, 0)\">e</span><span style=\"font-size:18px; color:'white'; background-color:rgb(0, 0, 0)\">r</span><span style=\"font-size:18px; color:'white'; background-color:rgb(0, 0, 0)\">x</span><span style=\"font-size:18px; color:'white'; background-color:rgb(83, 0, 0)\">h</span><span style=\"font-size:18px; color:'white'; background-color:rgb(0, 0, 0)\">e</span><span style=\"font-size:18px; color:'white'; background-color:rgb(0, 0, 0)\">i</span><span style=\"font-size:18px; color:'white'; background-color:rgb(0, 0, 0)\">m</span>"
      ],
      "text/plain": [
       "<IPython.core.display.HTML object>"
      ]
     },
     "metadata": {},
     "output_type": "display_data"
    },
    {
     "data": {
      "text/html": [
       "<span style=\"font-size:18px; color:'white'; background-color:rgb(0, 0, 0)\">f</span><span style=\"font-size:18px; color:'white'; background-color:rgb(0, 0, 0)\">r</span><span style=\"font-size:18px; color:'white'; background-color:rgb(0, 0, 0)\">a</span><span style=\"font-size:18px; color:'white'; background-color:rgb(0, 0, 0)\">n</span><span style=\"font-size:18px; color:'white'; background-color:rgb(0, 0, 0)\">x</span><span style=\"font-size:18px; color:'white'; background-color:rgb(82, 0, 0)\">a</span><span style=\"font-size:18px; color:'white'; background-color:rgb(0, 0, 0)\">u</span><span style=\"font-size:18px; color:'white'; background-color:rgb(0, 0, 0)\">l</span><span style=\"font-size:18px; color:'white'; background-color:rgb(0, 0, 0)\">t</span>"
      ],
      "text/plain": [
       "<IPython.core.display.HTML object>"
      ]
     },
     "metadata": {},
     "output_type": "display_data"
    },
    {
     "data": {
      "text/html": [
       "<span style=\"font-size:18px; color:'white'; background-color:rgb(0, 0, 0)\">g</span><span style=\"font-size:18px; color:'white'; background-color:rgb(0, 0, 0)\">l</span><span style=\"font-size:18px; color:'white'; background-color:rgb(0, 0, 0)\">u</span><span style=\"font-size:18px; color:'white'; background-color:rgb(0, 0, 0)\">x</span><span style=\"font-size:18px; color:'white'; background-color:rgb(81, 0, 0)\">-</span><span style=\"font-size:18px; color:'white'; background-color:rgb(0, 0, 0)\">e</span><span style=\"font-size:18px; color:'white'; background-color:rgb(0, 0, 0)\">n</span><span style=\"font-size:18px; color:'white'; background-color:rgb(0, 0, 0)\">-</span><span style=\"font-size:18px; color:'white'; background-color:rgb(0, 0, 0)\">g</span><span style=\"font-size:18px; color:'white'; background-color:rgb(0, 0, 0)\">l</span><span style=\"font-size:18px; color:'white'; background-color:rgb(0, 0, 0)\">e</span><span style=\"font-size:18px; color:'white'; background-color:rgb(0, 0, 0)\">n</span><span style=\"font-size:18px; color:'white'; background-color:rgb(0, 0, 0)\">n</span><span style=\"font-size:18px; color:'white'; background-color:rgb(0, 0, 0)\">e</span>"
      ],
      "text/plain": [
       "<IPython.core.display.HTML object>"
      ]
     },
     "metadata": {},
     "output_type": "display_data"
    },
    {
     "data": {
      "text/html": [
       "<span style=\"font-size:18px; color:'white'; background-color:rgb(0, 0, 0)\">v</span><span style=\"font-size:18px; color:'white'; background-color:rgb(0, 0, 0)\">a</span><span style=\"font-size:18px; color:'white'; background-color:rgb(0, 0, 0)\">n</span><span style=\"font-size:18px; color:'white'; background-color:rgb(0, 0, 0)\">x</span><span style=\"font-size:18px; color:'white'; background-color:rgb(79, 0, 0)\">a</span><span style=\"font-size:18px; color:'white'; background-color:rgb(0, 0, 0)\">i</span><span style=\"font-size:18px; color:'white'; background-color:rgb(0, 0, 0)\">n</span><span style=\"font-size:18px; color:'white'; background-color:rgb(0, 0, 0)\">s</span>"
      ],
      "text/plain": [
       "<IPython.core.display.HTML object>"
      ]
     },
     "metadata": {},
     "output_type": "display_data"
    },
    {
     "data": {
      "text/html": [
       "<span style=\"font-size:18px; color:'white'; background-color:rgb(0, 0, 0)\">b</span><span style=\"font-size:18px; color:'white'; background-color:rgb(0, 0, 0)\">r</span><span style=\"font-size:18px; color:'white'; background-color:rgb(0, 0, 0)\">e</span><span style=\"font-size:18px; color:'white'; background-color:rgb(0, 0, 0)\">t</span><span style=\"font-size:18px; color:'white'; background-color:rgb(0, 0, 0)\">x</span>"
      ],
      "text/plain": [
       "<IPython.core.display.HTML object>"
      ]
     },
     "metadata": {},
     "output_type": "display_data"
    },
    {
     "data": {
      "text/html": [
       "<span style=\"font-size:18px; color:'white'; background-color:rgb(0, 0, 0)\">j</span><span style=\"font-size:18px; color:'white'; background-color:rgb(0, 0, 0)\">a</span><span style=\"font-size:18px; color:'white'; background-color:rgb(0, 0, 0)\">t</span><span style=\"font-size:18px; color:'white'; background-color:rgb(0, 0, 0)\">x</span><span style=\"font-size:18px; color:'white'; background-color:rgb(74, 0, 0)\">o</span><span style=\"font-size:18px; color:'white'; background-color:rgb(0, 0, 0)\">u</span>"
      ],
      "text/plain": [
       "<IPython.core.display.HTML object>"
      ]
     },
     "metadata": {},
     "output_type": "display_data"
    },
    {
     "data": {
      "text/html": [
       "<span style=\"font-size:18px; color:'white'; background-color:rgb(0, 0, 0)\">b</span><span style=\"font-size:18px; color:'white'; background-color:rgb(0, 0, 0)\">r</span><span style=\"font-size:18px; color:'white'; background-color:rgb(0, 0, 0)\">a</span><span style=\"font-size:18px; color:'white'; background-color:rgb(0, 0, 0)\">x</span>"
      ],
      "text/plain": [
       "<IPython.core.display.HTML object>"
      ]
     },
     "metadata": {},
     "output_type": "display_data"
    },
    {
     "data": {
      "text/html": [
       "<span style=\"font-size:18px; color:'white'; background-color:rgb(0, 0, 0)\">b</span><span style=\"font-size:18px; color:'white'; background-color:rgb(0, 0, 0)\">r</span><span style=\"font-size:18px; color:'white'; background-color:rgb(0, 0, 0)\">a</span><span style=\"font-size:18px; color:'white'; background-color:rgb(0, 0, 0)\">x</span>"
      ],
      "text/plain": [
       "<IPython.core.display.HTML object>"
      ]
     },
     "metadata": {},
     "output_type": "display_data"
    },
    {
     "data": {
      "text/html": [
       "<span style=\"font-size:18px; color:'white'; background-color:rgb(0, 0, 0)\">a</span><span style=\"font-size:18px; color:'white'; background-color:rgb(0, 0, 0)\">l</span><span style=\"font-size:18px; color:'white'; background-color:rgb(0, 0, 0)\">l</span><span style=\"font-size:18px; color:'white'; background-color:rgb(0, 0, 0)\">e</span><span style=\"font-size:18px; color:'white'; background-color:rgb(0, 0, 0)\">x</span>"
      ],
      "text/plain": [
       "<IPython.core.display.HTML object>"
      ]
     },
     "metadata": {},
     "output_type": "display_data"
    },
    {
     "data": {
      "text/html": [
       "<span style=\"font-size:18px; color:'white'; background-color:rgb(0, 0, 0)\">b</span><span style=\"font-size:18px; color:'white'; background-color:rgb(0, 0, 0)\">r</span><span style=\"font-size:18px; color:'white'; background-color:rgb(0, 0, 0)\">é</span><span style=\"font-size:18px; color:'white'; background-color:rgb(0, 0, 0)\">x</span><span style=\"font-size:18px; color:'white'; background-color:rgb(73, 0, 0)\">e</span><span style=\"font-size:18px; color:'white'; background-color:rgb(0, 0, 0)\">n</span><span style=\"font-size:18px; color:'white'; background-color:rgb(0, 0, 0)\">t</span><span style=\"font-size:18px; color:'white'; background-color:rgb(0, 0, 0)\">-</span><span style=\"font-size:18px; color:'white'; background-color:rgb(0, 0, 0)\">é</span><span style=\"font-size:18px; color:'white'; background-color:rgb(2, 0, 0)\">n</span><span style=\"font-size:18px; color:'white'; background-color:rgb(0, 0, 0)\">o</span><span style=\"font-size:18px; color:'white'; background-color:rgb(0, 0, 0)\">c</span><span style=\"font-size:18px; color:'white'; background-color:rgb(0, 0, 0)\">q</span>"
      ],
      "text/plain": [
       "<IPython.core.display.HTML object>"
      ]
     },
     "metadata": {},
     "output_type": "display_data"
    },
    {
     "data": {
      "text/html": [
       "<span style=\"font-size:18px; color:'white'; background-color:rgb(0, 0, 0)\">c</span><span style=\"font-size:18px; color:'white'; background-color:rgb(0, 0, 0)\">l</span><span style=\"font-size:18px; color:'white'; background-color:rgb(0, 0, 0)\">u</span><span style=\"font-size:18px; color:'white'; background-color:rgb(0, 0, 0)\">x</span>"
      ],
      "text/plain": [
       "<IPython.core.display.HTML object>"
      ]
     },
     "metadata": {},
     "output_type": "display_data"
    },
    {
     "data": {
      "text/html": [
       "<span style=\"font-size:18px; color:'white'; background-color:rgb(0, 0, 0)\">s</span><span style=\"font-size:18px; color:'white'; background-color:rgb(0, 0, 0)\">è</span><span style=\"font-size:18px; color:'white'; background-color:rgb(0, 0, 0)\">v</span><span style=\"font-size:18px; color:'white'; background-color:rgb(0, 0, 0)\">r</span><span style=\"font-size:18px; color:'white'; background-color:rgb(0, 0, 0)\">e</span><span style=\"font-size:18px; color:'white'; background-color:rgb(0, 0, 0)\">s</span><span style=\"font-size:18px; color:'white'; background-color:rgb(0, 0, 0)\">-</span><span style=\"font-size:18px; color:'white'; background-color:rgb(0, 0, 0)\">a</span><span style=\"font-size:18px; color:'white'; background-color:rgb(0, 0, 0)\">n</span><span style=\"font-size:18px; color:'white'; background-color:rgb(0, 0, 0)\">x</span><span style=\"font-size:18px; color:'white'; background-color:rgb(72, 0, 0)\">a</span><span style=\"font-size:18px; color:'white'; background-color:rgb(0, 0, 0)\">u</span><span style=\"font-size:18px; color:'white'; background-color:rgb(0, 0, 0)\">m</span><span style=\"font-size:18px; color:'white'; background-color:rgb(0, 0, 0)\">o</span><span style=\"font-size:18px; color:'white'; background-color:rgb(0, 0, 0)\">n</span><span style=\"font-size:18px; color:'white'; background-color:rgb(0, 0, 0)\">t</span>"
      ],
      "text/plain": [
       "<IPython.core.display.HTML object>"
      ]
     },
     "metadata": {},
     "output_type": "display_data"
    },
    {
     "data": {
      "text/html": [
       "<span style=\"font-size:18px; color:'white'; background-color:rgb(0, 0, 0)\">m</span><span style=\"font-size:18px; color:'white'; background-color:rgb(0, 0, 0)\">a</span><span style=\"font-size:18px; color:'white'; background-color:rgb(0, 0, 0)\">x</span><span style=\"font-size:18px; color:'white'; background-color:rgb(72, 0, 0)\">i</span><span style=\"font-size:18px; color:'white'; background-color:rgb(0, 0, 0)\">l</span><span style=\"font-size:18px; color:'white'; background-color:rgb(0, 0, 0)\">l</span><span style=\"font-size:18px; color:'white'; background-color:rgb(0, 0, 0)\">y</span><span style=\"font-size:18px; color:'white'; background-color:rgb(0, 0, 0)\">-</span><span style=\"font-size:18px; color:'white'; background-color:rgb(0, 0, 0)\">s</span><span style=\"font-size:18px; color:'white'; background-color:rgb(0, 0, 0)\">u</span><span style=\"font-size:18px; color:'white'; background-color:rgb(0, 0, 0)\">r</span><span style=\"font-size:18px; color:'white'; background-color:rgb(0, 0, 0)\">-</span><span style=\"font-size:18px; color:'white'; background-color:rgb(0, 0, 0)\">l</span><span style=\"font-size:18px; color:'white'; background-color:rgb(0, 0, 0)\">é</span><span style=\"font-size:18px; color:'white'; background-color:rgb(0, 0, 0)\">m</span><span style=\"font-size:18px; color:'white'; background-color:rgb(0, 0, 0)\">a</span><span style=\"font-size:18px; color:'white'; background-color:rgb(0, 0, 0)\">n</span>"
      ],
      "text/plain": [
       "<IPython.core.display.HTML object>"
      ]
     },
     "metadata": {},
     "output_type": "display_data"
    },
    {
     "data": {
      "text/html": [
       "<span style=\"font-size:18px; color:'white'; background-color:rgb(0, 0, 0)\">m</span><span style=\"font-size:18px; color:'white'; background-color:rgb(0, 0, 0)\">a</span><span style=\"font-size:18px; color:'white'; background-color:rgb(0, 0, 0)\">x</span><span style=\"font-size:18px; color:'white'; background-color:rgb(72, 0, 0)\">e</span><span style=\"font-size:18px; color:'white'; background-color:rgb(0, 0, 0)\">y</span><span style=\"font-size:18px; color:'white'; background-color:rgb(0, 0, 0)\">-</span><span style=\"font-size:18px; color:'white'; background-color:rgb(0, 0, 0)\">s</span><span style=\"font-size:18px; color:'white'; background-color:rgb(0, 0, 0)\">u</span><span style=\"font-size:18px; color:'white'; background-color:rgb(0, 0, 0)\">r</span><span style=\"font-size:18px; color:'white'; background-color:rgb(0, 0, 0)\">-</span><span style=\"font-size:18px; color:'white'; background-color:rgb(0, 0, 0)\">m</span><span style=\"font-size:18px; color:'white'; background-color:rgb(0, 0, 0)\">e</span><span style=\"font-size:18px; color:'white'; background-color:rgb(0, 0, 0)\">u</span><span style=\"font-size:18px; color:'white'; background-color:rgb(0, 0, 0)\">s</span><span style=\"font-size:18px; color:'white'; background-color:rgb(0, 0, 0)\">e</span>"
      ],
      "text/plain": [
       "<IPython.core.display.HTML object>"
      ]
     },
     "metadata": {},
     "output_type": "display_data"
    }
   ],
   "source": [
    "idx_feature = 4\n",
    "for i in top_indices[idx_feature]:\n",
    "    ville = \"\".join([dataset.int_to_char[k] for k in [p.item() for p in dataset.X_train[i.item()] if p.item() != 0] if k != 1 and k != 2])\n",
    "    act = model(dataset.X_train[i.item()].unsqueeze(0), act=True) # (B, L, 128)\n",
    "    _, _, features, _, _ = sae(act)\n",
    "\n",
    "    print_colore(ville, features[0, :, idx_feature].tolist()[:len(ville)])"
   ]
  },
  {
   "cell_type": "markdown",
   "metadata": {},
   "source": [
    "### Modifier le comportement en le dirigeant"
   ]
  },
  {
   "cell_type": "markdown",
   "metadata": {},
   "source": [
    "explications et descriptions"
   ]
  },
  {
   "cell_type": "code",
   "execution_count": 53,
   "metadata": {},
   "outputs": [],
   "source": [
    "def steered_sample(model, sae, prompt = \"\", g = torch.Generator(), steering_vector=None, device=\"cpu\"):\n",
    "    \"\"\"\n",
    "    \"\"\"\n",
    "    idx = torch.tensor([dataset.char_to_int[c] for c in prompt], dtype=torch.int32, device=device).unsqueeze(0)\n",
    "    idx = torch.cat([torch.tensor(dataset.char_to_int[SOS], device=device).view(1, 1), idx], dim=1)\n",
    "    next_id = -1\n",
    "\n",
    "    while next_id != dataset.char_to_int[EOS]:\n",
    "        act = model(idx, act=True) # (1, l, d_model)\n",
    "\n",
    "        # SAE\n",
    "        features = sae.encode(act) # (1, l, num_features)\n",
    "        act_reconstruct_1 = sae.decode(features) # (1, l, d_model) # reconstruction sans modification\n",
    "\n",
    "        features[:, :, steering_vector[0].long()] = steering_vector[1].float() # forçage des concepts sur toutes les lettres\n",
    "        act_reconstruct_2 = sae.decode(features) # reconstruction avec modification\n",
    "\n",
    "        error = act - act_reconstruct_1\n",
    "        final_act = act_reconstruct_2 + error\n",
    "\n",
    "        x = model.out_norm(final_act)\n",
    "        logits = model.lm_head(x)\n",
    "\n",
    "        probs = F.softmax(logits[:, -1, :], dim=-1)\n",
    "        next_id = torch.multinomial(probs, num_samples=1, generator=g).item()\n",
    "        idx = torch.cat([idx, torch.tensor(next_id, device=device).view(1, 1)], dim=1)\n",
    "\n",
    "        if idx.shape[1] > config.max_len:\n",
    "            break\n",
    "        \n",
    "    return \"\".join([dataset.int_to_char[p.item()] for p in idx[0, 1:-1]])"
   ]
  },
  {
   "cell_type": "code",
   "execution_count": 58,
   "metadata": {},
   "outputs": [
    {
     "name": "stdout",
     "output_type": "stream",
     "text": [
      "xétrones-haûzeux-arnqodrén\n",
      "xoupsshop-ghémont\n",
      "xuslœz-soussés<pad><pad><pad><pad><pad>ÿÿÿ<pad><pad><pad><pad><pad>œ<pad><pad><pad>üqux\n",
      "xanque-llaz\n",
      "xazelles-bouthos\n",
      "xernzéan-llôme-dâté\n",
      "xujulquezz-la-p-mosnïtadme\n",
      "xézon\n",
      "xenhîné-aguxsçûléze\n",
      "xÿbeucque\n",
      "xëlhalo<pad>üleïnquoun\n",
      "xoblenhed\n",
      "xôlehhupoussha-suzondes\n",
      "xhoudy-suzéson\n",
      "xoquanèséœûlex-polquesn\n"
     ]
    }
   ],
   "source": [
    "steering_vector = torch.tensor([[4, -1]], dtype=int, device=device)\n",
    "\n",
    "for i in range(15):\n",
    "    print(steered_sample(model, sae, steering_vector=steering_vector.mT, prompt=\"x\", device=device, g=pth_rnd_gen))"
   ]
  },
  {
   "cell_type": "code",
   "execution_count": 59,
   "metadata": {},
   "outputs": [
    {
     "name": "stdout",
     "output_type": "stream",
     "text": [
      "xiivier\n",
      "xibrieux\n",
      "xelleimoirieià-duille-bievise\n",
      "xeypierviey\n",
      "xairessiais\n",
      "xicinacolbert\n",
      "xaviailiry\n",
      "xefeviville-ilivierrjie\n",
      "xibieross\n",
      "xuvilcoile\n",
      "xagnisc\n",
      "ximorivilier\n",
      "xoaigny\n",
      "xinisilies-surivile\n",
      "xavilsay\n"
     ]
    }
   ],
   "source": [
    "steering_vector = torch.tensor([[4, 1]], dtype=int, device=device)\n",
    "\n",
    "for i in range(15):\n",
    "    print(steered_sample(model, sae, steering_vector=steering_vector.mT, prompt=\"x\", device=device, g=pth_rnd_gen))"
   ]
  },
  {
   "cell_type": "code",
   "execution_count": null,
   "metadata": {},
   "outputs": [],
   "source": []
  }
 ],
 "metadata": {
  "kernelspec": {
   "display_name": "Python 3 (ipykernel)",
   "language": "python",
   "name": "python3"
  },
  "language_info": {
   "codemirror_mode": {
    "name": "ipython",
    "version": 3
   },
   "file_extension": ".py",
   "mimetype": "text/x-python",
   "name": "python",
   "nbconvert_exporter": "python",
   "pygments_lexer": "ipython3",
   "version": "3.11.10"
  }
 },
 "nbformat": 4,
 "nbformat_minor": 2
}
